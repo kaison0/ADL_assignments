{
  "cells": [
    {
      "cell_type": "code",
      "source": [
        "!pip uninstall --yes torchtune torchaudio torchvision"
      ],
      "metadata": {
        "colab": {
          "base_uri": "https://localhost:8080/"
        },
        "id": "288evvQ4H-bH",
        "outputId": "64f5f1ed-a68a-4dd0-b410-f177068cd13e"
      },
      "id": "288evvQ4H-bH",
      "execution_count": 6,
      "outputs": [
        {
          "output_type": "stream",
          "name": "stdout",
          "text": [
            "Found existing installation: torchtune 0.6.1\n",
            "Uninstalling torchtune-0.6.1:\n",
            "  Successfully uninstalled torchtune-0.6.1\n",
            "Found existing installation: torchaudio 2.8.0+cu126\n",
            "Uninstalling torchaudio-2.8.0+cu126:\n",
            "  Successfully uninstalled torchaudio-2.8.0+cu126\n",
            "Found existing installation: torchvision 0.23.0+cu126\n",
            "Uninstalling torchvision-0.23.0+cu126:\n",
            "  Successfully uninstalled torchvision-0.23.0+cu126\n"
          ]
        }
      ]
    },
    {
      "cell_type": "code",
      "source": [
        "!pip install torch==2.3.0 torchtext==0.18.0 torchdata==0.8.0 portalocker>=2.0.0"
      ],
      "metadata": {
        "id": "ybx6U-fuIEzb"
      },
      "id": "ybx6U-fuIEzb",
      "execution_count": 7,
      "outputs": []
    },
    {
      "cell_type": "code",
      "source": [
        "import torch\n",
        "import torchtext\n",
        "import torchdata\n",
        "torch.__version__, torchtext.__version__, torchdata.__version__"
      ],
      "metadata": {
        "colab": {
          "base_uri": "https://localhost:8080/"
        },
        "id": "Ubo2bJ5bH5Fc",
        "outputId": "aeb08a72-fa2e-4a79-deb6-6105bd6dfecf"
      },
      "id": "Ubo2bJ5bH5Fc",
      "execution_count": 2,
      "outputs": [
        {
          "output_type": "execute_result",
          "data": {
            "text/plain": [
              "('2.3.0+cu121', '0.18.0+cpu', '0.8.0+cpu')"
            ]
          },
          "metadata": {},
          "execution_count": 2
        }
      ]
    },
    {
      "cell_type": "code",
      "execution_count": 3,
      "metadata": {
        "id": "OzgMJwpmc0iC",
        "colab": {
          "base_uri": "https://localhost:8080/"
        },
        "outputId": "dfcef0e9-a183-41f4-e7e5-dd434e5ce422"
      },
      "outputs": [
        {
          "output_type": "stream",
          "name": "stderr",
          "text": [
            "/usr/local/lib/python3.12/dist-packages/torchtext/data/__init__.py:4: UserWarning: \n",
            "/!\\ IMPORTANT WARNING ABOUT TORCHTEXT STATUS /!\\ \n",
            "Torchtext is deprecated and the last released version will be 0.18 (this one). You can silence this warning by calling the following at the beginnign of your scripts: `import torchtext; torchtext.disable_torchtext_deprecation_warning()`\n",
            "  warnings.warn(torchtext._TORCHTEXT_DEPRECATION_MSG)\n",
            "/usr/local/lib/python3.12/dist-packages/torchtext/datasets/__init__.py:4: UserWarning: \n",
            "/!\\ IMPORTANT WARNING ABOUT TORCHTEXT STATUS /!\\ \n",
            "Torchtext is deprecated and the last released version will be 0.18 (this one). You can silence this warning by calling the following at the beginnign of your scripts: `import torchtext; torchtext.disable_torchtext_deprecation_warning()`\n",
            "  warnings.warn(torchtext._TORCHTEXT_DEPRECATION_MSG)\n",
            "/usr/local/lib/python3.12/dist-packages/torchtext/utils.py:4: UserWarning: \n",
            "/!\\ IMPORTANT WARNING ABOUT TORCHTEXT STATUS /!\\ \n",
            "Torchtext is deprecated and the last released version will be 0.18 (this one). You can silence this warning by calling the following at the beginnign of your scripts: `import torchtext; torchtext.disable_torchtext_deprecation_warning()`\n",
            "  warnings.warn(torchtext._TORCHTEXT_DEPRECATION_MSG)\n",
            "/usr/local/lib/python3.12/dist-packages/torchtext/vocab/__init__.py:4: UserWarning: \n",
            "/!\\ IMPORTANT WARNING ABOUT TORCHTEXT STATUS /!\\ \n",
            "Torchtext is deprecated and the last released version will be 0.18 (this one). You can silence this warning by calling the following at the beginnign of your scripts: `import torchtext; torchtext.disable_torchtext_deprecation_warning()`\n",
            "  warnings.warn(torchtext._TORCHTEXT_DEPRECATION_MSG)\n"
          ]
        }
      ],
      "source": [
        "import argparse\n",
        "import logging\n",
        "import time\n",
        "import torch\n",
        "from torch.utils.data import DataLoader\n",
        "from torch.utils.data.dataset import random_split\n",
        "import torchtext\n",
        "from torchtext.data.functional import to_map_style_dataset\n",
        "from torchtext.data.utils import get_tokenizer, ngrams_iterator\n",
        "from torchtext.datasets import DATASETS\n",
        "from torchtext.utils import download_from_url\n",
        "from torchtext.vocab import build_vocab_from_iterator\n",
        "import torch.nn as nn\n",
        "from torch.nn.utils.rnn import pad_sequence\n",
        "import torch.nn.functional as F\n",
        "\n",
        "_FILL_ = '_FILL_'\n",
        "SEED = 1"
      ],
      "id": "OzgMJwpmc0iC"
    },
    {
      "cell_type": "markdown",
      "metadata": {
        "id": "kh4pAKXgy0tH"
      },
      "source": [
        "For any of these questions, insert code where there is `_FILL_` so that this notebooks runs correctly."
      ],
      "id": "kh4pAKXgy0tH"
    },
    {
      "cell_type": "markdown",
      "metadata": {
        "id": "fHdrXN4d1M_2"
      },
      "source": [
        "Short Question\n",
        "\n",
        "Set up the optimization problem below where we take a random y of data and want theta to converge to this y."
      ],
      "id": "fHdrXN4d1M_2"
    },
    {
      "cell_type": "code",
      "execution_count": null,
      "metadata": {
        "colab": {
          "base_uri": "https://localhost:8080/"
        },
        "id": "8OsAbUVezIwD",
        "outputId": "930627bc-2b53-4bc7-f8d5-cda783b6f14f"
      },
      "outputs": [
        {
          "output_type": "stream",
          "name": "stdout",
          "text": [
            "Epoch:0 Loss: 0.22048303484916687\n",
            "Epoch:1 Loss: 0.21175193786621094\n",
            "Epoch:2 Loss: 0.20336653292179108\n",
            "Epoch:3 Loss: 0.1953132152557373\n",
            "Epoch:4 Loss: 0.18757881224155426\n",
            "Epoch:5 Loss: 0.18015070259571075\n",
            "Epoch:6 Loss: 0.173016756772995\n",
            "Epoch:7 Loss: 0.1661653071641922\n",
            "Epoch:8 Loss: 0.1595851480960846\n",
            "Epoch:9 Loss: 0.153265580534935\n",
            "Epoch:10 Loss: 0.1471962332725525\n",
            "Epoch:11 Loss: 0.14136728644371033\n",
            "Epoch:12 Loss: 0.13576912879943848\n",
            "Epoch:13 Loss: 0.1303926557302475\n",
            "Epoch:14 Loss: 0.1252291053533554\n",
            "Epoch:15 Loss: 0.12027003616094589\n",
            "Epoch:16 Loss: 0.11550736427307129\n",
            "Epoch:17 Loss: 0.11093325912952423\n",
            "Epoch:18 Loss: 0.10654031485319138\n",
            "Epoch:19 Loss: 0.1023213118314743\n",
            "Epoch:20 Loss: 0.09826937317848206\n",
            "Epoch:21 Loss: 0.09437789022922516\n",
            "Epoch:22 Loss: 0.09064052253961563\n",
            "Epoch:23 Loss: 0.0870511531829834\n",
            "Epoch:24 Loss: 0.08360393345355988\n",
            "Epoch:25 Loss: 0.08029322326183319\n",
            "Epoch:26 Loss: 0.07711359858512878\n",
            "Epoch:27 Loss: 0.07405988872051239\n",
            "Epoch:28 Loss: 0.07112711668014526\n",
            "Epoch:29 Loss: 0.06831046938896179\n",
            "Epoch:30 Loss: 0.06560537964105606\n",
            "Epoch:31 Loss: 0.0630073994398117\n",
            "Epoch:32 Loss: 0.060512322932481766\n",
            "Epoch:33 Loss: 0.05811603367328644\n",
            "Epoch:34 Loss: 0.05581464245915413\n",
            "Epoch:35 Loss: 0.053604379296302795\n",
            "Epoch:36 Loss: 0.05148164555430412\n",
            "Epoch:37 Loss: 0.04944297671318054\n",
            "Epoch:38 Loss: 0.047485046088695526\n",
            "Epoch:39 Loss: 0.04560462757945061\n",
            "Epoch:40 Loss: 0.04379868134856224\n",
            "Epoch:41 Loss: 0.04206424579024315\n",
            "Epoch:42 Loss: 0.040398500859737396\n",
            "Epoch:43 Loss: 0.03879871964454651\n",
            "Epoch:44 Loss: 0.037262286990880966\n",
            "Epoch:45 Loss: 0.0357867032289505\n",
            "Epoch:46 Loss: 0.03436955437064171\n",
            "Epoch:47 Loss: 0.03300851210951805\n",
            "Epoch:48 Loss: 0.031701378524303436\n",
            "Epoch:49 Loss: 0.03044600412249565\n",
            "Epoch:50 Loss: 0.02924034744501114\n",
            "Epoch:51 Loss: 0.02808242477476597\n",
            "Epoch:52 Loss: 0.026970362290740013\n",
            "Epoch:53 Loss: 0.02590232901275158\n",
            "Epoch:54 Loss: 0.024876601994037628\n",
            "Epoch:55 Loss: 0.02389148250222206\n",
            "Epoch:56 Loss: 0.022945381700992584\n",
            "Epoch:57 Loss: 0.022036738693714142\n",
            "Epoch:58 Loss: 0.021164080128073692\n",
            "Epoch:59 Loss: 0.020325981080532074\n",
            "Epoch:60 Loss: 0.019521068781614304\n",
            "Epoch:61 Loss: 0.01874803751707077\n",
            "Epoch:62 Loss: 0.01800561510026455\n",
            "Epoch:63 Loss: 0.017292600125074387\n",
            "Epoch:64 Loss: 0.016607806086540222\n",
            "Epoch:65 Loss: 0.01595013588666916\n",
            "Epoch:66 Loss: 0.015318511053919792\n",
            "Epoch:67 Loss: 0.014711894094944\n",
            "Epoch:68 Loss: 0.014129303395748138\n",
            "Epoch:69 Loss: 0.013569783419370651\n",
            "Epoch:70 Loss: 0.013032419607043266\n",
            "Epoch:71 Loss: 0.012516334652900696\n",
            "Epoch:72 Loss: 0.012020688503980637\n",
            "Epoch:73 Loss: 0.011544670909643173\n",
            "Epoch:74 Loss: 0.011087499558925629\n",
            "Epoch:75 Loss: 0.010648434050381184\n",
            "Epoch:76 Loss: 0.01022675447165966\n",
            "Epoch:77 Loss: 0.009821778163313866\n",
            "Epoch:78 Loss: 0.009432836435735226\n",
            "Epoch:79 Loss: 0.009059297852218151\n",
            "Epoch:80 Loss: 0.00870054867118597\n",
            "Epoch:81 Loss: 0.008356008678674698\n",
            "Epoch:82 Loss: 0.008025112561881542\n",
            "Epoch:83 Loss: 0.0077073173597455025\n",
            "Epoch:84 Loss: 0.007402106188237667\n",
            "Epoch:85 Loss: 0.007108982186764479\n",
            "Epoch:86 Loss: 0.006827466655522585\n",
            "Epoch:87 Loss: 0.006557098589837551\n",
            "Epoch:88 Loss: 0.006297436077147722\n",
            "Epoch:89 Loss: 0.006048058625310659\n",
            "Epoch:90 Loss: 0.005808556452393532\n",
            "Epoch:91 Loss: 0.005578537937253714\n",
            "Epoch:92 Loss: 0.0053576272912323475\n",
            "Epoch:93 Loss: 0.00514546362683177\n",
            "Epoch:94 Loss: 0.00494170468300581\n",
            "Epoch:95 Loss: 0.004746012855321169\n",
            "Epoch:96 Loss: 0.004558068700134754\n",
            "Epoch:97 Loss: 0.004377570003271103\n",
            "Epoch:98 Loss: 0.004204219672828913\n",
            "Epoch:99 Loss: 0.004037732724100351\n",
            "tensor([[0.7576, 0.2793, 0.4031]])\n",
            "tensor([[0.7546, 0.2462, 0.4557]], requires_grad=True)\n"
          ]
        }
      ],
      "source": [
        "from torch._functorch.vmap import lazy_load_decompositions\n",
        "# Short Question\n",
        "\n",
        "torch.manual_seed(SEED)\n",
        "# Define y to be a target of dimension (1, 3) without a gradient\n",
        "y = _FILL_\n",
        "\n",
        "# Define theta to be a random tensor of dimension (1, 3) which requires a gradient; we want theta to converge to y\n",
        "theta = _FILL_\n",
        "\n",
        "\n",
        "# Define an SGD optimizer with learning rate 0.01 which acts on theta\n",
        "optimizer = _FILL_\n",
        "\n",
        "# Fil in the code below using the optimizer above to get theta to converge to y\n",
        "for epoch in range(100):\n",
        "  # Zero out the gradients of l with respect to theta\n",
        "  _FILL_\n",
        "\n",
        "  # Define a loss manually which is ||theta-x||_{2}^{2}, the L2 loss across all components\n",
        "  loss = _FILL_\n",
        "\n",
        "  print('Epoch:{} Loss: {}'.format(epoch, loss))\n",
        "\n",
        "  # Get teh gradients of l with respect to theta\n",
        "  _FILL_\n",
        "\n",
        "  # Update theta\n",
        "  _FILL_\n",
        "\n",
        "# These should look very similar\n",
        "print(y)\n",
        "print(theta)\n",
        "with torch.no_grad():\n",
        "  # Check the y and theta have converged to almost the same thing\n",
        "  loss = _FILL_\n",
        "  assert (loss.item() - 0.0)**2 <= 0.001"
      ],
      "id": "8OsAbUVezIwD"
    },
    {
      "cell_type": "code",
      "execution_count": null,
      "metadata": {
        "id": "MgA6DK8R3BUU"
      },
      "outputs": [],
      "source": [
        "# Suppose we forget optimizer.zero_grad()\n",
        "# Given an example of what this does and why we WOULD want to do this\n",
        "# Hint: if you are doing batch gradient descent and call optimizer.zero_grad() every 3 batches, what is the gradient represent?\n",
        "\n",
        "_FILL_"
      ],
      "id": "MgA6DK8R3BUU"
    },
    {
      "cell_type": "markdown",
      "metadata": {
        "id": "f5tQSyJ9cIOU"
      },
      "source": [
        "# Neural Text Classifier - Information\n",
        "\n",
        "For this problem, you will build a basic Neural Text Classifier. The problem will take you through some of the steps needed to be done, including the preprocessing.\n",
        "\n",
        "There is alot of helper code here, but your task is to add in code that has `_FILL_` specified. All assertions should pass.\n",
        "\n",
        "The at a high level, the idea of this model goes as follows.\n",
        "- We are given a training set $\\{(x^{(i)}, y^{(i)})\\}_{i=1}^{N}$ where each $x^{(i)}$ is a sentence and $y^{(i)}$ is a class label.\n",
        "- First, we need to loop over $\\{x^{(i)}\\}_{i=1}^{N}$ and get the Vocabulary, the number of unique words we see.\n",
        "- Once we do this, we will express each word as a one-hot representation. To do this, we will use a mapping from a unique word to an integer. For example, \"the\" might get index 3 and if there are 10 words (in the entire Vocabulary) then \"the\" would have a vector representation $x_{the} = (0,0,1,0,0,0,0,0,0,0)$. There will be many words in this Vocabulary, over 13,000. For this example, each word is mapped to a unique integer.\n",
        "- We will feed batches of data to the model and each batch will be transformed into a tensor with words each word transformed to its integer index in VOCAB below.\n",
        "- For example, we might get [[\"the man walks\"], [\"this is a sentence\"]] -> [[\"the\", \"man\", \"walks\"], [\"this\", \"is\", \"a\", \"sentence\"]] -> [[1, 4, 5], [6, 7, 8, 15]]. It depends on what unique integer each word gets.\n",
        "- Different sentences have different numbers of tokens but all batches need to be the same dimension (this is how PyTorch works), so we need a padding token. So, for example, if the batch size is B = 2 and we given two sentences like [\"a b c\", \"a b c d e\"] then as a tensor this will become [[1, 2, 3, 0, 0], [1, 2, 3, 4, 5]] and notice that we padded the first example so that the tensor is of dimension (2, 5) with M = 5. In some sense, in each batch we need to figure out the maximum number of tokens for an instance and pad each instance to have the same length as this longest instance. To do the above, use the [collate function](https://stackoverflow.com/questions/65279115/how-to-use-collate-fn-with-dataloaders). The idea here is that the Dataloader takes in raw data and the collate function is applied to this data, returning formatting tensors we can use later on in the optimization. You'll fill this in, using the hints.  \n",
        "- After padding, we feed batches of data to the classifier, these are of dimension (B, M). For example, we have a batch size of 2 above and M = 5. This will depend on the batch but here the batch size is B.\n",
        "- Once we feed in (B, M) data to the network, we rewrite this as (B, M, vocab_size) by using a one-hot representation for each word.\n",
        "- Then, we do as it hints in the model's forward method. We first take an average agross all the M elements of each element of the batch to get a (B, vocab_size) tensor that represents each instance. We pass this tensor through linear layer and nonlinear layers as unusual. The model returns logits, without the Softmax applied. This is a multiclass classfication task.\n",
        "\n",
        "Finally, we optimize the network and check it's train and validation set accuracies. We'll use both direct methods and torchmetrics to do this. See the Comments for hints on what you need to fill in."
      ],
      "id": "f5tQSyJ9cIOU"
    },
    {
      "cell_type": "markdown",
      "metadata": {
        "id": "dcb35e9c"
      },
      "source": [
        "### Information (if interested in more)\n",
        "- torchtext repo: https://github.com/pytorch/text/tree/main/torchtext\n",
        "- torchtext documentation: https://pytorch.org/text/stable/index.html\n",
        "- collate function: https://stackoverflow.com/questions/65279115/how-to-use-collate-fn-with-dataloaders\n",
        "- embedding layer: https://pytorch.org/docs/stable/generated/torch.nn.Embedding.html"
      ],
      "id": "dcb35e9c"
    },
    {
      "cell_type": "markdown",
      "metadata": {
        "id": "b9140e3c"
      },
      "source": [
        "### Constants"
      ],
      "id": "b9140e3c"
    },
    {
      "cell_type": "code",
      "source": [],
      "metadata": {
        "id": "judjCThvgmmq"
      },
      "id": "judjCThvgmmq",
      "execution_count": null,
      "outputs": []
    },
    {
      "cell_type": "code",
      "execution_count": null,
      "metadata": {
        "id": "c9ace94f"
      },
      "outputs": [],
      "source": [
        "# This is the dataset we will use\n",
        "DATASET = \"AG_NEWS\"\n",
        "DATA_DIR = \".data\"\n",
        "# We will just use CPU here, but if you have time try \"cuda\"\n",
        "DEVICE = \"cpu\"\n",
        "LR = 8.0\n",
        "BATCH_SIZE = 16\n",
        "NUM_EPOCHS = 5\n",
        "MIN_FREQUENCY = 20\n",
        "# Padding valued used; if we have a tensor data x = [[1,2,3], [4, 5], [1,2,3,4,5]] this needs padding\n",
        "# As a tensor, this is t = [[1, 2, 3, 0, 0], [4, 5, 0, 0, 0], [1, 2, 3, 4, 5]]\n",
        "PADDING_VALUE = 0\n",
        "PADDING_IDX = PADDING_VALUE\n",
        "\n",
        "SEED = 1"
      ],
      "id": "c9ace94f"
    },
    {
      "cell_type": "markdown",
      "metadata": {
        "id": "K3zuWGeqcDsI"
      },
      "source": [
        "# Get the tokenizer"
      ],
      "id": "K3zuWGeqcDsI"
    },
    {
      "cell_type": "code",
      "execution_count": null,
      "metadata": {
        "id": "16f471ac"
      },
      "outputs": [],
      "source": [
        "# A basic tokenizer by using get_tokenizer; pass \"basic_english\"\n",
        "basic_english_tokenizer = _FILL_"
      ],
      "id": "16f471ac"
    },
    {
      "cell_type": "code",
      "execution_count": null,
      "metadata": {
        "colab": {
          "base_uri": "https://localhost:8080/"
        },
        "id": "d1b61bba",
        "outputId": "6829b142-85e0-471b-e21b-e338d332fc05"
      },
      "outputs": [
        {
          "output_type": "execute_result",
          "data": {
            "text/plain": [
              "['this', 'is', 'some', 'text', '.', '.', '.']"
            ]
          },
          "metadata": {},
          "execution_count": 7
        }
      ],
      "source": [
        "basic_english_tokenizer(\"This is some text ...\")"
      ],
      "id": "d1b61bba"
    },
    {
      "cell_type": "code",
      "execution_count": null,
      "metadata": {
        "id": "68a50055"
      },
      "outputs": [],
      "source": [
        "# Save the tokenizer as a contant; this is needed later\n",
        "TOKENIZER = basic_english_tokenizer"
      ],
      "id": "68a50055"
    },
    {
      "cell_type": "markdown",
      "metadata": {
        "id": "8620a436"
      },
      "source": [
        "### Get the data and get the vocabulary."
      ],
      "id": "8620a436"
    },
    {
      "cell_type": "code",
      "execution_count": null,
      "metadata": {
        "id": "1c84225a"
      },
      "outputs": [],
      "source": [
        "# Loop through all the (label, text) data and yield a tokenized version of text\n",
        "def yield_tokens(data_iter):\n",
        "    for _, text in data_iter:\n",
        "        _FILL_"
      ],
      "id": "1c84225a"
    },
    {
      "cell_type": "code",
      "execution_count": null,
      "metadata": {
        "id": "rEChT6jDeLXF"
      },
      "outputs": [],
      "source": [
        "train_iter = DATASETS[DATASET](root=DATA_DIR, split=\"train\")"
      ],
      "id": "rEChT6jDeLXF"
    },
    {
      "cell_type": "code",
      "execution_count": null,
      "metadata": {
        "colab": {
          "base_uri": "https://localhost:8080/"
        },
        "id": "J4q-FQ75eM1R",
        "outputId": "9e265e7d-bad8-4266-a7fe-d12aed863378"
      },
      "outputs": [
        {
          "output_type": "stream",
          "name": "stdout",
          "text": [
            "3 Wall St. Bears Claw Back Into the Black (Reuters) Reuters - Short-sellers, Wall Street's dwindling\\band of ultra-cynics, are seeing green again.\n"
          ]
        }
      ],
      "source": [
        "# An example of what this data looks like\n",
        "for y, x in train_iter:\n",
        "  print(y, x)\n",
        "  break"
      ],
      "id": "J4q-FQ75eM1R"
    },
    {
      "cell_type": "code",
      "execution_count": null,
      "metadata": {
        "colab": {
          "base_uri": "https://localhost:8080/"
        },
        "id": "affa3375",
        "outputId": "b1c62e8c-d960-4a83-ece3-d3e88431d246"
      },
      "outputs": [
        {
          "output_type": "stream",
          "name": "stderr",
          "text": [
            "/usr/local/lib/python3.10/dist-packages/torch/utils/data/datapipes/iter/combining.py:297: UserWarning: Some child DataPipes are not exhausted when __iter__ is called. We are resetting the buffer and each child DataPipe will read from the start again.\n",
            "  warnings.warn(\"Some child DataPipes are not exhausted when __iter__ is called. We are resetting \"\n"
          ]
        }
      ],
      "source": [
        "# Use build_vocab_from_iterator to get the the vocabulary\n",
        "# This is essentially a dictionary going from a word to a unique integer\n",
        "# Make sure to specify the specials\n",
        "VOCAB = build_vocab_from_iterator(\n",
        "    yield_tokens(train_iter),\n",
        "    min_freq = MIN_FREQUENCY,\n",
        "    specials=('<pad>', '<unk>')\n",
        ")\n",
        "\n",
        "# Set the default index to 1\n",
        "# Otherwise, VOCAB['unknownbigword'] will raise an Exception\n",
        "# I.e. we want '<unk>' to be the unknown word\n",
        "VOCAB.set_default_index(VOCAB['<unk>'])"
      ],
      "id": "affa3375"
    },
    {
      "cell_type": "code",
      "execution_count": null,
      "metadata": {
        "id": "62336be9"
      },
      "outputs": [],
      "source": [
        "assert VOCAB['<unk>'] == 1"
      ],
      "id": "62336be9"
    },
    {
      "cell_type": "markdown",
      "metadata": {
        "id": "518918c0"
      },
      "source": [
        "Examples"
      ],
      "id": "518918c0"
    },
    {
      "cell_type": "code",
      "execution_count": null,
      "metadata": {
        "colab": {
          "base_uri": "https://localhost:8080/"
        },
        "id": "de48bde8",
        "outputId": "ce8223e5-1d62-46b6-94b2-96cd85d6b94f"
      },
      "outputs": [
        {
          "output_type": "execute_result",
          "data": {
            "text/plain": [
              "(1, 437, 0, 1)"
            ]
          },
          "metadata": {},
          "execution_count": 14
        }
      ],
      "source": [
        "VOCAB['yoyooyoyoy'], VOCAB['house'], VOCAB['<pad>'], VOCAB['<unk>']"
      ],
      "id": "de48bde8"
    },
    {
      "cell_type": "code",
      "execution_count": null,
      "metadata": {
        "colab": {
          "base_uri": "https://localhost:8080/"
        },
        "id": "24247d56",
        "outputId": "04737454-f5a0-4f32-ea33-0015e7f27437"
      },
      "outputs": [
        {
          "output_type": "stream",
          "name": "stdout",
          "text": [
            "13798\n"
          ]
        }
      ],
      "source": [
        "print(len(VOCAB))"
      ],
      "id": "24247d56"
    },
    {
      "cell_type": "code",
      "execution_count": null,
      "metadata": {
        "colab": {
          "base_uri": "https://localhost:8080/"
        },
        "id": "574cce1b",
        "outputId": "59da6b76-3744-43eb-f84d-8a81211d5d48"
      },
      "outputs": [
        {
          "output_type": "execute_result",
          "data": {
            "text/plain": [
              "[437, 437, 4548, 1]"
            ]
          },
          "metadata": {},
          "execution_count": 16
        }
      ],
      "source": [
        "VOCAB(TOKENIZER(\"House house houses ThisisnotaKNownWord\"))"
      ],
      "id": "574cce1b"
    },
    {
      "cell_type": "code",
      "execution_count": null,
      "metadata": {
        "id": "1be1e272"
      },
      "outputs": [],
      "source": [],
      "id": "1be1e272"
    },
    {
      "cell_type": "markdown",
      "metadata": {
        "id": "df651a44"
      },
      "source": [
        "### Helper functions"
      ],
      "id": "df651a44"
    },
    {
      "cell_type": "code",
      "execution_count": null,
      "metadata": {
        "id": "94741f76"
      },
      "outputs": [],
      "source": [
        "from torchtext.vocab.vocab_factory import Vocab\n",
        "# Utility to transform text into a list of ints\n",
        "# This shoould go \"a b c\" -> [\"a\", \"b\", \"c\"] -> [1, 2, 3], for example\n",
        "def text_pipeline(x):\n",
        "    # Apply tokenizer to x\n",
        "    _FILL_\n",
        "\n",
        "    # Return the Vocab at those tokens\n",
        "    return _FILL_\n",
        "\n",
        "# Return a 0 starting version of x\n",
        "# If x = \"1\" this should return 0\n",
        "# If x = \"3\" this should return 2, Etc.\n",
        "def label_pipeline(x):\n",
        "    return _FILL_"
      ],
      "id": "94741f76"
    },
    {
      "cell_type": "markdown",
      "metadata": {
        "id": "1e903610"
      },
      "source": [
        "Nice link on collate_fn and DataLoader in PyTorch: https://python.plainenglish.io/understanding-collate-fn-in-pytorch-f9d1742647d3"
      ],
      "id": "1e903610"
    },
    {
      "cell_type": "code",
      "execution_count": null,
      "metadata": {
        "id": "95311731"
      },
      "outputs": [],
      "source": [
        "# For a batch of data that might not be a tensor, return the batch in ternsor version\n",
        "# batch is a length B lsit of tuples where each element is (label, text)\n",
        "# label is a raw string like \"1\" here; text is a sentence like \"this is about soccer\"\n",
        "def collate_batch(batch):\n",
        "    label_list, text_list = [], []\n",
        "    for (label, text) in batch:\n",
        "        # Get the label from {1, 2, 3, 4} to {0, 1, 2, 3} and append it to label list\n",
        "        label_list.append(_FILL_)\n",
        "\n",
        "        # Return a list of ints\n",
        "        processed_text = _FILL_\n",
        "        text_list.append(_FILL_)\n",
        "\n",
        "    # Make label_list into a tensor of dtype=torch.int64\n",
        "    label_list = _FILL_\n",
        "\n",
        "    # Pad the sequence\n",
        "    # For Exmaple: if we had 2 elements and [[1, 2], [1,2,3,4]] in the text_list then we want\n",
        "    # to have [[1, 2, 0, 0], [1, 2, 3, 4]] in text_list and text_list is a tensor\n",
        "    # Look up pad_sequence and make sure you specify batch_first=True and specify the padding_value=0\n",
        "    text_list = _FILL_\n",
        "\n",
        "    # Return the data and put it on a GPU or CPU, as needed\n",
        "    return label_list.to(DEVICE), text_list.to(DEVICE)"
      ],
      "id": "95311731"
    },
    {
      "cell_type": "code",
      "execution_count": null,
      "metadata": {
        "id": "b1292c44"
      },
      "outputs": [],
      "source": [],
      "id": "b1292c44"
    },
    {
      "cell_type": "markdown",
      "metadata": {
        "id": "b5da047d"
      },
      "source": [
        "### Get the data"
      ],
      "id": "b5da047d"
    },
    {
      "cell_type": "code",
      "execution_count": null,
      "metadata": {
        "colab": {
          "base_uri": "https://localhost:8080/"
        },
        "id": "5d2ae25e",
        "outputId": "5412aa2b-a9d2-43e5-e5fe-90ba70040ac6"
      },
      "outputs": [
        {
          "output_type": "stream",
          "name": "stdout",
          "text": [
            "The number of classes is 4 ...\n"
          ]
        }
      ],
      "source": [
        "# Get an iterator for the AG_NEWS dataset and get the train version\n",
        "train_iter = DATASETS[DATASET](root=DATA_DIR, split=\"train\")\n",
        "\n",
        "# Use the above to get the number of class elements\n",
        "num_class = _FILL_\n",
        "# What are the classes?\n",
        "print(f\"The number of classes is {num_class} ...\")"
      ],
      "id": "5d2ae25e"
    },
    {
      "cell_type": "code",
      "execution_count": null,
      "metadata": {
        "id": "fc52d408"
      },
      "outputs": [],
      "source": [],
      "id": "fc52d408"
    },
    {
      "cell_type": "markdown",
      "metadata": {
        "id": "eca51b36"
      },
      "source": [
        "### Set up the model"
      ],
      "id": "eca51b36"
    },
    {
      "cell_type": "code",
      "execution_count": null,
      "metadata": {
        "id": "8ab8cb7c"
      },
      "outputs": [],
      "source": [
        "# A very naive model used to classify text\n",
        "class OneHotTextClassificationModel(nn.Module):\n",
        "    def __init__(self, vocab_size, num_class):\n",
        "        super(OneHotTextClassificationModel, self).__init__()\n",
        "        self.vocab_size = vocab_size\n",
        "        self.num_class = num_class\n",
        "\n",
        "        # Have this layer take in data of dimension vocab_size and return data of dimension 100\n",
        "        # Don't use a bias\n",
        "        self.fc1 = _FILL_\n",
        "\n",
        "        # We will not use this, but see below as we want to mimic this layer using one_hot and fc1\n",
        "        self.e = nn.Embedding(vocab_size, 100)\n",
        "\n",
        "        # Have this layer take in 100 and return data of dimension num_class\n",
        "        # Don't use a bias\n",
        "        self.fc2 = _FILL_\n",
        "        self.init_weights()\n",
        "\n",
        "        # See forward below; we do not use this but you can use this if you want to to check\n",
        "        self.use_embedding_layer = False\n",
        "\n",
        "    def init_weights(self):\n",
        "        # Initialize the weights of fc1 to the same exact data as what self.e has\n",
        "        # You need to access the data within these layers\n",
        "        # Initialize the bias to zero\n",
        "        # Hint: look at self.e.weight.data and similarly for fc\n",
        "        # Make sure you have the dimensions line up right\n",
        "        self.fc1.weight.data = _FILL_\n",
        "\n",
        "        # Unitialize fc2 to uniform between -0.5 and 0.5\n",
        "        # Hint: \"uniform_\"\n",
        "        initrange = _FILL_\n",
        "        _FILL_\n",
        "\n",
        "    def forward(self, x):\n",
        "        B, K = x.shape\n",
        "        # x is of dimension (B, K), where K is the maximum number of tokens in an element of the batch\n",
        "        # Note: We will make this faster later on by using the nn.Embedding layer\n",
        "\n",
        "        # We will not use nn.Embedding, but the code below, a combination of F.one_hot and fc1, should be the SAME effect as the else clause\n",
        "        if not self.use_embedding_layer:\n",
        "          # Transform x to a tensor where each element is one-hot encoded\n",
        "          x = _FILL_\n",
        "          assert(x.shape == (B, K, self.vocab_size))\n",
        "\n",
        "          # Pass x through fc1 to get the row in fc1 correspondng to the row x is\n",
        "          x = _FILL_\n",
        "          assert(x.shape == (B, K, 100))\n",
        "        else:\n",
        "          # Note: the above two steps should be the same as doing the command below\n",
        "          x = self.e(x)\n",
        "          assert(x.shape == (B, K, 100))\n",
        "\n",
        "        # Take the mean of the embedings for all words in each sentence\n",
        "        x = _FILL_\n",
        "        assert(x.shape == (B, 100))\n",
        "\n",
        "        # Apply ReLU to x\n",
        "        x = _FILL_\n",
        "        assert(x.shape == (B, 100))\n",
        "\n",
        "        # Pass through fc2\n",
        "        x = _FILL_\n",
        "        assert(x.shape == (B, self.num_class))\n",
        "\n",
        "        # Return the Logits\n",
        "        return _FILL_"
      ],
      "id": "8ab8cb7c"
    },
    {
      "cell_type": "code",
      "execution_count": null,
      "metadata": {
        "colab": {
          "base_uri": "https://localhost:8080/"
        },
        "id": "a43d569e",
        "outputId": "2d854bd1-65bc-4c32-af21-bc607ea91020"
      },
      "outputs": [
        {
          "output_type": "execute_result",
          "data": {
            "text/plain": [
              "<torch._C.Generator at 0x7e675c208bf0>"
            ]
          },
          "metadata": {},
          "execution_count": 21
        }
      ],
      "source": [
        "torch.manual_seed(SEED)"
      ],
      "id": "a43d569e"
    },
    {
      "cell_type": "markdown",
      "metadata": {
        "id": "8994ae19"
      },
      "source": [
        "### Set up the data"
      ],
      "id": "8994ae19"
    },
    {
      "cell_type": "code",
      "execution_count": null,
      "metadata": {
        "id": "eaaa82a2"
      },
      "outputs": [],
      "source": [
        "# Map the data to the right format\n",
        "train_iter, test_iter = DATASETS[DATASET]()\n",
        "train_dataset = to_map_style_dataset(train_iter)\n",
        "test_dataset = to_map_style_dataset(test_iter)\n",
        "\n",
        "# Split data into train and validation\n",
        "num_train = int(len(train_dataset) * 0.95)\n",
        "split_train_, split_valid_ = random_split(train_dataset, [num_train, len(train_dataset) - num_train])\n",
        "\n",
        "# Set up different DataLoaders\n",
        "# Make sure you pass collate_fn as the function you wrote above\n",
        "train_dataloader = _FILL_\n",
        "valid_dataloader = _FILL_\n",
        "test_dataloader = _FILL_"
      ],
      "id": "eaaa82a2"
    },
    {
      "cell_type": "code",
      "execution_count": null,
      "metadata": {
        "id": "7a5af374"
      },
      "outputs": [],
      "source": [],
      "id": "7a5af374"
    },
    {
      "cell_type": "markdown",
      "metadata": {
        "id": "72b5bb91"
      },
      "source": [
        "### Train the model"
      ],
      "id": "72b5bb91"
    },
    {
      "cell_type": "code",
      "execution_count": null,
      "metadata": {
        "id": "d58cc1a9"
      },
      "outputs": [],
      "source": [
        "def train(dataloader, model, optimizer, criterion, epoch):\n",
        "    # Put the model in train mode; this does not matter right now\n",
        "    _FILL_\n",
        "    total_acc, total_count = 0, 0\n",
        "    total_loss = 0.0\n",
        "    log_interval = 200\n",
        "\n",
        "    for idx, (label, text) in enumerate(dataloader):\n",
        "        # Zero out the gradients\n",
        "        _FILL_\n",
        "\n",
        "        # Get the predictions\n",
        "        predicted_label = _FILL_\n",
        "\n",
        "        # Get the loss.\n",
        "        loss = loss_fn(input=predicted_label, target=label)\n",
        "\n",
        "        # The loss is computed by taking a mean, get the sum of the terms on the numerator\n",
        "        with torch.no_grad():\n",
        "          total_loss += loss.item() * label.size(0)\n",
        "\n",
        "        # Do back propagation\n",
        "        _FILL_\n",
        "\n",
        "        # Clip the gradients to have max norm 0.1\n",
        "        # Look up torch.nn.utils.clip_grad_norm\n",
        "        _FILL_\n",
        "\n",
        "        # Do an optimization step.\n",
        "        _FILL_\n",
        "\n",
        "        # Get the accuracy\n",
        "        # predicted_label is (B, num_class) so take the argmax over the right dimension to get the actual label\n",
        "        # Make sure you do .item() on whaht you get so that you update the accuracy\n",
        "        total_acc += _FILL_\n",
        "\n",
        "        # Update the total number of items\n",
        "        total_count += _FILL_\n",
        "        if idx % log_interval == 0 and idx > 0:\n",
        "            print(\n",
        "                \"| epoch {:3d} | {:5d}/{:5d} batches \"\n",
        "                \"| accuracy {:8.3f} \"\n",
        "                \"| loss {:8.3f}\".format(\n",
        "                    epoch, idx,\n",
        "                    _FILL_,\n",
        "                    _FILL_,\n",
        "                    _FILL_\n",
        "                    )\n",
        "            )\n",
        "            total_acc, total_count, total_loss = 0, 0, 0.0"
      ],
      "id": "d58cc1a9"
    },
    {
      "cell_type": "code",
      "execution_count": null,
      "metadata": {
        "id": "85722617"
      },
      "outputs": [],
      "source": [
        "def evaluate(dataloader, model):\n",
        "    # Put the model in eval model; this does not matter right now\n",
        "    _FILL_\n",
        "\n",
        "    # Get the accuracy\n",
        "    total_acc = 0.0\n",
        "    total_count = 0.0\n",
        "\n",
        "    with torch.no_grad():\n",
        "        for idx, (label, text) in enumerate(dataloader):\n",
        "            # Get the predictions\n",
        "            predicted_label = _FILL_\n",
        "            # Get the number of samples we have, the denominator of accuracy\n",
        "            total_count += _FILL_\n",
        "\n",
        "            # Get the total number of times we have the correct predictions, use accuracy_fn\n",
        "            total_acc += _FILL_\n",
        "\n",
        "            # Use accuracy_fn from torchmetrics to check that the total number of correct predictions is the same as if you use argmax on predicted_label\n",
        "            # I.e. I want you to use torchmetrics to compute this AND use the same metod as in train above\n",
        "            # Remember to use .item() on the tensor you get and also rememeber number_or_samples * accuracy = total_times_we_have_equality (the numerator of accuracy)\n",
        "            assert (\n",
        "                _FILL_ == _FILL_\n",
        "            )\n",
        "\n",
        "    accuracy = _FILL_\n",
        "    return accuracy"
      ],
      "id": "85722617"
    },
    {
      "cell_type": "markdown",
      "metadata": {
        "id": "W3LjZHTdrWW6"
      },
      "source": [
        "# Train the model\n",
        "\n",
        "You should get an accuracy > 80% for the training set. This might take quite a bit of time to run since we use one-hot. Use nn.Embedding if you want to check this quickly. You should get the SAME answer using either method."
      ],
      "id": "W3LjZHTdrWW6"
    },
    {
      "cell_type": "code",
      "execution_count": null,
      "metadata": {
        "id": "eTEl16pIBkTe"
      },
      "outputs": [],
      "source": [
        "# Set up the loss function\n",
        "# Note that this should be a multiclass classification problem and you take in logits\n",
        "loss_fn = _FILL_.to(DEVICE)\n",
        "\n",
        "# Instantiate the model\n",
        "# Pass in the number of elements in VOCAB and num_class\n",
        "model = _FILL_.to(DEVICE)\n",
        "\n",
        "# Instantiate the SGD optimizer with parameters LR\n",
        "optimizer = _FILL_"
      ],
      "id": "eTEl16pIBkTe"
    },
    {
      "cell_type": "code",
      "execution_count": null,
      "metadata": {
        "colab": {
          "base_uri": "https://localhost:8080/"
        },
        "id": "21ba24f3",
        "outputId": "12ecab9f-684b-4c39-dd66-6d4275c744d7"
      },
      "outputs": [
        {
          "output_type": "stream",
          "name": "stdout",
          "text": [
            "| epoch   1 |   200/ 7125 batches | accuracy    0.322 | loss    1.424\n",
            "| epoch   1 |   400/ 7125 batches | accuracy    0.422 | loss    1.279\n",
            "| epoch   1 |   600/ 7125 batches | accuracy    0.444 | loss    1.244\n",
            "| epoch   1 |   800/ 7125 batches | accuracy    0.497 | loss    1.179\n",
            "| epoch   1 |  1000/ 7125 batches | accuracy    0.531 | loss    1.127\n",
            "| epoch   1 |  1200/ 7125 batches | accuracy    0.528 | loss    1.129\n",
            "| epoch   1 |  1400/ 7125 batches | accuracy    0.539 | loss    1.115\n",
            "| epoch   1 |  1600/ 7125 batches | accuracy    0.574 | loss    1.027\n",
            "| epoch   1 |  1800/ 7125 batches | accuracy    0.572 | loss    1.035\n",
            "| epoch   1 |  2000/ 7125 batches | accuracy    0.606 | loss    0.961\n",
            "| epoch   1 |  2200/ 7125 batches | accuracy    0.609 | loss    0.964\n",
            "| epoch   1 |  2400/ 7125 batches | accuracy    0.594 | loss    1.011\n",
            "| epoch   1 |  2600/ 7125 batches | accuracy    0.641 | loss    0.918\n",
            "| epoch   1 |  2800/ 7125 batches | accuracy    0.638 | loss    0.913\n",
            "| epoch   1 |  3000/ 7125 batches | accuracy    0.640 | loss    0.906\n",
            "| epoch   1 |  3200/ 7125 batches | accuracy    0.640 | loss    0.903\n",
            "| epoch   1 |  3400/ 7125 batches | accuracy    0.645 | loss    0.883\n",
            "| epoch   1 |  3600/ 7125 batches | accuracy    0.657 | loss    0.861\n",
            "| epoch   1 |  3800/ 7125 batches | accuracy    0.652 | loss    0.888\n",
            "| epoch   1 |  4000/ 7125 batches | accuracy    0.694 | loss    0.814\n",
            "| epoch   1 |  4200/ 7125 batches | accuracy    0.669 | loss    0.868\n",
            "| epoch   1 |  4400/ 7125 batches | accuracy    0.679 | loss    0.822\n",
            "| epoch   1 |  4600/ 7125 batches | accuracy    0.672 | loss    0.833\n",
            "| epoch   1 |  4800/ 7125 batches | accuracy    0.688 | loss    0.808\n",
            "| epoch   1 |  5000/ 7125 batches | accuracy    0.697 | loss    0.806\n",
            "| epoch   1 |  5200/ 7125 batches | accuracy    0.709 | loss    0.785\n",
            "| epoch   1 |  5400/ 7125 batches | accuracy    0.711 | loss    0.753\n",
            "| epoch   1 |  5600/ 7125 batches | accuracy    0.694 | loss    0.799\n",
            "| epoch   1 |  5800/ 7125 batches | accuracy    0.725 | loss    0.714\n",
            "| epoch   1 |  6000/ 7125 batches | accuracy    0.719 | loss    0.728\n",
            "| epoch   1 |  6200/ 7125 batches | accuracy    0.712 | loss    0.745\n",
            "| epoch   1 |  6400/ 7125 batches | accuracy    0.723 | loss    0.747\n",
            "| epoch   1 |  6600/ 7125 batches | accuracy    0.707 | loss    0.746\n",
            "| epoch   1 |  6800/ 7125 batches | accuracy    0.731 | loss    0.720\n",
            "| epoch   1 |  7000/ 7125 batches | accuracy    0.719 | loss    0.734\n",
            "-----------------------------------------------------------\n",
            "| end of epoch   1 | time: 1278.27s | valid accuracy    0.713 \n",
            "-----------------------------------------------------------\n",
            "| epoch   2 |   200/ 7125 batches | accuracy    0.738 | loss    0.701\n",
            "| epoch   2 |   400/ 7125 batches | accuracy    0.733 | loss    0.723\n",
            "| epoch   2 |   600/ 7125 batches | accuracy    0.741 | loss    0.670\n",
            "| epoch   2 |   800/ 7125 batches | accuracy    0.727 | loss    0.724\n",
            "| epoch   2 |  1000/ 7125 batches | accuracy    0.741 | loss    0.694\n",
            "| epoch   2 |  1200/ 7125 batches | accuracy    0.755 | loss    0.677\n",
            "| epoch   2 |  1400/ 7125 batches | accuracy    0.744 | loss    0.685\n",
            "| epoch   2 |  1600/ 7125 batches | accuracy    0.743 | loss    0.673\n",
            "| epoch   2 |  1800/ 7125 batches | accuracy    0.741 | loss    0.708\n",
            "| epoch   2 |  2000/ 7125 batches | accuracy    0.742 | loss    0.687\n",
            "| epoch   2 |  2200/ 7125 batches | accuracy    0.738 | loss    0.691\n",
            "| epoch   2 |  2400/ 7125 batches | accuracy    0.756 | loss    0.645\n",
            "| epoch   2 |  2600/ 7125 batches | accuracy    0.772 | loss    0.610\n",
            "| epoch   2 |  2800/ 7125 batches | accuracy    0.756 | loss    0.646\n",
            "| epoch   2 |  3000/ 7125 batches | accuracy    0.767 | loss    0.632\n",
            "| epoch   2 |  3200/ 7125 batches | accuracy    0.757 | loss    0.653\n",
            "| epoch   2 |  3400/ 7125 batches | accuracy    0.767 | loss    0.626\n",
            "| epoch   2 |  3600/ 7125 batches | accuracy    0.754 | loss    0.659\n",
            "| epoch   2 |  3800/ 7125 batches | accuracy    0.755 | loss    0.655\n",
            "| epoch   2 |  4000/ 7125 batches | accuracy    0.777 | loss    0.600\n",
            "| epoch   2 |  4200/ 7125 batches | accuracy    0.749 | loss    0.679\n",
            "| epoch   2 |  4400/ 7125 batches | accuracy    0.752 | loss    0.651\n",
            "| epoch   2 |  4600/ 7125 batches | accuracy    0.774 | loss    0.600\n",
            "| epoch   2 |  4800/ 7125 batches | accuracy    0.777 | loss    0.633\n",
            "| epoch   2 |  5000/ 7125 batches | accuracy    0.778 | loss    0.627\n",
            "| epoch   2 |  5200/ 7125 batches | accuracy    0.783 | loss    0.597\n",
            "| epoch   2 |  5400/ 7125 batches | accuracy    0.772 | loss    0.617\n",
            "| epoch   2 |  5600/ 7125 batches | accuracy    0.769 | loss    0.608\n",
            "| epoch   2 |  5800/ 7125 batches | accuracy    0.772 | loss    0.617\n",
            "| epoch   2 |  6000/ 7125 batches | accuracy    0.772 | loss    0.629\n",
            "| epoch   2 |  6200/ 7125 batches | accuracy    0.762 | loss    0.628\n",
            "| epoch   2 |  6400/ 7125 batches | accuracy    0.794 | loss    0.589\n",
            "| epoch   2 |  6600/ 7125 batches | accuracy    0.777 | loss    0.634\n",
            "| epoch   2 |  6800/ 7125 batches | accuracy    0.764 | loss    0.622\n",
            "| epoch   2 |  7000/ 7125 batches | accuracy    0.769 | loss    0.621\n",
            "-----------------------------------------------------------\n",
            "| end of epoch   2 | time: 1328.30s | valid accuracy    0.810 \n",
            "-----------------------------------------------------------\n",
            "| epoch   3 |   200/ 7125 batches | accuracy    0.774 | loss    0.598\n",
            "| epoch   3 |   400/ 7125 batches | accuracy    0.777 | loss    0.576\n",
            "| epoch   3 |   600/ 7125 batches | accuracy    0.762 | loss    0.638\n",
            "| epoch   3 |   800/ 7125 batches | accuracy    0.788 | loss    0.601\n",
            "| epoch   3 |  1000/ 7125 batches | accuracy    0.797 | loss    0.564\n",
            "| epoch   3 |  1200/ 7125 batches | accuracy    0.778 | loss    0.583\n",
            "| epoch   3 |  1400/ 7125 batches | accuracy    0.788 | loss    0.586\n",
            "| epoch   3 |  1600/ 7125 batches | accuracy    0.795 | loss    0.565\n",
            "| epoch   3 |  1800/ 7125 batches | accuracy    0.780 | loss    0.593\n",
            "| epoch   3 |  2000/ 7125 batches | accuracy    0.775 | loss    0.600\n",
            "| epoch   3 |  2200/ 7125 batches | accuracy    0.799 | loss    0.557\n",
            "| epoch   3 |  2400/ 7125 batches | accuracy    0.804 | loss    0.527\n",
            "| epoch   3 |  2600/ 7125 batches | accuracy    0.789 | loss    0.564\n",
            "| epoch   3 |  2800/ 7125 batches | accuracy    0.799 | loss    0.553\n",
            "| epoch   3 |  3000/ 7125 batches | accuracy    0.777 | loss    0.589\n",
            "| epoch   3 |  3200/ 7125 batches | accuracy    0.799 | loss    0.560\n",
            "| epoch   3 |  3400/ 7125 batches | accuracy    0.793 | loss    0.577\n",
            "| epoch   3 |  3600/ 7125 batches | accuracy    0.814 | loss    0.519\n",
            "| epoch   3 |  3800/ 7125 batches | accuracy    0.798 | loss    0.547\n",
            "| epoch   3 |  4000/ 7125 batches | accuracy    0.810 | loss    0.530\n",
            "| epoch   3 |  4200/ 7125 batches | accuracy    0.798 | loss    0.556\n",
            "| epoch   3 |  4400/ 7125 batches | accuracy    0.788 | loss    0.567\n",
            "| epoch   3 |  4600/ 7125 batches | accuracy    0.791 | loss    0.576\n",
            "| epoch   3 |  4800/ 7125 batches | accuracy    0.790 | loss    0.573\n",
            "| epoch   3 |  5000/ 7125 batches | accuracy    0.792 | loss    0.560\n",
            "| epoch   3 |  5200/ 7125 batches | accuracy    0.810 | loss    0.534\n",
            "| epoch   3 |  5400/ 7125 batches | accuracy    0.812 | loss    0.522\n",
            "| epoch   3 |  5600/ 7125 batches | accuracy    0.812 | loss    0.542\n",
            "| epoch   3 |  5800/ 7125 batches | accuracy    0.791 | loss    0.555\n",
            "| epoch   3 |  6000/ 7125 batches | accuracy    0.806 | loss    0.531\n",
            "| epoch   3 |  6200/ 7125 batches | accuracy    0.812 | loss    0.536\n",
            "| epoch   3 |  6400/ 7125 batches | accuracy    0.804 | loss    0.553\n",
            "| epoch   3 |  6600/ 7125 batches | accuracy    0.818 | loss    0.503\n",
            "| epoch   3 |  6800/ 7125 batches | accuracy    0.802 | loss    0.554\n",
            "| epoch   3 |  7000/ 7125 batches | accuracy    0.797 | loss    0.552\n",
            "-----------------------------------------------------------\n",
            "| end of epoch   3 | time: 1327.61s | valid accuracy    0.825 \n",
            "-----------------------------------------------------------\n",
            "| epoch   4 |   200/ 7125 batches | accuracy    0.815 | loss    0.531\n",
            "| epoch   4 |   400/ 7125 batches | accuracy    0.804 | loss    0.542\n",
            "| epoch   4 |   600/ 7125 batches | accuracy    0.820 | loss    0.506\n",
            "| epoch   4 |   800/ 7125 batches | accuracy    0.803 | loss    0.548\n",
            "| epoch   4 |  1000/ 7125 batches | accuracy    0.803 | loss    0.534\n",
            "| epoch   4 |  1200/ 7125 batches | accuracy    0.804 | loss    0.561\n",
            "| epoch   4 |  1400/ 7125 batches | accuracy    0.822 | loss    0.523\n",
            "| epoch   4 |  1600/ 7125 batches | accuracy    0.815 | loss    0.521\n",
            "| epoch   4 |  1800/ 7125 batches | accuracy    0.811 | loss    0.562\n",
            "| epoch   4 |  2000/ 7125 batches | accuracy    0.811 | loss    0.520\n",
            "| epoch   4 |  2200/ 7125 batches | accuracy    0.823 | loss    0.527\n",
            "| epoch   4 |  2400/ 7125 batches | accuracy    0.818 | loss    0.513\n",
            "| epoch   4 |  2600/ 7125 batches | accuracy    0.797 | loss    0.555\n",
            "| epoch   4 |  2800/ 7125 batches | accuracy    0.817 | loss    0.504\n",
            "| epoch   4 |  3000/ 7125 batches | accuracy    0.810 | loss    0.546\n",
            "| epoch   4 |  3200/ 7125 batches | accuracy    0.833 | loss    0.491\n",
            "| epoch   4 |  3400/ 7125 batches | accuracy    0.824 | loss    0.523\n",
            "| epoch   4 |  3600/ 7125 batches | accuracy    0.816 | loss    0.507\n",
            "| epoch   4 |  3800/ 7125 batches | accuracy    0.812 | loss    0.529\n",
            "| epoch   4 |  4000/ 7125 batches | accuracy    0.834 | loss    0.477\n",
            "| epoch   4 |  4200/ 7125 batches | accuracy    0.812 | loss    0.540\n",
            "| epoch   4 |  4400/ 7125 batches | accuracy    0.823 | loss    0.521\n",
            "| epoch   4 |  4600/ 7125 batches | accuracy    0.827 | loss    0.476\n",
            "| epoch   4 |  4800/ 7125 batches | accuracy    0.811 | loss    0.533\n",
            "| epoch   4 |  5000/ 7125 batches | accuracy    0.824 | loss    0.505\n",
            "| epoch   4 |  5200/ 7125 batches | accuracy    0.821 | loss    0.486\n",
            "| epoch   4 |  5400/ 7125 batches | accuracy    0.828 | loss    0.489\n",
            "| epoch   4 |  5600/ 7125 batches | accuracy    0.817 | loss    0.509\n",
            "| epoch   4 |  5800/ 7125 batches | accuracy    0.823 | loss    0.504\n",
            "| epoch   4 |  6000/ 7125 batches | accuracy    0.818 | loss    0.507\n",
            "| epoch   4 |  6200/ 7125 batches | accuracy    0.833 | loss    0.476\n",
            "| epoch   4 |  6400/ 7125 batches | accuracy    0.816 | loss    0.505\n",
            "| epoch   4 |  6600/ 7125 batches | accuracy    0.812 | loss    0.521\n",
            "| epoch   4 |  6800/ 7125 batches | accuracy    0.813 | loss    0.513\n",
            "| epoch   4 |  7000/ 7125 batches | accuracy    0.830 | loss    0.470\n",
            "-----------------------------------------------------------\n",
            "| end of epoch   4 | time: 1340.73s | valid accuracy    0.813 \n",
            "-----------------------------------------------------------\n",
            "| epoch   5 |   200/ 7125 batches | accuracy    0.823 | loss    0.479\n",
            "| epoch   5 |   400/ 7125 batches | accuracy    0.826 | loss    0.501\n",
            "| epoch   5 |   600/ 7125 batches | accuracy    0.825 | loss    0.488\n",
            "| epoch   5 |   800/ 7125 batches | accuracy    0.828 | loss    0.476\n",
            "| epoch   5 |  1000/ 7125 batches | accuracy    0.839 | loss    0.459\n",
            "| epoch   5 |  1200/ 7125 batches | accuracy    0.830 | loss    0.499\n",
            "| epoch   5 |  1400/ 7125 batches | accuracy    0.813 | loss    0.522\n",
            "| epoch   5 |  1600/ 7125 batches | accuracy    0.820 | loss    0.470\n",
            "| epoch   5 |  1800/ 7125 batches | accuracy    0.812 | loss    0.509\n",
            "| epoch   5 |  2000/ 7125 batches | accuracy    0.829 | loss    0.472\n",
            "| epoch   5 |  2200/ 7125 batches | accuracy    0.834 | loss    0.465\n",
            "| epoch   5 |  2400/ 7125 batches | accuracy    0.828 | loss    0.482\n",
            "| epoch   5 |  2600/ 7125 batches | accuracy    0.843 | loss    0.463\n",
            "| epoch   5 |  2800/ 7125 batches | accuracy    0.820 | loss    0.511\n",
            "| epoch   5 |  3000/ 7125 batches | accuracy    0.834 | loss    0.470\n",
            "| epoch   5 |  3200/ 7125 batches | accuracy    0.828 | loss    0.469\n",
            "| epoch   5 |  3400/ 7125 batches | accuracy    0.835 | loss    0.473\n",
            "| epoch   5 |  3600/ 7125 batches | accuracy    0.834 | loss    0.483\n",
            "| epoch   5 |  3800/ 7125 batches | accuracy    0.837 | loss    0.438\n",
            "| epoch   5 |  4000/ 7125 batches | accuracy    0.833 | loss    0.483\n",
            "| epoch   5 |  4200/ 7125 batches | accuracy    0.840 | loss    0.447\n",
            "| epoch   5 |  4400/ 7125 batches | accuracy    0.832 | loss    0.491\n",
            "| epoch   5 |  4600/ 7125 batches | accuracy    0.818 | loss    0.498\n",
            "| epoch   5 |  4800/ 7125 batches | accuracy    0.830 | loss    0.480\n",
            "| epoch   5 |  5000/ 7125 batches | accuracy    0.839 | loss    0.462\n",
            "| epoch   5 |  5200/ 7125 batches | accuracy    0.835 | loss    0.458\n",
            "| epoch   5 |  5400/ 7125 batches | accuracy    0.827 | loss    0.486\n",
            "| epoch   5 |  5600/ 7125 batches | accuracy    0.820 | loss    0.487\n",
            "| epoch   5 |  5800/ 7125 batches | accuracy    0.826 | loss    0.490\n",
            "| epoch   5 |  6000/ 7125 batches | accuracy    0.838 | loss    0.453\n",
            "| epoch   5 |  6200/ 7125 batches | accuracy    0.824 | loss    0.502\n",
            "| epoch   5 |  6400/ 7125 batches | accuracy    0.819 | loss    0.500\n",
            "| epoch   5 |  6600/ 7125 batches | accuracy    0.834 | loss    0.447\n",
            "| epoch   5 |  6800/ 7125 batches | accuracy    0.828 | loss    0.486\n",
            "| epoch   5 |  7000/ 7125 batches | accuracy    0.823 | loss    0.493\n",
            "-----------------------------------------------------------\n",
            "| end of epoch   5 | time: 1339.52s | valid accuracy    0.855 \n",
            "-----------------------------------------------------------\n",
            "Checking the results of test dataset.\n",
            "test accuracy    0.839\n"
          ]
        }
      ],
      "source": [
        "for epoch in range(1, NUM_EPOCHS + 1):\n",
        "    epoch_start_time = time.time()\n",
        "    train(train_dataloader, model, optimizer, loss_fn, epoch)\n",
        "    accu_val = evaluate(valid_dataloader, model)\n",
        "    print(\"-\" * 59)\n",
        "    print(\n",
        "        \"| end of epoch {:3d} | time: {:5.2f}s | \"\n",
        "        \"valid accuracy {:8.3f} \".format(\n",
        "            epoch,\n",
        "            time.time() - epoch_start_time,\n",
        "            accu_val\n",
        "            )\n",
        "    )\n",
        "    print(\"-\" * 59)\n",
        "\n",
        "print(\"Checking the results of test dataset.\")\n",
        "accu_test = evaluate(test_dataloader, model)\n",
        "print(\"test accuracy {:8.3f}\".format(accu_test))"
      ],
      "id": "21ba24f3"
    },
    {
      "cell_type": "code",
      "execution_count": null,
      "metadata": {
        "id": "71904d5f"
      },
      "outputs": [],
      "source": [],
      "id": "71904d5f"
    }
  ],
  "metadata": {
    "colab": {
      "provenance": []
    },
    "kernelspec": {
      "display_name": "Python 3 (ipykernel)",
      "language": "python",
      "name": "python3"
    },
    "language_info": {
      "codemirror_mode": {
        "name": "ipython",
        "version": 3
      },
      "file_extension": ".py",
      "mimetype": "text/x-python",
      "name": "python",
      "nbconvert_exporter": "python",
      "pygments_lexer": "ipython3",
      "version": "3.8.15"
    }
  },
  "nbformat": 4,
  "nbformat_minor": 5
}