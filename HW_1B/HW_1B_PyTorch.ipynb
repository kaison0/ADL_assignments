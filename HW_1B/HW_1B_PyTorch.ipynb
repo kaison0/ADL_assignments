{
 "cells": [
  {
   "cell_type": "markdown",
   "metadata": {
    "id": "H2BVH_JD9WiA"
   },
   "source": [
    "Below we will try and fit a Logisitc Regression Model step by step for the XOR problem.\n",
    "Fill in the code where there is a `_FILL_` specified. For this model, we have $x_1$ and $x_2$ are either 0/1 each and $y = x_1 + x_2 - 2x_1x_2$. Notice that this is True (1) if $x_1 = 1$ and $x_2 = 0$ OR $x_1 = 0$ and $x_2 = 1$; $y$ is zero otherwise."
   ]
  },
  {
   "cell_type": "code",
   "execution_count": null,
   "metadata": {
    "id": "wiFGf-9H9X3d"
   },
   "outputs": [],
   "source": [
    "import torch.nn as nn\n",
    "import torch\n",
    "# Don't fill this in\n",
    "_FILL_ = '_FILL_'"
   ]
  },
  {
   "cell_type": "code",
   "execution_count": null,
   "metadata": {
    "id": "1TRwUp469X-r"
   },
   "outputs": [],
   "source": [
    "x_data = [[0, 0], [0, 1], [1, 0], [1, 1]]\n",
    "y_data = [[0], [1], [1], [0]]\n",
    "x_data = torch.Tensor(x_data)\n",
    "y_data = torch.Tensor(y_data)"
   ]
  },
  {
   "cell_type": "code",
   "execution_count": null,
   "metadata": {
    "id": "2FJM6ckGBRz_"
   },
   "outputs": [],
   "source": [
    "# Define each tensor to be 1x1 and have them require a gradient for tracking; these are parameters\n",
    "alpha = _FILL_\n",
    "beta_1 = _FILL_\n",
    "beta_2 = _FILL_"
   ]
  },
  {
   "cell_type": "code",
   "execution_count": null,
   "metadata": {
    "colab": {
     "base_uri": "https://localhost:8080/"
    },
    "id": "BToqdBCr9YBI",
    "outputId": "2d08fd64-23e5-4013-c407-14a5f9b1e4ba"
   },
   "outputs": [
    {
     "name": "stdout",
     "output_type": "stream",
     "text": [
      "Epoch: 0\n",
      "Loss: 0.7430764436721802 Accuracy: 0.5\n",
      "Epoch: 1\n",
      "Loss: 0.7417216300964355 Accuracy: 0.5\n",
      "Epoch: 2\n",
      "Loss: 0.7404038906097412 Accuracy: 0.5\n",
      "Epoch: 3\n",
      "Loss: 0.7391220331192017 Accuracy: 0.5\n",
      "Epoch: 4\n",
      "Loss: 0.7378755211830139 Accuracy: 0.5\n",
      "Epoch: 5\n",
      "Loss: 0.736663281917572 Accuracy: 0.5\n",
      "Epoch: 6\n",
      "Loss: 0.7354844808578491 Accuracy: 0.5\n",
      "Epoch: 7\n",
      "Loss: 0.7343384027481079 Accuracy: 0.5\n",
      "Epoch: 8\n",
      "Loss: 0.7332241535186768 Accuracy: 0.5\n",
      "Epoch: 9\n",
      "Loss: 0.7321408987045288 Accuracy: 0.5\n"
     ]
    }
   ],
   "source": [
    "lr = 0.01\n",
    "\n",
    "for epoch in range(10):\n",
    "  for x, y in zip(x_data, y_data):\n",
    "\n",
    "    # Have z be beta_2*x[0] + beta_1*x[1] + alpha\n",
    "    z = _FILL_\n",
    "\n",
    "    # Push z through a nn.Sigmoid layer to get the p(y=1)\n",
    "    a = _FILL_\n",
    "\n",
    "    # Write the loss manually between y and a\n",
    "    loss = _FILL_\n",
    "\n",
    "    # Get the loss gradients; the gradients with respect to alpha, beta_1, beta_2\n",
    "    _FILL_\n",
    "\n",
    "    # Manually update the gradients\n",
    "    # What we do below is wrapped within this clause because weights have required_grad=True but we don't need to track this in autograd\n",
    "    with torch.no_grad():\n",
    "        # Do an update for each parameter\n",
    "        _FILL_\n",
    "        _FILL_\n",
    "        _FILL_\n",
    "\n",
    "        # Manually zero the gradients after updating weights\n",
    "        _FILL_\n",
    "        _FILL_\n",
    "        _FILL_\n",
    "\n",
    "  # Manually get the accuracy of the model after each epoch\n",
    "  with torch.no_grad():\n",
    "    print(f'Epoch: {epoch}')\n",
    "    y_pred = []\n",
    "    loss = 0.0\n",
    "\n",
    "    for x, y in zip(x_data, y_data):\n",
    "      # Get z\n",
    "      z = _FILL_\n",
    "\n",
    "      # Get a\n",
    "      a = _FILL_\n",
    "\n",
    "      # Get the loss\n",
    "      loss += _FILL_\n",
    "\n",
    "      # Get the prediction given a\n",
    "      _FILL_\n",
    "\n",
    "    # Get the current accuracy over 4 points; make this a tensor\n",
    "    y_pred = _FILL_\n",
    "\n",
    "    accuracy = _FILL_\n",
    "    loss = loss / 4\n",
    "\n",
    "    # Print the accuracy and the loss\n",
    "    # You want the item in the tensor thats 1x1\n",
    "    print('Loss: {} Accuracy: {}'.format(_FILL_, _FILL_))"
   ]
  },
  {
   "cell_type": "markdown",
   "metadata": {
    "id": "Iojtw_rFAjhY"
   },
   "source": [
    "Exercise 1: Create a 2D tensor and then add a dimension of size 1 inserted at the 0th axis.\n",
    "\n"
   ]
  },
  {
   "cell_type": "code",
   "execution_count": null,
   "metadata": {
    "colab": {
     "base_uri": "https://localhost:8080/"
    },
    "id": "fgdImVPpAm6d",
    "outputId": "9a3d2ea6-8f33-4fd7-adfe-b7b7c09ecf82"
   },
   "outputs": [
    {
     "data": {
      "text/plain": [
       "tensor([[[0.0977, 0.6405, 0.2197],\n",
       "         [0.0076, 0.6612, 0.6541]]])"
      ]
     },
     "execution_count": 6,
     "metadata": {},
     "output_type": "execute_result"
    }
   ],
   "source": [
    "_FILL_"
   ]
  },
  {
   "cell_type": "markdown",
   "metadata": {
    "id": "A0yfuo7fAneJ"
   },
   "source": [
    "Exercise 2: Remove the extra dimension you just added to the previous tensor.\n",
    "\n"
   ]
  },
  {
   "cell_type": "code",
   "execution_count": null,
   "metadata": {
    "colab": {
     "base_uri": "https://localhost:8080/"
    },
    "id": "goe1-DBRAnnj",
    "outputId": "499138aa-f429-474a-e8af-53e34add8b1b"
   },
   "outputs": [
    {
     "data": {
      "text/plain": [
       "tensor([[0.0977, 0.6405, 0.2197],\n",
       "        [0.0076, 0.6612, 0.6541]])"
      ]
     },
     "execution_count": 7,
     "metadata": {},
     "output_type": "execute_result"
    }
   ],
   "source": [
    "_FILL_"
   ]
  },
  {
   "cell_type": "markdown",
   "metadata": {
    "id": "oAhtAtk5Any4"
   },
   "source": [
    "Exercise 3: Create a random tensor of shape 5x3 in the interval [3, 7)\n",
    "\n"
   ]
  },
  {
   "cell_type": "code",
   "execution_count": null,
   "metadata": {
    "colab": {
     "base_uri": "https://localhost:8080/"
    },
    "id": "ZCcFowEjAn8w",
    "outputId": "6b2553d5-b139-419d-d845-a8c535b303cf"
   },
   "outputs": [
    {
     "data": {
      "text/plain": [
       "tensor([[4.4375, 4.0747, 3.0686],\n",
       "        [6.2739, 4.4818, 4.2337],\n",
       "        [5.4632, 4.4997, 4.3507],\n",
       "        [6.2013, 6.9733, 4.5900],\n",
       "        [4.2644, 3.3225, 5.2225]])"
      ]
     },
     "execution_count": 8,
     "metadata": {},
     "output_type": "execute_result"
    }
   ],
   "source": [
    "_FILL_"
   ]
  },
  {
   "cell_type": "markdown",
   "metadata": {
    "id": "PvNprVRlAoEC"
   },
   "source": [
    "Exercise 4: Create a tensor with values from a normal distribution (mean=0, std=1).\n",
    "\n"
   ]
  },
  {
   "cell_type": "code",
   "execution_count": null,
   "metadata": {
    "id": "Dgirc4kGAoKa"
   },
   "outputs": [],
   "source": [
    "_FILL_"
   ]
  },
  {
   "cell_type": "markdown",
   "metadata": {
    "id": "i1nIIGp8AoQL"
   },
   "source": [
    "exercise 5: Retrieve the indexes of all the non zero elements in the tensor torch.Tensor([1, 1, 1, 0, 1]).\n",
    "\n"
   ]
  },
  {
   "cell_type": "code",
   "execution_count": null,
   "metadata": {
    "colab": {
     "base_uri": "https://localhost:8080/"
    },
    "id": "sCv5zbq3AoV-",
    "outputId": "9942ce9c-c763-49e0-93c2-b6baf7d81333"
   },
   "outputs": [
    {
     "data": {
      "text/plain": [
       "tensor([[0],\n",
       "        [1],\n",
       "        [2],\n",
       "        [4]])"
      ]
     },
     "execution_count": 10,
     "metadata": {},
     "output_type": "execute_result"
    }
   ],
   "source": [
    "_FILL_"
   ]
  },
  {
   "cell_type": "markdown",
   "metadata": {
    "id": "ckErX5U1Aocz"
   },
   "source": [
    "Exercise 6: Create a random tensor of size (3,1) and then horizonally stack 4 copies together.\n",
    "\n"
   ]
  },
  {
   "cell_type": "code",
   "execution_count": null,
   "metadata": {
    "colab": {
     "base_uri": "https://localhost:8080/"
    },
    "id": "9D3XYAnoAoig",
    "outputId": "2554e44d-f170-4b09-e966-1e25b54b4322"
   },
   "outputs": [
    {
     "data": {
      "text/plain": [
       "tensor([[0.1503, 0.1503, 0.1503, 0.1503],\n",
       "        [0.7086, 0.7086, 0.7086, 0.7086],\n",
       "        [0.3414, 0.3414, 0.3414, 0.3414]])"
      ]
     },
     "execution_count": 11,
     "metadata": {},
     "output_type": "execute_result"
    }
   ],
   "source": [
    "_FILL_"
   ]
  },
  {
   "cell_type": "markdown",
   "metadata": {
    "id": "wKV3ChJrAopD"
   },
   "source": [
    "Exercise 7: Return the batch matrix-matrix product of two 3 dimensional matrices (a=torch.rand(3,4,5), b=torch.rand(3,5,4)).\n",
    "\n"
   ]
  },
  {
   "cell_type": "code",
   "execution_count": null,
   "metadata": {
    "colab": {
     "base_uri": "https://localhost:8080/"
    },
    "id": "ge6IErGdAovX",
    "outputId": "dd39067a-72d2-42e8-b955-7aa783e626ee"
   },
   "outputs": [
    {
     "data": {
      "text/plain": [
       "tensor([[[1.6394, 0.6833, 1.5837, 1.5976],\n",
       "         [1.1472, 0.3890, 1.0009, 1.2655],\n",
       "         [1.0815, 0.5244, 1.0628, 1.4311],\n",
       "         [1.9040, 1.2040, 1.4985, 1.4086]],\n",
       "\n",
       "        [[0.9391, 1.2059, 1.3412, 0.8154],\n",
       "         [1.3120, 1.4383, 1.8123, 1.1125],\n",
       "         [0.5450, 1.4864, 1.3260, 0.6719],\n",
       "         [0.6573, 1.7938, 1.7714, 1.0374]],\n",
       "\n",
       "        [[0.9832, 0.5582, 1.1056, 1.0532],\n",
       "         [1.9757, 1.1756, 2.0718, 1.7928],\n",
       "         [1.2413, 0.8302, 1.0994, 0.5718],\n",
       "         [1.7323, 0.9673, 1.6841, 1.2645]]])"
      ]
     },
     "execution_count": 12,
     "metadata": {},
     "output_type": "execute_result"
    }
   ],
   "source": [
    "_FILL_"
   ]
  },
  {
   "cell_type": "markdown",
   "metadata": {
    "id": "qVI_LI_PA_2e"
   },
   "source": [
    "Exercise 8: Return the batch matrix-matrix product of a 3D matrix and a 2D matrix (a=torch.rand(3,4,5), b=torch.rand(5,4)).\n",
    "\n"
   ]
  },
  {
   "cell_type": "code",
   "execution_count": null,
   "metadata": {
    "colab": {
     "base_uri": "https://localhost:8080/"
    },
    "id": "kpLgovtyBAA6",
    "outputId": "5ec0cb93-d699-46af-dbfa-e76e104da8ea"
   },
   "outputs": [
    {
     "data": {
      "text/plain": [
       "tensor([[[0.3375, 0.2907, 0.3181, 0.1812],\n",
       "         [1.1075, 1.0032, 1.0962, 1.0600],\n",
       "         [1.4107, 1.2923, 1.7551, 1.4518],\n",
       "         [1.1264, 0.7016, 1.4619, 0.9141]],\n",
       "\n",
       "        [[1.1713, 0.7899, 1.4845, 0.5677],\n",
       "         [1.5807, 1.1571, 1.4543, 1.1874],\n",
       "         [1.3340, 0.9715, 1.3254, 0.9939],\n",
       "         [1.3030, 0.6757, 1.9461, 1.0246]],\n",
       "\n",
       "        [[0.9775, 0.8165, 1.1316, 0.9601],\n",
       "         [0.9570, 0.9399, 0.8771, 0.8693],\n",
       "         [0.9590, 0.6913, 0.9538, 0.7193],\n",
       "         [1.1810, 0.8096, 1.4295, 1.1040]]])"
      ]
     },
     "execution_count": 13,
     "metadata": {},
     "output_type": "execute_result"
    }
   ],
   "source": [
    "_FILL_"
   ]
  },
  {
   "cell_type": "markdown",
   "metadata": {
    "id": "KW6NxQIeBAJA"
   },
   "source": [
    "Exercise 9: Create a 1x1 random tensor and get the value inside of this tensor as a scalar. No tensor."
   ]
  },
  {
   "cell_type": "code",
   "execution_count": null,
   "metadata": {
    "colab": {
     "base_uri": "https://localhost:8080/"
    },
    "id": "o_OFj9hEBAPO",
    "outputId": "32349d97-a959-419a-aa3d-1da4e29e65ff"
   },
   "outputs": [
    {
     "data": {
      "text/plain": [
       "0.31901270151138306"
      ]
     },
     "execution_count": 14,
     "metadata": {},
     "output_type": "execute_result"
    }
   ],
   "source": [
    "_FILL_"
   ]
  },
  {
   "cell_type": "markdown",
   "metadata": {
    "id": "5_zAwiqrBAVd"
   },
   "source": [
    "Exercise 10: Create a 2x1 tensor and have it require a gradient. Have $x$, this tensor, hold [-2, 1]. Set $y=x_1^2 + x_2^2$ and get the gradient of y wirht respect to $x_1$ and then $x_2$."
   ]
  },
  {
   "cell_type": "code",
   "execution_count": null,
   "metadata": {
    "colab": {
     "base_uri": "https://localhost:8080/"
    },
    "id": "z98hDPfEBAcv",
    "outputId": "2c683c02-4f3b-4ddd-d820-d986b68d2fc2"
   },
   "outputs": [
    {
     "data": {
      "text/plain": [
       "tensor([[0.7460],\n",
       "        [0.3626]])"
      ]
     },
     "execution_count": 15,
     "metadata": {},
     "output_type": "execute_result"
    }
   ],
   "source": [
    "_FILL_"
   ]
  },
  {
   "cell_type": "markdown",
   "metadata": {
    "id": "sGfmkpF3BAjy"
   },
   "source": [
    "Exercise 11: Check if cuda is available (it shuld be if in the Runtime setting for colab you choose the GPU). If it is, move $x$ above to a CUDA device. Create a new tensor of the same shape as $x$ and put it on the cpu. Try and add these tensors. What happens. How do you fix this?"
   ]
  },
  {
   "cell_type": "code",
   "execution_count": null,
   "metadata": {
    "colab": {
     "base_uri": "https://localhost:8080/",
     "height": 215
    },
    "id": "2M_Suz2XBAsX",
    "outputId": "ab952026-83ce-4a6c-a6db-59d4cd4e4081"
   },
   "outputs": [
    {
     "ename": "RuntimeError",
     "evalue": "ignored",
     "output_type": "error",
     "traceback": [
      "\u001b[0;31m---------------------------------------------------------------------------\u001b[0m",
      "\u001b[0;31mRuntimeError\u001b[0m                              Traceback (most recent call last)",
      "\u001b[0;32m<ipython-input-16-75bee63a3e4f>\u001b[0m in \u001b[0;36m<cell line: 6>\u001b[0;34m()\u001b[0m\n\u001b[1;32m      4\u001b[0m \u001b[0my\u001b[0m \u001b[0;34m=\u001b[0m \u001b[0mtorch\u001b[0m\u001b[0;34m.\u001b[0m\u001b[0mrandn\u001b[0m\u001b[0;34m(\u001b[0m\u001b[0;36m2\u001b[0m\u001b[0;34m,\u001b[0m \u001b[0;36m1\u001b[0m\u001b[0;34m)\u001b[0m\u001b[0;34m\u001b[0m\u001b[0;34m\u001b[0m\u001b[0m\n\u001b[1;32m      5\u001b[0m \u001b[0my\u001b[0m \u001b[0;34m=\u001b[0m \u001b[0my\u001b[0m\u001b[0;34m.\u001b[0m\u001b[0mcpu\u001b[0m\u001b[0;34m(\u001b[0m\u001b[0;34m)\u001b[0m\u001b[0;34m\u001b[0m\u001b[0;34m\u001b[0m\u001b[0m\n\u001b[0;32m----> 6\u001b[0;31m \u001b[0my\u001b[0m \u001b[0;34m+\u001b[0m \u001b[0mx\u001b[0m\u001b[0;34m\u001b[0m\u001b[0;34m\u001b[0m\u001b[0m\n\u001b[0m",
      "\u001b[0;31mRuntimeError\u001b[0m: Expected all tensors to be on the same device, but found at least two devices, cuda:0 and cpu!"
     ]
    }
   ],
   "source": [
    "_FILL_"
   ]
  }
 ],
 "metadata": {
  "accelerator": "GPU",
  "colab": {
   "gpuType": "V100",
   "machine_shape": "hm",
   "provenance": []
  },
  "kernelspec": {
   "display_name": "Python 3 (ipykernel)",
   "language": "python",
   "name": "python3"
  },
  "language_info": {
   "codemirror_mode": {
    "name": "ipython",
    "version": 3
   },
   "file_extension": ".py",
   "mimetype": "text/x-python",
   "name": "python",
   "nbconvert_exporter": "python",
   "pygments_lexer": "ipython3",
   "version": "3.8.15"
  }
 },
 "nbformat": 4,
 "nbformat_minor": 1
}
