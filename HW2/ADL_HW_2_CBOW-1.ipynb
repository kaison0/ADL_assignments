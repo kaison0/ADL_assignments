{
  "cells": [
    {
      "cell_type": "code",
      "execution_count": null,
      "id": "080d50fc",
      "metadata": {
        "id": "080d50fc"
      },
      "outputs": [],
      "source": [
        "import time\n",
        "import torch\n",
        "from torch.utils.data import DataLoader, TensorDataset\n",
        "import torch.nn as nn\n",
        "from tqdm import tqdm\n",
        "import pickle\n",
        "import random\n",
        "import numpy as np\n",
        "from collections import Counter, defaultdict\n",
        "import numpy as np\n",
        "from torch import FloatTensor as FT"
      ]
    },
    {
      "cell_type": "code",
      "execution_count": null,
      "id": "f5419c32",
      "metadata": {
        "id": "f5419c32"
      },
      "outputs": [],
      "source": []
    },
    {
      "cell_type": "markdown",
      "id": "66eb271d",
      "metadata": {
        "id": "66eb271d"
      },
      "source": [
        "### Instructions\n",
        "For this part, fill in the required code and make the notebook work. This wll be very similar to the Skip-Gram model, but a little more difficult. Look for the \"\"\" FILL IN \"\"\" string to guide you."
      ]
    },
    {
      "cell_type": "code",
      "execution_count": null,
      "id": "31b412ca",
      "metadata": {
        "id": "31b412ca"
      },
      "outputs": [],
      "source": [
        "# Where do I want to run my job. You can do \"cuda\" on linux machines\n",
        "DEVICE = \"mps\" if torch.backends.mps.is_available() else  \"cpu\"\n",
        "# DEVICE = \"cuda\" if torch.cuda.is_available() else  \"cpu\"\n",
        "\n",
        "# The batch size in Adam or SGD\n",
        "BATCH_SIZE = 512\n",
        "\n",
        "# Number of epochs\n",
        "NUM_EPOCHS = 10\n",
        "\n",
        "# Predict from 2 words the inner word for CBOW\n",
        "# I.e. I'll have a window like [\"a\", \"b\", \"c\"] of continuous text (each is a word)\n",
        "# We'll predict each of wc = [\"a\", \"c\"] from \"b\" = wc for Skip-Gram\n",
        "# For CBOW, we'll use [\"a\", \"c\"] to predict \"b\" = wo\n",
        "WINDOW = 1\n",
        "\n",
        "# Negative samples.\n",
        "K = 4"
      ]
    },
    {
      "cell_type": "code",
      "execution_count": null,
      "id": "e3311ae5",
      "metadata": {
        "id": "e3311ae5"
      },
      "outputs": [],
      "source": []
    },
    {
      "cell_type": "markdown",
      "id": "3ec9f90a",
      "metadata": {
        "id": "3ec9f90a"
      },
      "source": [
        "The text8 Wikipedia corpus. 100M characters."
      ]
    },
    {
      "cell_type": "code",
      "execution_count": null,
      "id": "3217b67b",
      "metadata": {
        "id": "3217b67b",
        "outputId": "f9b59c10-cfa3-4340-e241-0591a258aa17"
      },
      "outputs": [
        {
          "name": "stdout",
          "output_type": "stream",
          "text": [
            "100000000\n"
          ]
        }
      ],
      "source": [
        "from google.colab import drive\n",
        "drive.mount('/content/drive')\n",
        "\n",
        "!du -h text8\n",
        "\n",
        "f = open('/content/drive/MyDrive/text8/text8', 'r')\n",
        "text = f.read()\n",
        "# One big string of size 100M\n",
        "print(len(text))"
      ]
    },
    {
      "cell_type": "code",
      "execution_count": null,
      "id": "6c1bf892",
      "metadata": {
        "id": "6c1bf892"
      },
      "outputs": [],
      "source": [
        "punc = '!\"#$%&()*+,-./:;<=>?@[\\\\]^_\\'{|}~\\t\\n'\n",
        "\n",
        "# Can do regular expressions here too\n",
        "for c in punc:\n",
        "    if c in text:\n",
        "        text.replace(c, ' ')"
      ]
    },
    {
      "cell_type": "code",
      "execution_count": null,
      "id": "451bf3ab",
      "metadata": {
        "id": "451bf3ab"
      },
      "outputs": [],
      "source": []
    },
    {
      "cell_type": "code",
      "execution_count": null,
      "id": "0bc19b0c",
      "metadata": {
        "id": "0bc19b0c"
      },
      "outputs": [],
      "source": [
        "# A very crude tokenizer you get for free: lower case and also split on spaces\n",
        "# This will not work!\n",
        "# Split text on space and strip each word\n",
        "# You should get a list \"words\" which is text but each element is a word in order\n",
        "TOKENIZER = get_tokenizer(\"basic_english\")\n",
        "\"\"\" FILL IN \"\"\""
      ]
    },
    {
      "cell_type": "code",
      "execution_count": null,
      "id": "ff8fd598",
      "metadata": {
        "id": "ff8fd598"
      },
      "outputs": [],
      "source": [
        "words = TOKENIZER(text)\n",
        "f = Counter(words)\n",
        "# Fix the above\n",
        "\"\"\" FILL IN \"\"\""
      ]
    },
    {
      "cell_type": "code",
      "execution_count": null,
      "id": "ba7f72f8",
      "metadata": {
        "id": "ba7f72f8",
        "outputId": "cc86ab03-1f62-4bec-f360-915390768296"
      },
      "outputs": [
        {
          "data": {
            "text/plain": [
              "17005207"
            ]
          },
          "execution_count": 13,
          "metadata": {},
          "output_type": "execute_result"
        }
      ],
      "source": [
        "len(words)"
      ]
    },
    {
      "cell_type": "code",
      "execution_count": null,
      "id": "16b736a4",
      "metadata": {
        "id": "16b736a4"
      },
      "outputs": [],
      "source": [
        "# Do a very crude filter on the text which removes all very popular words\n",
        "text = [word for word in words if f[word] > 5]"
      ]
    },
    {
      "cell_type": "code",
      "execution_count": null,
      "id": "6916a763",
      "metadata": {
        "id": "6916a763",
        "outputId": "7e679f77-14b2-48d8-c5bb-12c65fde4ab4"
      },
      "outputs": [
        {
          "data": {
            "text/plain": [
              "['anarchism', 'originated', 'as', 'a', 'term']"
            ]
          },
          "execution_count": 15,
          "metadata": {},
          "output_type": "execute_result"
        }
      ],
      "source": [
        "text[0:5]"
      ]
    },
    {
      "cell_type": "code",
      "execution_count": null,
      "id": "10ad817a",
      "metadata": {
        "id": "10ad817a"
      },
      "outputs": [],
      "source": [
        "VOCAB = build_vocab_from_iterator([text])\n",
        "# Rebuild the vocabulary from text above\n",
        "\"\"\" FILL IN \"\"\""
      ]
    },
    {
      "cell_type": "code",
      "execution_count": null,
      "id": "a7f69fc9",
      "metadata": {
        "id": "a7f69fc9"
      },
      "outputs": [],
      "source": [
        "# Populate these maps manually using Counter or defaltdict\n",
        "# This will not work\n",
        "\"\"\" FILL IN \"\"\"\n",
        "\n",
        "# word -> int hash map\n",
        "stoi = VOCAB.get_stoi()\n",
        "# int -> word hash map\n",
        "itos = VOCAB.get_itos()"
      ]
    },
    {
      "cell_type": "code",
      "execution_count": null,
      "id": "9991f9ab",
      "metadata": {
        "id": "9991f9ab",
        "outputId": "f1085681-7a27-4a42-e2a6-169d0d9e0cd0"
      },
      "outputs": [
        {
          "data": {
            "text/plain": [
              "11"
            ]
          },
          "execution_count": 18,
          "metadata": {},
          "output_type": "execute_result"
        }
      ],
      "source": [
        "stoi['as']"
      ]
    },
    {
      "cell_type": "code",
      "execution_count": null,
      "id": "0f49f5fa",
      "metadata": {
        "id": "0f49f5fa",
        "outputId": "7e5b203c-2853-4b2c-cc89-dbe1001206ab"
      },
      "outputs": [
        {
          "data": {
            "text/plain": [
              "63641"
            ]
          },
          "execution_count": 19,
          "metadata": {},
          "output_type": "execute_result"
        }
      ],
      "source": [
        "# Total number of words; you should see about 63K as below\n",
        "len(stoi)"
      ]
    },
    {
      "cell_type": "code",
      "execution_count": null,
      "id": "6c5c415a",
      "metadata": {
        "id": "6c5c415a"
      },
      "outputs": [],
      "source": [
        "f = Counter(text)\n",
        "# This is the probability that we pick a word in the corpus\n",
        "z = {word: f[word] / len(text) for word in f}"
      ]
    },
    {
      "cell_type": "code",
      "execution_count": null,
      "id": "1e543e1e",
      "metadata": {
        "id": "1e543e1e"
      },
      "outputs": [],
      "source": [
        "threshold = 1e-5\n",
        "# Probability that word is kept while subsampling\n",
        "# This is explained here and sightly differet from the paper: http://mccormickml.com/2017/01/11/word2vec-tutorial-part-2-negative-sampling/\n",
        "p_keep = {word: (np.sqrt(z[word] / 0.001) + 1)*(0.0001 / z[word]) for word in f}"
      ]
    },
    {
      "cell_type": "code",
      "execution_count": null,
      "id": "dd22119d",
      "metadata": {
        "id": "dd22119d"
      },
      "outputs": [],
      "source": [
        "# This is in the integer space\n",
        "train_dataset = [word for word in text if random.random() < p_keep[word]]\n",
        "\n",
        "# Rebuild the vocabulary\n",
        "VOCAB = build_vocab_from_iterator([train_dataset])"
      ]
    },
    {
      "cell_type": "code",
      "execution_count": null,
      "id": "a2d695da",
      "metadata": {
        "id": "a2d695da",
        "outputId": "9bb0b54c-a8e1-4cbc-bdcb-c4b4b02cc651"
      },
      "outputs": [
        {
          "data": {
            "text/plain": [
              "7847755"
            ]
          },
          "execution_count": 27,
          "metadata": {},
          "output_type": "execute_result"
        }
      ],
      "source": [
        "len(train_dataset)"
      ]
    },
    {
      "cell_type": "code",
      "execution_count": null,
      "id": "30d67549",
      "metadata": {
        "id": "30d67549"
      },
      "outputs": [],
      "source": [
        "# Repopulate the stoi and itos maps again now that you dropped some words\n",
        "\"\"\" FILL IN \"\"\"\n",
        "# word -> int mapping\n",
        "stoi = VOCAB.get_stoi()\n",
        "# int -> word mapping\n",
        "itos = VOCAB.get_itos()"
      ]
    },
    {
      "cell_type": "code",
      "execution_count": null,
      "id": "b46337b8",
      "metadata": {
        "id": "b46337b8",
        "outputId": "e6099736-5401-4dbc-8908-64fb8babd6a1"
      },
      "outputs": [
        {
          "data": {
            "text/plain": [
              "63641"
            ]
          },
          "execution_count": 29,
          "metadata": {},
          "output_type": "execute_result"
        }
      ],
      "source": [
        "# The vocabulary size after we do all the filters\n",
        "len(VOCAB)"
      ]
    },
    {
      "cell_type": "code",
      "execution_count": null,
      "id": "c9346f36",
      "metadata": {
        "id": "c9346f36"
      },
      "outputs": [],
      "source": [
        "# The probability we draw something for negative sampling\n",
        "f = Counter(train_dataset)\n",
        "p = torch.zeros(len(VOCAB))\n",
        "\n",
        "# Downsample frequent words and upsample less frequent\n",
        "s = sum([np.power(freq, 0.75) for word, freq in f.items()])\n",
        "\n",
        "for word in f:\n",
        "    p[stoi[word]] = np.power(f[word], 0.75) / s"
      ]
    },
    {
      "cell_type": "code",
      "execution_count": null,
      "id": "dd713c15",
      "metadata": {
        "id": "dd713c15"
      },
      "outputs": [],
      "source": [
        "# Map everything to integers\n",
        "# This might not work be careful w the above ...\n",
        "train_dataset = [stoi[word] for word in text]"
      ]
    },
    {
      "cell_type": "code",
      "execution_count": null,
      "id": "8e96c0c4",
      "metadata": {
        "id": "8e96c0c4"
      },
      "outputs": [],
      "source": [
        "# This just gets the (wc, wo) pairs that are positive - they are seen together!\n",
        "def get_tokenized_dataset(dataset, verbose=False):\n",
        "    x_list = []\n",
        "\n",
        "    for i, token in enumerate(dataset):\n",
        "        m = 1\n",
        "\n",
        "        # Get the left and right tokens\n",
        "        start = \"\"\" FILL IN \"\"\"\n",
        "        left_tokens = \"\"\" FILL IN \"\"\"\n",
        "\n",
        "        end = \"\"\" FILL IN \"\"\"\n",
        "        right_tokens = \"\"\" FILL IN \"\"\"\n",
        "\n",
        "        # Check these are the same length, and if so use them to add a row of data. This should be a list like\n",
        "        # [a, c, b] where b is the center word\n",
        "        if len(left_tokens) == len(right_tokens):\n",
        "            w_context = \"\"\" FILL IN \"\"\"\n",
        "\n",
        "            wc = \"\"\" FILL IN \"\"\"\n",
        "\n",
        "            x_list.extend(\n",
        "                \"\"\" FILL IN \"\"\"\n",
        "            )\n",
        "\n",
        "    return x_list"
      ]
    },
    {
      "cell_type": "code",
      "execution_count": null,
      "id": "3eb82aad",
      "metadata": {
        "id": "3eb82aad"
      },
      "outputs": [],
      "source": [
        "train_x_list = get_tokenized_dataset(train_dataset, verbose=False)"
      ]
    },
    {
      "cell_type": "code",
      "execution_count": null,
      "id": "8412ee4d",
      "metadata": {
        "id": "8412ee4d"
      },
      "outputs": [],
      "source": [
        "pickle.dump(train_x_list, open('train_x_list.pkl', 'wb'))"
      ]
    },
    {
      "cell_type": "code",
      "execution_count": null,
      "id": "3fd54caf",
      "metadata": {
        "id": "3fd54caf"
      },
      "outputs": [],
      "source": [
        "train_x_list = pickle.load(open('train_x_list.pkl', 'rb'))"
      ]
    },
    {
      "cell_type": "code",
      "execution_count": null,
      "id": "576765f3",
      "metadata": {
        "id": "576765f3",
        "outputId": "920cd25e-b9f6-413d-b517-0aeaecac95e0"
      },
      "outputs": [
        {
          "data": {
            "text/plain": [
              "[[5233, 11, 3083],\n",
              " [3083, 6, 11],\n",
              " [11, 190, 6],\n",
              " [6, 1, 190],\n",
              " [190, 3133, 1],\n",
              " [1, 45, 3133],\n",
              " [3133, 59, 45],\n",
              " [45, 138, 59],\n",
              " [59, 134, 138],\n",
              " [138, 741, 134]]"
            ]
          },
          "execution_count": 101,
          "metadata": {},
          "output_type": "execute_result"
        }
      ],
      "source": [
        "# These are (wc, wo) pairs. All are y = +1 by design\n",
        "train_x_list[:10]"
      ]
    },
    {
      "cell_type": "code",
      "execution_count": null,
      "id": "316df1dc",
      "metadata": {
        "id": "316df1dc",
        "outputId": "b24f68fd-c8b3-4f4f-f187-6d93fbdb85fd"
      },
      "outputs": [
        {
          "data": {
            "text/plain": [
              "32579"
            ]
          },
          "execution_count": 102,
          "metadata": {},
          "output_type": "execute_result"
        }
      ],
      "source": [
        "# The number of things of BATCH_SIZE = 512\n",
        "assert(len(train_x_list) // BATCH_SIZE == 32579)"
      ]
    },
    {
      "cell_type": "code",
      "execution_count": null,
      "id": "8012d03d",
      "metadata": {
        "id": "8012d03d"
      },
      "outputs": [],
      "source": []
    },
    {
      "cell_type": "markdown",
      "id": "488c3519",
      "metadata": {
        "id": "488c3519"
      },
      "source": [
        "### Set up the dataloader."
      ]
    },
    {
      "cell_type": "code",
      "execution_count": null,
      "id": "2e31ae4b",
      "metadata": {
        "id": "2e31ae4b"
      },
      "outputs": [],
      "source": [
        "train_dl = DataLoader(\n",
        "    TensorDataset(\n",
        "        torch.tensor(train_x_list).to(DEVICE),\n",
        "    ),\n",
        "    batch_size=BATCH_SIZE,\n",
        "    shuffle=True\n",
        ")"
      ]
    },
    {
      "cell_type": "code",
      "execution_count": null,
      "id": "e9c42f50",
      "metadata": {
        "id": "e9c42f50"
      },
      "outputs": [],
      "source": [
        "for xb in train_dl:\n",
        "    assert(xb[0].shape == (BATCH_SIZE, 3))\n",
        "    break"
      ]
    },
    {
      "cell_type": "code",
      "execution_count": null,
      "id": "8c949153",
      "metadata": {
        "id": "8c949153"
      },
      "outputs": [],
      "source": []
    },
    {
      "cell_type": "markdown",
      "id": "12d93d22",
      "metadata": {
        "id": "12d93d22"
      },
      "source": [
        "### Words we'll use to asses the quality of the model ..."
      ]
    },
    {
      "cell_type": "code",
      "execution_count": null,
      "id": "ffada8d0",
      "metadata": {
        "id": "ffada8d0"
      },
      "outputs": [],
      "source": [
        "valid_ids = torch.tensor([\n",
        "    stoi['money'],\n",
        "    stoi['lion'],\n",
        "    stoi['africa'],\n",
        "    stoi['musician'],\n",
        "    stoi['dance'],\n",
        "])"
      ]
    },
    {
      "cell_type": "code",
      "execution_count": null,
      "id": "867d3a88",
      "metadata": {
        "id": "867d3a88"
      },
      "outputs": [],
      "source": []
    },
    {
      "cell_type": "markdown",
      "id": "64096cd8",
      "metadata": {
        "id": "64096cd8"
      },
      "source": [
        "### Get the model."
      ]
    },
    {
      "cell_type": "code",
      "execution_count": null,
      "id": "dc51c359",
      "metadata": {
        "id": "dc51c359"
      },
      "outputs": [],
      "source": [
        "class CBOWNegativeSampling(nn.Module):\n",
        "    def __init__(self, vocab_size, embed_dim):\n",
        "        super(CBOWNegativeSampling, self).__init__()\n",
        "        self.A = \"\"\" FILL IN \"\"\" # Context vectors - center word\n",
        "        self.B = \"\"\" FILL IN \"\"\" # Output vectors - words around the center word\n",
        "        self.init_weights()\n",
        "\n",
        "    def init_weights(self):\n",
        "        # Is this the best way? Not sure\n",
        "        initrange = 0.5\n",
        "        self.A.weight.data.uniform_(-initrange, initrange)\n",
        "        self.B.weight.data.uniform_(-initrange, initrange)\n",
        "\n",
        "    def forward(self, x):\n",
        "        # N is the batch size\n",
        "        # x is (N, 3)\n",
        "\n",
        "        # Context words are 2m things, m = 1 so w_context is (N, 2) while wc is (N, 1)\n",
        "        w_context, wc = \"\"\" FILL IN \"\"\"\n",
        "\n",
        "        # Each of these is (N, 2, D) since each context has 2 word\n",
        "        # We want this to be (N, D) and this is what we get\n",
        "\n",
        "        # (N, 2, D)\n",
        "        a = \"\"\" FILL IN \"\"\"\n",
        "\n",
        "        # (N, D)\n",
        "        a_avg = \"\"\" FILL IN \"\"\"\n",
        "\n",
        "        # Each of these is (N, D) since each target has 1 word\n",
        "        b = \"\"\" FILL IN \"\"\"\n",
        "\n",
        "        # The product between each context and target vector. Look at the Skip-Gram code.\n",
        "        # The logits is now (N, 1) since we sum across the final dimension.\n",
        "        logits = \"\"\" FILL IN \"\"\"\n",
        "\n",
        "        return logits"
      ]
    },
    {
      "cell_type": "code",
      "execution_count": null,
      "id": "7ae817c1",
      "metadata": {
        "id": "7ae817c1"
      },
      "outputs": [],
      "source": []
    },
    {
      "cell_type": "code",
      "execution_count": null,
      "id": "ed9c509d",
      "metadata": {
        "id": "ed9c509d"
      },
      "outputs": [],
      "source": [
        "@torch.no_grad()\n",
        "def validate_embeddings(\n",
        "    model,\n",
        "    valid_ids,\n",
        "    itos\n",
        "):\n",
        "    \"\"\" Validation logic \"\"\"\n",
        "\n",
        "    # We will use context embeddings to get the most similar words\n",
        "    # Other strategies include: using target embeddings, mean embeddings after avaraging context/target\n",
        "    embedding_weights = model.A.weight\n",
        "\n",
        "    normalized_embeddings = embedding_weights.cpu() / np.sqrt(\n",
        "        np.sum(embedding_weights.cpu().numpy()**2, axis=1, keepdims=True)\n",
        "    )\n",
        "\n",
        "    # Get the embeddings corresponding to valid_term_ids\n",
        "    valid_embeddings = normalized_embeddings[valid_ids, :]\n",
        "\n",
        "    # Compute the similarity between valid_term_ids (S) and all the embeddings (V)\n",
        "    # We do S x d (d x V) => S x D and sort by negative similarity\n",
        "    top_k = 10 # Top k items will be displayed\n",
        "    similarity = np.dot(valid_embeddings.cpu().numpy(), normalized_embeddings.cpu().numpy().T)\n",
        "\n",
        "    # Invert similarity matrix to negative\n",
        "    # Ignore the first one because that would be the same word as the probe word\n",
        "    similarity_top_k = np.argsort(-similarity, axis=1)[:, 1: top_k+1]\n",
        "\n",
        "    # Print the output.\n",
        "    for i, word_id in enumerate(valid_ids):\n",
        "        # j >= 1 here since we don't want to include the word itself.\n",
        "        similar_word_str = ', '.join([itos[j] for j in similarity_top_k[i, :] if j >= 1])\n",
        "        # This might need a fix!\n",
        "        print(f\"{itos[word_id]}: {similar_word_str}\")\n",
        "\n",
        "    print('\\n')"
      ]
    },
    {
      "cell_type": "code",
      "execution_count": null,
      "id": "b0c194b8",
      "metadata": {
        "id": "b0c194b8"
      },
      "outputs": [],
      "source": []
    },
    {
      "cell_type": "markdown",
      "id": "3b3c6ed5",
      "metadata": {
        "id": "3b3c6ed5"
      },
      "source": [
        "### Set up the model"
      ]
    },
    {
      "cell_type": "code",
      "execution_count": null,
      "id": "16da95d1",
      "metadata": {
        "id": "16da95d1"
      },
      "outputs": [],
      "source": [
        "LR = 10.0\n",
        "NUM_EPOCHS = 10\n",
        "EMBED_DIM = 300"
      ]
    },
    {
      "cell_type": "code",
      "execution_count": null,
      "id": "cef585f4",
      "metadata": {
        "id": "cef585f4"
      },
      "outputs": [],
      "source": [
        "model = CBOWNegativeSampling(len(VOCAB), EMBED_DIM).to(DEVICE)\n",
        "optimizer = torch.optim.SGD(model.parameters(), lr=LR)\n",
        "\n",
        "# The learning rate is lowered every epoch by 1/10\n",
        "# Is this a good idea?\n",
        "scheduler = torch.optim.lr_scheduler.StepLR(optimizer, 1, gamma=0.1)"
      ]
    },
    {
      "cell_type": "code",
      "execution_count": null,
      "id": "f8a642bf",
      "metadata": {
        "id": "f8a642bf"
      },
      "outputs": [],
      "source": [
        "model"
      ]
    },
    {
      "cell_type": "code",
      "execution_count": null,
      "id": "85773616",
      "metadata": {
        "id": "85773616"
      },
      "outputs": [],
      "source": [
        "validate_embeddings(model, valid_ids, itos)"
      ]
    },
    {
      "cell_type": "code",
      "execution_count": null,
      "id": "66075f5e",
      "metadata": {
        "id": "66075f5e"
      },
      "outputs": [],
      "source": []
    },
    {
      "cell_type": "markdown",
      "id": "86476e2a",
      "metadata": {
        "id": "86476e2a"
      },
      "source": [
        "### Train the model"
      ]
    },
    {
      "cell_type": "code",
      "execution_count": null,
      "id": "24950481",
      "metadata": {
        "id": "24950481"
      },
      "outputs": [],
      "source": [
        "ratios = []\n",
        "\n",
        "def train(dataloader, model, optimizer, epoch):\n",
        "    model.train()\n",
        "    total_acc, total_count, total_loss, total_batches = 0, 0, 0.0, 0.0\n",
        "    log_interval = 500\n",
        "\n",
        "    for idx, x_batch in tqdm(enumerate(dataloader)):\n",
        "\n",
        "        x_batch = x_batch[0]\n",
        "\n",
        "        batch_size = x_batch.shape[0]\n",
        "\n",
        "        # Zero the gradient so they don't accumulate\n",
        "        \"\"\" FILL IN \"\"\"\n",
        "\n",
        "        logits = model(x_batch)\n",
        "\n",
        "        # Get the positive samples loss. Notice we use weights here\n",
        "        positive_loss = \"\"\" FILL IN \"\"\"\n",
        "\n",
        "        # For each batch, get some negative samples\n",
        "        # We need a total of len(y_batch) * K samples across a batch\n",
        "        # We then reshape this batch\n",
        "        # These are effectively the output words\n",
        "        negative_samples = \"\"\" FILL IN \"\"\"\n",
        "\n",
        "        # Context words are 2m things, m = 1 so w_context is (N, 2) while wc is (N, 1)\n",
        "        w_context, wc = \"\"\" FILL IN \"\"\"\n",
        "\n",
        "        \"\"\"\n",
        "        if w_context looks like below (batch_size = 3)\n",
        "        [\n",
        "        (a, b),\n",
        "        (c, d),\n",
        "        (e, f)\n",
        "        ] and K = 2 we'd like to get:\n",
        "\n",
        "        [\n",
        "        (a, b),\n",
        "        (a, b),\n",
        "        (c, d),\n",
        "        (c, d),\n",
        "        (e, f),\n",
        "        (e, f)\n",
        "        ]\n",
        "\n",
        "        This will be batch_size * K rows.\n",
        "        \"\"\"\n",
        "\n",
        "        # This should be (N * K, 2)\n",
        "        w_context = torch.concat([\n",
        "            w.repeat(K, 1) for w in torch.tensor(w_context).split(1)\n",
        "        ])\n",
        "\n",
        "        # Remove the last dimension 1\n",
        "        wc = \"\"\" FILL IN \"\"\"\n",
        "\n",
        "        # Get the negative samples. This should be (N * K, 3)\n",
        "        # Concatenate the w_context and wc along the column. Make sure everything is on CUDA / MPS or CPU\n",
        "        x_batch_negative = \"\"\" FILL IN \"\"\"\n",
        "\n",
        "        \"\"\"\n",
        "        Note the way we formulated the targets: they are all 0 since these are negative samples.\n",
        "        We do the BCEWithLogitsLoss by hand basically here.\n",
        "        Notice we sum across the negative samples, per positive word.\n",
        "\n",
        "        This is literally the equation in the lecture notes.\n",
        "        \"\"\"\n",
        "\n",
        "        # (N, K, D) -> (N, D) -> (N)\n",
        "        # Look at the Skip-Gram notebook\n",
        "        negative_loss = \"\"\" FILL IN \"\"\"\n",
        "\n",
        "        loss = \"\"\" FILL IN \"\"\"\n",
        "\n",
        "        # Get the gradients via back propagation\n",
        "        \"\"\" FILL IN \"\"\"\n",
        "\n",
        "        # Clip the gradients? Generally a good idea\n",
        "        torch.nn.utils.clip_grad_norm_(model.parameters(), 0.1)\n",
        "\n",
        "\n",
        "        # Do an optimization step. Update the parameters A and B\n",
        "        \"\"\" FILL IN \"\"\"\n",
        "\n",
        "        # Get the new loss\n",
        "        total_loss += \"\"\" FILL IN \"\"\"\n",
        "\n",
        "        # Update the batch count\n",
        "        total_batches += \"\"\" FILL IN \"\"\"\n",
        "\n",
        "        if idx % log_interval == 0:\n",
        "            print(\n",
        "                \"| epoch {:3d} | {:5d}/{:5d} batches \"\n",
        "                \"| loss {:8.3f} \".format(\n",
        "                    epoch,\n",
        "                    idx,\n",
        "                    len(dataloader),\n",
        "                    total_loss / total_batches\n",
        "                )\n",
        "            )\n",
        "            validate_embeddings(model, valid_ids, itos)\n",
        "            total_loss, total_batches = 0.0, 0.0"
      ]
    },
    {
      "cell_type": "markdown",
      "id": "0764d675",
      "metadata": {
        "id": "0764d675"
      },
      "source": [
        "### Some results from the run look like below:\n",
        "\n",
        "Somewhere inside of 2 iterations you should get sensible associattions.\n",
        "Paste here a screenshot of the closest vectors."
      ]
    },
    {
      "cell_type": "code",
      "execution_count": null,
      "id": "a9e02c09",
      "metadata": {
        "id": "a9e02c09",
        "outputId": "42656713-6543-42c8-a988-2579c132e973"
      },
      "outputs": [
        {
          "name": "stderr",
          "output_type": "stream",
          "text": [
            "0it [00:00, ?it/s]/var/folders/x8/2_vxppc52znb82mg86nv4y000000gn/T/ipykernel_9301/3264625997.py:52: UserWarning: To copy construct from a tensor, it is recommended to use sourceTensor.clone().detach() or sourceTensor.clone().detach().requires_grad_(True), rather than torch.tensor(sourceTensor).\n",
            "  w.repeat(K, 1) for w in torch.tensor(w_context).split(1)\n",
            "1it [00:00,  2.46it/s]"
          ]
        },
        {
          "name": "stdout",
          "output_type": "stream",
          "text": [
            "| epoch   1 |     0/32580 batches | loss    4.027 \n",
            "money: coyotes, furtado, flanking, managed, infogrames, startrek, reyna, damian, larry, pseudonyms\n",
            "lion: aksai, dumpster, interpolation, mixture, rale, sabor, aphasia, prokaryotes, gametophyte, urology\n",
            "africa: virginian, wendish, caryophyllales, electricity, warlike, swamp, bombay, catechisms, surrealistic, jacques\n",
            "musician: lothal, exponent, orsay, awami, screwed, aedui, vassalage, smalltalk, padova, ivo\n",
            "dance: akhmatova, monty, chunk, bofors, desqview, nephew, emitter, quaternary, recombination, strasser\n",
            "\n",
            "\n"
          ]
        },
        {
          "name": "stderr",
          "output_type": "stream",
          "text": [
            "501it [01:11,  6.33it/s]"
          ]
        },
        {
          "name": "stdout",
          "output_type": "stream",
          "text": [
            "| epoch   1 |   500/32580 batches | loss    3.719 \n",
            "money: coyotes, furtado, flanking, managed, infogrames, startrek, reyna, damian, larry, speedway\n",
            "lion: aksai, dumpster, interpolation, mixture, rale, sabor, aphasia, prokaryotes, gametophyte, urology\n",
            "africa: virginian, wendish, caryophyllales, bombay, jacques, electricity, warlike, inactivation, surrealistic, catechisms\n",
            "musician: lothal, exponent, orsay, awami, screwed, vassalage, aedui, smalltalk, padova, gatt\n",
            "dance: akhmatova, monty, bofors, chunk, desqview, nephew, emitter, quaternary, recombination, strasser\n",
            "\n",
            "\n"
          ]
        },
        {
          "name": "stderr",
          "output_type": "stream",
          "text": [
            "1001it [02:21,  6.29it/s]"
          ]
        },
        {
          "name": "stdout",
          "output_type": "stream",
          "text": [
            "| epoch   1 |  1000/32580 batches | loss    3.363 \n",
            "money: coyotes, furtado, flanking, managed, reyna, infogrames, startrek, damian, speedway, airfields\n",
            "lion: aksai, dumpster, mixture, interpolation, rale, sabor, gametophyte, prokaryotes, aphasia, urology\n",
            "africa: virginian, bombay, wendish, caryophyllales, jacques, electricity, warlike, inactivation, surrealistic, catechisms\n",
            "musician: lothal, exponent, orsay, awami, screwed, vassalage, smalltalk, aedui, padova, gatt\n",
            "dance: akhmatova, monty, chunk, bofors, desqview, nephew, emitter, quaternary, recombination, strasser\n",
            "\n",
            "\n"
          ]
        },
        {
          "name": "stderr",
          "output_type": "stream",
          "text": [
            "1501it [03:33,  6.20it/s]"
          ]
        },
        {
          "name": "stdout",
          "output_type": "stream",
          "text": [
            "| epoch   1 |  1500/32580 batches | loss    2.968 \n",
            "money: coyotes, furtado, flanking, managed, reyna, infogrames, startrek, damian, speedway, larry\n",
            "lion: aksai, dumpster, mixture, interpolation, sabor, rale, gametophyte, prokaryotes, aphasia, krishnamurti\n",
            "africa: virginian, bombay, jacques, caryophyllales, wendish, electricity, inactivation, warlike, surrealistic, beckwith\n",
            "musician: lothal, orsay, exponent, awami, vassalage, smalltalk, vestibule, felicity, coherentism, padova\n",
            "dance: akhmatova, chunk, monty, bofors, desqview, emitter, nephew, quaternary, recombination, strasser\n",
            "\n",
            "\n"
          ]
        },
        {
          "name": "stderr",
          "output_type": "stream",
          "text": [
            "2001it [04:43,  6.10it/s]"
          ]
        },
        {
          "name": "stdout",
          "output_type": "stream",
          "text": [
            "| epoch   1 |  2000/32580 batches | loss    2.679 \n",
            "money: coyotes, furtado, flanking, managed, infogrames, reyna, damian, startrek, speedway, airfields\n",
            "lion: aksai, dumpster, mixture, interpolation, sabor, gametophyte, rale, prokaryotes, aphasia, krishnamurti\n",
            "africa: bombay, jacques, virginian, caryophyllales, electricity, wendish, warlike, inactivation, late, through\n",
            "musician: lothal, orsay, exponent, awami, coherentism, vassalage, vestibule, felicity, antonia, hughes\n",
            "dance: akhmatova, monty, chunk, bofors, emitter, nephew, desqview, quaternary, recombination, strasser\n",
            "\n",
            "\n"
          ]
        },
        {
          "name": "stderr",
          "output_type": "stream",
          "text": [
            "2501it [05:55,  6.19it/s]"
          ]
        },
        {
          "name": "stdout",
          "output_type": "stream",
          "text": [
            "| epoch   1 |  2500/32580 batches | loss    2.526 \n",
            "money: coyotes, flanking, managed, furtado, damian, infogrames, larry, airfields, reyna, startrek\n",
            "lion: aksai, dumpster, mixture, sabor, interpolation, gametophyte, prokaryotes, krishnamurti, rale, aphasia\n",
            "africa: also, an, through, bombay, jacques, which, virginian, time, people, john\n",
            "musician: lothal, orsay, exponent, awami, coherentism, vestibule, vassalage, felicity, hughes, antonia\n",
            "dance: akhmatova, monty, bofors, chunk, emitter, nephew, desqview, quaternary, recombination, rearwards\n",
            "\n",
            "\n"
          ]
        },
        {
          "name": "stderr",
          "output_type": "stream",
          "text": [
            "3001it [07:05,  6.32it/s]"
          ]
        },
        {
          "name": "stdout",
          "output_type": "stream",
          "text": [
            "| epoch   1 |  3000/32580 batches | loss    2.439 \n",
            "money: coyotes, flanking, managed, furtado, damian, their, airfields, larry, infogrames, speedway\n",
            "lion: aksai, dumpster, mixture, sabor, interpolation, gametophyte, prokaryotes, krishnamurti, rale, spun\n",
            "africa: also, which, one, used, people, an, two, through, time, it\n",
            "musician: lothal, orsay, exponent, vestibule, awami, coherentism, vassalage, hughes, felicity, angled\n",
            "dance: akhmatova, monty, bofors, chunk, nephew, emitter, quaternary, desqview, recombination, westenra\n",
            "\n",
            "\n"
          ]
        },
        {
          "name": "stderr",
          "output_type": "stream",
          "text": [
            "3501it [08:16,  6.28it/s]"
          ]
        },
        {
          "name": "stdout",
          "output_type": "stream",
          "text": [
            "| epoch   1 |  3500/32580 batches | loss    2.342 \n",
            "money: coyotes, managed, flanking, furtado, damian, their, larry, speedway, airfields, infogrames\n",
            "lion: aksai, dumpster, mixture, sabor, prokaryotes, interpolation, gametophyte, krishnamurti, spun, disciplining\n",
            "africa: also, an, people, used, one, which, time, seven, that, john\n",
            "musician: lothal, orsay, vestibule, exponent, awami, coherentism, vassalage, hughes, rest, make\n",
            "dance: akhmatova, monty, bofors, chunk, nephew, emitter, desqview, quaternary, range, recombination\n",
            "\n",
            "\n"
          ]
        },
        {
          "name": "stderr",
          "output_type": "stream",
          "text": [
            "4001it [09:26,  6.23it/s]"
          ]
        },
        {
          "name": "stdout",
          "output_type": "stream",
          "text": [
            "| epoch   1 |  4000/32580 batches | loss    2.305 \n",
            "money: coyotes, their, managed, flanking, damian, furtado, larry, airfields, speedway, an\n",
            "lion: aksai, dumpster, mixture, sabor, gametophyte, prokaryotes, interpolation, krishnamurti, aphasia, disciplining\n",
            "africa: also, used, time, which, an, people, one, seven, five, john\n",
            "musician: lothal, orsay, vestibule, exponent, make, hughes, like, rest, coherentism, awami\n",
            "dance: akhmatova, bofors, monty, chunk, nephew, emitter, quaternary, range, desqview, recombination\n",
            "\n",
            "\n"
          ]
        },
        {
          "name": "stderr",
          "output_type": "stream",
          "text": [
            "4501it [10:36,  6.26it/s]"
          ]
        },
        {
          "name": "stdout",
          "output_type": "stream",
          "text": [
            "| epoch   1 |  4500/32580 batches | loss    2.220 \n",
            "money: their, coyotes, managed, an, flanking, sea, damian, larry, other, furtado\n",
            "lion: aksai, dumpster, mixture, sabor, gametophyte, interpolation, prokaryotes, spun, krishnamurti, aphasia\n",
            "africa: also, which, time, used, an, people, one, through, five, two\n",
            "musician: lothal, orsay, like, vestibule, make, war, hughes, exponent, rest, removal\n",
            "dance: akhmatova, range, bofors, chunk, nephew, emitter, names, monty, strasser, rearwards\n",
            "\n",
            "\n"
          ]
        },
        {
          "name": "stderr",
          "output_type": "stream",
          "text": [
            "5001it [11:46,  6.26it/s]"
          ]
        },
        {
          "name": "stdout",
          "output_type": "stream",
          "text": [
            "| epoch   1 |  5000/32580 batches | loss    2.113 \n",
            "money: their, an, managed, sea, only, coyotes, other, many, flanking, known\n",
            "lion: aksai, dumpster, mixture, sabor, gametophyte, interpolation, spun, prokaryotes, disciplining, krishnamurti\n",
            "africa: also, used, time, which, people, three, two, seven, four, five\n",
            "musician: lothal, orsay, war, country, make, rest, vestibule, group, like, hughes\n",
            "dance: range, akhmatova, names, nephew, bofors, emitter, chunk, programming, rearwards, among\n",
            "\n",
            "\n"
          ]
        },
        {
          "name": "stderr",
          "output_type": "stream",
          "text": [
            "5501it [12:57,  6.31it/s]"
          ]
        },
        {
          "name": "stdout",
          "output_type": "stream",
          "text": [
            "| epoch   1 |  5500/32580 batches | loss    2.080 \n",
            "money: their, an, other, sea, only, many, managed, known, there, it\n",
            "lion: aksai, dumpster, mixture, gametophyte, sabor, spun, interpolation, prokaryotes, disciplining, discussed\n",
            "africa: also, used, time, people, which, five, three, four, seven, one\n",
            "musician: war, lothal, like, group, north, make, country, people, orsay, south\n",
            "dance: range, names, nephew, akhmatova, among, bofors, others, emitter, hundreds, chunk\n",
            "\n",
            "\n"
          ]
        },
        {
          "name": "stderr",
          "output_type": "stream",
          "text": [
            "6001it [14:07,  6.28it/s]"
          ]
        },
        {
          "name": "stdout",
          "output_type": "stream",
          "text": [
            "| epoch   1 |  6000/32580 batches | loss    2.053 \n",
            "money: their, only, an, many, there, other, known, it, sea, managed\n",
            "lion: aksai, dumpster, mixture, gametophyte, sabor, prokaryotes, spun, interpolation, disciplining, discussed\n",
            "africa: also, used, time, people, which, four, five, two, three, one\n",
            "musician: war, group, like, lothal, make, people, north, country, south, orsay\n",
            "dance: range, names, others, among, much, hundreds, nephew, other, bofors, akhmatova\n",
            "\n",
            "\n"
          ]
        },
        {
          "name": "stderr",
          "output_type": "stream",
          "text": [
            "6501it [15:18,  6.16it/s]"
          ]
        },
        {
          "name": "stdout",
          "output_type": "stream",
          "text": [
            "| epoch   1 |  6500/32580 batches | loss    1.983 \n",
            "money: their, many, only, there, known, other, all, which, it, usually\n",
            "lion: aksai, mixture, dumpster, gametophyte, sabor, prokaryotes, spun, discussed, disciplining, krishnamurti\n",
            "africa: time, used, also, people, four, which, two, often, three, through\n",
            "musician: war, north, group, like, make, south, country, people, lothal, league\n",
            "dance: range, among, others, names, hundreds, much, nephew, other, british, bofors\n",
            "\n",
            "\n"
          ]
        },
        {
          "name": "stderr",
          "output_type": "stream",
          "text": [
            "7001it [16:29,  6.22it/s]"
          ]
        },
        {
          "name": "stdout",
          "output_type": "stream",
          "text": [
            "| epoch   1 |  7000/32580 batches | loss    2.010 \n",
            "money: there, their, only, many, known, it, all, which, usually, most\n",
            "lion: aksai, dumpster, mixture, spun, gametophyte, prokaryotes, discussed, disciplining, sabor, krishnamurti\n",
            "africa: time, people, used, also, four, seven, often, five, three, one\n",
            "musician: north, group, war, like, country, south, make, people, lothal, rest\n",
            "dance: range, among, others, much, names, other, hundreds, british, line, career\n",
            "\n",
            "\n"
          ]
        },
        {
          "name": "stderr",
          "output_type": "stream",
          "text": [
            "7501it [17:41,  6.21it/s]"
          ]
        },
        {
          "name": "stdout",
          "output_type": "stream",
          "text": [
            "| epoch   1 |  7500/32580 batches | loss    1.959 \n",
            "money: only, there, known, their, many, it, then, usually, which, all\n",
            "lion: aksai, mixture, dumpster, spun, gametophyte, discussed, prokaryotes, disciplining, met, sabor\n",
            "africa: people, four, time, used, often, seven, one, also, five, three\n",
            "musician: group, war, north, like, country, south, make, rest, people, eastern\n",
            "dance: range, others, among, other, names, much, hundreds, line, british, career\n",
            "\n",
            "\n"
          ]
        },
        {
          "name": "stderr",
          "output_type": "stream",
          "text": [
            "8001it [18:53,  6.15it/s]"
          ]
        },
        {
          "name": "stdout",
          "output_type": "stream",
          "text": [
            "| epoch   1 |  8000/32580 batches | loss    1.891 \n",
            "money: there, only, known, it, many, usually, use, all, then, their\n",
            "lion: aksai, mixture, dumpster, spun, discussed, met, gametophyte, prokaryotes, disciplining, sabor\n",
            "africa: time, people, four, used, seven, three, often, nine, also, one\n",
            "musician: group, war, north, like, south, country, culture, rest, people, eastern\n",
            "dance: range, among, others, other, names, much, british, hundreds, same, line\n",
            "\n",
            "\n"
          ]
        },
        {
          "name": "stderr",
          "output_type": "stream",
          "text": [
            "8501it [20:05,  6.16it/s]"
          ]
        },
        {
          "name": "stdout",
          "output_type": "stream",
          "text": [
            "| epoch   1 |  8500/32580 batches | loss    1.896 \n",
            "money: only, there, known, use, all, then, usually, it, many, well\n",
            "lion: aksai, mixture, dumpster, spun, discussed, gametophyte, met, prokaryotes, disciplining, sabor\n",
            "africa: time, people, used, four, seven, nine, three, often, five, which\n",
            "musician: group, north, war, south, like, country, eastern, culture, rest, based\n",
            "dance: range, other, others, among, names, much, british, hundreds, same, terms\n",
            "\n",
            "\n"
          ]
        },
        {
          "name": "stderr",
          "output_type": "stream",
          "text": [
            "9001it [21:17,  6.19it/s]"
          ]
        },
        {
          "name": "stdout",
          "output_type": "stream",
          "text": [
            "| epoch   1 |  9000/32580 batches | loss    1.884 \n",
            "money: only, there, use, all, known, then, usually, well, god, death\n",
            "lion: aksai, mixture, dumpster, discussed, spun, met, gametophyte, prokaryotes, disciplining, sabor\n",
            "africa: time, people, four, seven, used, nine, often, three, five, history\n",
            "musician: group, north, war, south, culture, country, eastern, like, rest, based\n",
            "dance: range, other, others, names, among, much, hundreds, british, terms, latter\n",
            "\n",
            "\n"
          ]
        },
        {
          "name": "stderr",
          "output_type": "stream",
          "text": [
            "9501it [22:28,  6.29it/s]"
          ]
        },
        {
          "name": "stdout",
          "output_type": "stream",
          "text": [
            "| epoch   1 |  9500/32580 batches | loss    1.870 \n",
            "money: only, there, known, use, usually, all, well, death, god, people\n",
            "lion: aksai, mixture, dumpster, discussed, met, spun, gametophyte, disciplining, prokaryotes, sabor\n",
            "africa: time, people, used, four, seven, nine, five, three, which, use\n",
            "musician: group, north, war, south, culture, eastern, country, rest, led, like\n",
            "dance: range, other, others, names, terms, among, hundreds, british, space, much\n",
            "\n",
            "\n"
          ]
        },
        {
          "name": "stderr",
          "output_type": "stream",
          "text": [
            "10002it [23:39,  6.49it/s]"
          ]
        },
        {
          "name": "stdout",
          "output_type": "stream",
          "text": [
            "| epoch   1 | 10000/32580 batches | loss    1.866 \n",
            "money: only, use, known, there, usually, death, then, well, god, all\n",
            "lion: aksai, mixture, dumpster, met, discussed, gametophyte, spun, disciplining, prokaryotes, sabor\n",
            "africa: four, seven, time, used, people, five, nine, three, history, university\n",
            "musician: group, north, war, culture, eastern, south, country, rest, led, league\n",
            "dance: range, others, other, names, terms, british, space, among, hundreds, version\n",
            "\n",
            "\n"
          ]
        },
        {
          "name": "stderr",
          "output_type": "stream",
          "text": [
            "10501it [24:49,  6.23it/s]"
          ]
        },
        {
          "name": "stdout",
          "output_type": "stream",
          "text": [
            "| epoch   1 | 10500/32580 batches | loss    1.858 \n",
            "money: known, use, death, usually, only, god, support, there, well, all\n",
            "lion: aksai, mixture, met, dumpster, discussed, spun, gametophyte, disciplining, prokaryotes, czech\n",
            "africa: four, seven, time, nine, five, used, history, people, university, three\n",
            "musician: group, north, war, eastern, culture, south, rest, country, led, like\n",
            "dance: range, others, other, names, terms, british, space, hundreds, version, among\n",
            "\n",
            "\n"
          ]
        },
        {
          "name": "stderr",
          "output_type": "stream",
          "text": [
            "11001it [26:01,  6.21it/s]"
          ]
        },
        {
          "name": "stdout",
          "output_type": "stream",
          "text": [
            "| epoch   1 | 11000/32580 batches | loss    1.840 \n",
            "money: known, death, use, usually, god, then, well, all, people, support\n",
            "lion: mixture, aksai, met, dumpster, discussed, spun, gametophyte, disciplining, prokaryotes, sabor\n",
            "africa: four, seven, used, nine, history, five, time, university, north, people\n",
            "musician: group, north, eastern, war, culture, south, rest, country, led, like\n",
            "dance: range, others, names, other, terms, space, british, end, among, hundreds\n",
            "\n",
            "\n"
          ]
        },
        {
          "name": "stderr",
          "output_type": "stream",
          "text": [
            "11501it [27:12,  6.28it/s]"
          ]
        },
        {
          "name": "stdout",
          "output_type": "stream",
          "text": [
            "| epoch   1 | 11500/32580 batches | loss    1.776 \n",
            "money: use, death, known, god, support, usually, people, well, list, then\n",
            "lion: aksai, mixture, met, discussed, dumpster, spun, gametophyte, prokaryotes, disciplining, czech\n",
            "africa: four, seven, nine, five, used, america, time, history, three, north\n",
            "musician: north, group, eastern, culture, war, rest, south, country, league, led\n",
            "dance: range, others, names, other, terms, space, end, hundreds, british, version\n",
            "\n",
            "\n"
          ]
        },
        {
          "name": "stderr",
          "output_type": "stream",
          "text": [
            "12001it [28:23,  6.18it/s]"
          ]
        },
        {
          "name": "stdout",
          "output_type": "stream",
          "text": [
            "| epoch   1 | 12000/32580 batches | loss    1.767 \n",
            "money: use, death, god, known, support, well, list, only, people, then\n",
            "lion: mixture, aksai, met, discussed, dumpster, spun, prokaryotes, disciplining, gametophyte, czech\n",
            "africa: four, seven, america, history, nine, used, five, time, north, three\n",
            "musician: north, culture, eastern, group, rest, war, south, led, country, league\n",
            "dance: range, others, other, end, names, british, terms, list, line, among\n",
            "\n",
            "\n"
          ]
        },
        {
          "name": "stderr",
          "output_type": "stream",
          "text": [
            "12501it [29:33,  6.24it/s]"
          ]
        },
        {
          "name": "stdout",
          "output_type": "stream",
          "text": [
            "| epoch   1 | 12500/32580 batches | loss    1.722 \n",
            "money: use, death, god, support, known, well, list, people, work, example\n",
            "lion: mixture, aksai, met, discussed, dumpster, spun, prokaryotes, disciplining, gametophyte, sabor\n",
            "africa: seven, america, four, five, nine, history, used, time, north, three\n",
            "musician: group, north, culture, war, eastern, country, rest, south, led, people\n",
            "dance: range, others, other, names, end, terms, line, list, british, version\n",
            "\n",
            "\n"
          ]
        },
        {
          "name": "stderr",
          "output_type": "stream",
          "text": [
            "13001it [30:44,  6.16it/s]"
          ]
        },
        {
          "name": "stdout",
          "output_type": "stream",
          "text": [
            "| epoch   1 | 13000/32580 batches | loss    1.751 \n",
            "money: use, death, god, support, known, usually, list, well, work, then\n",
            "lion: mixture, aksai, met, discussed, dumpster, spun, disciplining, prokaryotes, gametophyte, included\n",
            "africa: america, seven, five, four, north, history, nine, three, area, end\n",
            "musician: north, group, war, culture, eastern, south, country, rest, league, led\n",
            "dance: range, others, other, names, end, terms, line, list, space, united\n",
            "\n",
            "\n"
          ]
        },
        {
          "name": "stderr",
          "output_type": "stream",
          "text": [
            "13501it [31:55,  6.13it/s]"
          ]
        },
        {
          "name": "stdout",
          "output_type": "stream",
          "text": [
            "| epoch   1 | 13500/32580 batches | loss    1.713 \n",
            "money: use, death, support, god, known, list, usually, work, example, well\n",
            "lion: mixture, aksai, met, discussed, dumpster, spun, prokaryotes, abuse, disciplining, gametophyte\n",
            "africa: america, seven, five, north, history, end, nine, area, eight, late\n",
            "musician: north, group, war, culture, south, eastern, country, led, people, league\n",
            "dance: range, other, others, end, terms, list, names, line, united, last\n",
            "\n",
            "\n"
          ]
        },
        {
          "name": "stderr",
          "output_type": "stream",
          "text": [
            "14001it [33:06,  6.20it/s]"
          ]
        },
        {
          "name": "stdout",
          "output_type": "stream",
          "text": [
            "| epoch   1 | 14000/32580 batches | loss    1.725 \n",
            "money: use, support, death, god, known, work, list, well, then, people\n",
            "lion: mixture, aksai, met, discussed, dumpster, abuse, spun, included, disciplining, prokaryotes\n",
            "africa: america, seven, five, north, history, nine, end, part, late, eight\n",
            "musician: north, group, war, culture, eastern, country, south, led, people, league\n",
            "dance: range, other, others, list, united, end, terms, british, last, line\n",
            "\n",
            "\n"
          ]
        },
        {
          "name": "stderr",
          "output_type": "stream",
          "text": [
            "14501it [34:18,  6.09it/s]"
          ]
        },
        {
          "name": "stdout",
          "output_type": "stream",
          "text": [
            "| epoch   1 | 14500/32580 batches | loss    1.644 \n",
            "money: support, use, death, work, god, list, people, example, known, usually\n",
            "lion: mixture, aksai, met, discussed, dumpster, abuse, included, spun, disciplining, czech\n",
            "africa: america, seven, north, history, five, end, nine, late, part, eight\n",
            "musician: north, group, eastern, south, culture, war, country, led, people, rest\n",
            "dance: range, other, united, end, others, list, terms, last, same, use\n",
            "\n",
            "\n"
          ]
        },
        {
          "name": "stderr",
          "output_type": "stream",
          "text": [
            "15001it [35:29,  6.23it/s]"
          ]
        },
        {
          "name": "stdout",
          "output_type": "stream",
          "text": [
            "| epoch   1 | 15000/32580 batches | loss    1.684 \n",
            "money: support, use, death, god, list, work, people, example, known, name\n",
            "lion: mixture, aksai, met, discussed, abuse, dumpster, included, introduced, spun, czech\n",
            "africa: america, five, seven, north, end, history, nine, part, late, four\n",
            "musician: north, group, war, south, eastern, culture, country, led, rest, league\n",
            "dance: range, united, other, others, list, end, terms, british, same, line\n",
            "\n",
            "\n"
          ]
        },
        {
          "name": "stderr",
          "output_type": "stream",
          "text": [
            "15501it [36:40,  6.09it/s]"
          ]
        },
        {
          "name": "stdout",
          "output_type": "stream",
          "text": [
            "| epoch   1 | 15500/32580 batches | loss    1.682 \n",
            "money: support, use, death, god, work, list, example, people, known, name\n",
            "lion: mixture, met, aksai, discussed, included, abuse, saints, introduced, dumpster, czech\n",
            "africa: america, seven, end, north, history, five, nine, part, late, england\n",
            "musician: north, group, war, south, culture, eastern, country, led, rest, league\n",
            "dance: range, united, list, terms, others, other, end, british, same, those\n",
            "\n",
            "\n"
          ]
        },
        {
          "name": "stderr",
          "output_type": "stream",
          "text": [
            "16001it [37:51,  6.22it/s]"
          ]
        },
        {
          "name": "stdout",
          "output_type": "stream",
          "text": [
            "| epoch   1 | 16000/32580 batches | loss    1.650 \n",
            "money: support, use, death, work, god, name, example, list, well, known\n",
            "lion: mixture, met, aksai, discussed, included, abuse, saints, quantum, introduced, dumpster\n",
            "africa: america, end, north, history, seven, five, england, late, eight, nine\n",
            "musician: north, group, culture, south, eastern, war, country, led, rest, league\n",
            "dance: range, list, united, terms, other, end, others, same, british, those\n",
            "\n",
            "\n"
          ]
        },
        {
          "name": "stderr",
          "output_type": "stream",
          "text": [
            "16501it [39:02,  6.16it/s]"
          ]
        },
        {
          "name": "stdout",
          "output_type": "stream",
          "text": [
            "| epoch   1 | 16500/32580 batches | loss    1.629 \n",
            "money: support, use, death, work, god, name, example, well, list, known\n",
            "lion: mixture, met, aksai, discussed, included, introduced, saints, abuse, quantum, organisation\n",
            "africa: america, end, north, history, seven, five, nine, late, england, part\n",
            "musician: north, group, south, culture, war, eastern, country, rest, led, england\n",
            "dance: range, list, end, united, terms, others, other, british, same, those\n",
            "\n",
            "\n"
          ]
        },
        {
          "name": "stderr",
          "output_type": "stream",
          "text": [
            "17001it [40:13,  6.13it/s]"
          ]
        },
        {
          "name": "stdout",
          "output_type": "stream",
          "text": [
            "| epoch   1 | 17000/32580 batches | loss    1.587 \n",
            "money: support, use, death, work, god, name, example, production, well, known\n",
            "lion: mixture, met, discussed, aksai, included, saints, introduced, abuse, quantum, czech\n",
            "africa: america, end, north, seven, history, five, england, late, part, u\n",
            "musician: north, group, south, war, culture, country, eastern, england, led, europe\n",
            "dance: range, list, end, terms, united, others, other, same, last, those\n",
            "\n",
            "\n"
          ]
        },
        {
          "name": "stderr",
          "output_type": "stream",
          "text": [
            "17501it [41:24,  6.06it/s]"
          ]
        },
        {
          "name": "stdout",
          "output_type": "stream",
          "text": [
            "| epoch   1 | 17500/32580 batches | loss    1.685 \n",
            "money: support, use, death, work, god, name, example, production, people, usually\n",
            "lion: mixture, met, discussed, aksai, included, saints, introduced, abuse, czech, organisation\n",
            "africa: america, end, history, north, seven, england, five, part, nine, late\n",
            "musician: north, group, south, war, culture, country, england, eastern, led, actress\n",
            "dance: range, terms, list, end, united, others, same, other, last, country\n",
            "\n",
            "\n"
          ]
        },
        {
          "name": "stderr",
          "output_type": "stream",
          "text": [
            "18001it [42:35,  6.26it/s]"
          ]
        },
        {
          "name": "stdout",
          "output_type": "stream",
          "text": [
            "| epoch   1 | 18000/32580 batches | loss    1.623 \n",
            "money: support, use, work, death, name, god, example, view, production, well\n",
            "lion: mixture, met, discussed, included, aksai, introduced, saints, abuse, czech, organisation\n",
            "africa: america, end, north, history, five, u, seven, part, late, nine\n",
            "musician: north, group, south, culture, country, england, war, eastern, actress, europe\n",
            "dance: range, terms, list, united, other, end, others, same, last, country\n",
            "\n",
            "\n"
          ]
        },
        {
          "name": "stderr",
          "output_type": "stream",
          "text": [
            "18501it [43:47,  6.15it/s]"
          ]
        },
        {
          "name": "stdout",
          "output_type": "stream",
          "text": [
            "| epoch   1 | 18500/32580 batches | loss    1.524 \n",
            "money: support, use, work, death, god, example, name, view, production, list\n",
            "lion: mixture, met, discussed, introduced, aksai, saints, included, abuse, czech, question\n",
            "africa: america, end, north, history, nine, u, part, five, europe, late\n",
            "musician: north, group, culture, south, england, eastern, war, country, actress, europe\n",
            "dance: range, terms, list, united, end, other, others, same, country, those\n",
            "\n",
            "\n"
          ]
        },
        {
          "name": "stderr",
          "output_type": "stream",
          "text": [
            "19001it [45:00,  6.00it/s]"
          ]
        },
        {
          "name": "stdout",
          "output_type": "stream",
          "text": [
            "| epoch   1 | 19000/32580 batches | loss    1.608 \n",
            "money: support, use, work, death, example, view, name, production, god, list\n",
            "lion: mixture, met, discussed, introduced, included, saints, aksai, abuse, question, czech\n",
            "africa: america, end, north, history, seven, five, nine, europe, part, u\n",
            "musician: north, group, culture, south, england, eastern, war, actress, country, four\n",
            "dance: range, terms, list, united, other, end, others, same, last, country\n",
            "\n",
            "\n"
          ]
        },
        {
          "name": "stderr",
          "output_type": "stream",
          "text": [
            "19501it [46:13,  6.11it/s]"
          ]
        },
        {
          "name": "stdout",
          "output_type": "stream",
          "text": [
            "| epoch   1 | 19500/32580 batches | loss    1.618 \n",
            "money: support, use, work, death, example, production, view, name, list, nine\n",
            "lion: mixture, met, discussed, introduced, included, saints, abuse, aksai, question, quantum\n",
            "africa: america, end, north, history, nine, europe, late, china, eight, seven\n",
            "musician: north, culture, south, england, war, eastern, group, four, actress, country\n",
            "dance: range, terms, list, united, other, end, others, same, country, nine\n",
            "\n",
            "\n"
          ]
        },
        {
          "name": "stderr",
          "output_type": "stream",
          "text": [
            "20001it [47:24,  6.24it/s]"
          ]
        },
        {
          "name": "stdout",
          "output_type": "stream",
          "text": [
            "| epoch   1 | 20000/32580 batches | loss    1.610 \n",
            "money: support, use, work, death, view, example, production, name, list, nine\n",
            "lion: met, mixture, discussed, introduced, included, abuse, saints, aksai, question, quantum\n",
            "africa: america, end, north, nine, seven, eight, late, europe, china, three\n",
            "musician: north, culture, south, england, four, eastern, eight, actress, war, group\n",
            "dance: range, terms, united, list, other, end, country, others, use, york\n",
            "\n",
            "\n"
          ]
        },
        {
          "name": "stderr",
          "output_type": "stream",
          "text": [
            "20501it [48:36,  6.02it/s]"
          ]
        },
        {
          "name": "stdout",
          "output_type": "stream",
          "text": [
            "| epoch   1 | 20500/32580 batches | loss    1.524 \n",
            "money: support, use, work, view, example, death, name, production, nine, list\n",
            "lion: met, mixture, discussed, introduced, included, abuse, saints, question, aksai, quantum\n",
            "africa: america, end, north, europe, late, nine, china, seven, england, eight\n",
            "musician: north, culture, south, england, eastern, actress, eight, rest, four, group\n",
            "dance: range, terms, list, other, united, end, use, country, others, york\n",
            "\n",
            "\n"
          ]
        },
        {
          "name": "stderr",
          "output_type": "stream",
          "text": [
            "21001it [49:48,  6.01it/s]"
          ]
        },
        {
          "name": "stdout",
          "output_type": "stream",
          "text": [
            "| epoch   1 | 21000/32580 batches | loss    1.564 \n",
            "money: support, work, use, view, death, god, example, name, list, production\n",
            "lion: met, mixture, discussed, introduced, included, abuse, saints, question, quantum, organisation\n",
            "africa: america, end, north, europe, late, england, china, nine, eight, france\n",
            "musician: north, culture, england, eastern, south, rest, actress, war, group, eight\n",
            "dance: terms, range, list, other, united, end, country, use, others, york\n",
            "\n",
            "\n"
          ]
        },
        {
          "name": "stderr",
          "output_type": "stream",
          "text": [
            "21501it [51:01,  6.30it/s]"
          ]
        },
        {
          "name": "stdout",
          "output_type": "stream",
          "text": [
            "| epoch   1 | 21500/32580 batches | loss    1.531 \n",
            "money: support, work, use, view, death, god, example, production, list, name\n",
            "lion: met, mixture, discussed, introduced, included, abuse, saints, question, pope, quantum\n",
            "africa: america, end, north, europe, england, china, nine, late, france, part\n",
            "musician: north, england, group, culture, eastern, rest, south, eight, actress, fact\n",
            "dance: terms, range, list, united, other, end, country, use, nine, york\n",
            "\n",
            "\n"
          ]
        },
        {
          "name": "stderr",
          "output_type": "stream",
          "text": [
            "22001it [52:10,  6.22it/s]"
          ]
        },
        {
          "name": "stdout",
          "output_type": "stream",
          "text": [
            "| epoch   1 | 22000/32580 batches | loss    1.564 \n",
            "money: support, work, use, death, view, god, example, production, list, nine\n",
            "lion: met, mixture, discussed, introduced, included, abuse, saints, question, pope, show\n",
            "africa: america, end, north, europe, england, china, nine, late, france, part\n",
            "musician: north, england, rest, south, eight, group, culture, eastern, actress, fact\n",
            "dance: terms, range, list, united, other, country, end, nine, york, use\n",
            "\n",
            "\n"
          ]
        },
        {
          "name": "stderr",
          "output_type": "stream",
          "text": [
            "22502it [53:21,  6.56it/s]"
          ]
        },
        {
          "name": "stdout",
          "output_type": "stream",
          "text": [
            "| epoch   1 | 22500/32580 batches | loss    1.579 \n",
            "money: support, work, use, death, view, example, god, production, name, usually\n",
            "lion: met, mixture, discussed, introduced, included, abuse, saints, pope, question, show\n",
            "africa: america, end, europe, north, england, china, late, nine, france, history\n",
            "musician: north, england, group, rest, south, culture, eastern, eight, actress, fact\n",
            "dance: terms, range, list, united, other, country, end, york, same, nine\n",
            "\n",
            "\n"
          ]
        },
        {
          "name": "stderr",
          "output_type": "stream",
          "text": [
            "23002it [54:31,  6.55it/s]"
          ]
        },
        {
          "name": "stdout",
          "output_type": "stream",
          "text": [
            "| epoch   1 | 23000/32580 batches | loss    1.490 \n",
            "money: support, work, use, view, god, death, example, production, name, nine\n",
            "lion: met, mixture, discussed, included, introduced, abuse, saints, question, pope, organisation\n",
            "africa: america, end, europe, north, england, china, nine, late, india, france\n",
            "musician: north, england, rest, eastern, south, actress, eight, culture, group, fact\n",
            "dance: range, terms, list, other, united, country, end, york, same, nine\n",
            "\n",
            "\n"
          ]
        },
        {
          "name": "stderr",
          "output_type": "stream",
          "text": [
            "23501it [55:41,  6.31it/s]"
          ]
        },
        {
          "name": "stdout",
          "output_type": "stream",
          "text": [
            "| epoch   1 | 23500/32580 batches | loss    1.517 \n",
            "money: support, work, view, use, death, god, example, production, nine, name\n",
            "lion: met, mixture, discussed, abuse, introduced, included, saints, question, pope, organisation\n",
            "africa: america, end, europe, north, england, nine, seven, five, china, late\n",
            "musician: north, rest, england, eight, four, group, eastern, actress, culture, south\n",
            "dance: range, terms, united, other, list, country, end, york, irish, nine\n",
            "\n",
            "\n"
          ]
        },
        {
          "name": "stderr",
          "output_type": "stream",
          "text": [
            "24001it [56:52,  6.14it/s]"
          ]
        },
        {
          "name": "stdout",
          "output_type": "stream",
          "text": [
            "| epoch   1 | 24000/32580 batches | loss    1.525 \n",
            "money: support, work, use, death, god, example, view, production, name, nine\n",
            "lion: met, mixture, abuse, discussed, introduced, included, saints, question, pope, society\n",
            "africa: america, end, north, europe, nine, england, china, india, late, u\n",
            "musician: north, england, rest, eight, group, eastern, actress, south, fact, culture\n",
            "dance: terms, range, other, list, united, end, country, york, irish, u\n",
            "\n",
            "\n"
          ]
        },
        {
          "name": "stderr",
          "output_type": "stream",
          "text": [
            "24502it [58:04,  6.60it/s]"
          ]
        },
        {
          "name": "stdout",
          "output_type": "stream",
          "text": [
            "| epoch   1 | 24500/32580 batches | loss    1.374 \n",
            "money: support, work, example, death, use, view, god, production, name, end\n",
            "lion: met, mixture, abuse, discussed, included, introduced, saints, question, organisation, society\n",
            "africa: america, end, europe, north, nine, england, china, india, late, eight\n",
            "musician: actress, north, actor, england, rest, fact, eight, four, group, south\n",
            "dance: range, terms, other, united, list, end, irish, country, u, york\n",
            "\n",
            "\n"
          ]
        },
        {
          "name": "stderr",
          "output_type": "stream",
          "text": [
            "25001it [59:16,  6.09it/s]"
          ]
        },
        {
          "name": "stdout",
          "output_type": "stream",
          "text": [
            "| epoch   1 | 25000/32580 batches | loss    1.307 \n",
            "money: support, work, death, example, use, god, view, production, nine, end\n",
            "lion: met, mixture, abuse, introduced, included, discussed, saints, question, organisation, society\n",
            "africa: america, end, europe, north, nine, england, china, india, late, france\n",
            "musician: actress, actor, four, north, singer, one, england, writer, u, three\n",
            "dance: range, terms, other, united, list, country, end, irish, actor, york\n",
            "\n",
            "\n"
          ]
        },
        {
          "name": "stderr",
          "output_type": "stream",
          "text": [
            "25502it [1:00:28,  6.52it/s]"
          ]
        },
        {
          "name": "stdout",
          "output_type": "stream",
          "text": [
            "| epoch   1 | 25500/32580 batches | loss    1.413 \n",
            "money: support, work, death, example, nine, god, use, production, view, end\n",
            "lion: met, mixture, abuse, introduced, included, discussed, saints, society, question, organisation\n",
            "africa: america, end, north, europe, nine, india, china, england, eight, france\n",
            "musician: actress, actor, singer, four, writer, nine, composer, north, six, england\n",
            "dance: range, terms, other, united, list, country, actor, end, u, york\n",
            "\n",
            "\n"
          ]
        },
        {
          "name": "stderr",
          "output_type": "stream",
          "text": [
            "26002it [1:01:38,  6.65it/s]"
          ]
        },
        {
          "name": "stdout",
          "output_type": "stream",
          "text": [
            "| epoch   1 | 26000/32580 batches | loss    1.470 \n",
            "money: support, work, death, example, use, production, god, view, nine, end\n",
            "lion: met, mixture, abuse, introduced, included, saints, discussed, society, question, pope\n",
            "africa: america, end, north, europe, nine, india, china, england, france, eight\n",
            "musician: actress, actor, singer, writer, nine, composer, seven, four, england, north\n",
            "dance: range, terms, united, other, list, country, actor, end, u, york\n",
            "\n",
            "\n"
          ]
        },
        {
          "name": "stderr",
          "output_type": "stream",
          "text": [
            "26502it [1:02:48,  6.60it/s]"
          ]
        },
        {
          "name": "stdout",
          "output_type": "stream",
          "text": [
            "| epoch   1 | 26500/32580 batches | loss    1.471 \n",
            "money: support, work, death, example, use, nine, god, end, view, production\n",
            "lion: met, mixture, abuse, introduced, included, discussed, saints, question, society, pope\n",
            "africa: america, end, north, nine, europe, india, china, england, france, united\n",
            "musician: actress, actor, singer, writer, nine, composer, north, four, england, six\n",
            "dance: range, terms, united, list, other, country, end, actor, york, version\n",
            "\n",
            "\n"
          ]
        },
        {
          "name": "stderr",
          "output_type": "stream",
          "text": [
            "27002it [1:03:58,  6.67it/s]"
          ]
        },
        {
          "name": "stdout",
          "output_type": "stream",
          "text": [
            "| epoch   1 | 27000/32580 batches | loss    1.530 \n",
            "money: support, work, death, use, example, god, production, end, view, nine\n",
            "lion: met, mixture, abuse, introduced, included, discussed, saints, question, society, pope\n",
            "africa: america, end, north, europe, india, nine, china, england, france, result\n",
            "musician: actress, actor, singer, four, writer, composer, nine, north, eight, england\n",
            "dance: terms, range, united, other, list, country, end, york, zero, actor\n",
            "\n",
            "\n"
          ]
        },
        {
          "name": "stderr",
          "output_type": "stream",
          "text": [
            "27501it [1:05:08,  6.36it/s]"
          ]
        },
        {
          "name": "stdout",
          "output_type": "stream",
          "text": [
            "| epoch   1 | 27500/32580 batches | loss    1.453 \n",
            "money: support, work, god, death, example, use, production, end, view, much\n",
            "lion: met, mixture, introduced, abuse, included, discussed, question, saints, society, pope\n",
            "africa: america, end, north, europe, india, china, nine, england, result, united\n",
            "musician: actress, actor, singer, writer, four, composer, north, nine, eight, england\n",
            "dance: terms, range, united, other, list, country, zero, end, actor, york\n",
            "\n",
            "\n"
          ]
        },
        {
          "name": "stderr",
          "output_type": "stream",
          "text": [
            "28001it [1:06:18,  6.35it/s]"
          ]
        },
        {
          "name": "stdout",
          "output_type": "stream",
          "text": [
            "| epoch   1 | 28000/32580 batches | loss    1.457 \n",
            "money: support, work, use, god, death, example, production, view, end, nine\n",
            "lion: met, mixture, introduced, abuse, included, discussed, question, saints, pope, society\n",
            "africa: america, end, north, europe, nine, india, china, england, result, united\n",
            "musician: actress, actor, singer, nine, writer, composer, north, rest, eight, four\n",
            "dance: terms, united, range, other, list, country, actor, end, york, nine\n",
            "\n",
            "\n"
          ]
        },
        {
          "name": "stderr",
          "output_type": "stream",
          "text": [
            "28451it [1:07:21,  7.09it/s]"
          ]
        }
      ],
      "source": [
        "for epoch in range(1, NUM_EPOCHS + 1):\n",
        "    epoch_start_time = time.time()\n",
        "\n",
        "    train(train_dl, model, optimizer, epoch)\n",
        "    # We have a learning rate scheduler here\n",
        "\n",
        "    # Basically, given the state of the optimizer, this lowers the learning rate in a smart way\n",
        "    scheduler.step()"
      ]
    },
    {
      "cell_type": "code",
      "execution_count": null,
      "id": "b0227888",
      "metadata": {
        "id": "b0227888"
      },
      "outputs": [],
      "source": []
    }
  ],
  "metadata": {
    "colab": {
      "provenance": []
    },
    "kernelspec": {
      "display_name": "Python 3 (ipykernel)",
      "language": "python",
      "name": "python3"
    },
    "language_info": {
      "codemirror_mode": {
        "name": "ipython",
        "version": 3
      },
      "file_extension": ".py",
      "mimetype": "text/x-python",
      "name": "python",
      "nbconvert_exporter": "python",
      "pygments_lexer": "ipython3",
      "version": "3.8.15"
    }
  },
  "nbformat": 4,
  "nbformat_minor": 5
}