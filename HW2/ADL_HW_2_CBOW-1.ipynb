{
  "cells": [
    {
      "cell_type": "code",
      "execution_count": 1,
      "id": "080d50fc",
      "metadata": {
        "id": "080d50fc"
      },
      "outputs": [],
      "source": [
        "import time\n",
        "import torch\n",
        "from torch.utils.data import DataLoader, TensorDataset\n",
        "import torch.nn as nn\n",
        "from tqdm import tqdm\n",
        "import pickle\n",
        "import random\n",
        "import numpy as np\n",
        "from collections import Counter, defaultdict\n",
        "import numpy as np\n",
        "from torch import FloatTensor as FT"
      ]
    },
    {
      "cell_type": "code",
      "execution_count": null,
      "id": "f5419c32",
      "metadata": {
        "id": "f5419c32"
      },
      "outputs": [],
      "source": []
    },
    {
      "cell_type": "markdown",
      "id": "66eb271d",
      "metadata": {
        "id": "66eb271d"
      },
      "source": [
        "### Instructions\n",
        "For this part, fill in the required code and make the notebook work. This wll be very similar to the Skip-Gram model, but a little more difficult. Look for the \"\"\" FILL IN \"\"\" string to guide you."
      ]
    },
    {
      "cell_type": "code",
      "execution_count": 2,
      "id": "31b412ca",
      "metadata": {
        "id": "31b412ca"
      },
      "outputs": [],
      "source": [
        "# Where do I want to run my job. You can do \"cuda\" on linux machines\n",
        "# DEVICE = \"mps\" if torch.backends.mps.is_available() else  \"cpu\"\n",
        "DEVICE = \"cuda\" if torch.cuda.is_available() else  \"cpu\"\n",
        "\n",
        "# The batch size in Adam or SGD\n",
        "BATCH_SIZE = 512\n",
        "\n",
        "# Number of epochs\n",
        "NUM_EPOCHS = 10\n",
        "\n",
        "# Predict from 2 words the inner word for CBOW\n",
        "# I.e. I'll have a window like [\"a\", \"b\", \"c\"] of continuous text (each is a word)\n",
        "# We'll predict each of wc = [\"a\", \"c\"] from \"b\" = wc for Skip-Gram\n",
        "# For CBOW, we'll use [\"a\", \"c\"] to predict \"b\" = wo\n",
        "WINDOW = 1\n",
        "\n",
        "# Negative samples.\n",
        "K = 4"
      ]
    },
    {
      "cell_type": "code",
      "execution_count": 3,
      "id": "e3311ae5",
      "metadata": {
        "id": "e3311ae5",
        "outputId": "f602c20e-674e-4da2-97fa-31de04adbe2d",
        "colab": {
          "base_uri": "https://localhost:8080/",
          "height": 36
        }
      },
      "outputs": [
        {
          "output_type": "execute_result",
          "data": {
            "text/plain": [
              "'cuda'"
            ],
            "application/vnd.google.colaboratory.intrinsic+json": {
              "type": "string"
            }
          },
          "metadata": {},
          "execution_count": 3
        }
      ],
      "source": [
        "DEVICE"
      ]
    },
    {
      "cell_type": "markdown",
      "id": "3ec9f90a",
      "metadata": {
        "id": "3ec9f90a"
      },
      "source": [
        "The text8 Wikipedia corpus. 100M characters."
      ]
    },
    {
      "cell_type": "code",
      "execution_count": 4,
      "id": "3217b67b",
      "metadata": {
        "id": "3217b67b",
        "outputId": "c45321f3-dda3-4cbc-baa3-79090dd0fc3f",
        "colab": {
          "base_uri": "https://localhost:8080/"
        }
      },
      "outputs": [
        {
          "output_type": "stream",
          "name": "stdout",
          "text": [
            "Mounted at /content/drive\n",
            "du: cannot access 'text8': No such file or directory\n",
            "100000000\n"
          ]
        }
      ],
      "source": [
        "from google.colab import drive\n",
        "drive.mount('/content/drive')\n",
        "\n",
        "!du -h text8\n",
        "\n",
        "f = open('/content/drive/MyDrive/text8', 'r')\n",
        "text = f.read()\n",
        "# One big string of size 100M\n",
        "print(len(text))"
      ]
    },
    {
      "cell_type": "code",
      "execution_count": 5,
      "id": "6c1bf892",
      "metadata": {
        "id": "6c1bf892"
      },
      "outputs": [],
      "source": [
        "punc = '!\"#$%&()*+,-./:;<=>?@[\\\\]^_\\'{|}~\\t\\n'\n",
        "\n",
        "# Can do regular expressions here too\n",
        "for c in punc:\n",
        "    if c in text:\n",
        "        text.replace(c, ' ')"
      ]
    },
    {
      "cell_type": "code",
      "execution_count": null,
      "id": "451bf3ab",
      "metadata": {
        "id": "451bf3ab"
      },
      "outputs": [],
      "source": []
    },
    {
      "cell_type": "code",
      "execution_count": 7,
      "id": "0bc19b0c",
      "metadata": {
        "id": "0bc19b0c",
        "outputId": "7dfd2829-b0f0-40e6-b752-a8189c7dda37",
        "colab": {
          "base_uri": "https://localhost:8080/",
          "height": 36
        }
      },
      "outputs": [
        {
          "output_type": "execute_result",
          "data": {
            "text/plain": [
              "' FILL IN '"
            ],
            "application/vnd.google.colaboratory.intrinsic+json": {
              "type": "string"
            }
          },
          "metadata": {},
          "execution_count": 7
        }
      ],
      "source": [
        "def get_tokenizer(text):\n",
        "  return text.lower().split()\n",
        "\n",
        "# A very crude tokenizer you get for free: lower case and also split on spaces\n",
        "# This will not work!\n",
        "# Split text on space and strip each word\n",
        "# You should get a list \"words\" which is text but each element is a word in order\n",
        "TOKENIZER = get_tokenizer"
      ]
    },
    {
      "cell_type": "code",
      "execution_count": 8,
      "id": "ff8fd598",
      "metadata": {
        "id": "ff8fd598"
      },
      "outputs": [],
      "source": [
        "words = TOKENIZER(text)\n",
        "f = Counter(words)\n",
        "# Fix the above"
      ]
    },
    {
      "cell_type": "code",
      "execution_count": 9,
      "id": "ba7f72f8",
      "metadata": {
        "id": "ba7f72f8",
        "outputId": "e333a750-2326-4de8-d1ec-f9337618978a",
        "colab": {
          "base_uri": "https://localhost:8080/"
        }
      },
      "outputs": [
        {
          "output_type": "execute_result",
          "data": {
            "text/plain": [
              "17005207"
            ]
          },
          "metadata": {},
          "execution_count": 9
        }
      ],
      "source": [
        "len(words)"
      ]
    },
    {
      "cell_type": "code",
      "execution_count": 10,
      "id": "16b736a4",
      "metadata": {
        "id": "16b736a4"
      },
      "outputs": [],
      "source": [
        "# Do a very crude filter on the text which removes all very popular words\n",
        "text = [word for word in words if f[word] > 5]"
      ]
    },
    {
      "cell_type": "code",
      "execution_count": 11,
      "id": "6916a763",
      "metadata": {
        "id": "6916a763",
        "outputId": "5c0d8474-4ce5-49ff-cc19-50ea11387aef",
        "colab": {
          "base_uri": "https://localhost:8080/"
        }
      },
      "outputs": [
        {
          "output_type": "execute_result",
          "data": {
            "text/plain": [
              "['anarchism', 'originated', 'as', 'a', 'term']"
            ]
          },
          "metadata": {},
          "execution_count": 11
        }
      ],
      "source": [
        "text[0:5]"
      ]
    },
    {
      "cell_type": "code",
      "execution_count": 13,
      "id": "10ad817a",
      "metadata": {
        "id": "10ad817a"
      },
      "outputs": [],
      "source": [
        "class Vocab:\n",
        "  def __init__(self, itos):\n",
        "    self.itos = itos\n",
        "    self.stoi = {token: idx for idx, token in enumerate(itos)}\n",
        "\n",
        "  def get_stoi(self):\n",
        "    return self.stoi\n",
        "\n",
        "  def get_itos(self):\n",
        "    return self.itos\n",
        "\n",
        "  def __len__(self):\n",
        "    return len(self.itos)\n",
        "\n",
        "def build_vocab_from_iterator(iterator):\n",
        "    counter = Counter()\n",
        "    for tokens in iterator:\n",
        "        counter.update(tokens)\n",
        "\n",
        "    itos = []\n",
        "    for token, _ in counter.most_common():\n",
        "        if token not in itos:\n",
        "            itos.append(token)\n",
        "\n",
        "    return Vocab(itos)\n",
        "\n",
        "VOCAB = build_vocab_from_iterator([text])\n",
        "# Rebuild the vocabulary from text above"
      ]
    },
    {
      "cell_type": "code",
      "execution_count": 14,
      "id": "a7f69fc9",
      "metadata": {
        "id": "a7f69fc9"
      },
      "outputs": [],
      "source": [
        "# Populate these maps manually using Counter or defaltdict\n",
        "# This will not work\n",
        "\n",
        "# word -> int hash map\n",
        "stoi = VOCAB.get_stoi()\n",
        "# int -> word hash map\n",
        "itos = VOCAB.get_itos()"
      ]
    },
    {
      "cell_type": "code",
      "execution_count": 15,
      "id": "9991f9ab",
      "metadata": {
        "id": "9991f9ab",
        "outputId": "e521b4ae-c91c-4758-f199-93a5bf71d886",
        "colab": {
          "base_uri": "https://localhost:8080/"
        }
      },
      "outputs": [
        {
          "output_type": "execute_result",
          "data": {
            "text/plain": [
              "11"
            ]
          },
          "metadata": {},
          "execution_count": 15
        }
      ],
      "source": [
        "stoi['as']"
      ]
    },
    {
      "cell_type": "code",
      "execution_count": 16,
      "id": "0f49f5fa",
      "metadata": {
        "id": "0f49f5fa",
        "outputId": "4e78f7d0-c41b-4c14-a0df-e95edb773a68",
        "colab": {
          "base_uri": "https://localhost:8080/"
        }
      },
      "outputs": [
        {
          "output_type": "execute_result",
          "data": {
            "text/plain": [
              "63641"
            ]
          },
          "metadata": {},
          "execution_count": 16
        }
      ],
      "source": [
        "# Total number of words; you should see about 63K as below\n",
        "len(stoi)"
      ]
    },
    {
      "cell_type": "code",
      "execution_count": 17,
      "id": "6c5c415a",
      "metadata": {
        "id": "6c5c415a"
      },
      "outputs": [],
      "source": [
        "f = Counter(text)\n",
        "# This is the probability that we pick a word in the corpus\n",
        "z = {word: f[word] / len(text) for word in f}"
      ]
    },
    {
      "cell_type": "code",
      "execution_count": 18,
      "id": "1e543e1e",
      "metadata": {
        "id": "1e543e1e"
      },
      "outputs": [],
      "source": [
        "threshold = 1e-5\n",
        "# Probability that word is kept while subsampling\n",
        "# This is explained here and sightly differet from the paper: http://mccormickml.com/2017/01/11/word2vec-tutorial-part-2-negative-sampling/\n",
        "p_keep = {word: (np.sqrt(z[word] / 0.001) + 1)*(0.0001 / z[word]) for word in f}"
      ]
    },
    {
      "cell_type": "code",
      "execution_count": 19,
      "id": "dd22119d",
      "metadata": {
        "id": "dd22119d"
      },
      "outputs": [],
      "source": [
        "# This is in the integer space\n",
        "train_dataset = [word for word in text if random.random() < p_keep[word]]\n",
        "\n",
        "# Rebuild the vocabulary\n",
        "VOCAB = build_vocab_from_iterator([train_dataset])"
      ]
    },
    {
      "cell_type": "code",
      "execution_count": 20,
      "id": "a2d695da",
      "metadata": {
        "id": "a2d695da",
        "outputId": "9a82890d-24fb-4694-fe6d-5876dba8453f",
        "colab": {
          "base_uri": "https://localhost:8080/"
        }
      },
      "outputs": [
        {
          "output_type": "execute_result",
          "data": {
            "text/plain": [
              "7845676"
            ]
          },
          "metadata": {},
          "execution_count": 20
        }
      ],
      "source": [
        "len(train_dataset)"
      ]
    },
    {
      "cell_type": "code",
      "execution_count": 21,
      "id": "30d67549",
      "metadata": {
        "id": "30d67549"
      },
      "outputs": [],
      "source": [
        "# Repopulate the stoi and itos maps again now that you dropped some words\n",
        "\n",
        "# word -> int mapping\n",
        "stoi = VOCAB.get_stoi()\n",
        "# int -> word mapping\n",
        "itos = VOCAB.get_itos()"
      ]
    },
    {
      "cell_type": "code",
      "execution_count": 22,
      "id": "b46337b8",
      "metadata": {
        "id": "b46337b8",
        "outputId": "3aa6279e-70c8-460a-d46e-73edaaae83e9",
        "colab": {
          "base_uri": "https://localhost:8080/"
        }
      },
      "outputs": [
        {
          "output_type": "execute_result",
          "data": {
            "text/plain": [
              "63641"
            ]
          },
          "metadata": {},
          "execution_count": 22
        }
      ],
      "source": [
        "# The vocabulary size after we do all the filters\n",
        "len(VOCAB)"
      ]
    },
    {
      "cell_type": "code",
      "execution_count": 23,
      "id": "c9346f36",
      "metadata": {
        "id": "c9346f36"
      },
      "outputs": [],
      "source": [
        "# The probability we draw something for negative sampling\n",
        "f = Counter(train_dataset)\n",
        "p = torch.zeros(len(VOCAB))\n",
        "\n",
        "# Downsample frequent words and upsample less frequent\n",
        "s = sum([np.power(freq, 0.75) for word, freq in f.items()])\n",
        "\n",
        "for word in f:\n",
        "    p[stoi[word]] = np.power(f[word], 0.75) / s"
      ]
    },
    {
      "cell_type": "code",
      "execution_count": 24,
      "id": "dd713c15",
      "metadata": {
        "id": "dd713c15"
      },
      "outputs": [],
      "source": [
        "# Map everything to integers\n",
        "# This might not work be careful w the above ...\n",
        "train_dataset = [stoi[word] for word in text]"
      ]
    },
    {
      "cell_type": "code",
      "execution_count": 45,
      "id": "8e96c0c4",
      "metadata": {
        "id": "8e96c0c4"
      },
      "outputs": [],
      "source": [
        "# This just gets the (wc, wo) pairs that are positive - they are seen together!\n",
        "def get_tokenized_dataset(dataset, verbose=False):\n",
        "    x_list = []\n",
        "\n",
        "    for i, token in enumerate(dataset):\n",
        "        m = 1\n",
        "\n",
        "        # Get the left and right tokens\n",
        "        start = max(0, i - m)\n",
        "        left_tokens = dataset[start: i]\n",
        "\n",
        "        end = min(i + m, len(dataset) - 1)\n",
        "        right_tokens = dataset[i + 1: end + 1]\n",
        "\n",
        "        # Check these are the same length, and if so use them to add a row of data. This should be a list like\n",
        "        # [a, c, b] where b is the center word\n",
        "        if len(left_tokens) == len(right_tokens):\n",
        "            w_context = left_tokens + right_tokens\n",
        "\n",
        "            wc = [token]\n",
        "\n",
        "            x_list.extend(\n",
        "                [w_context + wc]\n",
        "            )\n",
        "\n",
        "    return x_list"
      ]
    },
    {
      "cell_type": "code",
      "execution_count": 46,
      "id": "3eb82aad",
      "metadata": {
        "id": "3eb82aad"
      },
      "outputs": [],
      "source": [
        "train_x_list = get_tokenized_dataset(train_dataset, verbose=False)"
      ]
    },
    {
      "cell_type": "code",
      "execution_count": 48,
      "id": "8412ee4d",
      "metadata": {
        "id": "8412ee4d"
      },
      "outputs": [],
      "source": [
        "pickle.dump(train_x_list, open('train_x_list.pkl', 'wb'))"
      ]
    },
    {
      "cell_type": "code",
      "execution_count": 49,
      "id": "3fd54caf",
      "metadata": {
        "id": "3fd54caf"
      },
      "outputs": [],
      "source": [
        "train_x_list = pickle.load(open('train_x_list.pkl', 'rb'))"
      ]
    },
    {
      "cell_type": "code",
      "execution_count": 50,
      "id": "576765f3",
      "metadata": {
        "id": "576765f3",
        "outputId": "1e37152b-9608-45b7-9243-9a0a1c393484",
        "colab": {
          "base_uri": "https://localhost:8080/"
        }
      },
      "outputs": [
        {
          "output_type": "execute_result",
          "data": {
            "text/plain": [
              "[[5233, 11, 3080],\n",
              " [3080, 6, 11],\n",
              " [11, 164, 6],\n",
              " [6, 1, 164],\n",
              " [164, 3133, 1],\n",
              " [1, 46, 3133],\n",
              " [3133, 60, 46],\n",
              " [46, 177, 60],\n",
              " [60, 123, 177],\n",
              " [177, 741, 123]]"
            ]
          },
          "metadata": {},
          "execution_count": 50
        }
      ],
      "source": [
        "# These are (wc, wo) pairs. All are y = +1 by design\n",
        "train_x_list[:10]"
      ]
    },
    {
      "cell_type": "code",
      "execution_count": 51,
      "id": "316df1dc",
      "metadata": {
        "id": "316df1dc"
      },
      "outputs": [],
      "source": [
        "# The number of things of BATCH_SIZE = 512\n",
        "assert(len(train_x_list) // BATCH_SIZE == 32579)"
      ]
    },
    {
      "cell_type": "code",
      "execution_count": 53,
      "id": "8012d03d",
      "metadata": {
        "id": "8012d03d",
        "outputId": "0b0ad008-43e8-4a57-c9c3-0cbe0f98056e",
        "colab": {
          "base_uri": "https://localhost:8080/",
          "height": 36
        }
      },
      "outputs": [
        {
          "output_type": "execute_result",
          "data": {
            "text/plain": [
              "'cuda'"
            ],
            "application/vnd.google.colaboratory.intrinsic+json": {
              "type": "string"
            }
          },
          "metadata": {},
          "execution_count": 53
        }
      ],
      "source": []
    },
    {
      "cell_type": "markdown",
      "id": "488c3519",
      "metadata": {
        "id": "488c3519"
      },
      "source": [
        "### Set up the dataloader."
      ]
    },
    {
      "cell_type": "code",
      "execution_count": 52,
      "id": "2e31ae4b",
      "metadata": {
        "id": "2e31ae4b"
      },
      "outputs": [],
      "source": [
        "train_dl = DataLoader(\n",
        "    TensorDataset(\n",
        "        torch.tensor(train_x_list).to(DEVICE),\n",
        "    ),\n",
        "    batch_size=BATCH_SIZE,\n",
        "    shuffle=True\n",
        ")"
      ]
    },
    {
      "cell_type": "code",
      "execution_count": 54,
      "id": "e9c42f50",
      "metadata": {
        "id": "e9c42f50"
      },
      "outputs": [],
      "source": [
        "for xb in train_dl:\n",
        "    assert(xb[0].shape == (BATCH_SIZE, 3))\n",
        "    break"
      ]
    },
    {
      "cell_type": "code",
      "execution_count": null,
      "id": "8c949153",
      "metadata": {
        "id": "8c949153"
      },
      "outputs": [],
      "source": []
    },
    {
      "cell_type": "markdown",
      "id": "12d93d22",
      "metadata": {
        "id": "12d93d22"
      },
      "source": [
        "### Words we'll use to asses the quality of the model ..."
      ]
    },
    {
      "cell_type": "code",
      "execution_count": 55,
      "id": "ffada8d0",
      "metadata": {
        "id": "ffada8d0"
      },
      "outputs": [],
      "source": [
        "valid_ids = torch.tensor([\n",
        "    stoi['money'],\n",
        "    stoi['lion'],\n",
        "    stoi['africa'],\n",
        "    stoi['musician'],\n",
        "    stoi['dance'],\n",
        "])"
      ]
    },
    {
      "cell_type": "code",
      "execution_count": null,
      "id": "867d3a88",
      "metadata": {
        "id": "867d3a88"
      },
      "outputs": [],
      "source": []
    },
    {
      "cell_type": "markdown",
      "id": "64096cd8",
      "metadata": {
        "id": "64096cd8"
      },
      "source": [
        "### Get the model."
      ]
    },
    {
      "cell_type": "code",
      "execution_count": 65,
      "id": "dc51c359",
      "metadata": {
        "id": "dc51c359"
      },
      "outputs": [],
      "source": [
        "class CBOWNegativeSampling(nn.Module):\n",
        "    def __init__(self, vocab_size, embed_dim):\n",
        "        super(CBOWNegativeSampling, self).__init__()\n",
        "        self.A = nn.Embedding(vocab_size, embed_dim) # Context vectors - center word\n",
        "        self.B = nn.Embedding(vocab_size, embed_dim) # Output vectors - words around the center word\n",
        "        self.init_weights()\n",
        "\n",
        "    def init_weights(self):\n",
        "        # Is this the best way? Not sure\n",
        "        initrange = 0.5\n",
        "        self.A.weight.data.uniform_(-initrange, initrange)\n",
        "        self.B.weight.data.uniform_(-initrange, initrange)\n",
        "\n",
        "    def forward(self, x):\n",
        "        # N is the batch size\n",
        "        # x is (N, 3)\n",
        "\n",
        "        # Context words are 2m things, m = 1 so w_context is (N, 2) while wc is (N, 1)\n",
        "        w_context, wc = x[:, : 2], x[:, 2: 3]\n",
        "\n",
        "        # Each of these is (N, 2, D) since each context has 2 word\n",
        "        # We want this to be (N, D) and this is what we get\n",
        "\n",
        "        # (N, 2, D)\n",
        "        a = self.A(w_context)\n",
        "\n",
        "        # (N, D)\n",
        "        a_avg = a.mean(dim = 1).squeeze(dim = 1)\n",
        "\n",
        "        # Each of these is (N, D) since each target has 1 word\n",
        "        b = self.B(wc).squeeze(dim = 1)\n",
        "\n",
        "        # The product between each context and target vector. Look at the Skip-Gram code.\n",
        "        # The logits is now (N, 1) since we sum across the final dimension.\n",
        "        logits = (a_avg*b).sum(dim=1)\n",
        "\n",
        "        return logits"
      ]
    },
    {
      "cell_type": "code",
      "execution_count": null,
      "id": "7ae817c1",
      "metadata": {
        "id": "7ae817c1"
      },
      "outputs": [],
      "source": []
    },
    {
      "cell_type": "code",
      "execution_count": 66,
      "id": "ed9c509d",
      "metadata": {
        "id": "ed9c509d"
      },
      "outputs": [],
      "source": [
        "@torch.no_grad()\n",
        "def validate_embeddings(\n",
        "    model,\n",
        "    valid_ids,\n",
        "    itos\n",
        "):\n",
        "    \"\"\" Validation logic \"\"\"\n",
        "\n",
        "    # We will use context embeddings to get the most similar words\n",
        "    # Other strategies include: using target embeddings, mean embeddings after avaraging context/target\n",
        "    embedding_weights = model.A.weight\n",
        "\n",
        "    normalized_embeddings = embedding_weights.cpu() / np.sqrt(\n",
        "        np.sum(embedding_weights.cpu().numpy()**2, axis=1, keepdims=True)\n",
        "    )\n",
        "\n",
        "    # Get the embeddings corresponding to valid_term_ids\n",
        "    valid_embeddings = normalized_embeddings[valid_ids, :]\n",
        "\n",
        "    # Compute the similarity between valid_term_ids (S) and all the embeddings (V)\n",
        "    # We do S x d (d x V) => S x D and sort by negative similarity\n",
        "    top_k = 10 # Top k items will be displayed\n",
        "    similarity = np.dot(valid_embeddings.cpu().numpy(), normalized_embeddings.cpu().numpy().T)\n",
        "\n",
        "    # Invert similarity matrix to negative\n",
        "    # Ignore the first one because that would be the same word as the probe word\n",
        "    similarity_top_k = np.argsort(-similarity, axis=1)[:, 1: top_k+1]\n",
        "\n",
        "    # Print the output.\n",
        "    for i, word_id in enumerate(valid_ids):\n",
        "        # j >= 1 here since we don't want to include the word itself.\n",
        "        similar_word_str = ', '.join([itos[j] for j in similarity_top_k[i, :] if j >= 1])\n",
        "        # This might need a fix!\n",
        "        print(f\"{itos[word_id]}: {similar_word_str}\")\n",
        "\n",
        "    print('\\n')"
      ]
    },
    {
      "cell_type": "code",
      "execution_count": null,
      "id": "b0c194b8",
      "metadata": {
        "id": "b0c194b8"
      },
      "outputs": [],
      "source": []
    },
    {
      "cell_type": "markdown",
      "id": "3b3c6ed5",
      "metadata": {
        "id": "3b3c6ed5"
      },
      "source": [
        "### Set up the model"
      ]
    },
    {
      "cell_type": "code",
      "execution_count": 67,
      "id": "16da95d1",
      "metadata": {
        "id": "16da95d1"
      },
      "outputs": [],
      "source": [
        "LR = 10.0\n",
        "NUM_EPOCHS = 10\n",
        "EMBED_DIM = 300"
      ]
    },
    {
      "cell_type": "code",
      "execution_count": 68,
      "id": "cef585f4",
      "metadata": {
        "id": "cef585f4"
      },
      "outputs": [],
      "source": [
        "model = CBOWNegativeSampling(len(VOCAB), EMBED_DIM).to(DEVICE)\n",
        "optimizer = torch.optim.SGD(model.parameters(), lr=LR)\n",
        "\n",
        "# The learning rate is lowered every epoch by 1/10\n",
        "# Is this a good idea?\n",
        "scheduler = torch.optim.lr_scheduler.StepLR(optimizer, 1, gamma=0.1)"
      ]
    },
    {
      "cell_type": "code",
      "execution_count": 69,
      "id": "f8a642bf",
      "metadata": {
        "id": "f8a642bf",
        "outputId": "99522fec-518c-40bf-bd0e-ccd6b562c8ab",
        "colab": {
          "base_uri": "https://localhost:8080/"
        }
      },
      "outputs": [
        {
          "output_type": "execute_result",
          "data": {
            "text/plain": [
              "CBOWNegativeSampling(\n",
              "  (A): Embedding(63641, 300)\n",
              "  (B): Embedding(63641, 300)\n",
              ")"
            ]
          },
          "metadata": {},
          "execution_count": 69
        }
      ],
      "source": [
        "model"
      ]
    },
    {
      "cell_type": "code",
      "execution_count": 70,
      "id": "85773616",
      "metadata": {
        "id": "85773616",
        "outputId": "aff70add-3b27-47b7-f826-3ea5a69cd9d9",
        "colab": {
          "base_uri": "https://localhost:8080/"
        }
      },
      "outputs": [
        {
          "output_type": "stream",
          "name": "stdout",
          "text": [
            "money: salicylate, admittedly, faro, reactivation, cyclase, cvd, woo, piper, surgical, jfk\n",
            "lion: branwell, plough, refurbished, virginis, politician, relaxed, erlk, melbourne, flutes, trento\n",
            "africa: jpeg, cronus, rstendamm, heures, rachid, pythons, bolyai, cassettes, bergman, dichromate\n",
            "musician: jaws, boar, rochester, circuit, representatives, taxing, commemorates, beverages, electrotechnical, maia\n",
            "dance: substantiated, houghton, asks, darryl, magick, honours, fatimid, solzhenitsyn, falange, commotion\n",
            "\n",
            "\n"
          ]
        },
        {
          "output_type": "stream",
          "name": "stderr",
          "text": [
            "/tmp/ipython-input-1339109259.py:13: DeprecationWarning: __array_wrap__ must accept context and return_scalar arguments (positionally) in the future. (Deprecated NumPy 2.0)\n",
            "  normalized_embeddings = embedding_weights.cpu() / np.sqrt(\n"
          ]
        }
      ],
      "source": [
        "validate_embeddings(model, valid_ids, itos)"
      ]
    },
    {
      "cell_type": "code",
      "execution_count": null,
      "id": "66075f5e",
      "metadata": {
        "id": "66075f5e"
      },
      "outputs": [],
      "source": []
    },
    {
      "cell_type": "markdown",
      "id": "86476e2a",
      "metadata": {
        "id": "86476e2a"
      },
      "source": [
        "### Train the model"
      ]
    },
    {
      "cell_type": "code",
      "execution_count": 75,
      "id": "24950481",
      "metadata": {
        "id": "24950481"
      },
      "outputs": [],
      "source": [
        "ratios = []\n",
        "\n",
        "def train(dataloader, model, optimizer, epoch):\n",
        "    model.train()\n",
        "    total_acc, total_count, total_loss, total_batches = 0, 0, 0.0, 0.0\n",
        "    log_interval = 500\n",
        "\n",
        "    for idx, x_batch in tqdm(enumerate(dataloader)):\n",
        "\n",
        "        x_batch = x_batch[0]\n",
        "\n",
        "        batch_size = x_batch.shape[0]\n",
        "\n",
        "        # Zero the gradient so they don't accumulate\n",
        "        optimizer.zero_grad()\n",
        "\n",
        "        logits = model(x_batch)\n",
        "\n",
        "        # Get the positive samples loss. Notice we use weights here\n",
        "        positive_loss = torch.nn.BCEWithLogitsLoss()(input=logits, target=torch.ones(batch_size).to(DEVICE).float())\n",
        "\n",
        "        # For each batch, get some negative samples\n",
        "        # We need a total of len(y_batch) * K samples across a batch\n",
        "        # We then reshape this batch\n",
        "        # These are effectively the output words\n",
        "        negative_samples = torch.multinomial(p, batch_size * K, replacement=True).to(DEVICE)\n",
        "\n",
        "        # Context words are 2m things, m = 1 so w_context is (N, 2) while wc is (N, 1)\n",
        "        w_context, wc = x_batch[:, :2], x_batch[:, 2: 3]\n",
        "\n",
        "        \"\"\"\n",
        "        if w_context looks like below (batch_size = 3)\n",
        "        [\n",
        "        (a, b),\n",
        "        (c, d),\n",
        "        (e, f)\n",
        "        ] and K = 2 we'd like to get:\n",
        "\n",
        "        [\n",
        "        (a, b),\n",
        "        (a, b),\n",
        "        (c, d),\n",
        "        (c, d),\n",
        "        (e, f),\n",
        "        (e, f)\n",
        "        ]\n",
        "\n",
        "        This will be batch_size * K rows.\n",
        "        \"\"\"\n",
        "\n",
        "        # This should be (N * K, 2)\n",
        "        w_context = torch.concat([\n",
        "            w.repeat(K, 1) for w in torch.tensor(w_context).split(1)\n",
        "        ]).to(DEVICE)\n",
        "\n",
        "        wc = negative_samples[:, None]\n",
        "\n",
        "        # Get the negative samples. This should be (N * K, 3)\n",
        "        # Concatenate the w_context and wc along the column. Make sure everything is on CUDA / MPS or CPU\n",
        "        x_batch_negative = torch.cat([w_context, wc], dim = 1).to(DEVICE)\n",
        "\n",
        "        \"\"\"\n",
        "        Note the way we formulated the targets: they are all 0 since these are negative samples.\n",
        "        We do the BCEWithLogitsLoss by hand basically here.\n",
        "        Notice we sum across the negative samples, per positive word.\n",
        "\n",
        "        This is literally the equation in the lecture notes.\n",
        "        \"\"\"\n",
        "\n",
        "        # (N, K, D) -> (N, D) -> (N)\n",
        "        # Look at the Skip-Gram notebook\n",
        "        logits_negative = -model(x_batch_negative)\n",
        "        negative_loss = torch.nn.BCEWithLogitsLoss()(input=logits_negative, target=torch.ones(batch_size * K).to(DEVICE).float())\n",
        "\n",
        "        loss = (positive_loss + negative_loss).mean()\n",
        "\n",
        "        # Get the gradients via back propagation\n",
        "        loss.backward()\n",
        "\n",
        "        # Clip the gradients? Generally a good idea\n",
        "        torch.nn.utils.clip_grad_norm_(model.parameters(), 0.1)\n",
        "\n",
        "\n",
        "        # Do an optimization step. Update the parameters A and B\n",
        "        optimizer.step()\n",
        "        # Get the new loss\n",
        "        total_loss += loss.item()\n",
        "\n",
        "        # Update the batch count\n",
        "        total_batches += 1\n",
        "\n",
        "        if idx % log_interval == 0:\n",
        "            print(\n",
        "                \"| epoch {:3d} | {:5d}/{:5d} batches \"\n",
        "                \"| loss {:8.3f} \".format(\n",
        "                    epoch,\n",
        "                    idx,\n",
        "                    len(dataloader),\n",
        "                    total_loss / total_batches\n",
        "                )\n",
        "            )\n",
        "            validate_embeddings(model, valid_ids, itos)\n",
        "            total_loss, total_batches = 0.0, 0.0"
      ]
    },
    {
      "cell_type": "markdown",
      "id": "0764d675",
      "metadata": {
        "id": "0764d675"
      },
      "source": [
        "### Some results from the run look like below:\n",
        "\n",
        "Somewhere inside of 2 iterations you should get sensible associattions.\n",
        "Paste here a screenshot of the closest vectors."
      ]
    },
    {
      "cell_type": "code",
      "execution_count": null,
      "id": "a9e02c09",
      "metadata": {
        "id": "a9e02c09",
        "outputId": "5b6dd6da-6c9c-4f69-f286-a642d55e5dde",
        "colab": {
          "base_uri": "https://localhost:8080/"
        }
      },
      "outputs": [
        {
          "output_type": "stream",
          "name": "stderr",
          "text": [
            "\r0it [00:00, ?it/s]/tmp/ipython-input-1545659670.py:53: UserWarning: To copy construct from a tensor, it is recommended to use sourceTensor.detach().clone() or sourceTensor.detach().clone().requires_grad_(True), rather than torch.tensor(sourceTensor).\n",
            "  w.repeat(K, 1) for w in torch.tensor(w_context).split(1)\n",
            "/tmp/ipython-input-1339109259.py:13: DeprecationWarning: __array_wrap__ must accept context and return_scalar arguments (positionally) in the future. (Deprecated NumPy 2.0)\n",
            "  normalized_embeddings = embedding_weights.cpu() / np.sqrt(\n",
            "1it [00:02,  2.14s/it]"
          ]
        },
        {
          "output_type": "stream",
          "name": "stdout",
          "text": [
            "| epoch   1 |     0/32580 batches | loss    1.568 \n",
            "money: salicylate, admittedly, faro, reactivation, cyclase, cvd, woo, piper, surgical, jfk\n",
            "lion: branwell, plough, refurbished, virginis, politician, relaxed, erlk, melbourne, flutes, trento\n",
            "africa: jpeg, cronus, rstendamm, heures, rachid, pythons, bolyai, bergman, cassettes, dichromate\n",
            "musician: jaws, boar, rochester, circuit, representatives, taxing, commemorates, beverages, electrotechnical, maia\n",
            "dance: substantiated, houghton, asks, darryl, magick, honours, fatimid, solzhenitsyn, falange, commotion\n",
            "\n",
            "\n"
          ]
        },
        {
          "output_type": "stream",
          "name": "stderr",
          "text": [
            "500it [00:11, 51.00it/s]"
          ]
        },
        {
          "output_type": "stream",
          "name": "stdout",
          "text": [
            "| epoch   1 |   500/32580 batches | loss    1.360 \n",
            "money: salicylate, reactivation, admittedly, cyclase, faro, piper, woo, jem, opportunistic, domesticated\n",
            "lion: branwell, plough, refurbished, relaxed, virginis, politician, erlk, melbourne, trento, flutes\n",
            "africa: jpeg, cronus, rachid, cassettes, rstendamm, heures, splicing, bolyai, dichromate, extensions\n",
            "musician: jaws, boar, circuit, rochester, representatives, taxing, maia, electrotechnical, commemorates, beverages\n",
            "dance: substantiated, houghton, asks, darryl, magick, honours, german, falange, fatimid, solzhenitsyn\n",
            "\n",
            "\n"
          ]
        },
        {
          "output_type": "stream",
          "name": "stderr",
          "text": [
            "1000it [00:21, 51.74it/s]"
          ]
        },
        {
          "output_type": "stream",
          "name": "stdout",
          "text": [
            "| epoch   1 |  1000/32580 batches | loss    1.254 \n",
            "money: salicylate, cyclase, piper, reactivation, jem, admittedly, cvd, faro, opportunistic, domesticated\n",
            "lion: branwell, plough, refurbished, relaxed, politician, virginis, erlk, melbourne, trento, flutes\n",
            "africa: jpeg, cronus, cassettes, rachid, white, norville, entertaining, splicing, dichromate, rstendamm\n",
            "musician: jaws, rochester, boar, circuit, representatives, taxing, electrotechnical, maia, beverages, commemorates\n",
            "dance: substantiated, houghton, darryl, asks, magick, german, honours, commotion, thirsty, solzhenitsyn\n",
            "\n",
            "\n"
          ]
        },
        {
          "output_type": "stream",
          "name": "stderr",
          "text": [
            "1496it [00:31, 51.42it/s]"
          ]
        },
        {
          "output_type": "stream",
          "name": "stdout",
          "text": [
            "| epoch   1 |  1500/32580 batches | loss    1.208 \n",
            "money: salicylate, cyclase, jem, piper, reactivation, opportunistic, poison, cvd, domesticated, jfk\n",
            "lion: branwell, refurbished, plough, relaxed, erlk, virginis, politician, melbourne, trento, flutes\n",
            "africa: jpeg, white, cronus, norville, rachid, entertaining, cassettes, splicing, extensions, bru\n",
            "musician: jaws, rochester, circuit, boar, representatives, taxing, maia, electrotechnical, esat, subgenera\n",
            "dance: houghton, substantiated, darryl, asks, magick, honours, german, shareholders, fatimid, recalls\n",
            "\n",
            "\n"
          ]
        },
        {
          "output_type": "stream",
          "name": "stderr",
          "text": [
            "1997it [00:41, 52.19it/s]"
          ]
        },
        {
          "output_type": "stream",
          "name": "stdout",
          "text": [
            "| epoch   1 |  2000/32580 batches | loss    1.177 \n",
            "money: salicylate, piper, cyclase, jem, opportunistic, reactivation, domesticated, poison, cvd, jfk\n",
            "lion: branwell, refurbished, plough, relaxed, erlk, virginis, melbourne, politician, trento, flutes\n",
            "africa: jpeg, norville, white, cronus, rachid, entertaining, cassettes, bru, imparts, extensions\n",
            "musician: rochester, jaws, boar, circuit, representatives, taxing, maia, electrotechnical, esat, subgenera\n",
            "dance: substantiated, houghton, darryl, asks, magick, honours, german, shareholders, commotion, thirsty\n",
            "\n",
            "\n"
          ]
        },
        {
          "output_type": "stream",
          "name": "stderr",
          "text": [
            "2500it [00:51, 51.43it/s]"
          ]
        },
        {
          "output_type": "stream",
          "name": "stdout",
          "text": [
            "| epoch   1 |  2500/32580 batches | loss    1.150 \n",
            "money: salicylate, piper, reactivation, cyclase, opportunistic, domesticated, jem, poison, cvd, jfk\n",
            "lion: branwell, refurbished, plough, relaxed, erlk, melbourne, politician, virginis, trento, flutes\n",
            "africa: jpeg, white, norville, entertaining, cronus, rachid, cassettes, imparts, bru, bolyai\n",
            "musician: rochester, jaws, circuit, boar, representatives, taxing, maia, esat, electrotechnical, subgenera\n",
            "dance: substantiated, houghton, asks, german, darryl, magick, recalls, gospel, honours, shareholders\n",
            "\n",
            "\n"
          ]
        },
        {
          "output_type": "stream",
          "name": "stderr",
          "text": [
            "2998it [01:01, 51.58it/s]"
          ]
        },
        {
          "output_type": "stream",
          "name": "stdout",
          "text": [
            "| epoch   1 |  3000/32580 batches | loss    1.126 \n",
            "money: salicylate, piper, reactivation, cyclase, opportunistic, jem, domesticated, poison, cvd, subsidies\n",
            "lion: branwell, refurbished, plough, relaxed, melbourne, erlk, virginis, politician, trento, flutes\n",
            "africa: jpeg, norville, white, entertaining, cronus, imparts, bru, rachid, cassettes, extensions\n",
            "musician: rochester, jaws, boar, representatives, circuit, taxing, maia, esat, electrotechnical, subgenera\n",
            "dance: substantiated, houghton, german, asks, darryl, recalls, magick, gospel, commotion, fatimid\n",
            "\n",
            "\n"
          ]
        },
        {
          "output_type": "stream",
          "name": "stderr",
          "text": [
            "3500it [01:11, 51.98it/s]"
          ]
        },
        {
          "output_type": "stream",
          "name": "stdout",
          "text": [
            "| epoch   1 |  3500/32580 batches | loss    1.104 \n",
            "money: salicylate, piper, poison, cyclase, opportunistic, reactivation, domesticated, jem, cvd, subsidies\n",
            "lion: branwell, refurbished, plough, relaxed, melbourne, erlk, virginis, trento, politician, flutes\n",
            "africa: white, jpeg, norville, entertaining, city, cronus, imparts, bru, extensions, rachid\n",
            "musician: rochester, representatives, circuit, boar, jaws, taxing, maia, esat, subgenera, electrotechnical\n",
            "dance: substantiated, houghton, asks, recalls, darryl, german, gospel, magick, thirsty, commotion\n",
            "\n",
            "\n"
          ]
        },
        {
          "output_type": "stream",
          "name": "stderr",
          "text": [
            "3998it [01:21, 52.69it/s]"
          ]
        },
        {
          "output_type": "stream",
          "name": "stdout",
          "text": [
            "| epoch   1 |  4000/32580 batches | loss    1.084 \n",
            "money: salicylate, piper, poison, jem, opportunistic, domesticated, reactivation, cyclase, subsidies, cvd\n",
            "lion: branwell, refurbished, relaxed, plough, erlk, melbourne, virginis, politician, flutes, trento\n",
            "africa: white, norville, jpeg, entertaining, city, cronus, imparts, bru, splicing, allocating\n",
            "musician: rochester, representatives, boar, circuit, jaws, maia, esat, taxing, subgenera, electrotechnical\n",
            "dance: substantiated, houghton, asks, recalls, gospel, darryl, hell, german, thirsty, shareholders\n",
            "\n",
            "\n"
          ]
        },
        {
          "output_type": "stream",
          "name": "stderr",
          "text": [
            "4501it [01:31, 34.44it/s]"
          ]
        },
        {
          "output_type": "stream",
          "name": "stdout",
          "text": [
            "| epoch   1 |  4500/32580 batches | loss    1.067 \n",
            "money: salicylate, piper, opportunistic, poison, domesticated, jem, subsidies, cyclase, reactivation, cvd\n",
            "lion: branwell, refurbished, relaxed, plough, erlk, melbourne, politician, virginis, flutes, itosu\n",
            "africa: white, city, norville, jpeg, entertaining, cronus, bru, imparts, flanged, splicing\n",
            "musician: rochester, representatives, jaws, esat, boar, maia, circuit, taxing, subgenera, trophyless\n",
            "dance: substantiated, houghton, gospel, asks, recalls, german, hell, darryl, thirsty, shareholders\n",
            "\n",
            "\n"
          ]
        },
        {
          "output_type": "stream",
          "name": "stderr",
          "text": [
            "4998it [01:41, 51.10it/s]"
          ]
        },
        {
          "output_type": "stream",
          "name": "stdout",
          "text": [
            "| epoch   1 |  5000/32580 batches | loss    1.050 \n",
            "money: salicylate, piper, opportunistic, domesticated, poison, subsidies, jem, cyclase, cvd, discs\n",
            "lion: branwell, refurbished, relaxed, plough, melbourne, erlk, politician, virginis, itosu, armaments\n",
            "africa: white, city, entertaining, norville, jpeg, cronus, bru, imparts, example, splicing\n",
            "musician: rochester, representatives, circuit, jaws, esat, maia, boar, taxing, subgenera, electrotechnical\n",
            "dance: substantiated, gospel, houghton, asks, recalls, german, hell, darryl, thirsty, shareholders\n",
            "\n",
            "\n"
          ]
        },
        {
          "output_type": "stream",
          "name": "stderr",
          "text": [
            "\r5004it [01:41, 33.32it/s]"
          ]
        }
      ],
      "source": [
        "for epoch in range(1, NUM_EPOCHS + 1):\n",
        "    epoch_start_time = time.time()\n",
        "\n",
        "    train(train_dl, model, optimizer, epoch)\n",
        "    # We have a learning rate scheduler here\n",
        "\n",
        "    # Basically, given the state of the optimizer, this lowers the learning rate in a smart way\n",
        "    scheduler.step()"
      ]
    },
    {
      "cell_type": "code",
      "execution_count": null,
      "id": "b0227888",
      "metadata": {
        "id": "b0227888"
      },
      "outputs": [],
      "source": []
    }
  ],
  "metadata": {
    "colab": {
      "provenance": [],
      "machine_shape": "hm",
      "gpuType": "T4"
    },
    "kernelspec": {
      "display_name": "Python 3",
      "name": "python3"
    },
    "language_info": {
      "codemirror_mode": {
        "name": "ipython",
        "version": 3
      },
      "file_extension": ".py",
      "mimetype": "text/x-python",
      "name": "python",
      "nbconvert_exporter": "python",
      "pygments_lexer": "ipython3",
      "version": "3.8.15"
    },
    "accelerator": "GPU"
  },
  "nbformat": 4,
  "nbformat_minor": 5
}