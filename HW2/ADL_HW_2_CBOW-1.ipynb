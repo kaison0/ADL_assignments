{
  "cells": [
    {
      "cell_type": "code",
      "execution_count": 1,
      "id": "080d50fc",
      "metadata": {
        "id": "080d50fc"
      },
      "outputs": [],
      "source": [
        "import time\n",
        "import torch\n",
        "from torch.utils.data import DataLoader, TensorDataset\n",
        "import torch.nn as nn\n",
        "from tqdm import tqdm\n",
        "import pickle\n",
        "import random\n",
        "import numpy as np\n",
        "from collections import Counter, defaultdict\n",
        "import numpy as np\n",
        "from torch import FloatTensor as FT"
      ]
    },
    {
      "cell_type": "code",
      "execution_count": null,
      "id": "f5419c32",
      "metadata": {
        "id": "f5419c32"
      },
      "outputs": [],
      "source": []
    },
    {
      "cell_type": "markdown",
      "id": "66eb271d",
      "metadata": {
        "id": "66eb271d"
      },
      "source": [
        "### Instructions\n",
        "For this part, fill in the required code and make the notebook work. This wll be very similar to the Skip-Gram model, but a little more difficult. Look for the \"\"\" FILL IN \"\"\" string to guide you."
      ]
    },
    {
      "cell_type": "code",
      "execution_count": 2,
      "id": "31b412ca",
      "metadata": {
        "id": "31b412ca"
      },
      "outputs": [],
      "source": [
        "# Where do I want to run my job. You can do \"cuda\" on linux machines\n",
        "# DEVICE = \"mps\" if torch.backends.mps.is_available() else  \"cpu\"\n",
        "DEVICE = \"cuda\" if torch.cuda.is_available() else  \"cpu\"\n",
        "\n",
        "# The batch size in Adam or SGD\n",
        "BATCH_SIZE = 512\n",
        "\n",
        "# Number of epochs\n",
        "NUM_EPOCHS = 10\n",
        "\n",
        "# Predict from 2 words the inner word for CBOW\n",
        "# I.e. I'll have a window like [\"a\", \"b\", \"c\"] of continuous text (each is a word)\n",
        "# We'll predict each of wc = [\"a\", \"c\"] from \"b\" = wc for Skip-Gram\n",
        "# For CBOW, we'll use [\"a\", \"c\"] to predict \"b\" = wo\n",
        "WINDOW = 1\n",
        "\n",
        "# Negative samples.\n",
        "K = 4"
      ]
    },
    {
      "cell_type": "code",
      "execution_count": 3,
      "id": "e3311ae5",
      "metadata": {
        "id": "e3311ae5",
        "colab": {
          "base_uri": "https://localhost:8080/",
          "height": 36
        },
        "outputId": "f602c20e-674e-4da2-97fa-31de04adbe2d"
      },
      "outputs": [
        {
          "output_type": "execute_result",
          "data": {
            "text/plain": [
              "'cuda'"
            ],
            "application/vnd.google.colaboratory.intrinsic+json": {
              "type": "string"
            }
          },
          "metadata": {},
          "execution_count": 3
        }
      ],
      "source": [
        "DEVICE"
      ]
    },
    {
      "cell_type": "markdown",
      "id": "3ec9f90a",
      "metadata": {
        "id": "3ec9f90a"
      },
      "source": [
        "The text8 Wikipedia corpus. 100M characters."
      ]
    },
    {
      "cell_type": "code",
      "execution_count": 4,
      "id": "3217b67b",
      "metadata": {
        "id": "3217b67b",
        "outputId": "c45321f3-dda3-4cbc-baa3-79090dd0fc3f",
        "colab": {
          "base_uri": "https://localhost:8080/"
        }
      },
      "outputs": [
        {
          "output_type": "stream",
          "name": "stdout",
          "text": [
            "Mounted at /content/drive\n",
            "du: cannot access 'text8': No such file or directory\n",
            "100000000\n"
          ]
        }
      ],
      "source": [
        "from google.colab import drive\n",
        "drive.mount('/content/drive')\n",
        "\n",
        "!du -h text8\n",
        "\n",
        "f = open('/content/drive/MyDrive/text8', 'r')\n",
        "text = f.read()\n",
        "# One big string of size 100M\n",
        "print(len(text))"
      ]
    },
    {
      "cell_type": "code",
      "execution_count": 5,
      "id": "6c1bf892",
      "metadata": {
        "id": "6c1bf892"
      },
      "outputs": [],
      "source": [
        "punc = '!\"#$%&()*+,-./:;<=>?@[\\\\]^_\\'{|}~\\t\\n'\n",
        "\n",
        "# Can do regular expressions here too\n",
        "for c in punc:\n",
        "    if c in text:\n",
        "        text.replace(c, ' ')"
      ]
    },
    {
      "cell_type": "code",
      "execution_count": null,
      "id": "451bf3ab",
      "metadata": {
        "id": "451bf3ab"
      },
      "outputs": [],
      "source": []
    },
    {
      "cell_type": "code",
      "execution_count": 7,
      "id": "0bc19b0c",
      "metadata": {
        "id": "0bc19b0c",
        "colab": {
          "base_uri": "https://localhost:8080/",
          "height": 36
        },
        "outputId": "7dfd2829-b0f0-40e6-b752-a8189c7dda37"
      },
      "outputs": [
        {
          "output_type": "execute_result",
          "data": {
            "text/plain": [
              "' FILL IN '"
            ],
            "application/vnd.google.colaboratory.intrinsic+json": {
              "type": "string"
            }
          },
          "metadata": {},
          "execution_count": 7
        }
      ],
      "source": [
        "def get_tokenizer(text):\n",
        "  return text.lower().split()\n",
        "\n",
        "# A very crude tokenizer you get for free: lower case and also split on spaces\n",
        "# This will not work!\n",
        "# Split text on space and strip each word\n",
        "# You should get a list \"words\" which is text but each element is a word in order\n",
        "TOKENIZER = get_tokenizer"
      ]
    },
    {
      "cell_type": "code",
      "execution_count": 8,
      "id": "ff8fd598",
      "metadata": {
        "id": "ff8fd598"
      },
      "outputs": [],
      "source": [
        "words = TOKENIZER(text)\n",
        "f = Counter(words)\n",
        "# Fix the above"
      ]
    },
    {
      "cell_type": "code",
      "execution_count": 9,
      "id": "ba7f72f8",
      "metadata": {
        "id": "ba7f72f8",
        "outputId": "e333a750-2326-4de8-d1ec-f9337618978a",
        "colab": {
          "base_uri": "https://localhost:8080/"
        }
      },
      "outputs": [
        {
          "output_type": "execute_result",
          "data": {
            "text/plain": [
              "17005207"
            ]
          },
          "metadata": {},
          "execution_count": 9
        }
      ],
      "source": [
        "len(words)"
      ]
    },
    {
      "cell_type": "code",
      "execution_count": 10,
      "id": "16b736a4",
      "metadata": {
        "id": "16b736a4"
      },
      "outputs": [],
      "source": [
        "# Do a very crude filter on the text which removes all very popular words\n",
        "text = [word for word in words if f[word] > 5]"
      ]
    },
    {
      "cell_type": "code",
      "execution_count": 11,
      "id": "6916a763",
      "metadata": {
        "id": "6916a763",
        "outputId": "5c0d8474-4ce5-49ff-cc19-50ea11387aef",
        "colab": {
          "base_uri": "https://localhost:8080/"
        }
      },
      "outputs": [
        {
          "output_type": "execute_result",
          "data": {
            "text/plain": [
              "['anarchism', 'originated', 'as', 'a', 'term']"
            ]
          },
          "metadata": {},
          "execution_count": 11
        }
      ],
      "source": [
        "text[0:5]"
      ]
    },
    {
      "cell_type": "code",
      "execution_count": 13,
      "id": "10ad817a",
      "metadata": {
        "id": "10ad817a"
      },
      "outputs": [],
      "source": [
        "class Vocab:\n",
        "  def __init__(self, itos):\n",
        "    self.itos = itos\n",
        "    self.stoi = {token: idx for idx, token in enumerate(itos)}\n",
        "\n",
        "  def get_stoi(self):\n",
        "    return self.stoi\n",
        "\n",
        "  def get_itos(self):\n",
        "    return self.itos\n",
        "\n",
        "  def __len__(self):\n",
        "    return len(self.itos)\n",
        "\n",
        "def build_vocab_from_iterator(iterator):\n",
        "    counter = Counter()\n",
        "    for tokens in iterator:\n",
        "        counter.update(tokens)\n",
        "\n",
        "    itos = []\n",
        "    for token, _ in counter.most_common():\n",
        "        if token not in itos:\n",
        "            itos.append(token)\n",
        "\n",
        "    return Vocab(itos)\n",
        "\n",
        "VOCAB = build_vocab_from_iterator([text])\n",
        "# Rebuild the vocabulary from text above"
      ]
    },
    {
      "cell_type": "code",
      "execution_count": 14,
      "id": "a7f69fc9",
      "metadata": {
        "id": "a7f69fc9"
      },
      "outputs": [],
      "source": [
        "# Populate these maps manually using Counter or defaltdict\n",
        "# This will not work\n",
        "\n",
        "# word -> int hash map\n",
        "stoi = VOCAB.get_stoi()\n",
        "# int -> word hash map\n",
        "itos = VOCAB.get_itos()"
      ]
    },
    {
      "cell_type": "code",
      "execution_count": 15,
      "id": "9991f9ab",
      "metadata": {
        "id": "9991f9ab",
        "outputId": "e521b4ae-c91c-4758-f199-93a5bf71d886",
        "colab": {
          "base_uri": "https://localhost:8080/"
        }
      },
      "outputs": [
        {
          "output_type": "execute_result",
          "data": {
            "text/plain": [
              "11"
            ]
          },
          "metadata": {},
          "execution_count": 15
        }
      ],
      "source": [
        "stoi['as']"
      ]
    },
    {
      "cell_type": "code",
      "execution_count": 16,
      "id": "0f49f5fa",
      "metadata": {
        "id": "0f49f5fa",
        "outputId": "4e78f7d0-c41b-4c14-a0df-e95edb773a68",
        "colab": {
          "base_uri": "https://localhost:8080/"
        }
      },
      "outputs": [
        {
          "output_type": "execute_result",
          "data": {
            "text/plain": [
              "63641"
            ]
          },
          "metadata": {},
          "execution_count": 16
        }
      ],
      "source": [
        "# Total number of words; you should see about 63K as below\n",
        "len(stoi)"
      ]
    },
    {
      "cell_type": "code",
      "execution_count": 17,
      "id": "6c5c415a",
      "metadata": {
        "id": "6c5c415a"
      },
      "outputs": [],
      "source": [
        "f = Counter(text)\n",
        "# This is the probability that we pick a word in the corpus\n",
        "z = {word: f[word] / len(text) for word in f}"
      ]
    },
    {
      "cell_type": "code",
      "execution_count": 18,
      "id": "1e543e1e",
      "metadata": {
        "id": "1e543e1e"
      },
      "outputs": [],
      "source": [
        "threshold = 1e-5\n",
        "# Probability that word is kept while subsampling\n",
        "# This is explained here and sightly differet from the paper: http://mccormickml.com/2017/01/11/word2vec-tutorial-part-2-negative-sampling/\n",
        "p_keep = {word: (np.sqrt(z[word] / 0.001) + 1)*(0.0001 / z[word]) for word in f}"
      ]
    },
    {
      "cell_type": "code",
      "execution_count": 19,
      "id": "dd22119d",
      "metadata": {
        "id": "dd22119d"
      },
      "outputs": [],
      "source": [
        "# This is in the integer space\n",
        "train_dataset = [word for word in text if random.random() < p_keep[word]]\n",
        "\n",
        "# Rebuild the vocabulary\n",
        "VOCAB = build_vocab_from_iterator([train_dataset])"
      ]
    },
    {
      "cell_type": "code",
      "execution_count": 20,
      "id": "a2d695da",
      "metadata": {
        "id": "a2d695da",
        "outputId": "9a82890d-24fb-4694-fe6d-5876dba8453f",
        "colab": {
          "base_uri": "https://localhost:8080/"
        }
      },
      "outputs": [
        {
          "output_type": "execute_result",
          "data": {
            "text/plain": [
              "7845676"
            ]
          },
          "metadata": {},
          "execution_count": 20
        }
      ],
      "source": [
        "len(train_dataset)"
      ]
    },
    {
      "cell_type": "code",
      "execution_count": 21,
      "id": "30d67549",
      "metadata": {
        "id": "30d67549"
      },
      "outputs": [],
      "source": [
        "# Repopulate the stoi and itos maps again now that you dropped some words\n",
        "\n",
        "# word -> int mapping\n",
        "stoi = VOCAB.get_stoi()\n",
        "# int -> word mapping\n",
        "itos = VOCAB.get_itos()"
      ]
    },
    {
      "cell_type": "code",
      "execution_count": 22,
      "id": "b46337b8",
      "metadata": {
        "id": "b46337b8",
        "outputId": "3aa6279e-70c8-460a-d46e-73edaaae83e9",
        "colab": {
          "base_uri": "https://localhost:8080/"
        }
      },
      "outputs": [
        {
          "output_type": "execute_result",
          "data": {
            "text/plain": [
              "63641"
            ]
          },
          "metadata": {},
          "execution_count": 22
        }
      ],
      "source": [
        "# The vocabulary size after we do all the filters\n",
        "len(VOCAB)"
      ]
    },
    {
      "cell_type": "code",
      "execution_count": 23,
      "id": "c9346f36",
      "metadata": {
        "id": "c9346f36"
      },
      "outputs": [],
      "source": [
        "# The probability we draw something for negative sampling\n",
        "f = Counter(train_dataset)\n",
        "p = torch.zeros(len(VOCAB))\n",
        "\n",
        "# Downsample frequent words and upsample less frequent\n",
        "s = sum([np.power(freq, 0.75) for word, freq in f.items()])\n",
        "\n",
        "for word in f:\n",
        "    p[stoi[word]] = np.power(f[word], 0.75) / s"
      ]
    },
    {
      "cell_type": "code",
      "execution_count": 24,
      "id": "dd713c15",
      "metadata": {
        "id": "dd713c15"
      },
      "outputs": [],
      "source": [
        "# Map everything to integers\n",
        "# This might not work be careful w the above ...\n",
        "train_dataset = [stoi[word] for word in text]"
      ]
    },
    {
      "cell_type": "code",
      "execution_count": 45,
      "id": "8e96c0c4",
      "metadata": {
        "id": "8e96c0c4"
      },
      "outputs": [],
      "source": [
        "# This just gets the (wc, wo) pairs that are positive - they are seen together!\n",
        "def get_tokenized_dataset(dataset, verbose=False):\n",
        "    x_list = []\n",
        "\n",
        "    for i, token in enumerate(dataset):\n",
        "        m = 1\n",
        "\n",
        "        # Get the left and right tokens\n",
        "        start = max(0, i - m)\n",
        "        left_tokens = dataset[start: i]\n",
        "\n",
        "        end = min(i + m, len(dataset) - 1)\n",
        "        right_tokens = dataset[i + 1: end + 1]\n",
        "\n",
        "        # Check these are the same length, and if so use them to add a row of data. This should be a list like\n",
        "        # [a, c, b] where b is the center word\n",
        "        if len(left_tokens) == len(right_tokens):\n",
        "            w_context = left_tokens + right_tokens\n",
        "\n",
        "            wc = [token]\n",
        "\n",
        "            x_list.extend(\n",
        "                [w_context + wc]\n",
        "            )\n",
        "\n",
        "    return x_list"
      ]
    },
    {
      "cell_type": "code",
      "execution_count": 46,
      "id": "3eb82aad",
      "metadata": {
        "id": "3eb82aad"
      },
      "outputs": [],
      "source": [
        "train_x_list = get_tokenized_dataset(train_dataset, verbose=False)"
      ]
    },
    {
      "cell_type": "code",
      "execution_count": 48,
      "id": "8412ee4d",
      "metadata": {
        "id": "8412ee4d"
      },
      "outputs": [],
      "source": [
        "pickle.dump(train_x_list, open('train_x_list.pkl', 'wb'))"
      ]
    },
    {
      "cell_type": "code",
      "execution_count": 49,
      "id": "3fd54caf",
      "metadata": {
        "id": "3fd54caf"
      },
      "outputs": [],
      "source": [
        "train_x_list = pickle.load(open('train_x_list.pkl', 'rb'))"
      ]
    },
    {
      "cell_type": "code",
      "execution_count": 50,
      "id": "576765f3",
      "metadata": {
        "id": "576765f3",
        "outputId": "1e37152b-9608-45b7-9243-9a0a1c393484",
        "colab": {
          "base_uri": "https://localhost:8080/"
        }
      },
      "outputs": [
        {
          "output_type": "execute_result",
          "data": {
            "text/plain": [
              "[[5233, 11, 3080],\n",
              " [3080, 6, 11],\n",
              " [11, 164, 6],\n",
              " [6, 1, 164],\n",
              " [164, 3133, 1],\n",
              " [1, 46, 3133],\n",
              " [3133, 60, 46],\n",
              " [46, 177, 60],\n",
              " [60, 123, 177],\n",
              " [177, 741, 123]]"
            ]
          },
          "metadata": {},
          "execution_count": 50
        }
      ],
      "source": [
        "# These are (wc, wo) pairs. All are y = +1 by design\n",
        "train_x_list[:10]"
      ]
    },
    {
      "cell_type": "code",
      "execution_count": 51,
      "id": "316df1dc",
      "metadata": {
        "id": "316df1dc"
      },
      "outputs": [],
      "source": [
        "# The number of things of BATCH_SIZE = 512\n",
        "assert(len(train_x_list) // BATCH_SIZE == 32579)"
      ]
    },
    {
      "cell_type": "code",
      "execution_count": 53,
      "id": "8012d03d",
      "metadata": {
        "id": "8012d03d",
        "colab": {
          "base_uri": "https://localhost:8080/",
          "height": 36
        },
        "outputId": "0b0ad008-43e8-4a57-c9c3-0cbe0f98056e"
      },
      "outputs": [
        {
          "output_type": "execute_result",
          "data": {
            "text/plain": [
              "'cuda'"
            ],
            "application/vnd.google.colaboratory.intrinsic+json": {
              "type": "string"
            }
          },
          "metadata": {},
          "execution_count": 53
        }
      ],
      "source": []
    },
    {
      "cell_type": "markdown",
      "id": "488c3519",
      "metadata": {
        "id": "488c3519"
      },
      "source": [
        "### Set up the dataloader."
      ]
    },
    {
      "cell_type": "code",
      "execution_count": 52,
      "id": "2e31ae4b",
      "metadata": {
        "id": "2e31ae4b"
      },
      "outputs": [],
      "source": [
        "train_dl = DataLoader(\n",
        "    TensorDataset(\n",
        "        torch.tensor(train_x_list).to(DEVICE),\n",
        "    ),\n",
        "    batch_size=BATCH_SIZE,\n",
        "    shuffle=True\n",
        ")"
      ]
    },
    {
      "cell_type": "code",
      "execution_count": 54,
      "id": "e9c42f50",
      "metadata": {
        "id": "e9c42f50"
      },
      "outputs": [],
      "source": [
        "for xb in train_dl:\n",
        "    assert(xb[0].shape == (BATCH_SIZE, 3))\n",
        "    break"
      ]
    },
    {
      "cell_type": "code",
      "execution_count": null,
      "id": "8c949153",
      "metadata": {
        "id": "8c949153"
      },
      "outputs": [],
      "source": []
    },
    {
      "cell_type": "markdown",
      "id": "12d93d22",
      "metadata": {
        "id": "12d93d22"
      },
      "source": [
        "### Words we'll use to asses the quality of the model ..."
      ]
    },
    {
      "cell_type": "code",
      "execution_count": 55,
      "id": "ffada8d0",
      "metadata": {
        "id": "ffada8d0"
      },
      "outputs": [],
      "source": [
        "valid_ids = torch.tensor([\n",
        "    stoi['money'],\n",
        "    stoi['lion'],\n",
        "    stoi['africa'],\n",
        "    stoi['musician'],\n",
        "    stoi['dance'],\n",
        "])"
      ]
    },
    {
      "cell_type": "code",
      "execution_count": null,
      "id": "867d3a88",
      "metadata": {
        "id": "867d3a88"
      },
      "outputs": [],
      "source": []
    },
    {
      "cell_type": "markdown",
      "id": "64096cd8",
      "metadata": {
        "id": "64096cd8"
      },
      "source": [
        "### Get the model."
      ]
    },
    {
      "cell_type": "code",
      "execution_count": 65,
      "id": "dc51c359",
      "metadata": {
        "id": "dc51c359"
      },
      "outputs": [],
      "source": [
        "class CBOWNegativeSampling(nn.Module):\n",
        "    def __init__(self, vocab_size, embed_dim):\n",
        "        super(CBOWNegativeSampling, self).__init__()\n",
        "        self.A = nn.Embedding(vocab_size, embed_dim) # Context vectors - center word\n",
        "        self.B = nn.Embedding(vocab_size, embed_dim) # Output vectors - words around the center word\n",
        "        self.init_weights()\n",
        "\n",
        "    def init_weights(self):\n",
        "        # Is this the best way? Not sure\n",
        "        initrange = 0.5\n",
        "        self.A.weight.data.uniform_(-initrange, initrange)\n",
        "        self.B.weight.data.uniform_(-initrange, initrange)\n",
        "\n",
        "    def forward(self, x):\n",
        "        # N is the batch size\n",
        "        # x is (N, 3)\n",
        "\n",
        "        # Context words are 2m things, m = 1 so w_context is (N, 2) while wc is (N, 1)\n",
        "        w_context, wc = x[:, : 2], x[:, 2: 3]\n",
        "\n",
        "        # Each of these is (N, 2, D) since each context has 2 word\n",
        "        # We want this to be (N, D) and this is what we get\n",
        "\n",
        "        # (N, 2, D)\n",
        "        a = self.A(w_context)\n",
        "\n",
        "        # (N, D)\n",
        "        a_avg = a.mean(dim = 1).squeeze(dim = 1)\n",
        "\n",
        "        # Each of these is (N, D) since each target has 1 word\n",
        "        b = self.B(wc).squeeze(dim = 1)\n",
        "\n",
        "        # The product between each context and target vector. Look at the Skip-Gram code.\n",
        "        # The logits is now (N, 1) since we sum across the final dimension.\n",
        "        logits = (a_avg*b).sum(dim=1)\n",
        "\n",
        "        return logits"
      ]
    },
    {
      "cell_type": "code",
      "execution_count": null,
      "id": "7ae817c1",
      "metadata": {
        "id": "7ae817c1"
      },
      "outputs": [],
      "source": []
    },
    {
      "cell_type": "code",
      "execution_count": 66,
      "id": "ed9c509d",
      "metadata": {
        "id": "ed9c509d"
      },
      "outputs": [],
      "source": [
        "@torch.no_grad()\n",
        "def validate_embeddings(\n",
        "    model,\n",
        "    valid_ids,\n",
        "    itos\n",
        "):\n",
        "    \"\"\" Validation logic \"\"\"\n",
        "\n",
        "    # We will use context embeddings to get the most similar words\n",
        "    # Other strategies include: using target embeddings, mean embeddings after avaraging context/target\n",
        "    embedding_weights = model.A.weight\n",
        "\n",
        "    normalized_embeddings = embedding_weights.cpu() / np.sqrt(\n",
        "        np.sum(embedding_weights.cpu().numpy()**2, axis=1, keepdims=True)\n",
        "    )\n",
        "\n",
        "    # Get the embeddings corresponding to valid_term_ids\n",
        "    valid_embeddings = normalized_embeddings[valid_ids, :]\n",
        "\n",
        "    # Compute the similarity between valid_term_ids (S) and all the embeddings (V)\n",
        "    # We do S x d (d x V) => S x D and sort by negative similarity\n",
        "    top_k = 10 # Top k items will be displayed\n",
        "    similarity = np.dot(valid_embeddings.cpu().numpy(), normalized_embeddings.cpu().numpy().T)\n",
        "\n",
        "    # Invert similarity matrix to negative\n",
        "    # Ignore the first one because that would be the same word as the probe word\n",
        "    similarity_top_k = np.argsort(-similarity, axis=1)[:, 1: top_k+1]\n",
        "\n",
        "    # Print the output.\n",
        "    for i, word_id in enumerate(valid_ids):\n",
        "        # j >= 1 here since we don't want to include the word itself.\n",
        "        similar_word_str = ', '.join([itos[j] for j in similarity_top_k[i, :] if j >= 1])\n",
        "        # This might need a fix!\n",
        "        print(f\"{itos[word_id]}: {similar_word_str}\")\n",
        "\n",
        "    print('\\n')"
      ]
    },
    {
      "cell_type": "code",
      "execution_count": null,
      "id": "b0c194b8",
      "metadata": {
        "id": "b0c194b8"
      },
      "outputs": [],
      "source": []
    },
    {
      "cell_type": "markdown",
      "id": "3b3c6ed5",
      "metadata": {
        "id": "3b3c6ed5"
      },
      "source": [
        "### Set up the model"
      ]
    },
    {
      "cell_type": "code",
      "execution_count": 67,
      "id": "16da95d1",
      "metadata": {
        "id": "16da95d1"
      },
      "outputs": [],
      "source": [
        "LR = 10.0\n",
        "NUM_EPOCHS = 10\n",
        "EMBED_DIM = 300"
      ]
    },
    {
      "cell_type": "code",
      "execution_count": 68,
      "id": "cef585f4",
      "metadata": {
        "id": "cef585f4"
      },
      "outputs": [],
      "source": [
        "model = CBOWNegativeSampling(len(VOCAB), EMBED_DIM).to(DEVICE)\n",
        "optimizer = torch.optim.SGD(model.parameters(), lr=LR)\n",
        "\n",
        "# The learning rate is lowered every epoch by 1/10\n",
        "# Is this a good idea?\n",
        "scheduler = torch.optim.lr_scheduler.StepLR(optimizer, 1, gamma=0.1)"
      ]
    },
    {
      "cell_type": "code",
      "execution_count": 69,
      "id": "f8a642bf",
      "metadata": {
        "id": "f8a642bf",
        "colab": {
          "base_uri": "https://localhost:8080/"
        },
        "outputId": "99522fec-518c-40bf-bd0e-ccd6b562c8ab"
      },
      "outputs": [
        {
          "output_type": "execute_result",
          "data": {
            "text/plain": [
              "CBOWNegativeSampling(\n",
              "  (A): Embedding(63641, 300)\n",
              "  (B): Embedding(63641, 300)\n",
              ")"
            ]
          },
          "metadata": {},
          "execution_count": 69
        }
      ],
      "source": [
        "model"
      ]
    },
    {
      "cell_type": "code",
      "execution_count": 70,
      "id": "85773616",
      "metadata": {
        "id": "85773616",
        "colab": {
          "base_uri": "https://localhost:8080/"
        },
        "outputId": "aff70add-3b27-47b7-f826-3ea5a69cd9d9"
      },
      "outputs": [
        {
          "output_type": "stream",
          "name": "stdout",
          "text": [
            "money: salicylate, admittedly, faro, reactivation, cyclase, cvd, woo, piper, surgical, jfk\n",
            "lion: branwell, plough, refurbished, virginis, politician, relaxed, erlk, melbourne, flutes, trento\n",
            "africa: jpeg, cronus, rstendamm, heures, rachid, pythons, bolyai, cassettes, bergman, dichromate\n",
            "musician: jaws, boar, rochester, circuit, representatives, taxing, commemorates, beverages, electrotechnical, maia\n",
            "dance: substantiated, houghton, asks, darryl, magick, honours, fatimid, solzhenitsyn, falange, commotion\n",
            "\n",
            "\n"
          ]
        },
        {
          "output_type": "stream",
          "name": "stderr",
          "text": [
            "/tmp/ipython-input-1339109259.py:13: DeprecationWarning: __array_wrap__ must accept context and return_scalar arguments (positionally) in the future. (Deprecated NumPy 2.0)\n",
            "  normalized_embeddings = embedding_weights.cpu() / np.sqrt(\n"
          ]
        }
      ],
      "source": [
        "validate_embeddings(model, valid_ids, itos)"
      ]
    },
    {
      "cell_type": "code",
      "execution_count": null,
      "id": "66075f5e",
      "metadata": {
        "id": "66075f5e"
      },
      "outputs": [],
      "source": []
    },
    {
      "cell_type": "markdown",
      "id": "86476e2a",
      "metadata": {
        "id": "86476e2a"
      },
      "source": [
        "### Train the model"
      ]
    },
    {
      "cell_type": "code",
      "execution_count": 75,
      "id": "24950481",
      "metadata": {
        "id": "24950481"
      },
      "outputs": [],
      "source": [
        "ratios = []\n",
        "\n",
        "def train(dataloader, model, optimizer, epoch):\n",
        "    model.train()\n",
        "    total_acc, total_count, total_loss, total_batches = 0, 0, 0.0, 0.0\n",
        "    log_interval = 500\n",
        "\n",
        "    for idx, x_batch in tqdm(enumerate(dataloader)):\n",
        "\n",
        "        x_batch = x_batch[0]\n",
        "\n",
        "        batch_size = x_batch.shape[0]\n",
        "\n",
        "        # Zero the gradient so they don't accumulate\n",
        "        optimizer.zero_grad()\n",
        "\n",
        "        logits = model(x_batch)\n",
        "\n",
        "        # Get the positive samples loss. Notice we use weights here\n",
        "        positive_loss = torch.nn.BCEWithLogitsLoss()(input=logits, target=torch.ones(batch_size).to(DEVICE).float())\n",
        "\n",
        "        # For each batch, get some negative samples\n",
        "        # We need a total of len(y_batch) * K samples across a batch\n",
        "        # We then reshape this batch\n",
        "        # These are effectively the output words\n",
        "        negative_samples = torch.multinomial(p, batch_size * K, replacement=True).to(DEVICE)\n",
        "\n",
        "        # Context words are 2m things, m = 1 so w_context is (N, 2) while wc is (N, 1)\n",
        "        w_context, wc = x_batch[:, :2], x_batch[:, 2: 3]\n",
        "\n",
        "        \"\"\"\n",
        "        if w_context looks like below (batch_size = 3)\n",
        "        [\n",
        "        (a, b),\n",
        "        (c, d),\n",
        "        (e, f)\n",
        "        ] and K = 2 we'd like to get:\n",
        "\n",
        "        [\n",
        "        (a, b),\n",
        "        (a, b),\n",
        "        (c, d),\n",
        "        (c, d),\n",
        "        (e, f),\n",
        "        (e, f)\n",
        "        ]\n",
        "\n",
        "        This will be batch_size * K rows.\n",
        "        \"\"\"\n",
        "\n",
        "        # This should be (N * K, 2)\n",
        "        w_context = torch.concat([\n",
        "            w.repeat(K, 1) for w in torch.tensor(w_context).split(1)\n",
        "        ]).to(DEVICE)\n",
        "\n",
        "        wc = negative_samples[:, None]\n",
        "\n",
        "        # Get the negative samples. This should be (N * K, 3)\n",
        "        # Concatenate the w_context and wc along the column. Make sure everything is on CUDA / MPS or CPU\n",
        "        x_batch_negative = torch.cat([w_context, wc], dim = 1).to(DEVICE)\n",
        "\n",
        "        \"\"\"\n",
        "        Note the way we formulated the targets: they are all 0 since these are negative samples.\n",
        "        We do the BCEWithLogitsLoss by hand basically here.\n",
        "        Notice we sum across the negative samples, per positive word.\n",
        "\n",
        "        This is literally the equation in the lecture notes.\n",
        "        \"\"\"\n",
        "\n",
        "        # (N, K, D) -> (N, D) -> (N)\n",
        "        # Look at the Skip-Gram notebook\n",
        "        logits_negative = -model(x_batch_negative)\n",
        "        negative_loss = torch.nn.BCEWithLogitsLoss()(input=logits_negative, target=torch.ones(batch_size * K).to(DEVICE).float())\n",
        "\n",
        "        loss = (positive_loss + negative_loss).mean()\n",
        "\n",
        "        # Get the gradients via back propagation\n",
        "        loss.backward()\n",
        "\n",
        "        # Clip the gradients? Generally a good idea\n",
        "        torch.nn.utils.clip_grad_norm_(model.parameters(), 0.1)\n",
        "\n",
        "\n",
        "        # Do an optimization step. Update the parameters A and B\n",
        "        optimizer.step()\n",
        "        # Get the new loss\n",
        "        total_loss += loss.item()\n",
        "\n",
        "        # Update the batch count\n",
        "        total_batches += 1\n",
        "\n",
        "        if idx % log_interval == 0:\n",
        "            print(\n",
        "                \"| epoch {:3d} | {:5d}/{:5d} batches \"\n",
        "                \"| loss {:8.3f} \".format(\n",
        "                    epoch,\n",
        "                    idx,\n",
        "                    len(dataloader),\n",
        "                    total_loss / total_batches\n",
        "                )\n",
        "            )\n",
        "            validate_embeddings(model, valid_ids, itos)\n",
        "            total_loss, total_batches = 0.0, 0.0"
      ]
    },
    {
      "cell_type": "markdown",
      "id": "0764d675",
      "metadata": {
        "id": "0764d675"
      },
      "source": [
        "### Some results from the run look like below:\n",
        "\n",
        "Somewhere inside of 2 iterations you should get sensible associattions.\n",
        "Paste here a screenshot of the closest vectors."
      ]
    },
    {
      "cell_type": "code",
      "execution_count": 76,
      "id": "a9e02c09",
      "metadata": {
        "id": "a9e02c09",
        "outputId": "5b6dd6da-6c9c-4f69-f286-a642d55e5dde",
        "colab": {
          "base_uri": "https://localhost:8080/"
        }
      },
      "outputs": [
        {
          "output_type": "stream",
          "name": "stderr",
          "text": [
            "\r0it [00:00, ?it/s]/tmp/ipython-input-1545659670.py:53: UserWarning: To copy construct from a tensor, it is recommended to use sourceTensor.detach().clone() or sourceTensor.detach().clone().requires_grad_(True), rather than torch.tensor(sourceTensor).\n",
            "  w.repeat(K, 1) for w in torch.tensor(w_context).split(1)\n",
            "/tmp/ipython-input-1339109259.py:13: DeprecationWarning: __array_wrap__ must accept context and return_scalar arguments (positionally) in the future. (Deprecated NumPy 2.0)\n",
            "  normalized_embeddings = embedding_weights.cpu() / np.sqrt(\n",
            "1it [00:02,  2.14s/it]"
          ]
        },
        {
          "output_type": "stream",
          "name": "stdout",
          "text": [
            "| epoch   1 |     0/32580 batches | loss    1.568 \n",
            "money: salicylate, admittedly, faro, reactivation, cyclase, cvd, woo, piper, surgical, jfk\n",
            "lion: branwell, plough, refurbished, virginis, politician, relaxed, erlk, melbourne, flutes, trento\n",
            "africa: jpeg, cronus, rstendamm, heures, rachid, pythons, bolyai, bergman, cassettes, dichromate\n",
            "musician: jaws, boar, rochester, circuit, representatives, taxing, commemorates, beverages, electrotechnical, maia\n",
            "dance: substantiated, houghton, asks, darryl, magick, honours, fatimid, solzhenitsyn, falange, commotion\n",
            "\n",
            "\n"
          ]
        },
        {
          "output_type": "stream",
          "name": "stderr",
          "text": [
            "500it [00:11, 51.00it/s]"
          ]
        },
        {
          "output_type": "stream",
          "name": "stdout",
          "text": [
            "| epoch   1 |   500/32580 batches | loss    1.360 \n",
            "money: salicylate, reactivation, admittedly, cyclase, faro, piper, woo, jem, opportunistic, domesticated\n",
            "lion: branwell, plough, refurbished, relaxed, virginis, politician, erlk, melbourne, trento, flutes\n",
            "africa: jpeg, cronus, rachid, cassettes, rstendamm, heures, splicing, bolyai, dichromate, extensions\n",
            "musician: jaws, boar, circuit, rochester, representatives, taxing, maia, electrotechnical, commemorates, beverages\n",
            "dance: substantiated, houghton, asks, darryl, magick, honours, german, falange, fatimid, solzhenitsyn\n",
            "\n",
            "\n"
          ]
        },
        {
          "output_type": "stream",
          "name": "stderr",
          "text": [
            "1000it [00:21, 51.74it/s]"
          ]
        },
        {
          "output_type": "stream",
          "name": "stdout",
          "text": [
            "| epoch   1 |  1000/32580 batches | loss    1.254 \n",
            "money: salicylate, cyclase, piper, reactivation, jem, admittedly, cvd, faro, opportunistic, domesticated\n",
            "lion: branwell, plough, refurbished, relaxed, politician, virginis, erlk, melbourne, trento, flutes\n",
            "africa: jpeg, cronus, cassettes, rachid, white, norville, entertaining, splicing, dichromate, rstendamm\n",
            "musician: jaws, rochester, boar, circuit, representatives, taxing, electrotechnical, maia, beverages, commemorates\n",
            "dance: substantiated, houghton, darryl, asks, magick, german, honours, commotion, thirsty, solzhenitsyn\n",
            "\n",
            "\n"
          ]
        },
        {
          "output_type": "stream",
          "name": "stderr",
          "text": [
            "1496it [00:31, 51.42it/s]"
          ]
        },
        {
          "output_type": "stream",
          "name": "stdout",
          "text": [
            "| epoch   1 |  1500/32580 batches | loss    1.208 \n",
            "money: salicylate, cyclase, jem, piper, reactivation, opportunistic, poison, cvd, domesticated, jfk\n",
            "lion: branwell, refurbished, plough, relaxed, erlk, virginis, politician, melbourne, trento, flutes\n",
            "africa: jpeg, white, cronus, norville, rachid, entertaining, cassettes, splicing, extensions, bru\n",
            "musician: jaws, rochester, circuit, boar, representatives, taxing, maia, electrotechnical, esat, subgenera\n",
            "dance: houghton, substantiated, darryl, asks, magick, honours, german, shareholders, fatimid, recalls\n",
            "\n",
            "\n"
          ]
        },
        {
          "output_type": "stream",
          "name": "stderr",
          "text": [
            "1997it [00:41, 52.19it/s]"
          ]
        },
        {
          "output_type": "stream",
          "name": "stdout",
          "text": [
            "| epoch   1 |  2000/32580 batches | loss    1.177 \n",
            "money: salicylate, piper, cyclase, jem, opportunistic, reactivation, domesticated, poison, cvd, jfk\n",
            "lion: branwell, refurbished, plough, relaxed, erlk, virginis, melbourne, politician, trento, flutes\n",
            "africa: jpeg, norville, white, cronus, rachid, entertaining, cassettes, bru, imparts, extensions\n",
            "musician: rochester, jaws, boar, circuit, representatives, taxing, maia, electrotechnical, esat, subgenera\n",
            "dance: substantiated, houghton, darryl, asks, magick, honours, german, shareholders, commotion, thirsty\n",
            "\n",
            "\n"
          ]
        },
        {
          "output_type": "stream",
          "name": "stderr",
          "text": [
            "2500it [00:51, 51.43it/s]"
          ]
        },
        {
          "output_type": "stream",
          "name": "stdout",
          "text": [
            "| epoch   1 |  2500/32580 batches | loss    1.150 \n",
            "money: salicylate, piper, reactivation, cyclase, opportunistic, domesticated, jem, poison, cvd, jfk\n",
            "lion: branwell, refurbished, plough, relaxed, erlk, melbourne, politician, virginis, trento, flutes\n",
            "africa: jpeg, white, norville, entertaining, cronus, rachid, cassettes, imparts, bru, bolyai\n",
            "musician: rochester, jaws, circuit, boar, representatives, taxing, maia, esat, electrotechnical, subgenera\n",
            "dance: substantiated, houghton, asks, german, darryl, magick, recalls, gospel, honours, shareholders\n",
            "\n",
            "\n"
          ]
        },
        {
          "output_type": "stream",
          "name": "stderr",
          "text": [
            "2998it [01:01, 51.58it/s]"
          ]
        },
        {
          "output_type": "stream",
          "name": "stdout",
          "text": [
            "| epoch   1 |  3000/32580 batches | loss    1.126 \n",
            "money: salicylate, piper, reactivation, cyclase, opportunistic, jem, domesticated, poison, cvd, subsidies\n",
            "lion: branwell, refurbished, plough, relaxed, melbourne, erlk, virginis, politician, trento, flutes\n",
            "africa: jpeg, norville, white, entertaining, cronus, imparts, bru, rachid, cassettes, extensions\n",
            "musician: rochester, jaws, boar, representatives, circuit, taxing, maia, esat, electrotechnical, subgenera\n",
            "dance: substantiated, houghton, german, asks, darryl, recalls, magick, gospel, commotion, fatimid\n",
            "\n",
            "\n"
          ]
        },
        {
          "output_type": "stream",
          "name": "stderr",
          "text": [
            "3500it [01:11, 51.98it/s]"
          ]
        },
        {
          "output_type": "stream",
          "name": "stdout",
          "text": [
            "| epoch   1 |  3500/32580 batches | loss    1.104 \n",
            "money: salicylate, piper, poison, cyclase, opportunistic, reactivation, domesticated, jem, cvd, subsidies\n",
            "lion: branwell, refurbished, plough, relaxed, melbourne, erlk, virginis, trento, politician, flutes\n",
            "africa: white, jpeg, norville, entertaining, city, cronus, imparts, bru, extensions, rachid\n",
            "musician: rochester, representatives, circuit, boar, jaws, taxing, maia, esat, subgenera, electrotechnical\n",
            "dance: substantiated, houghton, asks, recalls, darryl, german, gospel, magick, thirsty, commotion\n",
            "\n",
            "\n"
          ]
        },
        {
          "output_type": "stream",
          "name": "stderr",
          "text": [
            "3998it [01:21, 52.69it/s]"
          ]
        },
        {
          "output_type": "stream",
          "name": "stdout",
          "text": [
            "| epoch   1 |  4000/32580 batches | loss    1.084 \n",
            "money: salicylate, piper, poison, jem, opportunistic, domesticated, reactivation, cyclase, subsidies, cvd\n",
            "lion: branwell, refurbished, relaxed, plough, erlk, melbourne, virginis, politician, flutes, trento\n",
            "africa: white, norville, jpeg, entertaining, city, cronus, imparts, bru, splicing, allocating\n",
            "musician: rochester, representatives, boar, circuit, jaws, maia, esat, taxing, subgenera, electrotechnical\n",
            "dance: substantiated, houghton, asks, recalls, gospel, darryl, hell, german, thirsty, shareholders\n",
            "\n",
            "\n"
          ]
        },
        {
          "output_type": "stream",
          "name": "stderr",
          "text": [
            "4501it [01:31, 34.44it/s]"
          ]
        },
        {
          "output_type": "stream",
          "name": "stdout",
          "text": [
            "| epoch   1 |  4500/32580 batches | loss    1.067 \n",
            "money: salicylate, piper, opportunistic, poison, domesticated, jem, subsidies, cyclase, reactivation, cvd\n",
            "lion: branwell, refurbished, relaxed, plough, erlk, melbourne, politician, virginis, flutes, itosu\n",
            "africa: white, city, norville, jpeg, entertaining, cronus, bru, imparts, flanged, splicing\n",
            "musician: rochester, representatives, jaws, esat, boar, maia, circuit, taxing, subgenera, trophyless\n",
            "dance: substantiated, houghton, gospel, asks, recalls, german, hell, darryl, thirsty, shareholders\n",
            "\n",
            "\n"
          ]
        },
        {
          "output_type": "stream",
          "name": "stderr",
          "text": [
            "4998it [01:41, 51.10it/s]"
          ]
        },
        {
          "output_type": "stream",
          "name": "stdout",
          "text": [
            "| epoch   1 |  5000/32580 batches | loss    1.050 \n",
            "money: salicylate, piper, opportunistic, domesticated, poison, subsidies, jem, cyclase, cvd, discs\n",
            "lion: branwell, refurbished, relaxed, plough, melbourne, erlk, politician, virginis, itosu, armaments\n",
            "africa: white, city, entertaining, norville, jpeg, cronus, bru, imparts, example, splicing\n",
            "musician: rochester, representatives, circuit, jaws, esat, maia, boar, taxing, subgenera, electrotechnical\n",
            "dance: substantiated, gospel, houghton, asks, recalls, german, hell, darryl, thirsty, shareholders\n",
            "\n",
            "\n"
          ]
        },
        {
          "output_type": "stream",
          "name": "stderr",
          "text": [
            "5495it [01:51, 49.99it/s]"
          ]
        },
        {
          "output_type": "stream",
          "name": "stdout",
          "text": [
            "| epoch   1 |  5500/32580 batches | loss    1.036 \n"
          ]
        },
        {
          "output_type": "stream",
          "name": "stderr",
          "text": [
            "5506it [01:51, 34.88it/s]"
          ]
        },
        {
          "output_type": "stream",
          "name": "stdout",
          "text": [
            "money: salicylate, piper, opportunistic, poison, domesticated, jem, reactivation, cvd, subsidies, woo\n",
            "lion: branwell, refurbished, relaxed, plough, melbourne, erlk, virginis, politician, armaments, itosu\n",
            "africa: city, white, entertaining, norville, jpeg, cronus, imparts, bru, example, eagerly\n",
            "musician: rochester, representatives, jaws, circuit, maia, taxing, esat, boar, subgenera, electrotechnical\n",
            "dance: substantiated, gospel, houghton, asks, recalls, hell, darryl, shareholders, thirsty, commotion\n",
            "\n",
            "\n"
          ]
        },
        {
          "output_type": "stream",
          "name": "stderr",
          "text": [
            "6001it [02:01, 34.61it/s]"
          ]
        },
        {
          "output_type": "stream",
          "name": "stdout",
          "text": [
            "| epoch   1 |  6000/32580 batches | loss    1.021 \n",
            "money: salicylate, piper, opportunistic, poison, domesticated, cvd, reactivation, discs, subsidies, slug\n",
            "lion: branwell, refurbished, relaxed, plough, melbourne, erlk, virginis, politician, flutes, armaments\n",
            "africa: city, white, entertaining, norville, jpeg, example, cronus, imparts, eagerly, support\n",
            "musician: rochester, representatives, circuit, jaws, esat, maia, taxing, boar, english, subgenera\n",
            "dance: substantiated, houghton, gospel, recalls, hell, asks, thirsty, commotion, german, darryl\n",
            "\n",
            "\n"
          ]
        },
        {
          "output_type": "stream",
          "name": "stderr",
          "text": [
            "6496it [02:11, 52.03it/s]"
          ]
        },
        {
          "output_type": "stream",
          "name": "stdout",
          "text": [
            "| epoch   1 |  6500/32580 batches | loss    1.007 \n",
            "money: salicylate, piper, poison, opportunistic, domesticated, reactivation, discs, subsidies, cvd, slug\n",
            "lion: branwell, refurbished, relaxed, plough, melbourne, erlk, virginis, politician, flutes, armaments\n",
            "africa: city, white, entertaining, norville, example, jpeg, then, early, support, imparts\n",
            "musician: rochester, representatives, circuit, esat, english, jaws, maia, taxing, boar, subgenera\n",
            "dance: houghton, substantiated, gospel, asks, hell, commotion, recalls, thirsty, darryl, german\n",
            "\n",
            "\n"
          ]
        },
        {
          "output_type": "stream",
          "name": "stderr",
          "text": [
            "6998it [02:20, 52.28it/s]"
          ]
        },
        {
          "output_type": "stream",
          "name": "stdout",
          "text": [
            "| epoch   1 |  7000/32580 batches | loss    0.995 \n",
            "money: salicylate, piper, poison, opportunistic, domesticated, slug, discs, cvd, reactivation, factorization\n",
            "lion: branwell, refurbished, relaxed, plough, melbourne, erlk, politician, virginis, flutes, armaments\n",
            "africa: city, white, example, entertaining, early, jpeg, norville, support, then, imparts\n",
            "musician: rochester, representatives, english, circuit, esat, jaws, maia, taxing, effective, boar\n",
            "dance: houghton, substantiated, asks, gospel, hell, german, recalls, commotion, shareholders, thirsty\n",
            "\n",
            "\n"
          ]
        },
        {
          "output_type": "stream",
          "name": "stderr",
          "text": [
            "7501it [02:30, 35.06it/s]"
          ]
        },
        {
          "output_type": "stream",
          "name": "stdout",
          "text": [
            "| epoch   1 |  7500/32580 batches | loss    0.987 \n",
            "money: salicylate, piper, poison, opportunistic, slug, domesticated, hence, factorization, discs, cvd\n",
            "lion: branwell, refurbished, relaxed, plough, melbourne, erlk, politician, virginis, flutes, armaments\n",
            "africa: city, example, white, early, entertaining, one, six, jpeg, norville, support\n",
            "musician: rochester, representatives, circuit, english, esat, maia, jaws, taxing, effective, utr\n",
            "dance: houghton, substantiated, gospel, asks, hell, recalls, commotion, thirsty, shareholders, darryl\n",
            "\n",
            "\n"
          ]
        },
        {
          "output_type": "stream",
          "name": "stderr",
          "text": [
            "7998it [02:40, 52.20it/s]"
          ]
        },
        {
          "output_type": "stream",
          "name": "stdout",
          "text": [
            "| epoch   1 |  8000/32580 batches | loss    0.976 \n",
            "money: salicylate, piper, poison, opportunistic, slug, hence, domesticated, factorization, discs, claimed\n",
            "lion: branwell, refurbished, relaxed, plough, melbourne, erlk, flutes, virginis, politician, armaments\n",
            "africa: city, example, white, early, entertaining, island, support, number, six, men\n",
            "musician: rochester, representatives, circuit, english, esat, maia, jaws, utr, taxing, effective\n",
            "dance: houghton, gospel, substantiated, hell, asks, recalls, commotion, thirsty, shareholders, dealt\n",
            "\n",
            "\n"
          ]
        },
        {
          "output_type": "stream",
          "name": "stderr",
          "text": [
            "8495it [02:50, 51.51it/s]"
          ]
        },
        {
          "output_type": "stream",
          "name": "stdout",
          "text": [
            "| epoch   1 |  8500/32580 batches | loss    0.967 \n",
            "money: salicylate, piper, poison, opportunistic, slug, hence, claimed, factorization, domesticated, discs\n",
            "lion: branwell, refurbished, relaxed, melbourne, plough, erlk, flutes, politician, virginis, pyrotechnics\n",
            "africa: city, example, white, early, six, there, entertaining, support, number, america\n",
            "musician: representatives, rochester, circuit, english, esat, maia, utr, jaws, effective, taxing\n",
            "dance: gospel, houghton, substantiated, hell, recalls, asks, commotion, shareholders, thirsty, dealt\n",
            "\n",
            "\n"
          ]
        },
        {
          "output_type": "stream",
          "name": "stderr",
          "text": [
            "8997it [03:00, 52.03it/s]"
          ]
        },
        {
          "output_type": "stream",
          "name": "stdout",
          "text": [
            "| epoch   1 |  9000/32580 batches | loss    0.958 \n",
            "money: salicylate, piper, poison, opportunistic, factorization, claimed, slug, hence, domesticated, discs\n",
            "lion: branwell, refurbished, relaxed, melbourne, plough, erlk, flutes, politician, itosu, virginis\n",
            "africa: city, example, early, white, one, most, there, seven, america, end\n",
            "musician: representatives, rochester, circuit, english, esat, maia, utr, effective, jaws, taxing\n",
            "dance: houghton, gospel, hell, recalls, substantiated, commotion, shareholders, asks, thirsty, darryl\n",
            "\n",
            "\n"
          ]
        },
        {
          "output_type": "stream",
          "name": "stderr",
          "text": [
            "9498it [03:13, 51.73it/s]"
          ]
        },
        {
          "output_type": "stream",
          "name": "stdout",
          "text": [
            "| epoch   1 |  9500/32580 batches | loss    0.950 \n",
            "money: salicylate, piper, poison, opportunistic, claimed, factorization, slug, hence, domesticated, discs\n",
            "lion: branwell, refurbished, relaxed, melbourne, plough, erlk, flutes, itosu, virginis, armaments\n",
            "africa: city, example, eight, seven, one, nine, zero, early, there, island\n",
            "musician: english, representatives, rochester, circuit, esat, maia, utr, effective, jaws, subgenera\n",
            "dance: gospel, houghton, hell, recalls, substantiated, shareholders, commotion, asks, darryl, ship\n",
            "\n",
            "\n"
          ]
        },
        {
          "output_type": "stream",
          "name": "stderr",
          "text": [
            "10001it [03:23, 34.76it/s]"
          ]
        },
        {
          "output_type": "stream",
          "name": "stdout",
          "text": [
            "| epoch   1 | 10000/32580 batches | loss    0.942 \n",
            "money: salicylate, piper, poison, claimed, opportunistic, factorization, slug, hence, discs, domesticated\n",
            "lion: branwell, refurbished, relaxed, melbourne, plough, erlk, flutes, itosu, armaments, virginis\n",
            "africa: city, example, eight, one, zero, seven, end, six, america, nine\n",
            "musician: representatives, english, rochester, circuit, esat, maia, utr, film, jaws, effective\n",
            "dance: gospel, recalls, hell, houghton, commotion, substantiated, shareholders, asks, ship, thirsty\n",
            "\n",
            "\n"
          ]
        },
        {
          "output_type": "stream",
          "name": "stderr",
          "text": [
            "10497it [03:32, 51.30it/s]"
          ]
        },
        {
          "output_type": "stream",
          "name": "stdout",
          "text": [
            "| epoch   1 | 10500/32580 batches | loss    0.935 \n",
            "money: salicylate, piper, claimed, poison, opportunistic, factorization, slug, hence, domesticated, discs\n",
            "lion: branwell, refurbished, relaxed, melbourne, plough, flutes, erlk, politician, itosu, armaments\n",
            "africa: city, example, there, seven, eight, one, zero, nine, end, america\n",
            "musician: representatives, rochester, english, circuit, esat, utr, maia, film, engineer, jaws\n",
            "dance: recalls, hell, houghton, gospel, commotion, substantiated, shareholders, asks, thirsty, ship\n",
            "\n",
            "\n"
          ]
        },
        {
          "output_type": "stream",
          "name": "stderr",
          "text": [
            "11000it [03:42, 52.15it/s]"
          ]
        },
        {
          "output_type": "stream",
          "name": "stdout",
          "text": [
            "| epoch   1 | 11000/32580 batches | loss    0.928 \n",
            "money: salicylate, piper, poison, claimed, opportunistic, factorization, slug, hence, domesticated, does\n",
            "lion: branwell, refurbished, melbourne, relaxed, plough, erlk, flutes, armaments, politician, itosu\n",
            "africa: city, example, one, seven, eight, nine, there, end, zero, america\n",
            "musician: representatives, rochester, english, circuit, esat, maia, utr, film, engineer, effective\n",
            "dance: recalls, hell, gospel, houghton, commotion, shareholders, asks, music, substantiated, thirsty\n",
            "\n",
            "\n"
          ]
        },
        {
          "output_type": "stream",
          "name": "stderr",
          "text": [
            "11498it [03:52, 51.27it/s]"
          ]
        },
        {
          "output_type": "stream",
          "name": "stdout",
          "text": [
            "| epoch   1 | 11500/32580 batches | loss    0.916 \n",
            "money: salicylate, piper, claimed, poison, factorization, opportunistic, hence, slug, does, practice\n",
            "lion: branwell, refurbished, melbourne, relaxed, plough, flutes, erlk, armaments, politician, itosu\n",
            "africa: city, example, one, eight, seven, nine, zero, end, there, america\n",
            "musician: representatives, english, rochester, circuit, some, utr, maia, film, esat, engineer\n",
            "dance: recalls, gospel, houghton, music, hell, shareholders, commotion, china, article, disassembled\n",
            "\n",
            "\n"
          ]
        },
        {
          "output_type": "stream",
          "name": "stderr",
          "text": [
            "11995it [04:02, 51.75it/s]"
          ]
        },
        {
          "output_type": "stream",
          "name": "stdout",
          "text": [
            "| epoch   1 | 12000/32580 batches | loss    0.912 \n",
            "money: salicylate, claimed, piper, poison, opportunistic, factorization, hence, does, him, slug\n",
            "lion: branwell, refurbished, melbourne, relaxed, flutes, plough, erlk, armaments, politician, itosu\n",
            "africa: city, eight, example, there, seven, zero, nine, end, america, one\n",
            "musician: english, representatives, rochester, film, circuit, utr, maia, esat, some, engineer\n",
            "dance: recalls, music, gospel, houghton, hell, article, china, shareholders, asks, disassembled\n",
            "\n",
            "\n"
          ]
        },
        {
          "output_type": "stream",
          "name": "stderr",
          "text": [
            "12498it [04:12, 51.59it/s]"
          ]
        },
        {
          "output_type": "stream",
          "name": "stdout",
          "text": [
            "| epoch   1 | 12500/32580 batches | loss    0.905 \n",
            "money: salicylate, claimed, poison, does, piper, him, opportunistic, not, factorization, practice\n",
            "lion: branwell, refurbished, melbourne, relaxed, flutes, plough, erlk, armaments, itosu, virginis\n",
            "africa: eight, example, there, city, seven, nine, america, end, zero, north\n",
            "musician: english, film, representatives, rochester, utr, circuit, esat, maia, singer, engineer\n",
            "dance: music, recalls, gospel, houghton, hell, china, shareholders, article, disassembled, asks\n",
            "\n",
            "\n"
          ]
        },
        {
          "output_type": "stream",
          "name": "stderr",
          "text": [
            "13000it [04:22, 52.18it/s]"
          ]
        },
        {
          "output_type": "stream",
          "name": "stdout",
          "text": [
            "| epoch   1 | 13000/32580 batches | loss    0.900 \n",
            "money: claimed, salicylate, does, him, poison, piper, opportunistic, use, slug, play\n",
            "lion: branwell, refurbished, melbourne, relaxed, flutes, plough, erlk, itosu, armaments, overtly\n",
            "africa: eight, example, city, nine, end, america, there, north, seven, five\n",
            "musician: english, film, representatives, rochester, utr, singer, circuit, some, covered, maia\n",
            "dance: music, recalls, gospel, houghton, china, hell, shareholders, ship, asks, disassembled\n",
            "\n",
            "\n"
          ]
        },
        {
          "output_type": "stream",
          "name": "stderr",
          "text": [
            "13497it [04:32, 52.01it/s]"
          ]
        },
        {
          "output_type": "stream",
          "name": "stdout",
          "text": [
            "| epoch   1 | 13500/32580 batches | loss    0.895 \n",
            "money: claimed, salicylate, him, does, use, poison, practice, piper, works, not\n",
            "lion: branwell, refurbished, melbourne, relaxed, plough, flutes, armaments, virginis, itosu, politician\n",
            "africa: eight, example, city, end, nine, five, america, six, seven, north\n",
            "musician: english, representatives, film, rochester, singer, utr, circuit, american, covered, esat\n",
            "dance: music, recalls, gospel, china, houghton, hell, shareholders, article, disassembled, hungary\n",
            "\n",
            "\n"
          ]
        },
        {
          "output_type": "stream",
          "name": "stderr",
          "text": [
            "14001it [04:42, 34.90it/s]"
          ]
        },
        {
          "output_type": "stream",
          "name": "stdout",
          "text": [
            "| epoch   1 | 14000/32580 batches | loss    0.891 \n",
            "money: claimed, him, salicylate, nine, use, poison, practice, does, piper, developed\n",
            "lion: branwell, refurbished, melbourne, relaxed, flutes, plough, armaments, virginis, itosu, externalization\n",
            "africa: eight, example, city, end, nine, america, north, there, six, five\n",
            "musician: english, film, representatives, singer, rochester, american, utr, circuit, covered, engineer\n",
            "dance: music, recalls, gospel, china, hell, houghton, o, shareholders, moderator, hungary\n",
            "\n",
            "\n"
          ]
        },
        {
          "output_type": "stream",
          "name": "stderr",
          "text": [
            "14498it [04:51, 51.76it/s]"
          ]
        },
        {
          "output_type": "stream",
          "name": "stdout",
          "text": [
            "| epoch   1 | 14500/32580 batches | loss    0.886 \n",
            "money: claimed, him, nine, does, poison, salicylate, piper, use, not, europe\n",
            "lion: branwell, refurbished, melbourne, relaxed, flutes, plough, externalization, armaments, politician, itosu\n",
            "africa: eight, nine, city, example, end, america, there, north, six, zero\n",
            "musician: english, film, representatives, singer, rochester, american, utr, circuit, history, capital\n",
            "dance: music, recalls, gospel, china, houghton, hungary, hell, moderator, disassembled, article\n",
            "\n",
            "\n"
          ]
        },
        {
          "output_type": "stream",
          "name": "stderr",
          "text": [
            "15001it [05:01, 34.34it/s]"
          ]
        },
        {
          "output_type": "stream",
          "name": "stdout",
          "text": [
            "| epoch   1 | 15000/32580 batches | loss    0.879 \n",
            "money: claimed, him, nine, does, works, not, play, use, zero, europe\n",
            "lion: branwell, refurbished, melbourne, relaxed, flutes, plough, politician, externalization, armaments, pyrotechnics\n",
            "africa: eight, nine, end, america, example, city, north, six, there, zero\n",
            "musician: english, film, representatives, american, singer, rochester, utr, capital, covered, circuit\n",
            "dance: music, recalls, gospel, china, hungary, houghton, hell, moderator, shareholders, article\n",
            "\n",
            "\n"
          ]
        },
        {
          "output_type": "stream",
          "name": "stderr",
          "text": [
            "15501it [05:11, 34.71it/s]"
          ]
        },
        {
          "output_type": "stream",
          "name": "stdout",
          "text": [
            "| epoch   1 | 15500/32580 batches | loss    0.874 \n",
            "money: claimed, him, nine, does, use, not, works, play, person, developed\n",
            "lion: branwell, refurbished, melbourne, relaxed, flutes, plough, armaments, externalization, politician, pyrotechnics\n",
            "africa: nine, eight, seven, america, end, six, city, example, north, united\n",
            "musician: english, film, representatives, singer, american, rochester, utr, born, capital, population\n",
            "dance: music, gospel, recalls, china, hungary, moderator, hell, article, houghton, o\n",
            "\n",
            "\n"
          ]
        },
        {
          "output_type": "stream",
          "name": "stderr",
          "text": [
            "15998it [05:21, 51.77it/s]"
          ]
        },
        {
          "output_type": "stream",
          "name": "stdout",
          "text": [
            "| epoch   1 | 16000/32580 batches | loss    0.869 \n",
            "money: claimed, nine, him, zero, works, does, play, not, much, now\n",
            "lion: branwell, refurbished, melbourne, relaxed, flutes, plough, armaments, externalization, politician, purpose\n",
            "africa: eight, nine, end, america, north, example, seven, city, six, united\n",
            "musician: english, film, singer, american, representatives, rochester, born, utr, population, capital\n",
            "dance: music, recalls, gospel, china, hungary, moderator, article, shareholders, houghton, hell\n",
            "\n",
            "\n"
          ]
        },
        {
          "output_type": "stream",
          "name": "stderr",
          "text": [
            "16501it [05:31, 34.77it/s]"
          ]
        },
        {
          "output_type": "stream",
          "name": "stdout",
          "text": [
            "| epoch   1 | 16500/32580 batches | loss    0.865 \n",
            "money: claimed, nine, him, works, zero, play, does, use, much, now\n",
            "lion: branwell, refurbished, melbourne, relaxed, flutes, plough, externalization, purpose, erlk, itosu\n",
            "africa: nine, eight, end, north, america, example, seven, city, united, six\n",
            "musician: english, film, singer, american, representatives, born, rochester, government, population, utr\n",
            "dance: music, gospel, recalls, china, hungary, article, moderator, o, view, houghton\n",
            "\n",
            "\n"
          ]
        },
        {
          "output_type": "stream",
          "name": "stderr",
          "text": [
            "16998it [05:41, 51.82it/s]"
          ]
        },
        {
          "output_type": "stream",
          "name": "stdout",
          "text": [
            "| epoch   1 | 17000/32580 batches | loss    0.860 \n",
            "money: claimed, nine, works, much, use, zero, him, play, does, not\n",
            "lion: branwell, refurbished, melbourne, relaxed, flutes, plough, externalization, purpose, erlk, itosu\n",
            "africa: nine, america, eight, north, end, example, seven, united, city, zero\n",
            "musician: english, film, singer, representatives, american, born, rochester, population, government, capital\n",
            "dance: music, gospel, china, recalls, article, hungary, history, o, hell, view\n",
            "\n",
            "\n"
          ]
        },
        {
          "output_type": "stream",
          "name": "stderr",
          "text": [
            "17500it [05:51, 51.58it/s]"
          ]
        },
        {
          "output_type": "stream",
          "name": "stdout",
          "text": [
            "| epoch   1 | 17500/32580 batches | loss    0.855 \n",
            "money: claimed, works, use, nine, him, not, zero, much, now, person\n",
            "lion: branwell, refurbished, melbourne, relaxed, flutes, plough, purpose, externalization, erlk, armaments\n",
            "africa: america, north, nine, eight, end, seven, united, example, zero, six\n",
            "musician: english, film, singer, american, born, representatives, population, government, rochester, capital\n",
            "dance: music, gospel, china, recalls, article, hungary, o, history, modern, hell\n",
            "\n",
            "\n"
          ]
        },
        {
          "output_type": "stream",
          "name": "stderr",
          "text": [
            "18001it [06:01, 33.79it/s]"
          ]
        },
        {
          "output_type": "stream",
          "name": "stdout",
          "text": [
            "| epoch   1 | 18000/32580 batches | loss    0.849 \n",
            "money: claimed, use, works, nine, zero, him, not, much, practice, play\n",
            "lion: branwell, refurbished, melbourne, relaxed, flutes, plough, purpose, externalization, itosu, erlk\n",
            "africa: nine, america, north, end, eight, united, zero, seven, example, six\n",
            "musician: film, english, singer, born, american, representatives, population, government, battle, rochester\n",
            "dance: music, china, gospel, recalls, article, hungary, history, moderator, o, shareholders\n",
            "\n",
            "\n"
          ]
        },
        {
          "output_type": "stream",
          "name": "stderr",
          "text": [
            "18498it [06:11, 52.01it/s]"
          ]
        },
        {
          "output_type": "stream",
          "name": "stdout",
          "text": [
            "| epoch   1 | 18500/32580 batches | loss    0.847 \n",
            "money: use, claimed, works, nine, him, zero, much, not, does, practice\n",
            "lion: branwell, refurbished, melbourne, relaxed, flutes, plough, purpose, itosu, externalization, politician\n",
            "africa: nine, america, eight, north, end, united, zero, seven, example, there\n",
            "musician: english, film, singer, born, american, representatives, government, population, country, battle\n",
            "dance: music, gospel, china, recalls, hungary, modern, article, moderator, member, view\n",
            "\n",
            "\n"
          ]
        },
        {
          "output_type": "stream",
          "name": "stderr",
          "text": [
            "19001it [06:21, 34.74it/s]"
          ]
        },
        {
          "output_type": "stream",
          "name": "stdout",
          "text": [
            "| epoch   1 | 19000/32580 batches | loss    0.844 \n",
            "money: works, use, claimed, nine, him, zero, not, much, practice, does\n",
            "lion: branwell, refurbished, melbourne, relaxed, flutes, purpose, plough, itosu, externalization, critical\n",
            "africa: nine, america, north, eight, end, united, seven, there, example, six\n",
            "musician: english, film, singer, born, american, representatives, government, population, country, battle\n",
            "dance: music, gospel, china, recalls, hungary, article, modern, history, view, hell\n",
            "\n",
            "\n"
          ]
        },
        {
          "output_type": "stream",
          "name": "stderr",
          "text": [
            "19498it [06:30, 51.66it/s]"
          ]
        },
        {
          "output_type": "stream",
          "name": "stdout",
          "text": [
            "| epoch   1 | 19500/32580 batches | loss    0.842 \n",
            "money: works, nine, use, him, claimed, zero, not, much, practice, does\n",
            "lion: branwell, refurbished, melbourne, relaxed, flutes, purpose, plough, itosu, externalization, boys\n",
            "africa: nine, america, north, end, united, eight, zero, seven, there, south\n",
            "musician: english, singer, film, american, born, representatives, country, population, battle, people\n",
            "dance: music, gospel, china, recalls, modern, article, hungary, largest, moderator, history\n",
            "\n",
            "\n"
          ]
        },
        {
          "output_type": "stream",
          "name": "stderr",
          "text": [
            "20001it [06:40, 34.50it/s]"
          ]
        },
        {
          "output_type": "stream",
          "name": "stdout",
          "text": [
            "| epoch   1 | 20000/32580 batches | loss    0.839 \n",
            "money: works, nine, him, use, claimed, much, not, does, practice, zero\n",
            "lion: branwell, refurbished, melbourne, relaxed, flutes, purpose, plough, itosu, boys, externalization\n",
            "africa: nine, america, north, end, united, eight, zero, seven, south, germany\n",
            "musician: english, singer, film, born, american, country, population, representatives, battle, music\n",
            "dance: music, gospel, china, recalls, hungary, largest, history, article, modern, member\n",
            "\n",
            "\n"
          ]
        },
        {
          "output_type": "stream",
          "name": "stderr",
          "text": [
            "20501it [06:50, 33.68it/s]"
          ]
        },
        {
          "output_type": "stream",
          "name": "stdout",
          "text": [
            "| epoch   1 | 20500/32580 batches | loss    0.833 \n",
            "money: works, use, him, much, claimed, nine, zero, play, does, not\n",
            "lion: branwell, refurbished, melbourne, flutes, relaxed, purpose, boys, plough, externalization, itosu\n",
            "africa: america, nine, north, end, united, eight, seven, zero, south, germany\n",
            "musician: english, singer, film, born, american, population, country, music, representatives, battle\n",
            "dance: music, gospel, china, recalls, largest, hungary, article, history, modern, member\n",
            "\n",
            "\n"
          ]
        },
        {
          "output_type": "stream",
          "name": "stderr",
          "text": [
            "20997it [07:00, 51.06it/s]"
          ]
        },
        {
          "output_type": "stream",
          "name": "stdout",
          "text": [
            "| epoch   1 | 21000/32580 batches | loss    0.829 \n",
            "money: works, him, use, claimed, nine, much, zero, play, late, not\n",
            "lion: branwell, melbourne, refurbished, flutes, relaxed, purpose, boys, externalization, critical, politician\n",
            "africa: america, nine, end, north, united, zero, seven, south, eight, germany\n",
            "musician: english, singer, film, born, american, music, country, population, actor, representatives\n",
            "dance: music, china, gospel, recalls, article, hungary, largest, modern, member, o\n",
            "\n",
            "\n"
          ]
        },
        {
          "output_type": "stream",
          "name": "stderr",
          "text": [
            "21496it [07:10, 51.30it/s]"
          ]
        },
        {
          "output_type": "stream",
          "name": "stdout",
          "text": [
            "| epoch   1 | 21500/32580 batches | loss    0.826 \n",
            "money: works, him, use, nine, claimed, zero, much, seen, play, late\n",
            "lion: branwell, refurbished, melbourne, relaxed, flutes, boys, purpose, externalization, politician, pyrotechnics\n",
            "africa: nine, america, united, end, north, seven, south, zero, eight, germany\n",
            "musician: english, singer, film, born, american, population, country, actor, music, battle\n",
            "dance: music, china, gospel, article, hungary, largest, recalls, member, o, modern\n",
            "\n",
            "\n"
          ]
        },
        {
          "output_type": "stream",
          "name": "stderr",
          "text": [
            "21999it [07:20, 51.72it/s]"
          ]
        },
        {
          "output_type": "stream",
          "name": "stdout",
          "text": [
            "| epoch   1 | 22000/32580 batches | loss    0.825 \n",
            "money: him, works, use, claimed, nine, much, not, play, zero, five\n",
            "lion: branwell, refurbished, melbourne, flutes, relaxed, boys, externalization, purpose, politician, pyrotechnics\n",
            "africa: america, nine, north, united, end, south, seven, eight, zero, germany\n",
            "musician: singer, english, film, born, american, music, actor, population, country, battle\n",
            "dance: music, china, gospel, article, hungary, largest, recalls, two, member, o\n",
            "\n",
            "\n"
          ]
        },
        {
          "output_type": "stream",
          "name": "stderr",
          "text": [
            "22496it [07:30, 51.10it/s]"
          ]
        },
        {
          "output_type": "stream",
          "name": "stdout",
          "text": [
            "| epoch   1 | 22500/32580 batches | loss    0.821 \n",
            "money: him, works, use, nine, not, claimed, much, play, seen, example\n",
            "lion: branwell, melbourne, refurbished, flutes, relaxed, boys, politician, externalization, pyrotechnics, itosu\n",
            "africa: america, nine, north, end, united, south, europe, germany, eight, seven\n",
            "musician: singer, english, born, film, american, actor, music, battle, country, population\n",
            "dance: music, china, gospel, article, hungary, largest, two, recalls, o, member\n",
            "\n",
            "\n"
          ]
        },
        {
          "output_type": "stream",
          "name": "stderr",
          "text": [
            "23001it [07:41, 34.35it/s]"
          ]
        },
        {
          "output_type": "stream",
          "name": "stdout",
          "text": [
            "| epoch   1 | 23000/32580 batches | loss    0.817 \n",
            "money: works, him, use, nine, claimed, not, play, way, much, example\n",
            "lion: branwell, melbourne, refurbished, flutes, relaxed, boys, externalization, purpose, politician, conquest\n",
            "africa: america, nine, north, united, end, europe, seven, eight, south, zero\n",
            "musician: singer, english, born, american, film, actor, music, country, population, battle\n",
            "dance: music, china, hungary, article, gospel, largest, recalls, o, member, history\n",
            "\n",
            "\n"
          ]
        },
        {
          "output_type": "stream",
          "name": "stderr",
          "text": [
            "23497it [07:50, 50.41it/s]"
          ]
        },
        {
          "output_type": "stream",
          "name": "stdout",
          "text": [
            "| epoch   1 | 23500/32580 batches | loss    0.818 \n",
            "money: use, him, works, nine, much, example, not, play, claimed, seen\n",
            "lion: branwell, melbourne, refurbished, flutes, boys, relaxed, purpose, externalization, politician, driving\n",
            "africa: america, nine, united, north, end, europe, south, germany, seven, there\n",
            "musician: singer, english, born, film, american, actor, music, country, battle, population\n",
            "dance: music, china, hungary, gospel, article, history, recalls, o, largest, member\n",
            "\n",
            "\n"
          ]
        },
        {
          "output_type": "stream",
          "name": "stderr",
          "text": [
            "23999it [08:01, 49.91it/s]"
          ]
        },
        {
          "output_type": "stream",
          "name": "stdout",
          "text": [
            "| epoch   1 | 24000/32580 batches | loss    0.812 \n"
          ]
        },
        {
          "output_type": "stream",
          "name": "stderr",
          "text": [
            "\r24004it [08:01, 29.23it/s]"
          ]
        },
        {
          "output_type": "stream",
          "name": "stdout",
          "text": [
            "money: use, him, works, nine, much, example, them, not, claimed, person\n",
            "lion: branwell, melbourne, refurbished, relaxed, flutes, boys, purpose, conquest, driving, externalization\n",
            "africa: america, united, nine, north, end, europe, germany, south, seven, eight\n",
            "musician: singer, english, born, film, actor, american, music, country, battle, population\n",
            "dance: music, history, china, hungary, gospel, article, o, largest, recalls, modern\n",
            "\n",
            "\n"
          ]
        },
        {
          "output_type": "stream",
          "name": "stderr",
          "text": [
            "24497it [08:11, 50.85it/s]"
          ]
        },
        {
          "output_type": "stream",
          "name": "stdout",
          "text": [
            "| epoch   1 | 24500/32580 batches | loss    0.810 \n",
            "money: use, him, works, not, nine, them, much, example, claimed, play\n",
            "lion: branwell, melbourne, refurbished, relaxed, boys, flutes, purpose, driving, conquest, politician\n",
            "africa: america, united, nine, north, end, europe, germany, south, country, eight\n",
            "musician: singer, english, born, film, actor, american, music, country, battle, population\n",
            "dance: music, china, hungary, history, gospel, article, largest, o, recalls, modern\n",
            "\n",
            "\n"
          ]
        },
        {
          "output_type": "stream",
          "name": "stderr",
          "text": [
            "24997it [08:21, 51.15it/s]"
          ]
        },
        {
          "output_type": "stream",
          "name": "stdout",
          "text": [
            "| epoch   1 | 25000/32580 batches | loss    0.808 \n",
            "money: use, not, him, nine, much, seen, works, example, person, them\n",
            "lion: branwell, melbourne, refurbished, relaxed, boys, purpose, flutes, driving, politician, placed\n",
            "africa: america, united, nine, north, end, europe, germany, south, seven, eight\n",
            "musician: singer, english, born, film, actor, american, music, battle, country, population\n",
            "dance: music, history, china, hungary, article, gospel, largest, modern, o, traditional\n",
            "\n",
            "\n"
          ]
        },
        {
          "output_type": "stream",
          "name": "stderr",
          "text": [
            "25498it [08:31, 51.31it/s]"
          ]
        },
        {
          "output_type": "stream",
          "name": "stdout",
          "text": [
            "| epoch   1 | 25500/32580 batches | loss    0.805 \n",
            "money: use, much, not, him, nine, works, person, seen, them, example\n",
            "lion: branwell, melbourne, refurbished, boys, relaxed, flutes, purpose, placed, conquest, politician\n",
            "africa: america, united, nine, north, europe, end, germany, south, seven, eight\n",
            "musician: singer, english, born, actor, film, american, music, country, battle, population\n",
            "dance: music, china, history, hungary, gospel, article, largest, modern, o, country\n",
            "\n",
            "\n"
          ]
        },
        {
          "output_type": "stream",
          "name": "stderr",
          "text": [
            "25998it [08:41, 51.40it/s]"
          ]
        },
        {
          "output_type": "stream",
          "name": "stdout",
          "text": [
            "| epoch   1 | 26000/32580 batches | loss    0.804 \n",
            "money: use, much, nine, him, not, works, did, example, seen, them\n",
            "lion: branwell, melbourne, refurbished, boys, relaxed, flutes, purpose, placed, politician, conquest\n",
            "africa: america, united, nine, europe, north, end, germany, south, seven, country\n",
            "musician: singer, english, born, actor, american, film, music, country, battle, eight\n",
            "dance: music, china, history, hungary, article, largest, gospel, modern, o, traditional\n",
            "\n",
            "\n"
          ]
        },
        {
          "output_type": "stream",
          "name": "stderr",
          "text": [
            "26499it [08:51, 49.76it/s]"
          ]
        },
        {
          "output_type": "stream",
          "name": "stdout",
          "text": [
            "| epoch   1 | 26500/32580 batches | loss    0.800 \n",
            "money: use, him, nine, much, not, works, seen, example, because, claimed\n",
            "lion: branwell, melbourne, boys, refurbished, relaxed, flutes, placed, purpose, politician, conquest\n",
            "africa: america, united, nine, europe, end, north, germany, south, seven, eight\n",
            "musician: singer, english, born, actor, american, film, music, battle, example, actress\n",
            "dance: music, china, history, hungary, gospel, traditional, article, largest, modern, latin\n",
            "\n",
            "\n"
          ]
        },
        {
          "output_type": "stream",
          "name": "stderr",
          "text": [
            "26996it [09:01, 49.12it/s]"
          ]
        },
        {
          "output_type": "stream",
          "name": "stdout",
          "text": [
            "| epoch   1 | 27000/32580 batches | loss    0.797 \n"
          ]
        },
        {
          "output_type": "stream",
          "name": "stderr",
          "text": [
            "27005it [09:02, 32.66it/s]"
          ]
        },
        {
          "output_type": "stream",
          "name": "stdout",
          "text": [
            "money: use, not, much, him, nine, works, example, seen, claimed, person\n",
            "lion: branwell, melbourne, boys, refurbished, purpose, relaxed, flutes, placed, conquest, politician\n",
            "africa: america, united, nine, europe, end, north, germany, eight, south, seven\n",
            "musician: singer, english, born, actor, american, film, music, actress, addition, battle\n",
            "dance: music, china, history, hungary, gospel, article, traditional, largest, view, latin\n",
            "\n",
            "\n"
          ]
        },
        {
          "output_type": "stream",
          "name": "stderr",
          "text": [
            "27501it [09:12, 34.07it/s]"
          ]
        },
        {
          "output_type": "stream",
          "name": "stdout",
          "text": [
            "| epoch   1 | 27500/32580 batches | loss    0.794 \n",
            "money: not, much, use, works, nine, him, seen, example, zero, person\n",
            "lion: branwell, melbourne, boys, refurbished, purpose, flutes, relaxed, placed, conquest, politician\n",
            "africa: america, united, nine, europe, end, north, eight, south, germany, seven\n",
            "musician: singer, english, born, actor, american, film, music, eight, actress, country\n",
            "dance: music, china, hungary, gospel, history, article, largest, traditional, latin, o\n",
            "\n",
            "\n"
          ]
        },
        {
          "output_type": "stream",
          "name": "stderr",
          "text": [
            "28000it [09:22, 51.32it/s]"
          ]
        },
        {
          "output_type": "stream",
          "name": "stdout",
          "text": [
            "| epoch   1 | 28000/32580 batches | loss    0.790 \n",
            "money: much, use, not, him, nine, seen, zero, claimed, works, example\n",
            "lion: branwell, melbourne, boys, refurbished, flutes, relaxed, purpose, politician, conquest, placed\n",
            "africa: america, united, europe, north, nine, end, south, germany, eight, east\n",
            "musician: singer, born, english, actor, american, film, music, eight, actress, battle\n",
            "dance: music, china, gospel, hungary, article, traditional, history, largest, latin, modern\n",
            "\n",
            "\n"
          ]
        },
        {
          "output_type": "stream",
          "name": "stderr",
          "text": [
            "28497it [09:32, 51.34it/s]"
          ]
        },
        {
          "output_type": "stream",
          "name": "stdout",
          "text": [
            "| epoch   1 | 28500/32580 batches | loss    0.787 \n",
            "money: use, much, not, him, seen, nine, role, them, claimed, person\n",
            "lion: branwell, melbourne, boys, refurbished, flutes, purpose, relaxed, politician, placed, nativity\n",
            "africa: america, united, europe, north, nine, end, south, germany, eight, east\n",
            "musician: singer, born, english, actor, american, film, music, eight, actress, country\n",
            "dance: music, china, history, traditional, article, hungary, gospel, english, modern, largest\n",
            "\n",
            "\n"
          ]
        },
        {
          "output_type": "stream",
          "name": "stderr",
          "text": [
            "28999it [09:42, 51.78it/s]"
          ]
        },
        {
          "output_type": "stream",
          "name": "stdout",
          "text": [
            "| epoch   1 | 29000/32580 batches | loss    0.787 \n",
            "money: much, use, him, not, seen, nine, time, sense, works, role\n",
            "lion: branwell, melbourne, boys, refurbished, purpose, flutes, relaxed, placed, politician, nativity\n",
            "africa: america, united, europe, north, end, south, nine, germany, east, eight\n",
            "musician: singer, born, english, actor, american, music, film, actress, eight, addition\n",
            "dance: music, china, history, traditional, modern, article, hungary, largest, gospel, see\n",
            "\n",
            "\n"
          ]
        },
        {
          "output_type": "stream",
          "name": "stderr",
          "text": [
            "29497it [09:52, 51.06it/s]"
          ]
        },
        {
          "output_type": "stream",
          "name": "stdout",
          "text": [
            "| epoch   1 | 29500/32580 batches | loss    0.785 \n",
            "money: much, him, not, use, them, seen, nine, time, sense, works\n",
            "lion: branwell, boys, melbourne, refurbished, purpose, placed, flutes, nativity, relaxed, politician\n",
            "africa: america, united, europe, north, end, germany, nine, south, east, india\n",
            "musician: singer, born, actor, english, american, film, music, actress, eight, battle\n",
            "dance: music, china, history, traditional, modern, hungary, article, country, gospel, english\n",
            "\n",
            "\n"
          ]
        },
        {
          "output_type": "stream",
          "name": "stderr",
          "text": [
            "29996it [10:01, 50.55it/s]"
          ]
        },
        {
          "output_type": "stream",
          "name": "stdout",
          "text": [
            "| epoch   1 | 30000/32580 batches | loss    0.782 \n",
            "money: much, use, him, not, seen, them, sense, time, role, example\n",
            "lion: branwell, melbourne, boys, refurbished, purpose, flutes, placed, nativity, politician, externalization\n",
            "africa: america, europe, united, north, germany, south, end, nine, east, india\n",
            "musician: singer, born, actor, english, american, film, music, actress, eight, battle\n",
            "dance: music, history, china, traditional, modern, country, article, gospel, hungary, english\n",
            "\n",
            "\n"
          ]
        },
        {
          "output_type": "stream",
          "name": "stderr",
          "text": [
            "30499it [10:12, 51.26it/s]"
          ]
        },
        {
          "output_type": "stream",
          "name": "stdout",
          "text": [
            "| epoch   1 | 30500/32580 batches | loss    0.780 \n",
            "money: much, use, him, not, seen, time, them, sense, nine, way\n",
            "lion: branwell, melbourne, boys, refurbished, purpose, flutes, placed, nativity, politician, externalization\n",
            "africa: america, united, europe, germany, north, end, south, nine, east, seven\n",
            "musician: singer, actor, born, english, american, actress, music, eight, film, addition\n",
            "dance: music, history, china, modern, traditional, article, country, english, hungary, gospel\n",
            "\n",
            "\n"
          ]
        },
        {
          "output_type": "stream",
          "name": "stderr",
          "text": [
            "31001it [10:22, 34.27it/s]"
          ]
        },
        {
          "output_type": "stream",
          "name": "stdout",
          "text": [
            "| epoch   1 | 31000/32580 batches | loss    0.779 \n",
            "money: much, him, not, use, sense, them, seen, nine, way, works\n",
            "lion: branwell, melbourne, boys, refurbished, purpose, flutes, politician, externalization, nativity, relaxed\n",
            "africa: america, europe, united, germany, north, end, south, nine, east, seven\n",
            "musician: singer, actor, born, english, actress, american, music, eight, film, addition\n",
            "dance: music, china, history, modern, traditional, article, hungary, country, english, gospel\n",
            "\n",
            "\n"
          ]
        },
        {
          "output_type": "stream",
          "name": "stderr",
          "text": [
            "31500it [10:32, 51.40it/s]"
          ]
        },
        {
          "output_type": "stream",
          "name": "stdout",
          "text": [
            "| epoch   1 | 31500/32580 batches | loss    0.777 \n",
            "money: much, use, him, not, them, sense, seen, time, nine, way\n",
            "lion: branwell, melbourne, boys, purpose, refurbished, flutes, politician, relaxed, nativity, externalization\n",
            "africa: america, europe, united, germany, north, south, end, nine, east, india\n",
            "musician: singer, actor, born, english, actress, american, music, eight, addition, film\n",
            "dance: music, history, modern, china, traditional, country, article, hungary, member, gospel\n",
            "\n",
            "\n"
          ]
        },
        {
          "output_type": "stream",
          "name": "stderr",
          "text": [
            "31999it [10:42, 51.29it/s]"
          ]
        },
        {
          "output_type": "stream",
          "name": "stdout",
          "text": [
            "| epoch   1 | 32000/32580 batches | loss    0.775 \n",
            "money: him, not, much, use, them, sense, seen, nine, fact, works\n",
            "lion: branwell, melbourne, boys, purpose, refurbished, flutes, relaxed, nativity, politician, externalization\n",
            "africa: america, europe, united, germany, north, south, end, east, nine, india\n",
            "musician: singer, actor, born, english, actress, music, american, addition, poet, politician\n",
            "dance: music, modern, china, history, traditional, country, hungary, article, member, latin\n",
            "\n",
            "\n"
          ]
        },
        {
          "output_type": "stream",
          "name": "stderr",
          "text": [
            "32500it [10:52, 51.00it/s]"
          ]
        },
        {
          "output_type": "stream",
          "name": "stdout",
          "text": [
            "| epoch   1 | 32500/32580 batches | loss    0.773 \n",
            "money: not, him, much, use, them, sense, nine, fact, seen, way\n",
            "lion: branwell, melbourne, boys, purpose, refurbished, flutes, externalization, nativity, placed, offered\n",
            "africa: america, europe, united, germany, north, south, east, nine, india, end\n",
            "musician: singer, actor, born, english, actress, music, american, eight, poet, politician\n",
            "dance: music, history, modern, china, traditional, article, country, hungary, latin, contemporary\n",
            "\n",
            "\n"
          ]
        },
        {
          "output_type": "stream",
          "name": "stderr",
          "text": [
            "32580it [10:56, 49.66it/s]\n",
            "1it [00:02,  2.03s/it]"
          ]
        },
        {
          "output_type": "stream",
          "name": "stdout",
          "text": [
            "| epoch   2 |     0/32580 batches | loss    0.736 \n",
            "money: him, not, much, use, them, nine, sense, fact, seen, way\n",
            "lion: branwell, melbourne, boys, purpose, refurbished, flutes, externalization, nativity, placed, offered\n",
            "africa: america, europe, united, germany, north, south, east, india, nine, end\n",
            "musician: singer, actor, born, english, actress, music, american, eight, poet, addition\n",
            "dance: music, history, modern, china, traditional, article, country, hungary, latin, contemporary\n",
            "\n",
            "\n"
          ]
        },
        {
          "output_type": "stream",
          "name": "stderr",
          "text": [
            "497it [00:11, 51.89it/s]"
          ]
        },
        {
          "output_type": "stream",
          "name": "stdout",
          "text": [
            "| epoch   2 |   500/32580 batches | loss    0.738 \n",
            "money: him, not, much, use, them, nine, sense, fact, seen, way\n",
            "lion: branwell, melbourne, boys, purpose, refurbished, flutes, externalization, nativity, placed, offered\n",
            "africa: america, europe, united, germany, north, south, east, india, nine, end\n",
            "musician: singer, actor, born, english, actress, music, american, eight, poet, addition\n",
            "dance: music, history, modern, china, traditional, article, country, hungary, latin, contemporary\n",
            "\n",
            "\n"
          ]
        },
        {
          "output_type": "stream",
          "name": "stderr",
          "text": [
            "997it [00:24, 51.56it/s]"
          ]
        },
        {
          "output_type": "stream",
          "name": "stdout",
          "text": [
            "| epoch   2 |  1000/32580 batches | loss    0.738 \n",
            "money: him, not, much, use, them, nine, sense, fact, seen, way\n",
            "lion: branwell, melbourne, boys, purpose, refurbished, flutes, externalization, nativity, placed, offered\n",
            "africa: america, europe, united, germany, north, south, east, india, nine, england\n",
            "musician: singer, actor, born, english, actress, music, american, eight, poet, addition\n",
            "dance: music, history, modern, china, traditional, article, country, hungary, latin, contemporary\n",
            "\n",
            "\n"
          ]
        },
        {
          "output_type": "stream",
          "name": "stderr",
          "text": [
            "1499it [00:34, 50.92it/s]"
          ]
        },
        {
          "output_type": "stream",
          "name": "stdout",
          "text": [
            "| epoch   2 |  1500/32580 batches | loss    0.738 \n",
            "money: him, not, much, use, them, nine, sense, fact, seen, way\n",
            "lion: branwell, melbourne, boys, purpose, refurbished, flutes, externalization, nativity, placed, offered\n",
            "africa: america, europe, united, germany, north, south, east, india, nine, england\n",
            "musician: singer, actor, born, english, actress, music, american, eight, poet, addition\n",
            "dance: music, history, modern, china, traditional, article, country, hungary, latin, contemporary\n",
            "\n",
            "\n"
          ]
        },
        {
          "output_type": "stream",
          "name": "stderr",
          "text": [
            "1996it [00:44, 50.52it/s]"
          ]
        },
        {
          "output_type": "stream",
          "name": "stdout",
          "text": [
            "| epoch   2 |  2000/32580 batches | loss    0.735 \n",
            "money: him, not, much, use, them, nine, sense, fact, seen, way\n",
            "lion: branwell, melbourne, boys, purpose, refurbished, flutes, externalization, nativity, placed, offered\n",
            "africa: america, europe, united, germany, north, south, east, india, nine, england\n",
            "musician: singer, actor, born, english, actress, music, american, eight, poet, addition\n",
            "dance: music, history, modern, china, traditional, article, country, hungary, latin, uk\n",
            "\n",
            "\n"
          ]
        },
        {
          "output_type": "stream",
          "name": "stderr",
          "text": [
            "2500it [00:55, 48.76it/s]"
          ]
        },
        {
          "output_type": "stream",
          "name": "stdout",
          "text": [
            "| epoch   2 |  2500/32580 batches | loss    0.736 \n",
            "money: him, not, much, use, them, nine, sense, fact, seen, way\n",
            "lion: branwell, melbourne, boys, purpose, refurbished, flutes, externalization, nativity, placed, offered\n",
            "africa: america, europe, united, germany, north, south, east, india, nine, england\n",
            "musician: singer, actor, born, english, actress, music, american, eight, poet, politician\n",
            "dance: music, history, modern, china, traditional, article, country, hungary, latin, contemporary\n",
            "\n",
            "\n"
          ]
        },
        {
          "output_type": "stream",
          "name": "stderr",
          "text": [
            "3001it [01:05, 33.20it/s]"
          ]
        },
        {
          "output_type": "stream",
          "name": "stdout",
          "text": [
            "| epoch   2 |  3000/32580 batches | loss    0.736 \n",
            "money: him, not, much, use, them, nine, sense, fact, seen, way\n",
            "lion: branwell, melbourne, boys, purpose, refurbished, flutes, externalization, nativity, placed, offered\n",
            "africa: america, europe, united, germany, north, south, east, india, nine, england\n",
            "musician: singer, actor, born, english, actress, music, american, eight, poet, politician\n",
            "dance: music, history, modern, china, traditional, article, country, hungary, latin, contemporary\n",
            "\n",
            "\n"
          ]
        },
        {
          "output_type": "stream",
          "name": "stderr",
          "text": [
            "3500it [01:15, 50.87it/s]"
          ]
        },
        {
          "output_type": "stream",
          "name": "stdout",
          "text": [
            "| epoch   2 |  3500/32580 batches | loss    0.734 \n",
            "money: him, not, much, use, them, nine, sense, fact, seen, way\n",
            "lion: branwell, melbourne, boys, purpose, refurbished, flutes, externalization, nativity, placed, offered\n",
            "africa: america, europe, united, germany, north, south, east, india, nine, england\n",
            "musician: singer, actor, born, english, actress, american, music, eight, poet, politician\n",
            "dance: music, history, modern, china, traditional, article, country, hungary, latin, contemporary\n",
            "\n",
            "\n"
          ]
        },
        {
          "output_type": "stream",
          "name": "stderr",
          "text": [
            "4000it [01:25, 50.92it/s]"
          ]
        },
        {
          "output_type": "stream",
          "name": "stdout",
          "text": [
            "| epoch   2 |  4000/32580 batches | loss    0.733 \n",
            "money: him, not, much, use, them, nine, sense, fact, seen, way\n",
            "lion: branwell, melbourne, boys, purpose, refurbished, flutes, externalization, placed, nativity, offered\n",
            "africa: america, europe, united, germany, north, south, east, india, nine, england\n",
            "musician: singer, actor, born, english, actress, american, music, eight, poet, politician\n",
            "dance: music, history, modern, china, traditional, country, article, hungary, latin, contemporary\n",
            "\n",
            "\n"
          ]
        },
        {
          "output_type": "stream",
          "name": "stderr",
          "text": [
            "4499it [01:35, 50.78it/s]"
          ]
        },
        {
          "output_type": "stream",
          "name": "stdout",
          "text": [
            "| epoch   2 |  4500/32580 batches | loss    0.732 \n",
            "money: him, not, much, use, them, nine, sense, fact, seen, way\n",
            "lion: branwell, melbourne, boys, purpose, refurbished, flutes, externalization, placed, nativity, offered\n",
            "africa: america, europe, united, germany, north, south, east, india, nine, england\n",
            "musician: singer, actor, born, english, actress, american, music, eight, poet, politician\n",
            "dance: music, history, modern, china, traditional, country, article, hungary, latin, contemporary\n",
            "\n",
            "\n"
          ]
        },
        {
          "output_type": "stream",
          "name": "stderr",
          "text": [
            "5000it [01:45, 50.11it/s]"
          ]
        },
        {
          "output_type": "stream",
          "name": "stdout",
          "text": [
            "| epoch   2 |  5000/32580 batches | loss    0.733 \n",
            "money: him, not, much, use, them, nine, sense, fact, seen, way\n",
            "lion: branwell, melbourne, boys, purpose, refurbished, flutes, externalization, placed, nativity, offered\n",
            "africa: america, europe, united, germany, north, south, east, india, nine, england\n",
            "musician: singer, actor, born, english, actress, american, music, eight, poet, politician\n",
            "dance: music, history, modern, china, traditional, country, article, hungary, latin, contemporary\n",
            "\n",
            "\n"
          ]
        },
        {
          "output_type": "stream",
          "name": "stderr",
          "text": [
            "5499it [01:55, 49.33it/s]"
          ]
        },
        {
          "output_type": "stream",
          "name": "stdout",
          "text": [
            "| epoch   2 |  5500/32580 batches | loss    0.736 \n",
            "money: him, not, much, use, them, sense, nine, fact, seen, way\n",
            "lion: branwell, melbourne, boys, purpose, refurbished, flutes, placed, externalization, nativity, offered\n",
            "africa: america, europe, united, germany, north, south, east, india, nine, england\n",
            "musician: singer, actor, born, english, actress, american, music, eight, poet, politician\n",
            "dance: music, history, modern, china, traditional, country, article, hungary, latin, contemporary\n",
            "\n",
            "\n"
          ]
        },
        {
          "output_type": "stream",
          "name": "stderr",
          "text": [
            "5996it [02:05, 50.36it/s]"
          ]
        },
        {
          "output_type": "stream",
          "name": "stdout",
          "text": [
            "| epoch   2 |  6000/32580 batches | loss    0.732 \n",
            "money: not, him, much, use, them, nine, sense, fact, seen, way\n",
            "lion: branwell, melbourne, boys, purpose, refurbished, flutes, placed, externalization, nativity, offered\n",
            "africa: america, europe, united, germany, north, south, east, india, nine, england\n",
            "musician: singer, actor, born, english, actress, american, music, eight, poet, politician\n",
            "dance: music, history, modern, china, traditional, country, article, hungary, latin, contemporary\n",
            "\n",
            "\n"
          ]
        },
        {
          "output_type": "stream",
          "name": "stderr",
          "text": [
            "6498it [02:15, 51.14it/s]"
          ]
        },
        {
          "output_type": "stream",
          "name": "stdout",
          "text": [
            "| epoch   2 |  6500/32580 batches | loss    0.733 \n",
            "money: him, not, much, use, them, nine, sense, fact, seen, way\n",
            "lion: branwell, melbourne, boys, purpose, refurbished, flutes, placed, externalization, nativity, offered\n",
            "africa: america, europe, united, germany, north, south, east, india, nine, england\n",
            "musician: singer, actor, born, english, actress, american, music, eight, poet, politician\n",
            "dance: music, history, modern, china, traditional, country, article, hungary, latin, contemporary\n",
            "\n",
            "\n"
          ]
        },
        {
          "output_type": "stream",
          "name": "stderr",
          "text": [
            "6997it [02:25, 51.73it/s]"
          ]
        },
        {
          "output_type": "stream",
          "name": "stdout",
          "text": [
            "| epoch   2 |  7000/32580 batches | loss    0.732 \n",
            "money: him, not, much, use, them, sense, nine, fact, seen, way\n",
            "lion: branwell, melbourne, boys, purpose, refurbished, flutes, placed, externalization, nativity, offered\n",
            "africa: america, europe, united, germany, north, south, east, india, nine, england\n",
            "musician: singer, actor, born, english, actress, american, music, eight, poet, politician\n",
            "dance: music, history, modern, china, traditional, country, article, hungary, latin, contemporary\n",
            "\n",
            "\n"
          ]
        },
        {
          "output_type": "stream",
          "name": "stderr",
          "text": [
            "7501it [02:35, 34.50it/s]"
          ]
        },
        {
          "output_type": "stream",
          "name": "stdout",
          "text": [
            "| epoch   2 |  7500/32580 batches | loss    0.731 \n",
            "money: him, not, much, use, them, sense, fact, nine, seen, way\n",
            "lion: branwell, melbourne, boys, purpose, refurbished, flutes, placed, externalization, nativity, offered\n",
            "africa: america, europe, united, germany, north, south, east, india, nine, england\n",
            "musician: singer, actor, born, english, actress, american, music, eight, poet, politician\n",
            "dance: music, history, modern, china, traditional, country, article, hungary, latin, contemporary\n",
            "\n",
            "\n"
          ]
        },
        {
          "output_type": "stream",
          "name": "stderr",
          "text": [
            "7998it [02:45, 51.83it/s]"
          ]
        },
        {
          "output_type": "stream",
          "name": "stdout",
          "text": [
            "| epoch   2 |  8000/32580 batches | loss    0.731 \n",
            "money: him, not, much, use, them, sense, fact, nine, seen, way\n",
            "lion: branwell, melbourne, boys, purpose, refurbished, flutes, placed, externalization, nativity, offered\n",
            "africa: america, europe, united, germany, north, south, east, india, nine, england\n",
            "musician: singer, actor, born, english, actress, american, music, eight, poet, politician\n",
            "dance: music, history, modern, china, traditional, country, article, hungary, latin, contemporary\n",
            "\n",
            "\n"
          ]
        },
        {
          "output_type": "stream",
          "name": "stderr",
          "text": [
            "8501it [02:55, 34.17it/s]"
          ]
        },
        {
          "output_type": "stream",
          "name": "stdout",
          "text": [
            "| epoch   2 |  8500/32580 batches | loss    0.732 \n",
            "money: not, him, much, use, them, sense, nine, fact, seen, way\n",
            "lion: branwell, melbourne, boys, purpose, refurbished, flutes, placed, externalization, nativity, offered\n",
            "africa: america, europe, united, germany, north, south, east, india, nine, england\n",
            "musician: singer, actor, born, english, actress, american, music, eight, poet, politician\n",
            "dance: music, history, modern, china, traditional, country, article, hungary, latin, contemporary\n",
            "\n",
            "\n"
          ]
        },
        {
          "output_type": "stream",
          "name": "stderr",
          "text": [
            "8998it [03:05, 51.62it/s]"
          ]
        },
        {
          "output_type": "stream",
          "name": "stdout",
          "text": [
            "| epoch   2 |  9000/32580 batches | loss    0.732 \n",
            "money: not, him, much, use, them, sense, fact, nine, seen, way\n",
            "lion: branwell, melbourne, boys, purpose, refurbished, flutes, placed, externalization, nativity, offered\n",
            "africa: america, europe, united, germany, north, south, east, india, nine, england\n",
            "musician: singer, actor, born, english, actress, american, music, eight, poet, politician\n",
            "dance: music, history, modern, china, traditional, country, article, hungary, latin, contemporary\n",
            "\n",
            "\n"
          ]
        },
        {
          "output_type": "stream",
          "name": "stderr",
          "text": [
            "9501it [03:15, 34.30it/s]"
          ]
        },
        {
          "output_type": "stream",
          "name": "stdout",
          "text": [
            "| epoch   2 |  9500/32580 batches | loss    0.732 \n",
            "money: not, him, much, use, them, sense, nine, fact, way, seen\n",
            "lion: branwell, melbourne, boys, purpose, refurbished, flutes, placed, externalization, nativity, offered\n",
            "africa: america, europe, germany, united, north, south, east, india, nine, england\n",
            "musician: singer, actor, born, english, actress, american, music, eight, poet, politician\n",
            "dance: music, history, modern, china, traditional, country, article, hungary, latin, contemporary\n",
            "\n",
            "\n"
          ]
        },
        {
          "output_type": "stream",
          "name": "stderr",
          "text": [
            "10000it [03:25, 51.20it/s]"
          ]
        },
        {
          "output_type": "stream",
          "name": "stdout",
          "text": [
            "| epoch   2 | 10000/32580 batches | loss    0.729 \n",
            "money: not, him, much, use, them, sense, nine, fact, way, seen\n",
            "lion: branwell, melbourne, boys, purpose, refurbished, flutes, placed, externalization, nativity, offered\n",
            "africa: america, europe, united, germany, north, south, east, india, nine, england\n",
            "musician: singer, actor, born, english, actress, american, music, eight, poet, politician\n",
            "dance: music, history, modern, china, traditional, article, country, hungary, latin, contemporary\n",
            "\n",
            "\n"
          ]
        },
        {
          "output_type": "stream",
          "name": "stderr",
          "text": [
            "10498it [03:35, 51.24it/s]"
          ]
        },
        {
          "output_type": "stream",
          "name": "stdout",
          "text": [
            "| epoch   2 | 10500/32580 batches | loss    0.731 \n",
            "money: not, him, much, use, them, sense, nine, fact, way, seen\n",
            "lion: branwell, melbourne, boys, purpose, refurbished, flutes, placed, externalization, nativity, politician\n",
            "africa: america, europe, united, germany, north, south, east, india, nine, england\n",
            "musician: singer, actor, born, english, actress, american, music, eight, poet, politician\n",
            "dance: music, history, modern, china, traditional, country, article, hungary, latin, contemporary\n",
            "\n",
            "\n"
          ]
        },
        {
          "output_type": "stream",
          "name": "stderr",
          "text": [
            "11001it [03:45, 34.69it/s]"
          ]
        },
        {
          "output_type": "stream",
          "name": "stdout",
          "text": [
            "| epoch   2 | 11000/32580 batches | loss    0.730 \n",
            "money: him, not, much, use, them, sense, nine, fact, way, seen\n",
            "lion: branwell, melbourne, boys, purpose, refurbished, flutes, placed, externalization, nativity, politician\n",
            "africa: america, europe, united, germany, north, south, east, india, nine, england\n",
            "musician: singer, actor, born, english, actress, american, music, eight, poet, politician\n",
            "dance: music, history, modern, china, traditional, country, article, hungary, latin, contemporary\n",
            "\n",
            "\n"
          ]
        },
        {
          "output_type": "stream",
          "name": "stderr",
          "text": [
            "11497it [03:55, 50.04it/s]"
          ]
        },
        {
          "output_type": "stream",
          "name": "stdout",
          "text": [
            "| epoch   2 | 11500/32580 batches | loss    0.729 \n",
            "money: him, not, much, use, them, sense, nine, fact, way, seen\n",
            "lion: branwell, melbourne, boys, purpose, refurbished, flutes, placed, externalization, nativity, politician\n",
            "africa: america, europe, united, germany, north, south, east, india, nine, england\n",
            "musician: singer, actor, born, english, actress, american, music, eight, poet, politician\n",
            "dance: music, history, modern, china, traditional, country, article, hungary, latin, contemporary\n",
            "\n",
            "\n"
          ]
        },
        {
          "output_type": "stream",
          "name": "stderr",
          "text": [
            "12000it [04:05, 50.42it/s]"
          ]
        },
        {
          "output_type": "stream",
          "name": "stdout",
          "text": [
            "| epoch   2 | 12000/32580 batches | loss    0.731 \n",
            "money: not, him, much, use, them, sense, nine, fact, way, seen\n",
            "lion: branwell, melbourne, boys, purpose, refurbished, flutes, placed, externalization, nativity, politician\n",
            "africa: america, europe, germany, united, north, south, east, india, nine, england\n",
            "musician: singer, actor, born, english, actress, american, music, eight, poet, politician\n",
            "dance: music, history, modern, china, traditional, country, article, hungary, latin, contemporary\n",
            "\n",
            "\n"
          ]
        },
        {
          "output_type": "stream",
          "name": "stderr",
          "text": [
            "12501it [04:15, 34.29it/s]"
          ]
        },
        {
          "output_type": "stream",
          "name": "stdout",
          "text": [
            "| epoch   2 | 12500/32580 batches | loss    0.730 \n",
            "money: not, him, much, use, them, sense, nine, fact, way, seen\n",
            "lion: branwell, melbourne, boys, purpose, refurbished, flutes, placed, externalization, politician, nativity\n",
            "africa: america, europe, united, germany, north, south, east, india, nine, england\n",
            "musician: singer, actor, born, english, actress, american, music, eight, poet, politician\n",
            "dance: music, history, modern, china, traditional, country, article, hungary, latin, contemporary\n",
            "\n",
            "\n"
          ]
        },
        {
          "output_type": "stream",
          "name": "stderr",
          "text": [
            "12999it [04:25, 51.41it/s]"
          ]
        },
        {
          "output_type": "stream",
          "name": "stdout",
          "text": [
            "| epoch   2 | 13000/32580 batches | loss    0.730 \n",
            "money: not, him, much, use, them, sense, fact, nine, way, seen\n",
            "lion: branwell, melbourne, boys, purpose, refurbished, flutes, placed, externalization, politician, nativity\n",
            "africa: america, europe, germany, united, north, south, east, india, nine, england\n",
            "musician: singer, actor, born, english, actress, american, music, eight, poet, politician\n",
            "dance: music, history, modern, china, traditional, country, article, hungary, latin, contemporary\n",
            "\n",
            "\n"
          ]
        },
        {
          "output_type": "stream",
          "name": "stderr",
          "text": [
            "13496it [04:35, 50.99it/s]"
          ]
        },
        {
          "output_type": "stream",
          "name": "stdout",
          "text": [
            "| epoch   2 | 13500/32580 batches | loss    0.729 \n",
            "money: him, not, much, use, them, sense, fact, nine, way, seen\n",
            "lion: branwell, melbourne, boys, purpose, refurbished, flutes, placed, externalization, politician, nativity\n",
            "africa: america, europe, germany, united, north, south, east, india, nine, england\n",
            "musician: singer, actor, born, english, actress, american, music, eight, poet, politician\n",
            "dance: music, history, modern, china, traditional, country, article, hungary, latin, contemporary\n",
            "\n",
            "\n"
          ]
        },
        {
          "output_type": "stream",
          "name": "stderr",
          "text": [
            "14000it [04:45, 51.55it/s]"
          ]
        },
        {
          "output_type": "stream",
          "name": "stdout",
          "text": [
            "| epoch   2 | 14000/32580 batches | loss    0.729 \n",
            "money: not, him, much, use, them, sense, nine, fact, way, seen\n",
            "lion: branwell, melbourne, boys, purpose, refurbished, flutes, placed, externalization, nativity, politician\n",
            "africa: america, europe, germany, united, north, south, east, india, nine, england\n",
            "musician: singer, actor, born, english, actress, american, music, eight, poet, politician\n",
            "dance: music, history, modern, china, traditional, country, article, hungary, latin, contemporary\n",
            "\n",
            "\n"
          ]
        },
        {
          "output_type": "stream",
          "name": "stderr",
          "text": [
            "14500it [04:55, 50.37it/s]"
          ]
        },
        {
          "output_type": "stream",
          "name": "stdout",
          "text": [
            "| epoch   2 | 14500/32580 batches | loss    0.729 \n",
            "money: not, him, much, use, them, sense, fact, nine, way, seen\n",
            "lion: branwell, melbourne, boys, purpose, refurbished, flutes, placed, externalization, nativity, politician\n",
            "africa: america, europe, germany, united, north, south, east, india, nine, england\n",
            "musician: singer, actor, born, english, actress, american, music, poet, eight, politician\n",
            "dance: music, history, modern, china, traditional, country, article, hungary, three, contemporary\n",
            "\n",
            "\n"
          ]
        },
        {
          "output_type": "stream",
          "name": "stderr",
          "text": [
            "14997it [05:05, 50.42it/s]"
          ]
        },
        {
          "output_type": "stream",
          "name": "stdout",
          "text": [
            "| epoch   2 | 15000/32580 batches | loss    0.730 \n",
            "money: him, not, much, use, them, sense, fact, nine, way, seen\n",
            "lion: branwell, melbourne, boys, purpose, refurbished, flutes, placed, externalization, nativity, politician\n",
            "africa: america, europe, germany, united, north, south, india, east, nine, england\n",
            "musician: singer, actor, born, english, actress, american, music, poet, eight, politician\n",
            "dance: music, history, modern, china, traditional, country, article, hungary, contemporary, latin\n",
            "\n",
            "\n"
          ]
        },
        {
          "output_type": "stream",
          "name": "stderr",
          "text": [
            "15499it [05:15, 50.79it/s]"
          ]
        },
        {
          "output_type": "stream",
          "name": "stdout",
          "text": [
            "| epoch   2 | 15500/32580 batches | loss    0.729 \n",
            "money: not, him, much, use, them, sense, fact, nine, way, seen\n",
            "lion: branwell, melbourne, boys, purpose, refurbished, flutes, placed, externalization, nativity, politician\n",
            "africa: america, europe, germany, united, north, south, india, east, nine, england\n",
            "musician: singer, actor, born, english, actress, american, music, poet, eight, politician\n",
            "dance: music, history, modern, china, traditional, country, article, hungary, contemporary, latin\n",
            "\n",
            "\n"
          ]
        },
        {
          "output_type": "stream",
          "name": "stderr",
          "text": [
            "15999it [05:25, 51.65it/s]"
          ]
        },
        {
          "output_type": "stream",
          "name": "stdout",
          "text": [
            "| epoch   2 | 16000/32580 batches | loss    0.728 \n",
            "money: not, him, much, use, them, sense, fact, nine, way, seen\n",
            "lion: branwell, melbourne, boys, purpose, refurbished, flutes, placed, externalization, nativity, politician\n",
            "africa: america, europe, germany, united, north, india, south, east, nine, england\n",
            "musician: singer, actor, born, english, actress, american, music, poet, eight, politician\n",
            "dance: music, history, modern, china, traditional, country, article, hungary, contemporary, latin\n",
            "\n",
            "\n"
          ]
        },
        {
          "output_type": "stream",
          "name": "stderr",
          "text": [
            "16497it [05:35, 51.60it/s]"
          ]
        },
        {
          "output_type": "stream",
          "name": "stdout",
          "text": [
            "| epoch   2 | 16500/32580 batches | loss    0.728 \n",
            "money: not, him, much, use, them, sense, fact, way, nine, seen\n",
            "lion: branwell, melbourne, boys, purpose, refurbished, flutes, placed, externalization, nativity, politician\n",
            "africa: america, europe, germany, united, north, south, india, east, nine, england\n",
            "musician: singer, actor, born, english, actress, american, music, poet, politician, author\n",
            "dance: music, history, modern, china, traditional, country, article, hungary, contemporary, latin\n",
            "\n",
            "\n"
          ]
        },
        {
          "output_type": "stream",
          "name": "stderr",
          "text": [
            "17001it [05:45, 34.67it/s]"
          ]
        },
        {
          "output_type": "stream",
          "name": "stdout",
          "text": [
            "| epoch   2 | 17000/32580 batches | loss    0.729 \n",
            "money: him, not, much, them, use, sense, fact, nine, way, seen\n",
            "lion: branwell, melbourne, boys, purpose, refurbished, flutes, placed, externalization, politician, nativity\n",
            "africa: america, europe, germany, united, north, south, india, east, nine, england\n",
            "musician: singer, actor, born, english, actress, american, music, poet, author, politician\n",
            "dance: music, history, modern, china, traditional, country, article, hungary, contemporary, latin\n",
            "\n",
            "\n"
          ]
        },
        {
          "output_type": "stream",
          "name": "stderr",
          "text": [
            "17498it [05:55, 51.14it/s]"
          ]
        },
        {
          "output_type": "stream",
          "name": "stdout",
          "text": [
            "| epoch   2 | 17500/32580 batches | loss    0.727 \n",
            "money: not, him, much, them, use, sense, fact, way, nine, seen\n",
            "lion: branwell, melbourne, boys, purpose, refurbished, flutes, placed, externalization, politician, nativity\n",
            "africa: america, europe, germany, united, north, india, south, east, nine, england\n",
            "musician: singer, actor, born, english, actress, american, music, poet, eight, author\n",
            "dance: music, history, modern, china, traditional, country, article, hungary, contemporary, latin\n",
            "\n",
            "\n"
          ]
        },
        {
          "output_type": "stream",
          "name": "stderr",
          "text": [
            "18001it [06:05, 34.28it/s]"
          ]
        },
        {
          "output_type": "stream",
          "name": "stdout",
          "text": [
            "| epoch   2 | 18000/32580 batches | loss    0.728 \n",
            "money: not, him, much, them, use, sense, fact, way, seen, nine\n",
            "lion: branwell, melbourne, boys, purpose, refurbished, flutes, placed, externalization, nativity, politician\n",
            "africa: america, europe, germany, united, north, india, south, east, nine, england\n",
            "musician: singer, actor, born, english, actress, american, music, poet, author, politician\n",
            "dance: music, history, modern, china, traditional, country, article, hungary, contemporary, latin\n",
            "\n",
            "\n"
          ]
        },
        {
          "output_type": "stream",
          "name": "stderr",
          "text": [
            "18498it [06:15, 52.23it/s]"
          ]
        },
        {
          "output_type": "stream",
          "name": "stdout",
          "text": [
            "| epoch   2 | 18500/32580 batches | loss    0.727 \n",
            "money: not, him, much, them, use, sense, fact, way, seen, nine\n",
            "lion: branwell, melbourne, boys, purpose, refurbished, flutes, placed, externalization, nativity, politician\n",
            "africa: america, europe, germany, united, north, india, south, east, nine, england\n",
            "musician: singer, actor, born, english, actress, american, music, poet, author, politician\n",
            "dance: music, history, modern, china, traditional, country, article, hungary, contemporary, latin\n",
            "\n",
            "\n"
          ]
        },
        {
          "output_type": "stream",
          "name": "stderr",
          "text": [
            "19001it [06:25, 34.89it/s]"
          ]
        },
        {
          "output_type": "stream",
          "name": "stdout",
          "text": [
            "| epoch   2 | 19000/32580 batches | loss    0.728 \n",
            "money: not, him, much, them, use, sense, fact, way, seen, nine\n",
            "lion: branwell, melbourne, boys, purpose, refurbished, flutes, placed, externalization, politician, nativity\n",
            "africa: america, europe, germany, united, north, india, east, south, nine, england\n",
            "musician: singer, actor, born, english, actress, american, music, poet, author, politician\n",
            "dance: music, history, modern, china, traditional, country, article, hungary, contemporary, latin\n",
            "\n",
            "\n"
          ]
        },
        {
          "output_type": "stream",
          "name": "stderr",
          "text": [
            "19496it [06:34, 52.09it/s]"
          ]
        },
        {
          "output_type": "stream",
          "name": "stdout",
          "text": [
            "| epoch   2 | 19500/32580 batches | loss    0.726 \n",
            "money: not, him, much, them, use, sense, fact, way, nine, seen\n",
            "lion: branwell, melbourne, boys, purpose, refurbished, flutes, placed, externalization, politician, nativity\n",
            "africa: america, europe, germany, united, north, india, east, south, nine, england\n",
            "musician: singer, actor, born, english, actress, american, music, poet, author, politician\n",
            "dance: music, history, modern, china, traditional, country, article, hungary, contemporary, three\n",
            "\n",
            "\n"
          ]
        },
        {
          "output_type": "stream",
          "name": "stderr",
          "text": [
            "19998it [06:44, 51.90it/s]"
          ]
        },
        {
          "output_type": "stream",
          "name": "stdout",
          "text": [
            "| epoch   2 | 20000/32580 batches | loss    0.728 \n",
            "money: not, him, much, them, use, sense, fact, way, seen, nine\n",
            "lion: branwell, melbourne, boys, purpose, refurbished, flutes, placed, externalization, politician, nativity\n",
            "africa: america, europe, germany, united, north, india, east, south, nine, england\n",
            "musician: singer, actor, born, english, actress, american, music, poet, author, politician\n",
            "dance: music, history, modern, china, traditional, country, article, hungary, contemporary, latin\n",
            "\n",
            "\n"
          ]
        },
        {
          "output_type": "stream",
          "name": "stderr",
          "text": [
            "20501it [06:54, 34.08it/s]"
          ]
        },
        {
          "output_type": "stream",
          "name": "stdout",
          "text": [
            "| epoch   2 | 20500/32580 batches | loss    0.727 \n",
            "money: not, him, much, them, use, sense, fact, way, seen, nine\n",
            "lion: branwell, melbourne, boys, purpose, refurbished, flutes, placed, politician, externalization, nativity\n",
            "africa: america, europe, germany, united, north, india, east, south, nine, england\n",
            "musician: singer, actor, born, english, actress, american, music, poet, author, politician\n",
            "dance: music, history, modern, china, traditional, country, article, hungary, contemporary, latin\n",
            "\n",
            "\n"
          ]
        },
        {
          "output_type": "stream",
          "name": "stderr",
          "text": [
            "20997it [07:04, 50.91it/s]"
          ]
        },
        {
          "output_type": "stream",
          "name": "stdout",
          "text": [
            "| epoch   2 | 21000/32580 batches | loss    0.726 \n"
          ]
        },
        {
          "output_type": "stream",
          "name": "stderr",
          "text": [
            "21008it [07:05, 34.71it/s]"
          ]
        },
        {
          "output_type": "stream",
          "name": "stdout",
          "text": [
            "money: not, him, much, them, use, sense, fact, way, seen, nine\n",
            "lion: branwell, melbourne, boys, purpose, refurbished, flutes, placed, politician, externalization, nativity\n",
            "africa: america, europe, germany, united, north, india, east, south, nine, england\n",
            "musician: singer, actor, born, english, actress, american, music, poet, author, politician\n",
            "dance: music, history, modern, china, traditional, country, article, hungary, contemporary, latin\n",
            "\n",
            "\n"
          ]
        },
        {
          "output_type": "stream",
          "name": "stderr",
          "text": [
            "21500it [07:14, 51.72it/s]"
          ]
        },
        {
          "output_type": "stream",
          "name": "stdout",
          "text": [
            "| epoch   2 | 21500/32580 batches | loss    0.728 \n",
            "money: him, not, much, them, use, sense, fact, way, seen, nine\n",
            "lion: branwell, melbourne, boys, purpose, refurbished, flutes, placed, externalization, politician, nativity\n",
            "africa: america, europe, germany, united, north, india, east, south, nine, england\n",
            "musician: singer, actor, born, english, actress, american, music, poet, author, politician\n",
            "dance: music, history, modern, china, traditional, country, article, hungary, contemporary, three\n",
            "\n",
            "\n"
          ]
        },
        {
          "output_type": "stream",
          "name": "stderr",
          "text": [
            "21997it [07:24, 51.51it/s]"
          ]
        },
        {
          "output_type": "stream",
          "name": "stdout",
          "text": [
            "| epoch   2 | 22000/32580 batches | loss    0.726 \n",
            "money: him, not, much, them, use, sense, fact, way, seen, nine\n",
            "lion: branwell, melbourne, boys, purpose, refurbished, flutes, placed, politician, externalization, nativity\n",
            "africa: america, europe, united, germany, north, india, east, south, nine, england\n",
            "musician: singer, actor, born, english, actress, american, music, poet, author, politician\n",
            "dance: music, history, modern, china, traditional, country, article, hungary, contemporary, latin\n",
            "\n",
            "\n"
          ]
        },
        {
          "output_type": "stream",
          "name": "stderr",
          "text": [
            "22499it [07:34, 52.01it/s]"
          ]
        },
        {
          "output_type": "stream",
          "name": "stdout",
          "text": [
            "| epoch   2 | 22500/32580 batches | loss    0.728 \n",
            "money: him, not, much, them, use, sense, fact, way, seen, nine\n",
            "lion: branwell, melbourne, boys, purpose, refurbished, flutes, placed, politician, externalization, nativity\n",
            "africa: america, europe, united, germany, north, india, east, south, nine, england\n",
            "musician: singer, actor, born, english, actress, american, music, poet, author, politician\n",
            "dance: music, history, modern, china, traditional, country, article, hungary, contemporary, latin\n",
            "\n",
            "\n"
          ]
        },
        {
          "output_type": "stream",
          "name": "stderr",
          "text": [
            "22996it [07:44, 52.27it/s]"
          ]
        },
        {
          "output_type": "stream",
          "name": "stdout",
          "text": [
            "| epoch   2 | 23000/32580 batches | loss    0.727 \n",
            "money: him, not, much, them, use, sense, fact, seen, way, nine\n",
            "lion: branwell, melbourne, boys, purpose, refurbished, flutes, placed, politician, externalization, nativity\n",
            "africa: america, europe, united, germany, north, india, east, south, nine, england\n",
            "musician: singer, actor, born, english, actress, american, music, poet, author, politician\n",
            "dance: music, history, modern, china, traditional, country, article, hungary, contemporary, latin\n",
            "\n",
            "\n"
          ]
        },
        {
          "output_type": "stream",
          "name": "stderr",
          "text": [
            "23499it [07:54, 51.48it/s]"
          ]
        },
        {
          "output_type": "stream",
          "name": "stdout",
          "text": [
            "| epoch   2 | 23500/32580 batches | loss    0.725 \n",
            "money: him, much, not, them, use, sense, fact, seen, way, nine\n",
            "lion: branwell, melbourne, boys, purpose, refurbished, flutes, placed, politician, externalization, nativity\n",
            "africa: america, europe, germany, united, north, india, east, south, nine, england\n",
            "musician: singer, actor, born, english, actress, american, music, poet, author, politician\n",
            "dance: music, history, modern, china, traditional, country, article, hungary, contemporary, three\n",
            "\n",
            "\n"
          ]
        },
        {
          "output_type": "stream",
          "name": "stderr",
          "text": [
            "24000it [08:04, 51.86it/s]"
          ]
        },
        {
          "output_type": "stream",
          "name": "stdout",
          "text": [
            "| epoch   2 | 24000/32580 batches | loss    0.726 \n",
            "money: him, much, not, them, use, sense, fact, seen, way, nine\n",
            "lion: branwell, melbourne, boys, purpose, refurbished, flutes, placed, politician, externalization, nativity\n",
            "africa: america, europe, united, germany, north, india, east, south, england, nine\n",
            "musician: singer, actor, born, english, actress, american, music, author, poet, politician\n",
            "dance: music, history, modern, china, traditional, country, article, hungary, contemporary, latin\n",
            "\n",
            "\n"
          ]
        },
        {
          "output_type": "stream",
          "name": "stderr",
          "text": [
            "24498it [08:16, 46.88it/s]"
          ]
        },
        {
          "output_type": "stream",
          "name": "stdout",
          "text": [
            "| epoch   2 | 24500/32580 batches | loss    0.725 \n",
            "money: him, much, not, them, use, sense, fact, seen, way, nine\n",
            "lion: branwell, melbourne, boys, purpose, refurbished, flutes, placed, politician, letter, nativity\n",
            "africa: america, europe, germany, united, north, india, south, east, nine, england\n",
            "musician: singer, actor, born, english, actress, american, music, author, poet, politician\n",
            "dance: music, history, modern, china, traditional, country, article, hungary, contemporary, latin\n",
            "\n",
            "\n"
          ]
        },
        {
          "output_type": "stream",
          "name": "stderr",
          "text": [
            "25000it [08:26, 51.99it/s]"
          ]
        },
        {
          "output_type": "stream",
          "name": "stdout",
          "text": [
            "| epoch   2 | 25000/32580 batches | loss    0.725 \n",
            "money: him, much, not, them, use, sense, fact, seen, way, nine\n",
            "lion: branwell, melbourne, boys, purpose, refurbished, flutes, placed, politician, letter, externalization\n",
            "africa: america, europe, germany, united, north, india, south, east, nine, england\n",
            "musician: singer, actor, born, english, actress, music, american, author, poet, politician\n",
            "dance: music, history, modern, china, traditional, country, article, hungary, contemporary, latin\n",
            "\n",
            "\n"
          ]
        },
        {
          "output_type": "stream",
          "name": "stderr",
          "text": [
            "25498it [08:36, 51.93it/s]"
          ]
        },
        {
          "output_type": "stream",
          "name": "stdout",
          "text": [
            "| epoch   2 | 25500/32580 batches | loss    0.724 \n",
            "money: him, much, not, them, use, sense, fact, seen, way, nine\n",
            "lion: branwell, melbourne, boys, purpose, refurbished, flutes, placed, politician, letter, externalization\n",
            "africa: america, europe, germany, united, north, india, south, east, nine, england\n",
            "musician: singer, actor, born, english, actress, music, american, author, poet, politician\n",
            "dance: music, history, modern, china, traditional, country, article, hungary, contemporary, latin\n",
            "\n",
            "\n"
          ]
        },
        {
          "output_type": "stream",
          "name": "stderr",
          "text": [
            "26001it [08:46, 34.86it/s]"
          ]
        },
        {
          "output_type": "stream",
          "name": "stdout",
          "text": [
            "| epoch   2 | 26000/32580 batches | loss    0.726 \n",
            "money: him, much, not, them, use, sense, fact, seen, way, nine\n",
            "lion: branwell, boys, melbourne, purpose, refurbished, flutes, placed, politician, letter, externalization\n",
            "africa: america, europe, united, germany, north, india, south, east, nine, england\n",
            "musician: singer, actor, born, english, actress, music, american, author, poet, politician\n",
            "dance: music, history, modern, china, traditional, country, article, hungary, contemporary, latin\n",
            "\n",
            "\n"
          ]
        },
        {
          "output_type": "stream",
          "name": "stderr",
          "text": [
            "26498it [08:56, 51.85it/s]"
          ]
        },
        {
          "output_type": "stream",
          "name": "stdout",
          "text": [
            "| epoch   2 | 26500/32580 batches | loss    0.726 \n",
            "money: him, much, not, them, use, sense, fact, seen, way, nine\n",
            "lion: branwell, boys, melbourne, purpose, refurbished, placed, flutes, politician, externalization, nativity\n",
            "africa: america, europe, germany, united, north, india, south, east, nine, england\n",
            "musician: singer, actor, born, english, actress, music, american, author, poet, politician\n",
            "dance: music, history, modern, china, traditional, country, article, hungary, contemporary, latin\n",
            "\n",
            "\n"
          ]
        },
        {
          "output_type": "stream",
          "name": "stderr",
          "text": [
            "27001it [09:06, 34.18it/s]"
          ]
        },
        {
          "output_type": "stream",
          "name": "stdout",
          "text": [
            "| epoch   2 | 27000/32580 batches | loss    0.726 \n",
            "money: him, much, not, them, use, sense, fact, seen, way, nine\n",
            "lion: branwell, boys, melbourne, purpose, refurbished, flutes, placed, politician, letter, nativity\n",
            "africa: america, europe, germany, united, north, india, south, east, nine, england\n",
            "musician: singer, actor, born, english, actress, music, american, author, poet, politician\n",
            "dance: music, history, modern, china, traditional, country, article, hungary, contemporary, latin\n",
            "\n",
            "\n"
          ]
        },
        {
          "output_type": "stream",
          "name": "stderr",
          "text": [
            "27496it [09:16, 52.07it/s]"
          ]
        },
        {
          "output_type": "stream",
          "name": "stdout",
          "text": [
            "| epoch   2 | 27500/32580 batches | loss    0.724 \n",
            "money: him, much, not, them, use, sense, fact, seen, way, nine\n",
            "lion: branwell, boys, melbourne, purpose, refurbished, placed, flutes, politician, letter, nativity\n",
            "africa: america, europe, germany, united, north, india, south, east, nine, england\n",
            "musician: singer, actor, born, english, actress, american, music, author, poet, politician\n",
            "dance: music, history, modern, china, traditional, country, article, hungary, contemporary, latin\n",
            "\n",
            "\n"
          ]
        },
        {
          "output_type": "stream",
          "name": "stderr",
          "text": [
            "27998it [09:26, 51.84it/s]"
          ]
        },
        {
          "output_type": "stream",
          "name": "stdout",
          "text": [
            "| epoch   2 | 28000/32580 batches | loss    0.726 \n",
            "money: him, much, not, them, use, sense, fact, seen, way, nine\n",
            "lion: branwell, boys, melbourne, purpose, refurbished, placed, flutes, politician, letter, nativity\n",
            "africa: america, europe, germany, united, north, india, south, east, nine, england\n",
            "musician: singer, actor, born, english, actress, american, music, author, poet, politician\n",
            "dance: music, history, modern, china, traditional, country, article, hungary, contemporary, latin\n",
            "\n",
            "\n"
          ]
        },
        {
          "output_type": "stream",
          "name": "stderr",
          "text": [
            "28501it [09:36, 34.61it/s]"
          ]
        },
        {
          "output_type": "stream",
          "name": "stdout",
          "text": [
            "| epoch   2 | 28500/32580 batches | loss    0.724 \n",
            "money: him, much, not, them, use, sense, fact, seen, way, nine\n",
            "lion: branwell, boys, melbourne, purpose, refurbished, placed, flutes, politician, letter, nativity\n",
            "africa: america, europe, united, germany, north, india, south, east, nine, england\n",
            "musician: singer, actor, born, english, actress, american, music, author, poet, politician\n",
            "dance: music, history, modern, china, traditional, country, article, hungary, contemporary, latin\n",
            "\n",
            "\n"
          ]
        },
        {
          "output_type": "stream",
          "name": "stderr",
          "text": [
            "28998it [09:45, 52.13it/s]"
          ]
        },
        {
          "output_type": "stream",
          "name": "stdout",
          "text": [
            "| epoch   2 | 29000/32580 batches | loss    0.725 \n",
            "money: him, much, not, them, use, sense, fact, seen, way, nine\n",
            "lion: branwell, boys, melbourne, purpose, refurbished, placed, flutes, politician, letter, nativity\n",
            "africa: america, europe, united, germany, north, india, south, east, nine, england\n",
            "musician: singer, actor, born, english, actress, music, american, author, poet, politician\n",
            "dance: music, history, modern, china, traditional, country, article, hungary, contemporary, latin\n",
            "\n",
            "\n"
          ]
        },
        {
          "output_type": "stream",
          "name": "stderr",
          "text": [
            "29500it [09:55, 51.79it/s]"
          ]
        },
        {
          "output_type": "stream",
          "name": "stdout",
          "text": [
            "| epoch   2 | 29500/32580 batches | loss    0.723 \n",
            "money: him, not, much, them, use, sense, fact, seen, way, nine\n",
            "lion: branwell, boys, melbourne, purpose, refurbished, placed, flutes, politician, letter, nativity\n",
            "africa: america, europe, united, germany, north, india, south, east, nine, england\n",
            "musician: singer, actor, born, english, actress, music, american, author, poet, politician\n",
            "dance: music, history, modern, china, traditional, country, article, hungary, contemporary, uk\n",
            "\n",
            "\n"
          ]
        },
        {
          "output_type": "stream",
          "name": "stderr",
          "text": [
            "29998it [10:05, 51.78it/s]"
          ]
        },
        {
          "output_type": "stream",
          "name": "stdout",
          "text": [
            "| epoch   2 | 30000/32580 batches | loss    0.724 \n",
            "money: him, not, much, them, use, sense, fact, seen, way, nine\n",
            "lion: branwell, boys, melbourne, purpose, refurbished, placed, flutes, politician, letter, nativity\n",
            "africa: america, europe, united, germany, north, india, south, east, nine, england\n",
            "musician: singer, actor, born, english, actress, american, music, author, poet, politician\n",
            "dance: music, history, modern, china, traditional, country, article, contemporary, hungary, uk\n",
            "\n",
            "\n"
          ]
        },
        {
          "output_type": "stream",
          "name": "stderr",
          "text": [
            "30498it [10:15, 51.86it/s]"
          ]
        },
        {
          "output_type": "stream",
          "name": "stdout",
          "text": [
            "| epoch   2 | 30500/32580 batches | loss    0.724 \n",
            "money: him, much, not, them, use, sense, fact, seen, way, nine\n",
            "lion: branwell, boys, melbourne, purpose, refurbished, placed, flutes, letter, politician, nativity\n",
            "africa: america, europe, germany, united, north, india, south, east, nine, england\n",
            "musician: singer, actor, born, english, actress, music, american, author, poet, politician\n",
            "dance: music, history, modern, china, traditional, country, article, contemporary, hungary, uk\n",
            "\n",
            "\n"
          ]
        },
        {
          "output_type": "stream",
          "name": "stderr",
          "text": [
            "31001it [10:25, 34.62it/s]"
          ]
        },
        {
          "output_type": "stream",
          "name": "stdout",
          "text": [
            "| epoch   2 | 31000/32580 batches | loss    0.724 \n",
            "money: him, much, not, them, use, sense, fact, seen, way, nine\n",
            "lion: branwell, boys, melbourne, purpose, placed, refurbished, flutes, letter, politician, nativity\n",
            "africa: america, europe, germany, united, north, india, east, south, nine, england\n",
            "musician: singer, actor, born, english, actress, american, music, author, poet, politician\n",
            "dance: music, history, modern, china, traditional, country, article, contemporary, hungary, uk\n",
            "\n",
            "\n"
          ]
        },
        {
          "output_type": "stream",
          "name": "stderr",
          "text": [
            "31496it [10:35, 50.57it/s]"
          ]
        },
        {
          "output_type": "stream",
          "name": "stdout",
          "text": [
            "| epoch   2 | 31500/32580 batches | loss    0.723 \n"
          ]
        },
        {
          "output_type": "stream",
          "name": "stderr",
          "text": [
            "31507it [10:35, 34.54it/s]"
          ]
        },
        {
          "output_type": "stream",
          "name": "stdout",
          "text": [
            "money: him, much, not, them, use, sense, fact, seen, way, nine\n",
            "lion: branwell, boys, melbourne, purpose, placed, refurbished, flutes, letter, politician, nativity\n",
            "africa: america, europe, germany, united, north, india, east, south, nine, england\n",
            "musician: singer, actor, born, english, actress, american, music, author, poet, politician\n",
            "dance: music, history, modern, china, traditional, country, article, contemporary, hungary, uk\n",
            "\n",
            "\n"
          ]
        },
        {
          "output_type": "stream",
          "name": "stderr",
          "text": [
            "31998it [10:45, 50.64it/s]"
          ]
        },
        {
          "output_type": "stream",
          "name": "stdout",
          "text": [
            "| epoch   2 | 32000/32580 batches | loss    0.724 \n",
            "money: him, much, not, them, use, sense, fact, seen, way, nine\n",
            "lion: branwell, boys, melbourne, purpose, placed, refurbished, flutes, letter, politician, nativity\n",
            "africa: america, europe, germany, united, north, india, east, south, nine, england\n",
            "musician: singer, actor, born, english, actress, music, american, author, poet, politician\n",
            "dance: music, history, modern, china, traditional, country, article, contemporary, hungary, uk\n",
            "\n",
            "\n"
          ]
        },
        {
          "output_type": "stream",
          "name": "stderr",
          "text": [
            "32498it [10:55, 51.68it/s]"
          ]
        },
        {
          "output_type": "stream",
          "name": "stdout",
          "text": [
            "| epoch   2 | 32500/32580 batches | loss    0.723 \n",
            "money: him, much, not, them, use, sense, fact, seen, way, nine\n",
            "lion: branwell, melbourne, boys, purpose, placed, refurbished, flutes, letter, politician, nativity\n",
            "africa: america, europe, germany, united, north, india, east, south, nine, england\n",
            "musician: singer, actor, born, english, actress, music, american, author, poet, writer\n",
            "dance: music, history, modern, china, traditional, country, article, contemporary, hungary, uk\n",
            "\n",
            "\n"
          ]
        },
        {
          "output_type": "stream",
          "name": "stderr",
          "text": [
            "32580it [10:59, 49.41it/s]\n",
            "1it [00:01,  1.80s/it]"
          ]
        },
        {
          "output_type": "stream",
          "name": "stdout",
          "text": [
            "| epoch   3 |     0/32580 batches | loss    0.764 \n",
            "money: him, much, not, them, use, sense, fact, seen, way, nine\n",
            "lion: branwell, melbourne, boys, purpose, placed, refurbished, flutes, letter, politician, nativity\n",
            "africa: america, europe, germany, united, north, india, east, south, nine, england\n",
            "musician: singer, actor, born, english, actress, music, american, author, poet, writer\n",
            "dance: music, history, modern, china, traditional, country, article, contemporary, hungary, uk\n",
            "\n",
            "\n"
          ]
        },
        {
          "output_type": "stream",
          "name": "stderr",
          "text": [
            "500it [00:11, 51.58it/s]"
          ]
        },
        {
          "output_type": "stream",
          "name": "stdout",
          "text": [
            "| epoch   3 |   500/32580 batches | loss    0.719 \n",
            "money: him, much, not, them, use, sense, fact, seen, way, nine\n",
            "lion: branwell, melbourne, boys, purpose, placed, refurbished, flutes, letter, politician, nativity\n",
            "africa: america, europe, germany, united, north, india, east, south, nine, england\n",
            "musician: singer, actor, born, english, actress, music, american, author, poet, writer\n",
            "dance: music, history, modern, china, traditional, country, article, contemporary, hungary, uk\n",
            "\n",
            "\n"
          ]
        },
        {
          "output_type": "stream",
          "name": "stderr",
          "text": [
            "1001it [00:21, 35.13it/s]"
          ]
        },
        {
          "output_type": "stream",
          "name": "stdout",
          "text": [
            "| epoch   3 |  1000/32580 batches | loss    0.721 \n",
            "money: him, much, not, them, use, sense, fact, seen, way, nine\n",
            "lion: branwell, melbourne, boys, purpose, placed, refurbished, flutes, letter, politician, nativity\n",
            "africa: america, europe, germany, united, north, india, east, south, nine, england\n",
            "musician: singer, actor, born, english, actress, music, american, author, poet, writer\n",
            "dance: music, history, modern, china, traditional, country, article, contemporary, hungary, uk\n",
            "\n",
            "\n"
          ]
        },
        {
          "output_type": "stream",
          "name": "stderr",
          "text": [
            "1498it [00:31, 50.37it/s]"
          ]
        },
        {
          "output_type": "stream",
          "name": "stdout",
          "text": [
            "| epoch   3 |  1500/32580 batches | loss    0.719 \n",
            "money: him, much, not, them, use, sense, fact, seen, way, nine\n",
            "lion: branwell, melbourne, boys, purpose, placed, refurbished, flutes, letter, politician, nativity\n",
            "africa: america, europe, germany, united, north, india, east, south, nine, england\n",
            "musician: singer, actor, born, english, actress, music, american, author, poet, writer\n",
            "dance: music, history, modern, china, traditional, country, article, contemporary, hungary, uk\n",
            "\n",
            "\n"
          ]
        },
        {
          "output_type": "stream",
          "name": "stderr",
          "text": [
            "2000it [00:41, 50.96it/s]"
          ]
        },
        {
          "output_type": "stream",
          "name": "stdout",
          "text": [
            "| epoch   3 |  2000/32580 batches | loss    0.719 \n"
          ]
        },
        {
          "output_type": "stream",
          "name": "stderr",
          "text": [
            "\r2006it [00:41, 31.98it/s]"
          ]
        },
        {
          "output_type": "stream",
          "name": "stdout",
          "text": [
            "money: him, not, much, them, use, sense, fact, seen, way, nine\n",
            "lion: branwell, melbourne, boys, purpose, placed, refurbished, flutes, letter, politician, nativity\n",
            "africa: america, europe, germany, united, north, india, east, south, nine, england\n",
            "musician: singer, actor, born, english, actress, music, american, author, poet, writer\n",
            "dance: music, history, modern, china, traditional, country, article, contemporary, hungary, uk\n",
            "\n",
            "\n"
          ]
        },
        {
          "output_type": "stream",
          "name": "stderr",
          "text": [
            "2499it [00:51, 51.81it/s]"
          ]
        },
        {
          "output_type": "stream",
          "name": "stdout",
          "text": [
            "| epoch   3 |  2500/32580 batches | loss    0.719 \n",
            "money: him, not, much, them, use, sense, fact, seen, way, nine\n",
            "lion: branwell, boys, melbourne, purpose, placed, refurbished, flutes, letter, politician, nativity\n",
            "africa: america, europe, germany, united, north, india, east, south, nine, england\n",
            "musician: singer, actor, born, english, actress, music, american, author, poet, writer\n",
            "dance: music, history, modern, china, traditional, country, article, contemporary, hungary, uk\n",
            "\n",
            "\n"
          ]
        },
        {
          "output_type": "stream",
          "name": "stderr",
          "text": [
            "2997it [01:04, 49.94it/s]"
          ]
        },
        {
          "output_type": "stream",
          "name": "stdout",
          "text": [
            "| epoch   3 |  3000/32580 batches | loss    0.717 \n",
            "money: him, not, much, them, use, sense, fact, seen, way, nine\n",
            "lion: branwell, boys, melbourne, purpose, placed, refurbished, flutes, letter, politician, nativity\n",
            "africa: america, europe, germany, united, north, india, east, south, nine, england\n",
            "musician: singer, actor, born, english, actress, music, american, author, poet, writer\n",
            "dance: music, history, modern, china, traditional, country, article, contemporary, hungary, uk\n",
            "\n",
            "\n"
          ]
        },
        {
          "output_type": "stream",
          "name": "stderr",
          "text": [
            "3499it [01:15, 50.33it/s]"
          ]
        },
        {
          "output_type": "stream",
          "name": "stdout",
          "text": [
            "| epoch   3 |  3500/32580 batches | loss    0.720 \n",
            "money: him, not, much, them, use, sense, fact, seen, way, nine\n",
            "lion: branwell, melbourne, boys, purpose, placed, refurbished, flutes, letter, politician, nativity\n",
            "africa: america, europe, germany, united, north, india, east, south, nine, england\n",
            "musician: singer, actor, born, english, actress, music, american, author, poet, writer\n",
            "dance: music, history, modern, china, traditional, country, article, contemporary, hungary, uk\n",
            "\n",
            "\n"
          ]
        },
        {
          "output_type": "stream",
          "name": "stderr",
          "text": [
            "3997it [01:25, 50.61it/s]"
          ]
        },
        {
          "output_type": "stream",
          "name": "stdout",
          "text": [
            "| epoch   3 |  4000/32580 batches | loss    0.718 \n",
            "money: him, not, much, them, use, sense, fact, seen, way, nine\n",
            "lion: branwell, melbourne, boys, purpose, placed, refurbished, flutes, letter, politician, nativity\n",
            "africa: america, europe, germany, united, north, india, east, south, nine, england\n",
            "musician: singer, actor, born, english, actress, music, american, author, poet, writer\n",
            "dance: music, history, modern, china, traditional, country, article, contemporary, hungary, uk\n",
            "\n",
            "\n"
          ]
        },
        {
          "output_type": "stream",
          "name": "stderr",
          "text": [
            "4501it [01:35, 34.57it/s]"
          ]
        },
        {
          "output_type": "stream",
          "name": "stdout",
          "text": [
            "| epoch   3 |  4500/32580 batches | loss    0.718 \n",
            "money: him, not, much, them, use, sense, fact, seen, way, nine\n",
            "lion: branwell, melbourne, boys, purpose, placed, refurbished, flutes, letter, politician, nativity\n",
            "africa: america, europe, germany, united, north, india, east, south, nine, england\n",
            "musician: singer, actor, born, english, actress, music, american, author, poet, writer\n",
            "dance: music, history, modern, china, traditional, country, article, contemporary, hungary, uk\n",
            "\n",
            "\n"
          ]
        },
        {
          "output_type": "stream",
          "name": "stderr",
          "text": [
            "4997it [01:45, 51.48it/s]"
          ]
        },
        {
          "output_type": "stream",
          "name": "stdout",
          "text": [
            "| epoch   3 |  5000/32580 batches | loss    0.720 \n",
            "money: him, not, much, them, use, sense, fact, seen, way, nine\n",
            "lion: branwell, melbourne, boys, purpose, placed, refurbished, flutes, letter, politician, nativity\n",
            "africa: america, europe, germany, united, north, india, east, south, nine, england\n",
            "musician: singer, actor, born, english, actress, music, american, author, poet, writer\n",
            "dance: music, history, modern, china, traditional, country, article, contemporary, hungary, uk\n",
            "\n",
            "\n"
          ]
        },
        {
          "output_type": "stream",
          "name": "stderr",
          "text": [
            "5500it [01:55, 50.85it/s]"
          ]
        },
        {
          "output_type": "stream",
          "name": "stdout",
          "text": [
            "| epoch   3 |  5500/32580 batches | loss    0.719 \n"
          ]
        },
        {
          "output_type": "stream",
          "name": "stderr",
          "text": [
            "\r5506it [01:55, 32.30it/s]"
          ]
        },
        {
          "output_type": "stream",
          "name": "stdout",
          "text": [
            "money: him, much, not, them, use, sense, fact, seen, way, nine\n",
            "lion: branwell, melbourne, boys, purpose, placed, refurbished, flutes, letter, politician, nativity\n",
            "africa: america, europe, germany, united, north, india, east, south, nine, england\n",
            "musician: singer, actor, born, english, actress, music, american, author, poet, writer\n",
            "dance: music, history, modern, china, traditional, country, article, contemporary, hungary, uk\n",
            "\n",
            "\n"
          ]
        },
        {
          "output_type": "stream",
          "name": "stderr",
          "text": [
            "5997it [02:05, 51.72it/s]"
          ]
        },
        {
          "output_type": "stream",
          "name": "stdout",
          "text": [
            "| epoch   3 |  6000/32580 batches | loss    0.715 \n",
            "money: him, much, not, them, use, sense, fact, seen, nine, way\n",
            "lion: branwell, boys, melbourne, purpose, placed, refurbished, flutes, letter, politician, nativity\n",
            "africa: america, europe, germany, united, north, india, east, south, nine, england\n",
            "musician: singer, actor, born, english, actress, music, american, author, poet, writer\n",
            "dance: music, history, modern, china, traditional, country, article, contemporary, hungary, uk\n",
            "\n",
            "\n"
          ]
        },
        {
          "output_type": "stream",
          "name": "stderr",
          "text": [
            "6500it [02:15, 50.24it/s]"
          ]
        },
        {
          "output_type": "stream",
          "name": "stdout",
          "text": [
            "| epoch   3 |  6500/32580 batches | loss    0.719 \n",
            "money: him, much, not, them, use, sense, fact, seen, nine, way\n",
            "lion: branwell, melbourne, boys, purpose, placed, refurbished, flutes, letter, politician, nativity\n",
            "africa: america, europe, germany, united, north, india, east, south, nine, england\n",
            "musician: singer, actor, born, english, actress, music, american, author, poet, writer\n",
            "dance: music, history, modern, china, traditional, country, article, contemporary, hungary, uk\n",
            "\n",
            "\n"
          ]
        },
        {
          "output_type": "stream",
          "name": "stderr",
          "text": [
            "7000it [02:25, 51.14it/s]"
          ]
        },
        {
          "output_type": "stream",
          "name": "stdout",
          "text": [
            "| epoch   3 |  7000/32580 batches | loss    0.717 \n",
            "money: him, much, not, them, use, sense, fact, seen, nine, way\n",
            "lion: branwell, boys, melbourne, purpose, placed, refurbished, flutes, letter, politician, nativity\n",
            "africa: america, europe, germany, united, north, india, east, south, nine, england\n",
            "musician: singer, actor, born, english, actress, music, american, author, poet, writer\n",
            "dance: music, history, modern, china, traditional, country, article, contemporary, hungary, uk\n",
            "\n",
            "\n"
          ]
        },
        {
          "output_type": "stream",
          "name": "stderr",
          "text": [
            "7499it [02:35, 51.76it/s]"
          ]
        },
        {
          "output_type": "stream",
          "name": "stdout",
          "text": [
            "| epoch   3 |  7500/32580 batches | loss    0.718 \n",
            "money: him, much, not, them, use, sense, fact, seen, nine, way\n",
            "lion: branwell, boys, melbourne, purpose, placed, refurbished, flutes, letter, politician, nativity\n",
            "africa: america, europe, germany, united, north, india, east, south, nine, england\n",
            "musician: singer, actor, born, english, actress, music, american, author, poet, writer\n",
            "dance: music, history, modern, china, traditional, country, article, contemporary, hungary, uk\n",
            "\n",
            "\n"
          ]
        },
        {
          "output_type": "stream",
          "name": "stderr",
          "text": [
            "7999it [02:45, 51.19it/s]"
          ]
        },
        {
          "output_type": "stream",
          "name": "stdout",
          "text": [
            "| epoch   3 |  8000/32580 batches | loss    0.718 \n",
            "money: him, much, not, them, use, sense, fact, seen, nine, way\n",
            "lion: branwell, boys, melbourne, purpose, placed, refurbished, flutes, letter, politician, nativity\n",
            "africa: america, europe, germany, united, north, india, east, south, nine, england\n",
            "musician: singer, actor, born, english, actress, music, american, author, poet, writer\n",
            "dance: music, history, modern, china, traditional, country, article, contemporary, hungary, uk\n",
            "\n",
            "\n"
          ]
        },
        {
          "output_type": "stream",
          "name": "stderr",
          "text": [
            "8497it [02:55, 50.07it/s]"
          ]
        },
        {
          "output_type": "stream",
          "name": "stdout",
          "text": [
            "| epoch   3 |  8500/32580 batches | loss    0.718 \n",
            "money: him, much, not, them, use, sense, fact, seen, nine, way\n",
            "lion: branwell, boys, melbourne, purpose, placed, refurbished, flutes, letter, politician, nativity\n",
            "africa: america, europe, germany, united, north, india, east, south, nine, england\n",
            "musician: singer, actor, born, english, actress, music, american, author, poet, writer\n",
            "dance: music, history, modern, china, traditional, country, article, contemporary, hungary, uk\n",
            "\n",
            "\n"
          ]
        },
        {
          "output_type": "stream",
          "name": "stderr",
          "text": [
            "9000it [03:05, 51.02it/s]"
          ]
        },
        {
          "output_type": "stream",
          "name": "stdout",
          "text": [
            "| epoch   3 |  9000/32580 batches | loss    0.717 \n",
            "money: him, much, not, them, use, sense, fact, seen, nine, way\n",
            "lion: branwell, boys, melbourne, purpose, placed, refurbished, flutes, letter, politician, nativity\n",
            "africa: america, europe, germany, united, north, india, east, south, nine, england\n",
            "musician: singer, actor, born, english, actress, music, american, author, poet, writer\n",
            "dance: music, history, modern, china, traditional, country, article, contemporary, hungary, uk\n",
            "\n",
            "\n"
          ]
        },
        {
          "output_type": "stream",
          "name": "stderr",
          "text": [
            "9497it [03:15, 50.45it/s]"
          ]
        },
        {
          "output_type": "stream",
          "name": "stdout",
          "text": [
            "| epoch   3 |  9500/32580 batches | loss    0.719 \n",
            "money: him, much, not, them, use, sense, fact, seen, nine, way\n",
            "lion: branwell, boys, melbourne, purpose, placed, refurbished, flutes, letter, politician, nativity\n",
            "africa: america, europe, germany, united, north, india, east, south, nine, england\n",
            "musician: singer, actor, born, english, actress, music, american, author, poet, writer\n",
            "dance: music, history, modern, china, traditional, country, article, contemporary, hungary, uk\n",
            "\n",
            "\n"
          ]
        },
        {
          "output_type": "stream",
          "name": "stderr",
          "text": [
            "9996it [03:25, 51.28it/s]"
          ]
        },
        {
          "output_type": "stream",
          "name": "stdout",
          "text": [
            "| epoch   3 | 10000/32580 batches | loss    0.719 \n",
            "money: him, much, not, them, use, sense, fact, seen, nine, way\n",
            "lion: branwell, boys, melbourne, purpose, placed, refurbished, flutes, letter, politician, nativity\n",
            "africa: america, europe, germany, united, north, india, east, south, nine, england\n",
            "musician: singer, actor, born, english, actress, music, american, author, poet, writer\n",
            "dance: music, history, modern, china, traditional, country, article, contemporary, hungary, uk\n",
            "\n",
            "\n"
          ]
        },
        {
          "output_type": "stream",
          "name": "stderr",
          "text": [
            "10498it [03:35, 51.40it/s]"
          ]
        },
        {
          "output_type": "stream",
          "name": "stdout",
          "text": [
            "| epoch   3 | 10500/32580 batches | loss    0.719 \n",
            "money: him, much, not, them, use, sense, fact, seen, nine, way\n",
            "lion: branwell, boys, melbourne, purpose, placed, refurbished, letter, flutes, politician, nativity\n",
            "africa: america, europe, germany, united, north, india, east, south, nine, england\n",
            "musician: singer, actor, born, english, actress, music, american, author, poet, writer\n",
            "dance: music, history, modern, china, traditional, country, article, contemporary, hungary, uk\n",
            "\n",
            "\n"
          ]
        },
        {
          "output_type": "stream",
          "name": "stderr",
          "text": [
            "11000it [03:45, 51.75it/s]"
          ]
        },
        {
          "output_type": "stream",
          "name": "stdout",
          "text": [
            "| epoch   3 | 11000/32580 batches | loss    0.716 \n",
            "money: him, much, not, them, use, sense, fact, seen, nine, way\n",
            "lion: branwell, boys, melbourne, purpose, placed, refurbished, letter, flutes, politician, nativity\n",
            "africa: america, europe, germany, united, north, india, east, south, nine, england\n",
            "musician: singer, actor, born, english, actress, music, american, author, poet, writer\n",
            "dance: music, history, modern, china, traditional, country, article, contemporary, hungary, uk\n",
            "\n",
            "\n"
          ]
        },
        {
          "output_type": "stream",
          "name": "stderr",
          "text": [
            "11498it [03:55, 50.49it/s]"
          ]
        },
        {
          "output_type": "stream",
          "name": "stdout",
          "text": [
            "| epoch   3 | 11500/32580 batches | loss    0.718 \n",
            "money: him, much, not, them, use, sense, fact, seen, nine, way\n",
            "lion: branwell, boys, melbourne, purpose, placed, refurbished, flutes, letter, politician, nativity\n",
            "africa: america, europe, germany, united, north, india, east, south, nine, england\n",
            "musician: singer, actor, born, english, actress, music, american, author, poet, writer\n",
            "dance: music, history, modern, china, traditional, country, article, contemporary, hungary, uk\n",
            "\n",
            "\n"
          ]
        },
        {
          "output_type": "stream",
          "name": "stderr",
          "text": [
            "11996it [04:05, 51.12it/s]"
          ]
        },
        {
          "output_type": "stream",
          "name": "stdout",
          "text": [
            "| epoch   3 | 12000/32580 batches | loss    0.719 \n",
            "money: him, much, not, them, use, sense, fact, seen, way, nine\n",
            "lion: branwell, boys, melbourne, purpose, placed, refurbished, flutes, letter, politician, nativity\n",
            "africa: america, europe, germany, united, north, india, east, south, nine, england\n",
            "musician: singer, actor, born, english, actress, music, american, author, poet, writer\n",
            "dance: music, history, modern, china, traditional, country, article, contemporary, hungary, uk\n",
            "\n",
            "\n"
          ]
        },
        {
          "output_type": "stream",
          "name": "stderr",
          "text": [
            "12499it [04:15, 51.50it/s]"
          ]
        },
        {
          "output_type": "stream",
          "name": "stdout",
          "text": [
            "| epoch   3 | 12500/32580 batches | loss    0.716 \n",
            "money: him, much, not, them, use, sense, fact, seen, nine, way\n",
            "lion: branwell, boys, melbourne, purpose, placed, refurbished, flutes, letter, politician, nativity\n",
            "africa: america, europe, germany, united, north, india, east, south, nine, england\n",
            "musician: singer, actor, born, english, actress, music, american, author, poet, writer\n",
            "dance: music, history, modern, china, traditional, country, article, contemporary, hungary, uk\n",
            "\n",
            "\n"
          ]
        },
        {
          "output_type": "stream",
          "name": "stderr",
          "text": [
            "12996it [04:25, 51.82it/s]"
          ]
        },
        {
          "output_type": "stream",
          "name": "stdout",
          "text": [
            "| epoch   3 | 13000/32580 batches | loss    0.717 \n",
            "money: him, much, not, them, use, sense, fact, seen, nine, way\n",
            "lion: branwell, boys, melbourne, purpose, placed, refurbished, flutes, letter, politician, nativity\n",
            "africa: america, europe, germany, united, north, india, east, south, nine, england\n",
            "musician: singer, actor, born, english, actress, music, american, author, poet, writer\n",
            "dance: music, history, modern, china, traditional, country, article, contemporary, hungary, uk\n",
            "\n",
            "\n"
          ]
        },
        {
          "output_type": "stream",
          "name": "stderr",
          "text": [
            "13499it [04:35, 52.04it/s]"
          ]
        },
        {
          "output_type": "stream",
          "name": "stdout",
          "text": [
            "| epoch   3 | 13500/32580 batches | loss    0.716 \n",
            "money: him, much, not, them, use, sense, fact, seen, nine, way\n",
            "lion: branwell, boys, melbourne, purpose, placed, refurbished, flutes, letter, politician, nativity\n",
            "africa: america, europe, germany, united, north, india, east, south, nine, england\n",
            "musician: singer, actor, born, english, actress, music, american, author, poet, writer\n",
            "dance: music, history, modern, china, traditional, country, article, contemporary, hungary, uk\n",
            "\n",
            "\n"
          ]
        },
        {
          "output_type": "stream",
          "name": "stderr",
          "text": [
            "13997it [04:44, 51.97it/s]"
          ]
        },
        {
          "output_type": "stream",
          "name": "stdout",
          "text": [
            "| epoch   3 | 14000/32580 batches | loss    0.718 \n",
            "money: him, much, not, them, use, sense, fact, seen, nine, way\n",
            "lion: branwell, boys, melbourne, purpose, placed, refurbished, flutes, letter, politician, nativity\n",
            "africa: america, europe, germany, united, north, india, east, south, nine, england\n",
            "musician: singer, actor, born, english, actress, music, american, author, poet, writer\n",
            "dance: music, history, modern, china, traditional, country, article, contemporary, hungary, uk\n",
            "\n",
            "\n"
          ]
        },
        {
          "output_type": "stream",
          "name": "stderr",
          "text": [
            "14500it [04:54, 51.14it/s]"
          ]
        },
        {
          "output_type": "stream",
          "name": "stdout",
          "text": [
            "| epoch   3 | 14500/32580 batches | loss    0.718 \n",
            "money: him, much, not, them, use, sense, fact, seen, way, nine\n",
            "lion: branwell, boys, melbourne, purpose, placed, refurbished, flutes, letter, politician, nativity\n",
            "africa: america, europe, germany, united, north, india, east, south, nine, england\n",
            "musician: singer, actor, born, english, actress, music, american, author, poet, writer\n",
            "dance: music, history, modern, china, traditional, country, article, contemporary, hungary, uk\n",
            "\n",
            "\n"
          ]
        },
        {
          "output_type": "stream",
          "name": "stderr",
          "text": [
            "15001it [05:04, 34.66it/s]"
          ]
        },
        {
          "output_type": "stream",
          "name": "stdout",
          "text": [
            "| epoch   3 | 15000/32580 batches | loss    0.718 \n",
            "money: him, much, not, them, use, sense, fact, seen, nine, way\n",
            "lion: branwell, boys, melbourne, purpose, placed, refurbished, flutes, letter, politician, nativity\n",
            "africa: america, europe, germany, united, north, india, east, south, nine, england\n",
            "musician: singer, actor, born, english, actress, music, american, author, poet, writer\n",
            "dance: music, history, modern, china, traditional, country, article, contemporary, hungary, uk\n",
            "\n",
            "\n"
          ]
        },
        {
          "output_type": "stream",
          "name": "stderr",
          "text": [
            "15498it [05:14, 51.89it/s]"
          ]
        },
        {
          "output_type": "stream",
          "name": "stdout",
          "text": [
            "| epoch   3 | 15500/32580 batches | loss    0.718 \n",
            "money: him, much, not, them, use, sense, fact, seen, way, nine\n",
            "lion: branwell, boys, melbourne, purpose, placed, refurbished, flutes, letter, politician, nativity\n",
            "africa: america, europe, germany, united, north, india, east, south, nine, england\n",
            "musician: singer, actor, born, english, actress, music, american, author, poet, writer\n",
            "dance: music, history, modern, china, traditional, country, article, contemporary, hungary, uk\n",
            "\n",
            "\n"
          ]
        },
        {
          "output_type": "stream",
          "name": "stderr",
          "text": [
            "16001it [05:24, 34.86it/s]"
          ]
        },
        {
          "output_type": "stream",
          "name": "stdout",
          "text": [
            "| epoch   3 | 16000/32580 batches | loss    0.716 \n",
            "money: him, much, not, them, use, sense, fact, seen, way, nine\n",
            "lion: branwell, boys, melbourne, purpose, placed, refurbished, flutes, letter, politician, nativity\n",
            "africa: america, europe, germany, united, north, india, east, south, nine, england\n",
            "musician: singer, actor, born, english, actress, music, american, author, poet, writer\n",
            "dance: music, history, modern, china, traditional, country, article, contemporary, hungary, uk\n",
            "\n",
            "\n"
          ]
        },
        {
          "output_type": "stream",
          "name": "stderr",
          "text": [
            "16501it [05:34, 35.01it/s]"
          ]
        },
        {
          "output_type": "stream",
          "name": "stdout",
          "text": [
            "| epoch   3 | 16500/32580 batches | loss    0.715 \n",
            "money: him, much, not, them, use, sense, fact, seen, way, nine\n",
            "lion: branwell, boys, melbourne, purpose, placed, refurbished, flutes, letter, politician, nativity\n",
            "africa: america, europe, germany, united, north, india, east, south, nine, england\n",
            "musician: singer, actor, born, english, actress, music, american, author, poet, writer\n",
            "dance: music, history, modern, china, traditional, country, article, contemporary, hungary, uk\n",
            "\n",
            "\n"
          ]
        },
        {
          "output_type": "stream",
          "name": "stderr",
          "text": [
            "16998it [05:44, 52.13it/s]"
          ]
        },
        {
          "output_type": "stream",
          "name": "stdout",
          "text": [
            "| epoch   3 | 17000/32580 batches | loss    0.719 \n",
            "money: him, much, not, them, use, sense, fact, seen, way, nine\n",
            "lion: branwell, boys, melbourne, purpose, placed, refurbished, flutes, letter, politician, nativity\n",
            "africa: america, europe, germany, united, north, india, east, south, nine, england\n",
            "musician: singer, actor, born, english, actress, music, american, author, poet, writer\n",
            "dance: music, history, modern, china, traditional, country, article, contemporary, hungary, uk\n",
            "\n",
            "\n"
          ]
        },
        {
          "output_type": "stream",
          "name": "stderr",
          "text": [
            "17501it [05:54, 33.66it/s]"
          ]
        },
        {
          "output_type": "stream",
          "name": "stdout",
          "text": [
            "| epoch   3 | 17500/32580 batches | loss    0.717 \n",
            "money: him, much, not, them, use, sense, fact, seen, way, nine\n",
            "lion: branwell, boys, melbourne, purpose, placed, refurbished, flutes, letter, politician, nativity\n",
            "africa: america, europe, germany, united, north, india, east, south, nine, england\n",
            "musician: singer, actor, born, english, actress, music, american, author, poet, writer\n",
            "dance: music, history, modern, china, traditional, country, article, contemporary, hungary, uk\n",
            "\n",
            "\n"
          ]
        },
        {
          "output_type": "stream",
          "name": "stderr",
          "text": [
            "18000it [06:04, 51.93it/s]"
          ]
        },
        {
          "output_type": "stream",
          "name": "stdout",
          "text": [
            "| epoch   3 | 18000/32580 batches | loss    0.715 \n",
            "money: him, much, not, them, use, sense, fact, seen, way, nine\n",
            "lion: branwell, boys, melbourne, purpose, placed, refurbished, flutes, letter, politician, nativity\n",
            "africa: america, europe, germany, united, north, india, east, south, nine, england\n",
            "musician: singer, actor, born, english, actress, music, american, author, poet, writer\n",
            "dance: music, history, modern, china, traditional, country, article, contemporary, hungary, uk\n",
            "\n",
            "\n"
          ]
        },
        {
          "output_type": "stream",
          "name": "stderr",
          "text": [
            "18497it [06:14, 51.27it/s]"
          ]
        },
        {
          "output_type": "stream",
          "name": "stdout",
          "text": [
            "| epoch   3 | 18500/32580 batches | loss    0.715 \n",
            "money: him, much, not, them, use, sense, fact, seen, way, nine\n",
            "lion: branwell, boys, melbourne, purpose, placed, refurbished, flutes, letter, politician, nativity\n",
            "africa: america, europe, germany, united, north, india, east, south, nine, england\n",
            "musician: singer, actor, born, english, actress, music, american, author, poet, writer\n",
            "dance: music, history, modern, china, traditional, country, article, contemporary, hungary, uk\n",
            "\n",
            "\n"
          ]
        },
        {
          "output_type": "stream",
          "name": "stderr",
          "text": [
            "18998it [06:23, 52.23it/s]"
          ]
        },
        {
          "output_type": "stream",
          "name": "stdout",
          "text": [
            "| epoch   3 | 19000/32580 batches | loss    0.716 \n",
            "money: him, much, not, them, use, sense, fact, seen, way, nine\n",
            "lion: branwell, boys, melbourne, purpose, placed, refurbished, letter, flutes, politician, nativity\n",
            "africa: america, europe, germany, united, north, india, east, south, nine, england\n",
            "musician: singer, actor, born, english, actress, music, american, author, poet, writer\n",
            "dance: music, history, modern, china, traditional, country, article, contemporary, hungary, uk\n",
            "\n",
            "\n"
          ]
        },
        {
          "output_type": "stream",
          "name": "stderr",
          "text": [
            "19500it [06:33, 51.72it/s]"
          ]
        },
        {
          "output_type": "stream",
          "name": "stdout",
          "text": [
            "| epoch   3 | 19500/32580 batches | loss    0.718 \n",
            "money: him, much, not, them, use, sense, fact, seen, way, nine\n",
            "lion: branwell, boys, melbourne, purpose, placed, refurbished, letter, flutes, politician, nativity\n",
            "africa: america, europe, germany, united, north, india, east, south, nine, england\n",
            "musician: singer, actor, born, english, actress, music, american, author, poet, writer\n",
            "dance: music, history, modern, china, traditional, country, article, contemporary, hungary, uk\n",
            "\n",
            "\n"
          ]
        },
        {
          "output_type": "stream",
          "name": "stderr",
          "text": [
            "20001it [06:44, 32.97it/s]"
          ]
        },
        {
          "output_type": "stream",
          "name": "stdout",
          "text": [
            "| epoch   3 | 20000/32580 batches | loss    0.717 \n",
            "money: him, much, not, them, use, sense, fact, seen, way, nine\n",
            "lion: branwell, boys, melbourne, purpose, placed, refurbished, letter, flutes, politician, nativity\n",
            "africa: america, europe, germany, united, north, india, east, south, nine, england\n",
            "musician: singer, actor, born, english, actress, music, american, author, poet, writer\n",
            "dance: music, history, modern, china, traditional, country, article, contemporary, hungary, uk\n",
            "\n",
            "\n"
          ]
        },
        {
          "output_type": "stream",
          "name": "stderr",
          "text": [
            "20499it [06:54, 50.36it/s]"
          ]
        },
        {
          "output_type": "stream",
          "name": "stdout",
          "text": [
            "| epoch   3 | 20500/32580 batches | loss    0.718 \n",
            "money: him, much, not, them, use, sense, fact, seen, way, nine\n",
            "lion: branwell, boys, melbourne, purpose, placed, refurbished, letter, flutes, politician, nativity\n",
            "africa: america, europe, germany, united, north, india, east, south, nine, england\n",
            "musician: singer, actor, born, english, actress, music, american, author, poet, writer\n",
            "dance: music, history, modern, china, traditional, country, article, contemporary, hungary, uk\n",
            "\n",
            "\n"
          ]
        },
        {
          "output_type": "stream",
          "name": "stderr",
          "text": [
            "21001it [07:04, 34.50it/s]"
          ]
        },
        {
          "output_type": "stream",
          "name": "stdout",
          "text": [
            "| epoch   3 | 21000/32580 batches | loss    0.717 \n",
            "money: him, much, not, them, use, sense, fact, seen, way, nine\n",
            "lion: branwell, boys, melbourne, purpose, placed, refurbished, letter, flutes, politician, nativity\n",
            "africa: america, europe, germany, united, north, india, east, south, nine, england\n",
            "musician: singer, actor, born, english, actress, music, american, author, poet, writer\n",
            "dance: music, history, modern, china, traditional, country, article, contemporary, hungary, uk\n",
            "\n",
            "\n"
          ]
        },
        {
          "output_type": "stream",
          "name": "stderr",
          "text": [
            "21497it [07:14, 50.61it/s]"
          ]
        },
        {
          "output_type": "stream",
          "name": "stdout",
          "text": [
            "| epoch   3 | 21500/32580 batches | loss    0.717 \n",
            "money: him, much, not, them, use, sense, fact, seen, way, nine\n",
            "lion: branwell, boys, melbourne, purpose, placed, refurbished, letter, flutes, politician, nativity\n",
            "africa: america, europe, germany, united, north, india, east, south, nine, england\n",
            "musician: singer, actor, born, english, actress, music, american, author, poet, writer\n",
            "dance: music, history, modern, china, traditional, country, article, contemporary, hungary, uk\n",
            "\n",
            "\n"
          ]
        },
        {
          "output_type": "stream",
          "name": "stderr",
          "text": [
            "21996it [07:24, 51.71it/s]"
          ]
        },
        {
          "output_type": "stream",
          "name": "stdout",
          "text": [
            "| epoch   3 | 22000/32580 batches | loss    0.717 \n",
            "money: him, much, not, them, use, sense, fact, seen, way, nine\n",
            "lion: branwell, boys, melbourne, purpose, placed, refurbished, letter, flutes, politician, nativity\n",
            "africa: america, europe, germany, united, north, india, east, south, nine, england\n",
            "musician: singer, actor, born, english, actress, music, american, author, poet, writer\n",
            "dance: music, history, modern, china, traditional, country, article, contemporary, hungary, uk\n",
            "\n",
            "\n"
          ]
        },
        {
          "output_type": "stream",
          "name": "stderr",
          "text": [
            "22501it [07:34, 32.26it/s]"
          ]
        },
        {
          "output_type": "stream",
          "name": "stdout",
          "text": [
            "| epoch   3 | 22500/32580 batches | loss    0.716 \n",
            "money: him, much, not, them, use, sense, fact, seen, way, nine\n",
            "lion: branwell, boys, melbourne, purpose, placed, refurbished, letter, flutes, politician, nativity\n",
            "africa: america, europe, germany, united, north, india, east, south, nine, england\n",
            "musician: singer, actor, born, english, actress, music, american, author, poet, writer\n",
            "dance: music, history, modern, china, traditional, country, article, contemporary, hungary, uk\n",
            "\n",
            "\n"
          ]
        },
        {
          "output_type": "stream",
          "name": "stderr",
          "text": [
            "22999it [07:44, 50.34it/s]"
          ]
        },
        {
          "output_type": "stream",
          "name": "stdout",
          "text": [
            "| epoch   3 | 23000/32580 batches | loss    0.717 \n",
            "money: him, much, not, them, use, sense, fact, seen, way, nine\n",
            "lion: branwell, boys, melbourne, purpose, placed, refurbished, letter, flutes, politician, nativity\n",
            "africa: america, europe, germany, united, north, india, east, south, nine, england\n",
            "musician: singer, actor, born, english, actress, music, american, author, poet, writer\n",
            "dance: music, history, modern, china, traditional, country, article, contemporary, hungary, football\n",
            "\n",
            "\n"
          ]
        },
        {
          "output_type": "stream",
          "name": "stderr",
          "text": [
            "23501it [07:54, 33.49it/s]"
          ]
        },
        {
          "output_type": "stream",
          "name": "stdout",
          "text": [
            "| epoch   3 | 23500/32580 batches | loss    0.714 \n",
            "money: him, much, not, them, use, sense, fact, seen, way, nine\n",
            "lion: branwell, boys, melbourne, purpose, placed, refurbished, letter, flutes, politician, nativity\n",
            "africa: america, europe, germany, united, north, india, east, south, nine, england\n",
            "musician: singer, actor, born, english, actress, music, american, author, poet, writer\n",
            "dance: music, history, modern, china, traditional, country, article, contemporary, hungary, football\n",
            "\n",
            "\n"
          ]
        },
        {
          "output_type": "stream",
          "name": "stderr",
          "text": [
            "23999it [08:04, 51.64it/s]"
          ]
        },
        {
          "output_type": "stream",
          "name": "stdout",
          "text": [
            "| epoch   3 | 24000/32580 batches | loss    0.715 \n",
            "money: him, much, not, them, use, sense, fact, seen, way, nine\n",
            "lion: branwell, boys, melbourne, purpose, placed, refurbished, letter, flutes, politician, nativity\n",
            "africa: america, europe, germany, united, north, india, east, south, nine, england\n",
            "musician: singer, actor, born, english, actress, music, american, author, poet, writer\n",
            "dance: music, history, modern, china, traditional, country, article, contemporary, hungary, football\n",
            "\n",
            "\n"
          ]
        },
        {
          "output_type": "stream",
          "name": "stderr",
          "text": [
            "24496it [08:14, 52.06it/s]"
          ]
        },
        {
          "output_type": "stream",
          "name": "stdout",
          "text": [
            "| epoch   3 | 24500/32580 batches | loss    0.717 \n",
            "money: him, much, not, them, use, sense, fact, seen, way, nine\n",
            "lion: branwell, boys, melbourne, purpose, placed, refurbished, letter, flutes, politician, nativity\n",
            "africa: america, europe, germany, united, north, india, east, south, nine, england\n",
            "musician: singer, actor, born, english, actress, music, american, author, poet, writer\n",
            "dance: music, history, modern, china, traditional, country, article, contemporary, hungary, football\n",
            "\n",
            "\n"
          ]
        },
        {
          "output_type": "stream",
          "name": "stderr",
          "text": [
            "24999it [08:24, 51.59it/s]"
          ]
        },
        {
          "output_type": "stream",
          "name": "stdout",
          "text": [
            "| epoch   3 | 25000/32580 batches | loss    0.718 \n",
            "money: him, much, not, them, use, sense, fact, seen, way, nine\n",
            "lion: branwell, boys, melbourne, purpose, placed, refurbished, letter, flutes, politician, nativity\n",
            "africa: america, europe, germany, united, north, india, east, south, nine, england\n",
            "musician: singer, actor, born, english, actress, music, american, author, poet, writer\n",
            "dance: music, history, modern, china, traditional, country, article, contemporary, hungary, football\n",
            "\n",
            "\n"
          ]
        },
        {
          "output_type": "stream",
          "name": "stderr",
          "text": [
            "25497it [08:34, 51.39it/s]"
          ]
        },
        {
          "output_type": "stream",
          "name": "stdout",
          "text": [
            "| epoch   3 | 25500/32580 batches | loss    0.717 \n",
            "money: him, much, not, them, use, sense, fact, seen, way, nine\n",
            "lion: branwell, boys, melbourne, purpose, placed, refurbished, letter, flutes, politician, nativity\n",
            "africa: america, europe, germany, united, north, india, east, south, nine, england\n",
            "musician: singer, actor, born, english, actress, music, american, author, poet, writer\n",
            "dance: music, history, modern, china, traditional, country, article, contemporary, hungary, uk\n",
            "\n",
            "\n"
          ]
        },
        {
          "output_type": "stream",
          "name": "stderr",
          "text": [
            "25999it [08:44, 50.44it/s]"
          ]
        },
        {
          "output_type": "stream",
          "name": "stdout",
          "text": [
            "| epoch   3 | 26000/32580 batches | loss    0.716 \n",
            "money: him, much, not, them, use, sense, fact, seen, way, nine\n",
            "lion: branwell, boys, melbourne, purpose, placed, refurbished, letter, flutes, politician, nativity\n",
            "africa: america, europe, germany, united, north, india, east, south, nine, england\n",
            "musician: singer, actor, born, english, actress, music, american, author, poet, writer\n",
            "dance: music, history, modern, china, traditional, country, article, contemporary, hungary, football\n",
            "\n",
            "\n"
          ]
        },
        {
          "output_type": "stream",
          "name": "stderr",
          "text": [
            "26497it [08:54, 51.00it/s]"
          ]
        },
        {
          "output_type": "stream",
          "name": "stdout",
          "text": [
            "| epoch   3 | 26500/32580 batches | loss    0.717 \n",
            "money: him, much, not, them, use, sense, fact, seen, way, nine\n",
            "lion: branwell, boys, melbourne, purpose, placed, refurbished, letter, flutes, politician, nativity\n",
            "africa: america, europe, germany, united, north, india, east, south, nine, england\n",
            "musician: singer, actor, born, english, actress, music, american, author, poet, writer\n",
            "dance: music, history, modern, china, traditional, country, article, contemporary, hungary, football\n",
            "\n",
            "\n"
          ]
        },
        {
          "output_type": "stream",
          "name": "stderr",
          "text": [
            "26999it [09:07, 50.64it/s]"
          ]
        },
        {
          "output_type": "stream",
          "name": "stdout",
          "text": [
            "| epoch   3 | 27000/32580 batches | loss    0.715 \n"
          ]
        },
        {
          "output_type": "stream",
          "name": "stderr",
          "text": [
            "\r27005it [09:07, 32.26it/s]"
          ]
        },
        {
          "output_type": "stream",
          "name": "stdout",
          "text": [
            "money: him, much, not, them, use, sense, fact, seen, way, nine\n",
            "lion: branwell, boys, melbourne, purpose, placed, refurbished, letter, flutes, politician, nativity\n",
            "africa: america, europe, germany, united, north, india, east, south, nine, england\n",
            "musician: singer, actor, born, english, actress, music, american, author, poet, writer\n",
            "dance: music, history, modern, china, traditional, country, article, contemporary, hungary, football\n",
            "\n",
            "\n"
          ]
        },
        {
          "output_type": "stream",
          "name": "stderr",
          "text": [
            "27496it [09:17, 50.74it/s]"
          ]
        },
        {
          "output_type": "stream",
          "name": "stdout",
          "text": [
            "| epoch   3 | 27500/32580 batches | loss    0.717 \n",
            "money: him, much, not, them, use, sense, fact, seen, way, nine\n",
            "lion: branwell, boys, melbourne, purpose, placed, refurbished, letter, flutes, politician, nativity\n",
            "africa: america, europe, germany, united, north, india, east, south, nine, england\n",
            "musician: singer, actor, born, english, actress, music, american, author, poet, writer\n",
            "dance: music, history, modern, china, traditional, country, article, contemporary, hungary, uk\n",
            "\n",
            "\n"
          ]
        },
        {
          "output_type": "stream",
          "name": "stderr",
          "text": [
            "27999it [09:27, 50.15it/s]"
          ]
        },
        {
          "output_type": "stream",
          "name": "stdout",
          "text": [
            "| epoch   3 | 28000/32580 batches | loss    0.717 \n",
            "money: him, much, not, them, use, sense, fact, seen, way, nine\n",
            "lion: branwell, boys, melbourne, purpose, placed, refurbished, letter, flutes, politician, nativity\n",
            "africa: america, europe, germany, united, north, india, east, south, nine, england\n",
            "musician: singer, actor, born, english, actress, music, american, author, poet, writer\n",
            "dance: music, history, modern, china, traditional, country, article, contemporary, hungary, football\n",
            "\n",
            "\n"
          ]
        },
        {
          "output_type": "stream",
          "name": "stderr",
          "text": [
            "28497it [09:37, 50.70it/s]"
          ]
        },
        {
          "output_type": "stream",
          "name": "stdout",
          "text": [
            "| epoch   3 | 28500/32580 batches | loss    0.719 \n",
            "money: him, much, not, them, use, sense, fact, seen, way, nine\n",
            "lion: branwell, boys, melbourne, purpose, placed, refurbished, letter, flutes, politician, nativity\n",
            "africa: america, europe, germany, united, north, india, east, south, nine, england\n",
            "musician: singer, actor, born, english, actress, music, american, author, poet, writer\n",
            "dance: music, history, modern, china, traditional, country, article, contemporary, hungary, football\n",
            "\n",
            "\n"
          ]
        },
        {
          "output_type": "stream",
          "name": "stderr",
          "text": [
            "28996it [09:47, 51.17it/s]"
          ]
        },
        {
          "output_type": "stream",
          "name": "stdout",
          "text": [
            "| epoch   3 | 29000/32580 batches | loss    0.717 \n",
            "money: him, much, not, them, use, sense, fact, seen, way, nine\n",
            "lion: branwell, boys, melbourne, purpose, placed, refurbished, letter, flutes, politician, nativity\n",
            "africa: america, europe, germany, united, north, india, east, south, nine, england\n",
            "musician: singer, actor, born, english, actress, music, american, author, poet, writer\n",
            "dance: music, history, modern, china, traditional, country, article, contemporary, hungary, football\n",
            "\n",
            "\n"
          ]
        },
        {
          "output_type": "stream",
          "name": "stderr",
          "text": [
            "29498it [09:57, 51.64it/s]"
          ]
        },
        {
          "output_type": "stream",
          "name": "stdout",
          "text": [
            "| epoch   3 | 29500/32580 batches | loss    0.718 \n",
            "money: him, much, not, them, use, sense, fact, seen, way, nine\n",
            "lion: branwell, boys, melbourne, purpose, placed, refurbished, letter, flutes, politician, nativity\n",
            "africa: america, europe, germany, united, north, india, east, south, nine, england\n",
            "musician: singer, actor, born, english, actress, music, american, author, poet, writer\n",
            "dance: music, history, modern, china, traditional, country, article, contemporary, hungary, football\n",
            "\n",
            "\n"
          ]
        },
        {
          "output_type": "stream",
          "name": "stderr",
          "text": [
            "30001it [10:07, 33.64it/s]"
          ]
        },
        {
          "output_type": "stream",
          "name": "stdout",
          "text": [
            "| epoch   3 | 30000/32580 batches | loss    0.716 \n",
            "money: him, much, not, them, use, sense, fact, seen, way, nine\n",
            "lion: branwell, boys, melbourne, purpose, placed, refurbished, letter, flutes, politician, nativity\n",
            "africa: america, europe, germany, united, north, india, east, south, nine, england\n",
            "musician: singer, actor, born, english, actress, music, american, author, poet, writer\n",
            "dance: music, history, modern, china, traditional, country, article, contemporary, hungary, football\n",
            "\n",
            "\n"
          ]
        },
        {
          "output_type": "stream",
          "name": "stderr",
          "text": [
            "30498it [10:17, 50.62it/s]"
          ]
        },
        {
          "output_type": "stream",
          "name": "stdout",
          "text": [
            "| epoch   3 | 30500/32580 batches | loss    0.716 \n",
            "money: him, much, not, them, use, sense, fact, seen, way, nine\n",
            "lion: branwell, boys, melbourne, purpose, placed, refurbished, letter, flutes, politician, nativity\n",
            "africa: america, europe, germany, united, north, india, east, south, nine, england\n",
            "musician: singer, actor, born, english, actress, music, american, author, poet, writer\n",
            "dance: music, history, modern, china, traditional, country, article, contemporary, hungary, football\n",
            "\n",
            "\n"
          ]
        },
        {
          "output_type": "stream",
          "name": "stderr",
          "text": [
            "31000it [10:27, 51.41it/s]"
          ]
        },
        {
          "output_type": "stream",
          "name": "stdout",
          "text": [
            "| epoch   3 | 31000/32580 batches | loss    0.716 \n",
            "money: him, much, not, them, use, sense, fact, seen, way, nine\n",
            "lion: branwell, boys, melbourne, purpose, placed, refurbished, letter, flutes, politician, nativity\n",
            "africa: america, europe, germany, united, north, india, east, south, nine, england\n",
            "musician: singer, actor, born, english, actress, music, american, author, poet, writer\n",
            "dance: music, history, modern, china, traditional, country, article, contemporary, hungary, football\n",
            "\n",
            "\n"
          ]
        },
        {
          "output_type": "stream",
          "name": "stderr",
          "text": [
            "31498it [10:37, 49.08it/s]"
          ]
        },
        {
          "output_type": "stream",
          "name": "stdout",
          "text": [
            "| epoch   3 | 31500/32580 batches | loss    0.716 \n",
            "money: him, much, not, them, use, sense, fact, seen, way, nine\n",
            "lion: branwell, boys, melbourne, purpose, placed, refurbished, letter, flutes, politician, nativity\n",
            "africa: america, europe, germany, united, north, india, east, south, nine, england\n",
            "musician: singer, actor, born, english, actress, music, american, author, poet, writer\n",
            "dance: music, history, modern, china, traditional, country, article, contemporary, hungary, football\n",
            "\n",
            "\n"
          ]
        },
        {
          "output_type": "stream",
          "name": "stderr",
          "text": [
            "31999it [10:47, 50.69it/s]"
          ]
        },
        {
          "output_type": "stream",
          "name": "stdout",
          "text": [
            "| epoch   3 | 32000/32580 batches | loss    0.717 \n",
            "money: him, much, not, them, use, sense, fact, seen, way, nine\n",
            "lion: branwell, boys, melbourne, purpose, placed, refurbished, letter, flutes, politician, nativity\n",
            "africa: america, europe, germany, united, north, india, east, south, nine, england\n",
            "musician: singer, actor, born, english, actress, music, american, author, poet, writer\n",
            "dance: music, history, modern, china, traditional, country, article, contemporary, hungary, football\n",
            "\n",
            "\n"
          ]
        },
        {
          "output_type": "stream",
          "name": "stderr",
          "text": [
            "32496it [10:58, 50.37it/s]"
          ]
        },
        {
          "output_type": "stream",
          "name": "stdout",
          "text": [
            "| epoch   3 | 32500/32580 batches | loss    0.714 \n",
            "money: him, much, not, them, use, sense, fact, seen, way, nine\n",
            "lion: branwell, boys, melbourne, purpose, placed, refurbished, letter, flutes, politician, nativity\n",
            "africa: america, europe, germany, united, north, india, east, south, nine, england\n",
            "musician: singer, actor, born, english, actress, music, american, author, poet, writer\n",
            "dance: music, history, modern, china, traditional, country, article, contemporary, hungary, football\n",
            "\n",
            "\n"
          ]
        },
        {
          "output_type": "stream",
          "name": "stderr",
          "text": [
            "32580it [11:01, 49.22it/s]\n",
            "1it [00:01,  1.86s/it]"
          ]
        },
        {
          "output_type": "stream",
          "name": "stdout",
          "text": [
            "| epoch   4 |     0/32580 batches | loss    0.728 \n",
            "money: him, much, not, them, use, sense, fact, seen, way, nine\n",
            "lion: branwell, boys, melbourne, purpose, placed, refurbished, letter, flutes, politician, nativity\n",
            "africa: america, europe, germany, united, north, india, east, south, nine, england\n",
            "musician: singer, actor, born, english, actress, music, american, author, poet, writer\n",
            "dance: music, history, modern, china, traditional, country, article, contemporary, hungary, football\n",
            "\n",
            "\n"
          ]
        },
        {
          "output_type": "stream",
          "name": "stderr",
          "text": [
            "498it [00:11, 50.78it/s]"
          ]
        },
        {
          "output_type": "stream",
          "name": "stdout",
          "text": [
            "| epoch   4 |   500/32580 batches | loss    0.716 \n",
            "money: him, much, not, them, use, sense, fact, seen, way, nine\n",
            "lion: branwell, boys, melbourne, purpose, placed, refurbished, letter, flutes, politician, nativity\n",
            "africa: america, europe, germany, united, north, india, east, south, nine, england\n",
            "musician: singer, actor, born, english, actress, music, american, author, poet, writer\n",
            "dance: music, history, modern, china, traditional, country, article, contemporary, hungary, football\n",
            "\n",
            "\n"
          ]
        },
        {
          "output_type": "stream",
          "name": "stderr",
          "text": [
            "998it [00:21, 50.84it/s]"
          ]
        },
        {
          "output_type": "stream",
          "name": "stdout",
          "text": [
            "| epoch   4 |  1000/32580 batches | loss    0.715 \n",
            "money: him, much, not, them, use, sense, fact, seen, way, nine\n",
            "lion: branwell, boys, melbourne, purpose, placed, refurbished, letter, flutes, politician, nativity\n",
            "africa: america, europe, germany, united, north, india, east, south, nine, england\n",
            "musician: singer, actor, born, english, actress, music, american, author, poet, writer\n",
            "dance: music, history, modern, china, traditional, country, article, contemporary, hungary, football\n",
            "\n",
            "\n"
          ]
        },
        {
          "output_type": "stream",
          "name": "stderr",
          "text": [
            "1500it [00:32, 50.73it/s]"
          ]
        },
        {
          "output_type": "stream",
          "name": "stdout",
          "text": [
            "| epoch   4 |  1500/32580 batches | loss    0.716 \n",
            "money: him, much, not, them, use, sense, fact, seen, way, nine\n",
            "lion: branwell, boys, melbourne, purpose, placed, refurbished, letter, flutes, politician, nativity\n",
            "africa: america, europe, germany, united, north, india, east, south, nine, england\n",
            "musician: singer, actor, born, english, actress, music, american, author, poet, writer\n",
            "dance: music, history, modern, china, traditional, country, article, contemporary, hungary, football\n",
            "\n",
            "\n"
          ]
        },
        {
          "output_type": "stream",
          "name": "stderr",
          "text": [
            "2001it [00:42, 32.13it/s]"
          ]
        },
        {
          "output_type": "stream",
          "name": "stdout",
          "text": [
            "| epoch   4 |  2000/32580 batches | loss    0.714 \n",
            "money: him, much, not, them, use, sense, fact, seen, way, nine\n",
            "lion: branwell, boys, melbourne, purpose, placed, refurbished, letter, flutes, politician, nativity\n",
            "africa: america, europe, germany, united, north, india, east, south, nine, england\n",
            "musician: singer, actor, born, english, actress, music, american, author, poet, writer\n",
            "dance: music, history, modern, china, traditional, country, article, contemporary, hungary, football\n",
            "\n",
            "\n"
          ]
        },
        {
          "output_type": "stream",
          "name": "stderr",
          "text": [
            "2497it [00:52, 50.04it/s]"
          ]
        },
        {
          "output_type": "stream",
          "name": "stdout",
          "text": [
            "| epoch   4 |  2500/32580 batches | loss    0.719 \n"
          ]
        },
        {
          "output_type": "stream",
          "name": "stderr",
          "text": [
            "2508it [00:52, 33.68it/s]"
          ]
        },
        {
          "output_type": "stream",
          "name": "stdout",
          "text": [
            "money: him, much, not, them, use, sense, fact, seen, way, nine\n",
            "lion: branwell, boys, melbourne, purpose, placed, refurbished, letter, flutes, politician, nativity\n",
            "africa: america, europe, germany, united, north, india, east, south, nine, england\n",
            "musician: singer, actor, born, english, actress, music, american, author, poet, writer\n",
            "dance: music, history, modern, china, traditional, country, article, contemporary, hungary, football\n",
            "\n",
            "\n"
          ]
        },
        {
          "output_type": "stream",
          "name": "stderr",
          "text": [
            "2998it [01:02, 50.53it/s]"
          ]
        },
        {
          "output_type": "stream",
          "name": "stdout",
          "text": [
            "| epoch   4 |  3000/32580 batches | loss    0.714 \n",
            "money: him, much, not, them, use, sense, fact, seen, way, nine\n",
            "lion: branwell, boys, melbourne, purpose, placed, refurbished, letter, flutes, politician, nativity\n",
            "africa: america, europe, germany, united, north, india, east, south, nine, england\n",
            "musician: singer, actor, born, english, actress, music, american, author, poet, writer\n",
            "dance: music, history, modern, china, traditional, country, article, contemporary, hungary, football\n",
            "\n",
            "\n"
          ]
        },
        {
          "output_type": "stream",
          "name": "stderr",
          "text": [
            "3497it [01:12, 48.60it/s]"
          ]
        },
        {
          "output_type": "stream",
          "name": "stdout",
          "text": [
            "| epoch   4 |  3500/32580 batches | loss    0.716 \n",
            "money: him, much, not, them, use, sense, fact, seen, way, nine\n",
            "lion: branwell, boys, melbourne, purpose, placed, refurbished, letter, flutes, politician, nativity\n",
            "africa: america, europe, germany, united, north, india, east, south, nine, england\n",
            "musician: singer, actor, born, english, actress, music, american, author, poet, writer\n",
            "dance: music, history, modern, china, traditional, country, article, contemporary, hungary, football\n",
            "\n",
            "\n"
          ]
        },
        {
          "output_type": "stream",
          "name": "stderr",
          "text": [
            "3996it [01:22, 50.84it/s]"
          ]
        },
        {
          "output_type": "stream",
          "name": "stdout",
          "text": [
            "| epoch   4 |  4000/32580 batches | loss    0.716 \n",
            "money: him, much, not, them, use, sense, fact, seen, way, nine\n",
            "lion: branwell, boys, melbourne, purpose, placed, refurbished, letter, flutes, politician, nativity\n",
            "africa: america, europe, germany, united, north, india, east, south, nine, england\n",
            "musician: singer, actor, born, english, actress, music, american, author, poet, writer\n",
            "dance: music, history, modern, china, traditional, country, article, contemporary, hungary, football\n",
            "\n",
            "\n"
          ]
        },
        {
          "output_type": "stream",
          "name": "stderr",
          "text": [
            "4498it [01:32, 51.26it/s]"
          ]
        },
        {
          "output_type": "stream",
          "name": "stdout",
          "text": [
            "| epoch   4 |  4500/32580 batches | loss    0.715 \n",
            "money: him, much, not, them, use, sense, fact, seen, way, nine\n",
            "lion: branwell, boys, melbourne, purpose, placed, refurbished, letter, flutes, politician, nativity\n",
            "africa: america, europe, germany, united, north, india, east, south, nine, england\n",
            "musician: singer, actor, born, english, actress, music, american, author, poet, writer\n",
            "dance: music, history, modern, china, traditional, country, article, contemporary, hungary, football\n",
            "\n",
            "\n"
          ]
        },
        {
          "output_type": "stream",
          "name": "stderr",
          "text": [
            "4998it [01:42, 50.78it/s]"
          ]
        },
        {
          "output_type": "stream",
          "name": "stdout",
          "text": [
            "| epoch   4 |  5000/32580 batches | loss    0.717 \n",
            "money: him, much, not, them, use, sense, fact, seen, way, nine\n",
            "lion: branwell, boys, melbourne, purpose, placed, refurbished, letter, flutes, politician, nativity\n",
            "africa: america, europe, germany, united, north, india, east, south, nine, england\n",
            "musician: singer, actor, born, english, actress, music, american, author, poet, writer\n",
            "dance: music, history, modern, china, traditional, country, article, contemporary, hungary, football\n",
            "\n",
            "\n"
          ]
        },
        {
          "output_type": "stream",
          "name": "stderr",
          "text": [
            "5501it [01:53, 33.57it/s]"
          ]
        },
        {
          "output_type": "stream",
          "name": "stdout",
          "text": [
            "| epoch   4 |  5500/32580 batches | loss    0.714 \n",
            "money: him, much, not, them, use, sense, fact, seen, way, nine\n",
            "lion: branwell, boys, melbourne, purpose, placed, refurbished, letter, flutes, politician, nativity\n",
            "africa: america, europe, germany, united, north, india, east, south, nine, england\n",
            "musician: singer, actor, born, english, actress, music, american, author, poet, writer\n",
            "dance: music, history, modern, china, traditional, country, article, contemporary, hungary, football\n",
            "\n",
            "\n"
          ]
        },
        {
          "output_type": "stream",
          "name": "stderr",
          "text": [
            "5996it [02:02, 51.39it/s]"
          ]
        },
        {
          "output_type": "stream",
          "name": "stdout",
          "text": [
            "| epoch   4 |  6000/32580 batches | loss    0.719 \n",
            "money: him, much, not, them, use, sense, fact, seen, way, nine\n",
            "lion: branwell, boys, melbourne, purpose, placed, refurbished, letter, flutes, politician, nativity\n",
            "africa: america, europe, germany, united, north, india, east, south, nine, england\n",
            "musician: singer, actor, born, english, actress, music, american, author, poet, writer\n",
            "dance: music, history, modern, china, traditional, country, article, contemporary, hungary, football\n",
            "\n",
            "\n"
          ]
        },
        {
          "output_type": "stream",
          "name": "stderr",
          "text": [
            "6499it [02:12, 51.32it/s]"
          ]
        },
        {
          "output_type": "stream",
          "name": "stdout",
          "text": [
            "| epoch   4 |  6500/32580 batches | loss    0.716 \n",
            "money: him, much, not, them, use, sense, fact, seen, way, nine\n",
            "lion: branwell, boys, melbourne, purpose, placed, refurbished, letter, flutes, politician, nativity\n",
            "africa: america, europe, germany, united, north, india, east, south, nine, england\n",
            "musician: singer, actor, born, english, actress, music, american, author, poet, writer\n",
            "dance: music, history, modern, china, traditional, country, article, contemporary, hungary, football\n",
            "\n",
            "\n"
          ]
        },
        {
          "output_type": "stream",
          "name": "stderr",
          "text": [
            "6997it [02:22, 51.67it/s]"
          ]
        },
        {
          "output_type": "stream",
          "name": "stdout",
          "text": [
            "| epoch   4 |  7000/32580 batches | loss    0.715 \n",
            "money: him, much, not, them, use, sense, fact, seen, way, nine\n",
            "lion: branwell, boys, melbourne, purpose, placed, refurbished, letter, flutes, politician, nativity\n",
            "africa: america, europe, germany, united, north, india, east, south, nine, england\n",
            "musician: singer, actor, born, english, actress, music, american, author, poet, writer\n",
            "dance: music, history, modern, china, traditional, country, article, contemporary, hungary, football\n",
            "\n",
            "\n"
          ]
        },
        {
          "output_type": "stream",
          "name": "stderr",
          "text": [
            "7496it [02:32, 51.13it/s]"
          ]
        },
        {
          "output_type": "stream",
          "name": "stdout",
          "text": [
            "| epoch   4 |  7500/32580 batches | loss    0.716 \n",
            "money: him, much, not, them, use, sense, fact, seen, way, nine\n",
            "lion: branwell, boys, melbourne, purpose, placed, refurbished, letter, flutes, politician, nativity\n",
            "africa: america, europe, germany, united, north, india, east, south, nine, england\n",
            "musician: singer, actor, born, english, actress, music, american, author, poet, writer\n",
            "dance: music, history, modern, china, traditional, country, article, contemporary, hungary, football\n",
            "\n",
            "\n"
          ]
        },
        {
          "output_type": "stream",
          "name": "stderr",
          "text": [
            "7997it [02:42, 51.29it/s]"
          ]
        },
        {
          "output_type": "stream",
          "name": "stdout",
          "text": [
            "| epoch   4 |  8000/32580 batches | loss    0.718 \n",
            "money: him, much, not, them, use, sense, fact, seen, way, nine\n",
            "lion: branwell, boys, melbourne, purpose, placed, refurbished, letter, flutes, politician, nativity\n",
            "africa: america, europe, germany, united, north, india, east, south, nine, england\n",
            "musician: singer, actor, born, english, actress, music, american, author, poet, writer\n",
            "dance: music, history, modern, china, traditional, country, article, contemporary, hungary, football\n",
            "\n",
            "\n"
          ]
        },
        {
          "output_type": "stream",
          "name": "stderr",
          "text": [
            "8500it [02:52, 51.26it/s]"
          ]
        },
        {
          "output_type": "stream",
          "name": "stdout",
          "text": [
            "| epoch   4 |  8500/32580 batches | loss    0.717 \n",
            "money: him, much, not, them, use, sense, fact, seen, way, nine\n",
            "lion: branwell, boys, melbourne, purpose, placed, refurbished, letter, flutes, politician, nativity\n",
            "africa: america, europe, germany, united, north, india, east, south, nine, england\n",
            "musician: singer, actor, born, english, actress, music, american, author, poet, writer\n",
            "dance: music, history, modern, china, traditional, country, article, contemporary, hungary, football\n",
            "\n",
            "\n"
          ]
        },
        {
          "output_type": "stream",
          "name": "stderr",
          "text": [
            "8998it [03:02, 50.26it/s]"
          ]
        },
        {
          "output_type": "stream",
          "name": "stdout",
          "text": [
            "| epoch   4 |  9000/32580 batches | loss    0.716 \n",
            "money: him, much, not, them, use, sense, fact, seen, way, nine\n",
            "lion: branwell, boys, melbourne, purpose, placed, refurbished, letter, flutes, politician, nativity\n",
            "africa: america, europe, germany, united, north, india, east, south, nine, england\n",
            "musician: singer, actor, born, english, actress, music, american, author, poet, writer\n",
            "dance: music, history, modern, china, traditional, country, article, contemporary, hungary, football\n",
            "\n",
            "\n"
          ]
        },
        {
          "output_type": "stream",
          "name": "stderr",
          "text": [
            "9497it [03:13, 50.30it/s]"
          ]
        },
        {
          "output_type": "stream",
          "name": "stdout",
          "text": [
            "| epoch   4 |  9500/32580 batches | loss    0.716 \n",
            "money: him, much, not, them, use, sense, fact, seen, way, nine\n",
            "lion: branwell, boys, melbourne, purpose, placed, refurbished, letter, flutes, politician, nativity\n",
            "africa: america, europe, germany, united, north, india, east, south, nine, england\n",
            "musician: singer, actor, born, english, actress, music, american, author, poet, writer\n",
            "dance: music, history, modern, china, traditional, country, article, contemporary, hungary, football\n",
            "\n",
            "\n"
          ]
        },
        {
          "output_type": "stream",
          "name": "stderr",
          "text": [
            "9998it [03:23, 50.12it/s]"
          ]
        },
        {
          "output_type": "stream",
          "name": "stdout",
          "text": [
            "| epoch   4 | 10000/32580 batches | loss    0.715 \n",
            "money: him, much, not, them, use, sense, fact, seen, way, nine\n",
            "lion: branwell, boys, melbourne, purpose, placed, refurbished, letter, flutes, politician, nativity\n",
            "africa: america, europe, germany, united, north, india, east, south, nine, england\n",
            "musician: singer, actor, born, english, actress, music, american, author, poet, writer\n",
            "dance: music, history, modern, china, traditional, country, article, contemporary, hungary, football\n",
            "\n",
            "\n"
          ]
        },
        {
          "output_type": "stream",
          "name": "stderr",
          "text": [
            "10500it [03:33, 50.25it/s]"
          ]
        },
        {
          "output_type": "stream",
          "name": "stdout",
          "text": [
            "| epoch   4 | 10500/32580 batches | loss    0.715 \n",
            "money: him, much, not, them, use, sense, fact, seen, way, nine\n",
            "lion: branwell, boys, melbourne, purpose, placed, refurbished, letter, flutes, politician, nativity\n",
            "africa: america, europe, germany, united, north, india, east, south, nine, england\n",
            "musician: singer, actor, born, english, actress, music, american, author, poet, writer\n",
            "dance: music, history, modern, china, traditional, country, article, contemporary, hungary, football\n",
            "\n",
            "\n"
          ]
        },
        {
          "output_type": "stream",
          "name": "stderr",
          "text": [
            "10997it [03:43, 50.43it/s]"
          ]
        },
        {
          "output_type": "stream",
          "name": "stdout",
          "text": [
            "| epoch   4 | 11000/32580 batches | loss    0.718 \n",
            "money: him, much, not, them, use, sense, fact, seen, way, nine\n",
            "lion: branwell, boys, melbourne, purpose, placed, refurbished, letter, flutes, politician, nativity\n",
            "africa: america, europe, germany, united, north, india, east, south, nine, england\n",
            "musician: singer, actor, born, english, actress, music, american, author, poet, writer\n",
            "dance: music, history, modern, china, traditional, country, article, contemporary, hungary, football\n",
            "\n",
            "\n"
          ]
        },
        {
          "output_type": "stream",
          "name": "stderr",
          "text": [
            "11501it [03:54, 30.51it/s]"
          ]
        },
        {
          "output_type": "stream",
          "name": "stdout",
          "text": [
            "| epoch   4 | 11500/32580 batches | loss    0.720 \n",
            "money: him, much, not, them, use, sense, fact, seen, way, nine\n",
            "lion: branwell, boys, melbourne, purpose, placed, refurbished, letter, flutes, politician, nativity\n",
            "africa: america, europe, germany, united, north, india, east, south, nine, england\n",
            "musician: singer, actor, born, english, actress, music, american, author, poet, writer\n",
            "dance: music, history, modern, china, traditional, country, article, contemporary, hungary, football\n",
            "\n",
            "\n"
          ]
        },
        {
          "output_type": "stream",
          "name": "stderr",
          "text": [
            "11997it [04:04, 49.70it/s]"
          ]
        },
        {
          "output_type": "stream",
          "name": "stdout",
          "text": [
            "| epoch   4 | 12000/32580 batches | loss    0.715 \n",
            "money: him, much, not, them, use, sense, fact, seen, way, nine\n",
            "lion: branwell, boys, melbourne, purpose, placed, refurbished, letter, flutes, politician, nativity\n",
            "africa: america, europe, germany, united, north, india, east, south, nine, england\n",
            "musician: singer, actor, born, english, actress, music, american, author, poet, writer\n",
            "dance: music, history, modern, china, traditional, country, article, contemporary, hungary, football\n",
            "\n",
            "\n"
          ]
        },
        {
          "output_type": "stream",
          "name": "stderr",
          "text": [
            "12498it [04:14, 50.26it/s]"
          ]
        },
        {
          "output_type": "stream",
          "name": "stdout",
          "text": [
            "| epoch   4 | 12500/32580 batches | loss    0.718 \n",
            "money: him, much, not, them, use, sense, fact, seen, way, nine\n",
            "lion: branwell, boys, melbourne, purpose, placed, refurbished, letter, flutes, politician, nativity\n",
            "africa: america, europe, germany, united, north, india, east, south, nine, england\n",
            "musician: singer, actor, born, english, actress, music, american, author, poet, writer\n",
            "dance: music, history, modern, china, traditional, country, article, contemporary, hungary, football\n",
            "\n",
            "\n"
          ]
        },
        {
          "output_type": "stream",
          "name": "stderr",
          "text": [
            "12998it [04:24, 51.51it/s]"
          ]
        },
        {
          "output_type": "stream",
          "name": "stdout",
          "text": [
            "| epoch   4 | 13000/32580 batches | loss    0.715 \n",
            "money: him, much, not, them, use, sense, fact, seen, way, nine\n",
            "lion: branwell, boys, melbourne, purpose, placed, refurbished, letter, flutes, politician, nativity\n",
            "africa: america, europe, germany, united, north, india, east, south, nine, england\n",
            "musician: singer, actor, born, english, actress, music, american, author, poet, writer\n",
            "dance: music, history, modern, china, traditional, country, article, contemporary, hungary, football\n",
            "\n",
            "\n"
          ]
        },
        {
          "output_type": "stream",
          "name": "stderr",
          "text": [
            "13501it [04:34, 34.07it/s]"
          ]
        },
        {
          "output_type": "stream",
          "name": "stdout",
          "text": [
            "| epoch   4 | 13500/32580 batches | loss    0.716 \n",
            "money: him, much, not, them, use, sense, fact, seen, way, nine\n",
            "lion: branwell, boys, melbourne, purpose, placed, refurbished, letter, flutes, politician, nativity\n",
            "africa: america, europe, germany, united, north, india, east, south, nine, england\n",
            "musician: singer, actor, born, english, actress, music, american, author, poet, writer\n",
            "dance: music, history, modern, china, traditional, country, article, contemporary, hungary, football\n",
            "\n",
            "\n"
          ]
        },
        {
          "output_type": "stream",
          "name": "stderr",
          "text": [
            "13997it [04:44, 50.47it/s]"
          ]
        },
        {
          "output_type": "stream",
          "name": "stdout",
          "text": [
            "| epoch   4 | 14000/32580 batches | loss    0.716 \n",
            "money: him, much, not, them, use, sense, fact, seen, way, nine\n",
            "lion: branwell, boys, melbourne, purpose, placed, refurbished, letter, flutes, politician, nativity\n",
            "africa: america, europe, germany, united, north, india, east, south, nine, england\n",
            "musician: singer, actor, born, english, actress, music, american, author, poet, writer\n",
            "dance: music, history, modern, china, traditional, country, article, contemporary, hungary, football\n",
            "\n",
            "\n"
          ]
        },
        {
          "output_type": "stream",
          "name": "stderr",
          "text": [
            "14499it [04:54, 51.02it/s]"
          ]
        },
        {
          "output_type": "stream",
          "name": "stdout",
          "text": [
            "| epoch   4 | 14500/32580 batches | loss    0.719 \n",
            "money: him, much, not, them, use, sense, fact, seen, way, nine\n",
            "lion: branwell, boys, melbourne, purpose, placed, refurbished, letter, flutes, politician, nativity\n",
            "africa: america, europe, germany, united, north, india, east, south, nine, england\n",
            "musician: singer, actor, born, english, actress, music, american, author, poet, writer\n",
            "dance: music, history, modern, china, traditional, country, article, contemporary, hungary, football\n",
            "\n",
            "\n"
          ]
        },
        {
          "output_type": "stream",
          "name": "stderr",
          "text": [
            "14996it [05:04, 51.30it/s]"
          ]
        },
        {
          "output_type": "stream",
          "name": "stdout",
          "text": [
            "| epoch   4 | 15000/32580 batches | loss    0.715 \n"
          ]
        },
        {
          "output_type": "stream",
          "name": "stderr",
          "text": [
            "15007it [05:05, 33.74it/s]"
          ]
        },
        {
          "output_type": "stream",
          "name": "stdout",
          "text": [
            "money: him, much, not, them, use, sense, fact, seen, way, nine\n",
            "lion: branwell, boys, melbourne, purpose, placed, refurbished, letter, flutes, politician, nativity\n",
            "africa: america, europe, germany, united, north, india, east, south, nine, england\n",
            "musician: singer, actor, born, english, actress, music, american, author, poet, writer\n",
            "dance: music, history, modern, china, traditional, country, article, contemporary, hungary, football\n",
            "\n",
            "\n"
          ]
        },
        {
          "output_type": "stream",
          "name": "stderr",
          "text": [
            "15498it [05:14, 51.18it/s]"
          ]
        },
        {
          "output_type": "stream",
          "name": "stdout",
          "text": [
            "| epoch   4 | 15500/32580 batches | loss    0.717 \n"
          ]
        },
        {
          "output_type": "stream",
          "name": "stderr",
          "text": [
            "15509it [05:15, 35.39it/s]"
          ]
        },
        {
          "output_type": "stream",
          "name": "stdout",
          "text": [
            "money: him, much, not, them, use, sense, fact, seen, way, nine\n",
            "lion: branwell, boys, melbourne, purpose, placed, refurbished, letter, flutes, politician, nativity\n",
            "africa: america, europe, germany, united, north, india, east, south, nine, england\n",
            "musician: singer, actor, born, english, actress, music, american, author, poet, writer\n",
            "dance: music, history, modern, china, traditional, country, article, contemporary, hungary, football\n",
            "\n",
            "\n"
          ]
        },
        {
          "output_type": "stream",
          "name": "stderr",
          "text": [
            "15997it [05:24, 51.43it/s]"
          ]
        },
        {
          "output_type": "stream",
          "name": "stdout",
          "text": [
            "| epoch   4 | 16000/32580 batches | loss    0.715 \n",
            "money: him, much, not, them, use, sense, fact, seen, way, nine\n",
            "lion: branwell, boys, melbourne, purpose, placed, refurbished, letter, flutes, politician, nativity\n",
            "africa: america, europe, germany, united, north, india, east, south, nine, england\n",
            "musician: singer, actor, born, english, actress, music, american, author, poet, writer\n",
            "dance: music, history, modern, china, traditional, country, article, contemporary, hungary, football\n",
            "\n",
            "\n"
          ]
        },
        {
          "output_type": "stream",
          "name": "stderr",
          "text": [
            "16499it [05:34, 51.51it/s]"
          ]
        },
        {
          "output_type": "stream",
          "name": "stdout",
          "text": [
            "| epoch   4 | 16500/32580 batches | loss    0.715 \n",
            "money: him, much, not, them, use, sense, fact, seen, way, nine\n",
            "lion: branwell, boys, melbourne, purpose, placed, refurbished, letter, flutes, politician, nativity\n",
            "africa: america, europe, germany, united, north, india, east, south, nine, england\n",
            "musician: singer, actor, born, english, actress, music, american, author, poet, writer\n",
            "dance: music, history, modern, china, traditional, country, article, contemporary, hungary, football\n",
            "\n",
            "\n"
          ]
        },
        {
          "output_type": "stream",
          "name": "stderr",
          "text": [
            "16996it [05:44, 51.58it/s]"
          ]
        },
        {
          "output_type": "stream",
          "name": "stdout",
          "text": [
            "| epoch   4 | 17000/32580 batches | loss    0.717 \n",
            "money: him, much, not, them, use, sense, fact, seen, way, nine\n",
            "lion: branwell, boys, melbourne, purpose, placed, refurbished, letter, flutes, politician, nativity\n",
            "africa: america, europe, germany, united, north, india, east, south, nine, england\n",
            "musician: singer, actor, born, english, actress, music, american, author, poet, writer\n",
            "dance: music, history, modern, china, traditional, country, article, contemporary, hungary, football\n",
            "\n",
            "\n"
          ]
        },
        {
          "output_type": "stream",
          "name": "stderr",
          "text": [
            "17498it [05:54, 51.26it/s]"
          ]
        },
        {
          "output_type": "stream",
          "name": "stdout",
          "text": [
            "| epoch   4 | 17500/32580 batches | loss    0.717 \n",
            "money: him, much, not, them, use, sense, fact, seen, way, nine\n",
            "lion: branwell, boys, melbourne, purpose, placed, refurbished, letter, flutes, politician, nativity\n",
            "africa: america, europe, germany, united, north, india, east, south, nine, england\n",
            "musician: singer, actor, born, english, actress, music, american, author, poet, writer\n",
            "dance: music, history, modern, china, traditional, country, article, contemporary, hungary, football\n",
            "\n",
            "\n"
          ]
        },
        {
          "output_type": "stream",
          "name": "stderr",
          "text": [
            "17998it [06:07, 33.46it/s]"
          ]
        },
        {
          "output_type": "stream",
          "name": "stdout",
          "text": [
            "| epoch   4 | 18000/32580 batches | loss    0.716 \n",
            "money: him, much, not, them, use, sense, fact, seen, way, nine\n",
            "lion: branwell, boys, melbourne, purpose, placed, refurbished, letter, flutes, politician, nativity\n",
            "africa: america, europe, germany, united, north, india, east, south, nine, england\n",
            "musician: singer, actor, born, english, actress, music, american, author, poet, writer\n",
            "dance: music, history, modern, china, traditional, country, article, contemporary, hungary, football\n",
            "\n",
            "\n"
          ]
        },
        {
          "output_type": "stream",
          "name": "stderr",
          "text": [
            "18499it [06:17, 50.99it/s]"
          ]
        },
        {
          "output_type": "stream",
          "name": "stdout",
          "text": [
            "| epoch   4 | 18500/32580 batches | loss    0.715 \n",
            "money: him, much, not, them, use, sense, fact, seen, way, nine\n",
            "lion: branwell, boys, melbourne, purpose, placed, refurbished, letter, flutes, politician, nativity\n",
            "africa: america, europe, germany, united, north, india, east, south, nine, england\n",
            "musician: singer, actor, born, english, actress, music, american, author, poet, writer\n",
            "dance: music, history, modern, china, traditional, country, article, contemporary, hungary, football\n",
            "\n",
            "\n"
          ]
        },
        {
          "output_type": "stream",
          "name": "stderr",
          "text": [
            "19001it [06:27, 34.81it/s]"
          ]
        },
        {
          "output_type": "stream",
          "name": "stdout",
          "text": [
            "| epoch   4 | 19000/32580 batches | loss    0.717 \n",
            "money: him, much, not, them, use, sense, fact, seen, way, nine\n",
            "lion: branwell, boys, melbourne, purpose, placed, refurbished, letter, flutes, politician, nativity\n",
            "africa: america, europe, germany, united, north, india, east, south, nine, england\n",
            "musician: singer, actor, born, english, actress, music, american, author, poet, writer\n",
            "dance: music, history, modern, china, traditional, country, article, contemporary, hungary, football\n",
            "\n",
            "\n"
          ]
        },
        {
          "output_type": "stream",
          "name": "stderr",
          "text": [
            "19497it [06:36, 51.62it/s]"
          ]
        },
        {
          "output_type": "stream",
          "name": "stdout",
          "text": [
            "| epoch   4 | 19500/32580 batches | loss    0.716 \n",
            "money: him, much, not, them, use, sense, fact, seen, way, nine\n",
            "lion: branwell, boys, melbourne, purpose, placed, refurbished, letter, flutes, politician, nativity\n",
            "africa: america, europe, germany, united, north, india, east, south, nine, england\n",
            "musician: singer, actor, born, english, actress, music, american, author, poet, writer\n",
            "dance: music, history, modern, china, traditional, country, article, contemporary, hungary, football\n",
            "\n",
            "\n"
          ]
        },
        {
          "output_type": "stream",
          "name": "stderr",
          "text": [
            "20000it [06:46, 51.62it/s]"
          ]
        },
        {
          "output_type": "stream",
          "name": "stdout",
          "text": [
            "| epoch   4 | 20000/32580 batches | loss    0.716 \n",
            "money: him, much, not, them, use, sense, fact, seen, way, nine\n",
            "lion: branwell, boys, melbourne, purpose, placed, refurbished, letter, flutes, politician, nativity\n",
            "africa: america, europe, germany, united, north, india, east, south, nine, england\n",
            "musician: singer, actor, born, english, actress, music, american, author, poet, writer\n",
            "dance: music, history, modern, china, traditional, country, article, contemporary, hungary, football\n",
            "\n",
            "\n"
          ]
        },
        {
          "output_type": "stream",
          "name": "stderr",
          "text": [
            "20498it [06:56, 51.60it/s]"
          ]
        },
        {
          "output_type": "stream",
          "name": "stdout",
          "text": [
            "| epoch   4 | 20500/32580 batches | loss    0.716 \n",
            "money: him, much, not, them, use, sense, fact, seen, way, nine\n",
            "lion: branwell, boys, melbourne, purpose, placed, refurbished, letter, flutes, politician, nativity\n",
            "africa: america, europe, germany, united, north, india, east, south, nine, england\n",
            "musician: singer, actor, born, english, actress, music, american, author, poet, writer\n",
            "dance: music, history, modern, china, traditional, country, article, contemporary, hungary, football\n",
            "\n",
            "\n"
          ]
        },
        {
          "output_type": "stream",
          "name": "stderr",
          "text": [
            "21001it [07:06, 34.91it/s]"
          ]
        },
        {
          "output_type": "stream",
          "name": "stdout",
          "text": [
            "| epoch   4 | 21000/32580 batches | loss    0.714 \n",
            "money: him, much, not, them, use, sense, fact, seen, way, nine\n",
            "lion: branwell, boys, melbourne, purpose, placed, refurbished, letter, flutes, politician, nativity\n",
            "africa: america, europe, germany, united, north, india, east, south, nine, england\n",
            "musician: singer, actor, born, english, actress, music, american, author, poet, writer\n",
            "dance: music, history, modern, china, traditional, country, article, contemporary, hungary, football\n",
            "\n",
            "\n"
          ]
        },
        {
          "output_type": "stream",
          "name": "stderr",
          "text": [
            "21498it [07:16, 51.02it/s]"
          ]
        },
        {
          "output_type": "stream",
          "name": "stdout",
          "text": [
            "| epoch   4 | 21500/32580 batches | loss    0.715 \n",
            "money: him, much, not, them, use, sense, fact, seen, way, nine\n",
            "lion: branwell, boys, melbourne, purpose, placed, refurbished, letter, flutes, politician, nativity\n",
            "africa: america, europe, germany, united, north, india, east, south, nine, england\n",
            "musician: singer, actor, born, english, actress, music, american, author, poet, writer\n",
            "dance: music, history, modern, china, traditional, country, article, contemporary, hungary, football\n",
            "\n",
            "\n"
          ]
        },
        {
          "output_type": "stream",
          "name": "stderr",
          "text": [
            "21999it [07:26, 51.95it/s]"
          ]
        },
        {
          "output_type": "stream",
          "name": "stdout",
          "text": [
            "| epoch   4 | 22000/32580 batches | loss    0.717 \n",
            "money: him, much, not, them, use, sense, fact, seen, way, nine\n",
            "lion: branwell, boys, melbourne, purpose, placed, refurbished, letter, flutes, politician, nativity\n",
            "africa: america, europe, germany, united, north, india, east, south, nine, england\n",
            "musician: singer, actor, born, english, actress, music, american, author, poet, writer\n",
            "dance: music, history, modern, china, traditional, country, article, contemporary, hungary, football\n",
            "\n",
            "\n"
          ]
        },
        {
          "output_type": "stream",
          "name": "stderr",
          "text": [
            "22500it [07:36, 51.47it/s]"
          ]
        },
        {
          "output_type": "stream",
          "name": "stdout",
          "text": [
            "| epoch   4 | 22500/32580 batches | loss    0.716 \n",
            "money: him, much, not, them, use, sense, fact, seen, way, nine\n",
            "lion: branwell, boys, melbourne, purpose, placed, refurbished, letter, flutes, politician, nativity\n",
            "africa: america, europe, germany, united, north, india, east, south, nine, england\n",
            "musician: singer, actor, born, english, actress, music, american, author, poet, writer\n",
            "dance: music, history, modern, china, traditional, country, article, contemporary, hungary, football\n",
            "\n",
            "\n"
          ]
        },
        {
          "output_type": "stream",
          "name": "stderr",
          "text": [
            "22997it [07:46, 51.94it/s]"
          ]
        },
        {
          "output_type": "stream",
          "name": "stdout",
          "text": [
            "| epoch   4 | 23000/32580 batches | loss    0.715 \n",
            "money: him, much, not, them, use, sense, fact, seen, way, nine\n",
            "lion: branwell, boys, melbourne, purpose, placed, refurbished, letter, flutes, politician, nativity\n",
            "africa: america, europe, germany, united, north, india, east, south, nine, england\n",
            "musician: singer, actor, born, english, actress, music, american, author, poet, writer\n",
            "dance: music, history, modern, china, traditional, country, article, contemporary, hungary, football\n",
            "\n",
            "\n"
          ]
        },
        {
          "output_type": "stream",
          "name": "stderr",
          "text": [
            "23500it [07:56, 50.73it/s]"
          ]
        },
        {
          "output_type": "stream",
          "name": "stdout",
          "text": [
            "| epoch   4 | 23500/32580 batches | loss    0.718 \n",
            "money: him, much, not, them, use, sense, fact, seen, way, nine\n",
            "lion: branwell, boys, melbourne, purpose, placed, refurbished, letter, flutes, politician, nativity\n",
            "africa: america, europe, germany, united, north, india, east, south, nine, england\n",
            "musician: singer, actor, born, english, actress, music, american, author, poet, writer\n",
            "dance: music, history, modern, china, traditional, country, article, contemporary, hungary, football\n",
            "\n",
            "\n"
          ]
        },
        {
          "output_type": "stream",
          "name": "stderr",
          "text": [
            "23997it [08:06, 51.92it/s]"
          ]
        },
        {
          "output_type": "stream",
          "name": "stdout",
          "text": [
            "| epoch   4 | 24000/32580 batches | loss    0.716 \n",
            "money: him, much, not, them, use, sense, fact, seen, way, nine\n",
            "lion: branwell, boys, melbourne, purpose, placed, refurbished, letter, flutes, politician, nativity\n",
            "africa: america, europe, germany, united, north, india, east, south, nine, england\n",
            "musician: singer, actor, born, english, actress, music, american, author, poet, writer\n",
            "dance: music, history, modern, china, traditional, country, article, contemporary, hungary, football\n",
            "\n",
            "\n"
          ]
        },
        {
          "output_type": "stream",
          "name": "stderr",
          "text": [
            "24500it [08:15, 51.70it/s]"
          ]
        },
        {
          "output_type": "stream",
          "name": "stdout",
          "text": [
            "| epoch   4 | 24500/32580 batches | loss    0.717 \n",
            "money: him, much, not, them, use, sense, fact, seen, way, nine\n",
            "lion: branwell, boys, melbourne, purpose, placed, refurbished, letter, flutes, politician, nativity\n",
            "africa: america, europe, germany, united, north, india, east, south, nine, england\n",
            "musician: singer, actor, born, english, actress, music, american, author, poet, writer\n",
            "dance: music, history, modern, china, traditional, country, article, contemporary, hungary, football\n",
            "\n",
            "\n"
          ]
        },
        {
          "output_type": "stream",
          "name": "stderr",
          "text": [
            "24999it [08:25, 52.00it/s]"
          ]
        },
        {
          "output_type": "stream",
          "name": "stdout",
          "text": [
            "| epoch   4 | 25000/32580 batches | loss    0.715 \n",
            "money: him, much, not, them, use, sense, fact, seen, way, nine\n",
            "lion: branwell, boys, melbourne, purpose, placed, refurbished, letter, flutes, politician, nativity\n",
            "africa: america, europe, germany, united, north, india, east, south, nine, england\n",
            "musician: singer, actor, born, english, actress, music, american, author, poet, writer\n",
            "dance: music, history, modern, china, traditional, country, article, contemporary, hungary, football\n",
            "\n",
            "\n"
          ]
        },
        {
          "output_type": "stream",
          "name": "stderr",
          "text": [
            "25497it [08:35, 52.11it/s]"
          ]
        },
        {
          "output_type": "stream",
          "name": "stdout",
          "text": [
            "| epoch   4 | 25500/32580 batches | loss    0.716 \n",
            "money: him, much, not, them, use, sense, fact, seen, way, nine\n",
            "lion: branwell, boys, melbourne, purpose, placed, refurbished, letter, flutes, politician, nativity\n",
            "africa: america, europe, germany, united, north, india, east, south, nine, england\n",
            "musician: singer, actor, born, english, actress, music, american, author, poet, writer\n",
            "dance: music, history, modern, china, traditional, country, article, contemporary, hungary, football\n",
            "\n",
            "\n"
          ]
        },
        {
          "output_type": "stream",
          "name": "stderr",
          "text": [
            "25997it [08:45, 51.94it/s]"
          ]
        },
        {
          "output_type": "stream",
          "name": "stdout",
          "text": [
            "| epoch   4 | 26000/32580 batches | loss    0.716 \n",
            "money: him, much, not, them, use, sense, fact, seen, way, nine\n",
            "lion: branwell, boys, melbourne, purpose, placed, refurbished, letter, flutes, politician, nativity\n",
            "africa: america, europe, germany, united, north, india, east, south, nine, england\n",
            "musician: singer, actor, born, english, actress, music, american, author, poet, writer\n",
            "dance: music, history, modern, china, traditional, country, article, contemporary, hungary, football\n",
            "\n",
            "\n"
          ]
        },
        {
          "output_type": "stream",
          "name": "stderr",
          "text": [
            "26500it [08:55, 52.03it/s]"
          ]
        },
        {
          "output_type": "stream",
          "name": "stdout",
          "text": [
            "| epoch   4 | 26500/32580 batches | loss    0.715 \n",
            "money: him, much, not, them, use, sense, fact, seen, way, nine\n",
            "lion: branwell, boys, melbourne, purpose, placed, refurbished, letter, flutes, politician, nativity\n",
            "africa: america, europe, germany, united, north, india, east, south, nine, england\n",
            "musician: singer, actor, born, english, actress, music, american, author, poet, writer\n",
            "dance: music, history, modern, china, traditional, country, article, contemporary, hungary, football\n",
            "\n",
            "\n"
          ]
        },
        {
          "output_type": "stream",
          "name": "stderr",
          "text": [
            "26997it [09:05, 51.16it/s]"
          ]
        },
        {
          "output_type": "stream",
          "name": "stdout",
          "text": [
            "| epoch   4 | 27000/32580 batches | loss    0.716 \n",
            "money: him, much, not, them, use, sense, fact, seen, way, nine\n",
            "lion: branwell, boys, melbourne, purpose, placed, refurbished, letter, flutes, politician, nativity\n",
            "africa: america, europe, germany, united, north, india, east, south, nine, england\n",
            "musician: singer, actor, born, english, actress, music, american, author, poet, writer\n",
            "dance: music, history, modern, china, traditional, country, article, contemporary, hungary, football\n",
            "\n",
            "\n"
          ]
        },
        {
          "output_type": "stream",
          "name": "stderr",
          "text": [
            "27498it [09:15, 51.97it/s]"
          ]
        },
        {
          "output_type": "stream",
          "name": "stdout",
          "text": [
            "| epoch   4 | 27500/32580 batches | loss    0.716 \n"
          ]
        },
        {
          "output_type": "stream",
          "name": "stderr",
          "text": [
            "\r27504it [09:15, 30.74it/s]"
          ]
        },
        {
          "output_type": "stream",
          "name": "stdout",
          "text": [
            "money: him, much, not, them, use, sense, fact, seen, way, nine\n",
            "lion: branwell, boys, melbourne, purpose, placed, refurbished, letter, flutes, politician, nativity\n",
            "africa: america, europe, germany, united, north, india, east, south, nine, england\n",
            "musician: singer, actor, born, english, actress, music, american, author, poet, writer\n",
            "dance: music, history, modern, china, traditional, country, article, contemporary, hungary, football\n",
            "\n",
            "\n"
          ]
        },
        {
          "output_type": "stream",
          "name": "stderr",
          "text": [
            "28001it [09:25, 35.09it/s]"
          ]
        },
        {
          "output_type": "stream",
          "name": "stdout",
          "text": [
            "| epoch   4 | 28000/32580 batches | loss    0.716 \n",
            "money: him, much, not, them, use, sense, fact, seen, way, nine\n",
            "lion: branwell, boys, melbourne, purpose, placed, refurbished, letter, flutes, politician, nativity\n",
            "africa: america, europe, germany, united, north, india, east, south, nine, england\n",
            "musician: singer, actor, born, english, actress, music, american, author, poet, writer\n",
            "dance: music, history, modern, china, traditional, country, article, contemporary, hungary, football\n",
            "\n",
            "\n"
          ]
        },
        {
          "output_type": "stream",
          "name": "stderr",
          "text": [
            "28498it [09:34, 52.14it/s]"
          ]
        },
        {
          "output_type": "stream",
          "name": "stdout",
          "text": [
            "| epoch   4 | 28500/32580 batches | loss    0.717 \n",
            "money: him, much, not, them, use, sense, fact, seen, way, nine\n",
            "lion: branwell, boys, melbourne, purpose, placed, refurbished, letter, flutes, politician, nativity\n",
            "africa: america, europe, germany, united, north, india, east, south, nine, england\n",
            "musician: singer, actor, born, english, actress, music, american, author, poet, writer\n",
            "dance: music, history, modern, china, traditional, country, article, contemporary, hungary, football\n",
            "\n",
            "\n"
          ]
        },
        {
          "output_type": "stream",
          "name": "stderr",
          "text": [
            "29001it [09:47, 32.87it/s]"
          ]
        },
        {
          "output_type": "stream",
          "name": "stdout",
          "text": [
            "| epoch   4 | 29000/32580 batches | loss    0.716 \n",
            "money: him, much, not, them, use, sense, fact, seen, way, nine\n",
            "lion: branwell, boys, melbourne, purpose, placed, refurbished, letter, flutes, politician, nativity\n",
            "africa: america, europe, germany, united, north, india, east, south, nine, england\n",
            "musician: singer, actor, born, english, actress, music, american, author, poet, writer\n",
            "dance: music, history, modern, china, traditional, country, article, contemporary, hungary, football\n",
            "\n",
            "\n"
          ]
        },
        {
          "output_type": "stream",
          "name": "stderr",
          "text": [
            "29498it [09:57, 51.00it/s]"
          ]
        },
        {
          "output_type": "stream",
          "name": "stdout",
          "text": [
            "| epoch   4 | 29500/32580 batches | loss    0.718 \n",
            "money: him, much, not, them, use, sense, fact, seen, way, nine\n",
            "lion: branwell, boys, melbourne, purpose, placed, refurbished, letter, flutes, politician, nativity\n",
            "africa: america, europe, germany, united, north, india, east, south, nine, england\n",
            "musician: singer, actor, born, english, actress, music, american, author, poet, writer\n",
            "dance: music, history, modern, china, traditional, country, article, contemporary, hungary, football\n",
            "\n",
            "\n"
          ]
        },
        {
          "output_type": "stream",
          "name": "stderr",
          "text": [
            "29997it [10:07, 48.72it/s]"
          ]
        },
        {
          "output_type": "stream",
          "name": "stdout",
          "text": [
            "| epoch   4 | 30000/32580 batches | loss    0.715 \n",
            "money: him, much, not, them, use, sense, fact, seen, way, nine\n",
            "lion: branwell, boys, melbourne, purpose, placed, refurbished, letter, flutes, politician, nativity\n",
            "africa: america, europe, germany, united, north, india, east, south, nine, england\n",
            "musician: singer, actor, born, english, actress, music, american, author, poet, writer\n",
            "dance: music, history, modern, china, traditional, country, article, contemporary, hungary, football\n",
            "\n",
            "\n"
          ]
        },
        {
          "output_type": "stream",
          "name": "stderr",
          "text": [
            "30500it [10:17, 50.77it/s]"
          ]
        },
        {
          "output_type": "stream",
          "name": "stdout",
          "text": [
            "| epoch   4 | 30500/32580 batches | loss    0.715 \n",
            "money: him, much, not, them, use, sense, fact, seen, way, nine\n",
            "lion: branwell, boys, melbourne, purpose, placed, refurbished, letter, flutes, politician, nativity\n",
            "africa: america, europe, germany, united, north, india, east, south, nine, england\n",
            "musician: singer, actor, born, english, actress, music, american, author, poet, writer\n",
            "dance: music, history, modern, china, traditional, country, article, contemporary, hungary, football\n",
            "\n",
            "\n"
          ]
        },
        {
          "output_type": "stream",
          "name": "stderr",
          "text": [
            "30999it [10:27, 50.57it/s]"
          ]
        },
        {
          "output_type": "stream",
          "name": "stdout",
          "text": [
            "| epoch   4 | 31000/32580 batches | loss    0.717 \n",
            "money: him, much, not, them, use, sense, fact, seen, way, nine\n",
            "lion: branwell, boys, melbourne, purpose, placed, refurbished, letter, flutes, politician, nativity\n",
            "africa: america, europe, germany, united, north, india, east, south, nine, england\n",
            "musician: singer, actor, born, english, actress, music, american, author, poet, writer\n",
            "dance: music, history, modern, china, traditional, country, article, contemporary, hungary, football\n",
            "\n",
            "\n"
          ]
        },
        {
          "output_type": "stream",
          "name": "stderr",
          "text": [
            "31497it [10:37, 50.62it/s]"
          ]
        },
        {
          "output_type": "stream",
          "name": "stdout",
          "text": [
            "| epoch   4 | 31500/32580 batches | loss    0.716 \n",
            "money: him, much, not, them, use, sense, fact, seen, way, nine\n",
            "lion: branwell, boys, melbourne, purpose, placed, refurbished, letter, flutes, politician, nativity\n",
            "africa: america, europe, germany, united, north, india, east, south, nine, england\n",
            "musician: singer, actor, born, english, actress, music, american, author, poet, writer\n",
            "dance: music, history, modern, china, traditional, country, article, contemporary, hungary, football\n",
            "\n",
            "\n"
          ]
        },
        {
          "output_type": "stream",
          "name": "stderr",
          "text": [
            "32000it [10:48, 50.96it/s]"
          ]
        },
        {
          "output_type": "stream",
          "name": "stdout",
          "text": [
            "| epoch   4 | 32000/32580 batches | loss    0.715 \n",
            "money: him, much, not, them, use, sense, fact, seen, way, nine\n",
            "lion: branwell, boys, melbourne, purpose, placed, refurbished, letter, flutes, politician, nativity\n",
            "africa: america, europe, germany, united, north, india, east, south, nine, england\n",
            "musician: singer, actor, born, english, actress, music, american, author, poet, writer\n",
            "dance: music, history, modern, china, traditional, country, article, contemporary, hungary, football\n",
            "\n",
            "\n"
          ]
        },
        {
          "output_type": "stream",
          "name": "stderr",
          "text": [
            "32496it [10:58, 51.57it/s]"
          ]
        },
        {
          "output_type": "stream",
          "name": "stdout",
          "text": [
            "| epoch   4 | 32500/32580 batches | loss    0.715 \n",
            "money: him, much, not, them, use, sense, fact, seen, way, nine\n",
            "lion: branwell, boys, melbourne, purpose, placed, refurbished, letter, flutes, politician, nativity\n",
            "africa: america, europe, germany, united, north, india, east, south, nine, england\n",
            "musician: singer, actor, born, english, actress, music, american, author, poet, writer\n",
            "dance: music, history, modern, china, traditional, country, article, contemporary, hungary, football\n",
            "\n",
            "\n"
          ]
        },
        {
          "output_type": "stream",
          "name": "stderr",
          "text": [
            "32580it [11:01, 49.23it/s]\n",
            "1it [00:01,  1.91s/it]"
          ]
        },
        {
          "output_type": "stream",
          "name": "stdout",
          "text": [
            "| epoch   5 |     0/32580 batches | loss    0.755 \n",
            "money: him, much, not, them, use, sense, fact, seen, way, nine\n",
            "lion: branwell, boys, melbourne, purpose, placed, refurbished, letter, flutes, politician, nativity\n",
            "africa: america, europe, germany, united, north, india, east, south, nine, england\n",
            "musician: singer, actor, born, english, actress, music, american, author, poet, writer\n",
            "dance: music, history, modern, china, traditional, country, article, contemporary, hungary, football\n",
            "\n",
            "\n"
          ]
        },
        {
          "output_type": "stream",
          "name": "stderr",
          "text": [
            "496it [00:11, 51.44it/s]"
          ]
        },
        {
          "output_type": "stream",
          "name": "stdout",
          "text": [
            "| epoch   5 |   500/32580 batches | loss    0.715 \n",
            "money: him, much, not, them, use, sense, fact, seen, way, nine\n",
            "lion: branwell, boys, melbourne, purpose, placed, refurbished, letter, flutes, politician, nativity\n",
            "africa: america, europe, germany, united, north, india, east, south, nine, england\n",
            "musician: singer, actor, born, english, actress, music, american, author, poet, writer\n",
            "dance: music, history, modern, china, traditional, country, article, contemporary, hungary, football\n",
            "\n",
            "\n"
          ]
        },
        {
          "output_type": "stream",
          "name": "stderr",
          "text": [
            "1001it [00:22, 34.84it/s]"
          ]
        },
        {
          "output_type": "stream",
          "name": "stdout",
          "text": [
            "| epoch   5 |  1000/32580 batches | loss    0.715 \n",
            "money: him, much, not, them, use, sense, fact, seen, way, nine\n",
            "lion: branwell, boys, melbourne, purpose, placed, refurbished, letter, flutes, politician, nativity\n",
            "africa: america, europe, germany, united, north, india, east, south, nine, england\n",
            "musician: singer, actor, born, english, actress, music, american, author, poet, writer\n",
            "dance: music, history, modern, china, traditional, country, article, contemporary, hungary, football\n",
            "\n",
            "\n"
          ]
        },
        {
          "output_type": "stream",
          "name": "stderr",
          "text": [
            "1497it [00:31, 51.21it/s]"
          ]
        },
        {
          "output_type": "stream",
          "name": "stdout",
          "text": [
            "| epoch   5 |  1500/32580 batches | loss    0.716 \n",
            "money: him, much, not, them, use, sense, fact, seen, way, nine\n",
            "lion: branwell, boys, melbourne, purpose, placed, refurbished, letter, flutes, politician, nativity\n",
            "africa: america, europe, germany, united, north, india, east, south, nine, england\n",
            "musician: singer, actor, born, english, actress, music, american, author, poet, writer\n",
            "dance: music, history, modern, china, traditional, country, article, contemporary, hungary, football\n",
            "\n",
            "\n"
          ]
        },
        {
          "output_type": "stream",
          "name": "stderr",
          "text": [
            "1997it [00:41, 51.60it/s]"
          ]
        },
        {
          "output_type": "stream",
          "name": "stdout",
          "text": [
            "| epoch   5 |  2000/32580 batches | loss    0.717 \n",
            "money: him, much, not, them, use, sense, fact, seen, way, nine\n",
            "lion: branwell, boys, melbourne, purpose, placed, refurbished, letter, flutes, politician, nativity\n",
            "africa: america, europe, germany, united, north, india, east, south, nine, england\n",
            "musician: singer, actor, born, english, actress, music, american, author, poet, writer\n",
            "dance: music, history, modern, china, traditional, country, article, contemporary, hungary, football\n",
            "\n",
            "\n"
          ]
        },
        {
          "output_type": "stream",
          "name": "stderr",
          "text": [
            "2499it [00:51, 51.11it/s]"
          ]
        },
        {
          "output_type": "stream",
          "name": "stdout",
          "text": [
            "| epoch   5 |  2500/32580 batches | loss    0.718 \n",
            "money: him, much, not, them, use, sense, fact, seen, way, nine\n",
            "lion: branwell, boys, melbourne, purpose, placed, refurbished, letter, flutes, politician, nativity\n",
            "africa: america, europe, germany, united, north, india, east, south, nine, england\n",
            "musician: singer, actor, born, english, actress, music, american, author, poet, writer\n",
            "dance: music, history, modern, china, traditional, country, article, contemporary, hungary, football\n",
            "\n",
            "\n"
          ]
        },
        {
          "output_type": "stream",
          "name": "stderr",
          "text": [
            "2998it [01:01, 50.34it/s]"
          ]
        },
        {
          "output_type": "stream",
          "name": "stdout",
          "text": [
            "| epoch   5 |  3000/32580 batches | loss    0.715 \n",
            "money: him, much, not, them, use, sense, fact, seen, way, nine\n",
            "lion: branwell, boys, melbourne, purpose, placed, refurbished, letter, flutes, politician, nativity\n",
            "africa: america, europe, germany, united, north, india, east, south, nine, england\n",
            "musician: singer, actor, born, english, actress, music, american, author, poet, writer\n",
            "dance: music, history, modern, china, traditional, country, article, contemporary, hungary, football\n",
            "\n",
            "\n"
          ]
        },
        {
          "output_type": "stream",
          "name": "stderr",
          "text": [
            "3501it [01:12, 34.60it/s]"
          ]
        },
        {
          "output_type": "stream",
          "name": "stdout",
          "text": [
            "| epoch   5 |  3500/32580 batches | loss    0.716 \n",
            "money: him, much, not, them, use, sense, fact, seen, way, nine\n",
            "lion: branwell, boys, melbourne, purpose, placed, refurbished, letter, flutes, politician, nativity\n",
            "africa: america, europe, germany, united, north, india, east, south, nine, england\n",
            "musician: singer, actor, born, english, actress, music, american, author, poet, writer\n",
            "dance: music, history, modern, china, traditional, country, article, contemporary, hungary, football\n",
            "\n",
            "\n"
          ]
        },
        {
          "output_type": "stream",
          "name": "stderr",
          "text": [
            "3996it [01:21, 51.35it/s]"
          ]
        },
        {
          "output_type": "stream",
          "name": "stdout",
          "text": [
            "| epoch   5 |  4000/32580 batches | loss    0.715 \n",
            "money: him, much, not, them, use, sense, fact, seen, way, nine\n",
            "lion: branwell, boys, melbourne, purpose, placed, refurbished, letter, flutes, politician, nativity\n",
            "africa: america, europe, germany, united, north, india, east, south, nine, england\n",
            "musician: singer, actor, born, english, actress, music, american, author, poet, writer\n",
            "dance: music, history, modern, china, traditional, country, article, contemporary, hungary, football\n",
            "\n",
            "\n"
          ]
        },
        {
          "output_type": "stream",
          "name": "stderr",
          "text": [
            "4501it [01:32, 34.13it/s]"
          ]
        },
        {
          "output_type": "stream",
          "name": "stdout",
          "text": [
            "| epoch   5 |  4500/32580 batches | loss    0.718 \n",
            "money: him, much, not, them, use, sense, fact, seen, way, nine\n",
            "lion: branwell, boys, melbourne, purpose, placed, refurbished, letter, flutes, politician, nativity\n",
            "africa: america, europe, germany, united, north, india, east, south, nine, england\n",
            "musician: singer, actor, born, english, actress, music, american, author, poet, writer\n",
            "dance: music, history, modern, china, traditional, country, article, contemporary, hungary, football\n",
            "\n",
            "\n"
          ]
        },
        {
          "output_type": "stream",
          "name": "stderr",
          "text": [
            "4997it [01:42, 50.33it/s]"
          ]
        },
        {
          "output_type": "stream",
          "name": "stdout",
          "text": [
            "| epoch   5 |  5000/32580 batches | loss    0.716 \n",
            "money: him, much, not, them, use, sense, fact, seen, way, nine\n",
            "lion: branwell, boys, melbourne, purpose, placed, refurbished, letter, flutes, politician, nativity\n",
            "africa: america, europe, germany, united, north, india, east, south, nine, england\n",
            "musician: singer, actor, born, english, actress, music, american, author, poet, writer\n",
            "dance: music, history, modern, china, traditional, country, article, contemporary, hungary, football\n",
            "\n",
            "\n"
          ]
        },
        {
          "output_type": "stream",
          "name": "stderr",
          "text": [
            "5499it [01:52, 51.12it/s]"
          ]
        },
        {
          "output_type": "stream",
          "name": "stdout",
          "text": [
            "| epoch   5 |  5500/32580 batches | loss    0.718 \n",
            "money: him, much, not, them, use, sense, fact, seen, way, nine\n",
            "lion: branwell, boys, melbourne, purpose, placed, refurbished, letter, flutes, politician, nativity\n",
            "africa: america, europe, germany, united, north, india, east, south, nine, england\n",
            "musician: singer, actor, born, english, actress, music, american, author, poet, writer\n",
            "dance: music, history, modern, china, traditional, country, article, contemporary, hungary, football\n",
            "\n",
            "\n"
          ]
        },
        {
          "output_type": "stream",
          "name": "stderr",
          "text": [
            "5999it [02:02, 50.06it/s]"
          ]
        },
        {
          "output_type": "stream",
          "name": "stdout",
          "text": [
            "| epoch   5 |  6000/32580 batches | loss    0.714 \n"
          ]
        },
        {
          "output_type": "stream",
          "name": "stderr",
          "text": [
            "\r6005it [02:02, 31.00it/s]"
          ]
        },
        {
          "output_type": "stream",
          "name": "stdout",
          "text": [
            "money: him, much, not, them, use, sense, fact, seen, way, nine\n",
            "lion: branwell, boys, melbourne, purpose, placed, refurbished, letter, flutes, politician, nativity\n",
            "africa: america, europe, germany, united, north, india, east, south, nine, england\n",
            "musician: singer, actor, born, english, actress, music, american, author, poet, writer\n",
            "dance: music, history, modern, china, traditional, country, article, contemporary, hungary, football\n",
            "\n",
            "\n"
          ]
        },
        {
          "output_type": "stream",
          "name": "stderr",
          "text": [
            "6497it [02:12, 50.71it/s]"
          ]
        },
        {
          "output_type": "stream",
          "name": "stdout",
          "text": [
            "| epoch   5 |  6500/32580 batches | loss    0.715 \n",
            "money: him, much, not, them, use, sense, fact, seen, way, nine\n",
            "lion: branwell, boys, melbourne, purpose, placed, refurbished, letter, flutes, politician, nativity\n",
            "africa: america, europe, germany, united, north, india, east, south, nine, england\n",
            "musician: singer, actor, born, english, actress, music, american, author, poet, writer\n",
            "dance: music, history, modern, china, traditional, country, article, contemporary, hungary, football\n",
            "\n",
            "\n"
          ]
        },
        {
          "output_type": "stream",
          "name": "stderr",
          "text": [
            "6998it [02:22, 51.16it/s]"
          ]
        },
        {
          "output_type": "stream",
          "name": "stdout",
          "text": [
            "| epoch   5 |  7000/32580 batches | loss    0.715 \n",
            "money: him, much, not, them, use, sense, fact, seen, way, nine\n",
            "lion: branwell, boys, melbourne, purpose, placed, refurbished, letter, flutes, politician, nativity\n",
            "africa: america, europe, germany, united, north, india, east, south, nine, england\n",
            "musician: singer, actor, born, english, actress, music, american, author, poet, writer\n",
            "dance: music, history, modern, china, traditional, country, article, contemporary, hungary, football\n",
            "\n",
            "\n"
          ]
        },
        {
          "output_type": "stream",
          "name": "stderr",
          "text": [
            "7498it [02:32, 51.08it/s]"
          ]
        },
        {
          "output_type": "stream",
          "name": "stdout",
          "text": [
            "| epoch   5 |  7500/32580 batches | loss    0.716 \n",
            "money: him, much, not, them, use, sense, fact, seen, way, nine\n",
            "lion: branwell, boys, melbourne, purpose, placed, refurbished, letter, flutes, politician, nativity\n",
            "africa: america, europe, germany, united, north, india, east, south, nine, england\n",
            "musician: singer, actor, born, english, actress, music, american, author, poet, writer\n",
            "dance: music, history, modern, china, traditional, country, article, contemporary, hungary, football\n",
            "\n",
            "\n"
          ]
        },
        {
          "output_type": "stream",
          "name": "stderr",
          "text": [
            "7998it [02:42, 50.40it/s]"
          ]
        },
        {
          "output_type": "stream",
          "name": "stdout",
          "text": [
            "| epoch   5 |  8000/32580 batches | loss    0.715 \n",
            "money: him, much, not, them, use, sense, fact, seen, way, nine\n",
            "lion: branwell, boys, melbourne, purpose, placed, refurbished, letter, flutes, politician, nativity\n",
            "africa: america, europe, germany, united, north, india, east, south, nine, england\n",
            "musician: singer, actor, born, english, actress, music, american, author, poet, writer\n",
            "dance: music, history, modern, china, traditional, country, article, contemporary, hungary, football\n",
            "\n",
            "\n"
          ]
        },
        {
          "output_type": "stream",
          "name": "stderr",
          "text": [
            "8501it [02:52, 34.19it/s]"
          ]
        },
        {
          "output_type": "stream",
          "name": "stdout",
          "text": [
            "| epoch   5 |  8500/32580 batches | loss    0.717 \n",
            "money: him, much, not, them, use, sense, fact, seen, way, nine\n",
            "lion: branwell, boys, melbourne, purpose, placed, refurbished, letter, flutes, politician, nativity\n",
            "africa: america, europe, germany, united, north, india, east, south, nine, england\n",
            "musician: singer, actor, born, english, actress, music, american, author, poet, writer\n",
            "dance: music, history, modern, china, traditional, country, article, contemporary, hungary, football\n",
            "\n",
            "\n"
          ]
        },
        {
          "output_type": "stream",
          "name": "stderr",
          "text": [
            "8999it [03:02, 48.41it/s]"
          ]
        },
        {
          "output_type": "stream",
          "name": "stdout",
          "text": [
            "| epoch   5 |  9000/32580 batches | loss    0.716 \n",
            "money: him, much, not, them, use, sense, fact, seen, way, nine\n",
            "lion: branwell, boys, melbourne, purpose, placed, refurbished, letter, flutes, politician, nativity\n",
            "africa: america, europe, germany, united, north, india, east, south, nine, england\n",
            "musician: singer, actor, born, english, actress, music, american, author, poet, writer\n",
            "dance: music, history, modern, china, traditional, country, article, contemporary, hungary, football\n",
            "\n",
            "\n"
          ]
        },
        {
          "output_type": "stream",
          "name": "stderr",
          "text": [
            "9500it [03:12, 50.11it/s]"
          ]
        },
        {
          "output_type": "stream",
          "name": "stdout",
          "text": [
            "| epoch   5 |  9500/32580 batches | loss    0.718 \n",
            "money: him, much, not, them, use, sense, fact, seen, way, nine\n",
            "lion: branwell, boys, melbourne, purpose, placed, refurbished, letter, flutes, politician, nativity\n",
            "africa: america, europe, germany, united, north, india, east, south, nine, england\n",
            "musician: singer, actor, born, english, actress, music, american, author, poet, writer\n",
            "dance: music, history, modern, china, traditional, country, article, contemporary, hungary, football\n",
            "\n",
            "\n"
          ]
        },
        {
          "output_type": "stream",
          "name": "stderr",
          "text": [
            "9999it [03:23, 51.12it/s]"
          ]
        },
        {
          "output_type": "stream",
          "name": "stdout",
          "text": [
            "| epoch   5 | 10000/32580 batches | loss    0.716 \n",
            "money: him, much, not, them, use, sense, fact, seen, way, nine\n",
            "lion: branwell, boys, melbourne, purpose, placed, refurbished, letter, flutes, politician, nativity\n",
            "africa: america, europe, germany, united, north, india, east, south, nine, england\n",
            "musician: singer, actor, born, english, actress, music, american, author, poet, writer\n",
            "dance: music, history, modern, china, traditional, country, article, contemporary, hungary, football\n",
            "\n",
            "\n"
          ]
        },
        {
          "output_type": "stream",
          "name": "stderr",
          "text": [
            "10501it [03:33, 33.88it/s]"
          ]
        },
        {
          "output_type": "stream",
          "name": "stdout",
          "text": [
            "| epoch   5 | 10500/32580 batches | loss    0.717 \n",
            "money: him, much, not, them, use, sense, fact, seen, way, nine\n",
            "lion: branwell, boys, melbourne, purpose, placed, refurbished, letter, flutes, politician, nativity\n",
            "africa: america, europe, germany, united, north, india, east, south, nine, england\n",
            "musician: singer, actor, born, english, actress, music, american, author, poet, writer\n",
            "dance: music, history, modern, china, traditional, country, article, contemporary, hungary, football\n",
            "\n",
            "\n"
          ]
        },
        {
          "output_type": "stream",
          "name": "stderr",
          "text": [
            "10996it [03:43, 50.46it/s]"
          ]
        },
        {
          "output_type": "stream",
          "name": "stdout",
          "text": [
            "| epoch   5 | 11000/32580 batches | loss    0.717 \n",
            "money: him, much, not, them, use, sense, fact, seen, way, nine\n",
            "lion: branwell, boys, melbourne, purpose, placed, refurbished, letter, flutes, politician, nativity\n",
            "africa: america, europe, germany, united, north, india, east, south, nine, england\n",
            "musician: singer, actor, born, english, actress, music, american, author, poet, writer\n",
            "dance: music, history, modern, china, traditional, country, article, contemporary, hungary, football\n",
            "\n",
            "\n"
          ]
        },
        {
          "output_type": "stream",
          "name": "stderr",
          "text": [
            "11499it [03:53, 50.22it/s]"
          ]
        },
        {
          "output_type": "stream",
          "name": "stdout",
          "text": [
            "| epoch   5 | 11500/32580 batches | loss    0.719 \n",
            "money: him, much, not, them, use, sense, fact, seen, way, nine\n",
            "lion: branwell, boys, melbourne, purpose, placed, refurbished, letter, flutes, politician, nativity\n",
            "africa: america, europe, germany, united, north, india, east, south, nine, england\n",
            "musician: singer, actor, born, english, actress, music, american, author, poet, writer\n",
            "dance: music, history, modern, china, traditional, country, article, contemporary, hungary, football\n",
            "\n",
            "\n"
          ]
        },
        {
          "output_type": "stream",
          "name": "stderr",
          "text": [
            "11996it [04:03, 50.47it/s]"
          ]
        },
        {
          "output_type": "stream",
          "name": "stdout",
          "text": [
            "| epoch   5 | 12000/32580 batches | loss    0.716 \n",
            "money: him, much, not, them, use, sense, fact, seen, way, nine\n",
            "lion: branwell, boys, melbourne, purpose, placed, refurbished, letter, flutes, politician, nativity\n",
            "africa: america, europe, germany, united, north, india, east, south, nine, england\n",
            "musician: singer, actor, born, english, actress, music, american, author, poet, writer\n",
            "dance: music, history, modern, china, traditional, country, article, contemporary, hungary, football\n",
            "\n",
            "\n"
          ]
        },
        {
          "output_type": "stream",
          "name": "stderr",
          "text": [
            "12497it [04:13, 49.75it/s]"
          ]
        },
        {
          "output_type": "stream",
          "name": "stdout",
          "text": [
            "| epoch   5 | 12500/32580 batches | loss    0.715 \n",
            "money: him, much, not, them, use, sense, fact, seen, way, nine\n",
            "lion: branwell, boys, melbourne, purpose, placed, refurbished, letter, flutes, politician, nativity\n",
            "africa: america, europe, germany, united, north, india, east, south, nine, england\n",
            "musician: singer, actor, born, english, actress, music, american, author, poet, writer\n",
            "dance: music, history, modern, china, traditional, country, article, contemporary, hungary, football\n",
            "\n",
            "\n"
          ]
        },
        {
          "output_type": "stream",
          "name": "stderr",
          "text": [
            "12998it [04:24, 50.48it/s]"
          ]
        },
        {
          "output_type": "stream",
          "name": "stdout",
          "text": [
            "| epoch   5 | 13000/32580 batches | loss    0.715 \n",
            "money: him, much, not, them, use, sense, fact, seen, way, nine\n",
            "lion: branwell, boys, melbourne, purpose, placed, refurbished, letter, flutes, politician, nativity\n",
            "africa: america, europe, germany, united, north, india, east, south, nine, england\n",
            "musician: singer, actor, born, english, actress, music, american, author, poet, writer\n",
            "dance: music, history, modern, china, traditional, country, article, contemporary, hungary, football\n",
            "\n",
            "\n"
          ]
        },
        {
          "output_type": "stream",
          "name": "stderr",
          "text": [
            "13498it [04:34, 50.68it/s]"
          ]
        },
        {
          "output_type": "stream",
          "name": "stdout",
          "text": [
            "| epoch   5 | 13500/32580 batches | loss    0.716 \n",
            "money: him, much, not, them, use, sense, fact, seen, way, nine\n",
            "lion: branwell, boys, melbourne, purpose, placed, refurbished, letter, flutes, politician, nativity\n",
            "africa: america, europe, germany, united, north, india, east, south, nine, england\n",
            "musician: singer, actor, born, english, actress, music, american, author, poet, writer\n",
            "dance: music, history, modern, china, traditional, country, article, contemporary, hungary, football\n",
            "\n",
            "\n"
          ]
        },
        {
          "output_type": "stream",
          "name": "stderr",
          "text": [
            "13996it [04:44, 50.38it/s]"
          ]
        },
        {
          "output_type": "stream",
          "name": "stdout",
          "text": [
            "| epoch   5 | 14000/32580 batches | loss    0.718 \n",
            "money: him, much, not, them, use, sense, fact, seen, way, nine\n",
            "lion: branwell, boys, melbourne, purpose, placed, refurbished, letter, flutes, politician, nativity\n",
            "africa: america, europe, germany, united, north, india, east, south, nine, england\n",
            "musician: singer, actor, born, english, actress, music, american, author, poet, writer\n",
            "dance: music, history, modern, china, traditional, country, article, contemporary, hungary, football\n",
            "\n",
            "\n"
          ]
        },
        {
          "output_type": "stream",
          "name": "stderr",
          "text": [
            "14496it [04:54, 50.31it/s]"
          ]
        },
        {
          "output_type": "stream",
          "name": "stdout",
          "text": [
            "| epoch   5 | 14500/32580 batches | loss    0.719 \n",
            "money: him, much, not, them, use, sense, fact, seen, way, nine\n",
            "lion: branwell, boys, melbourne, purpose, placed, refurbished, letter, flutes, politician, nativity\n",
            "africa: america, europe, germany, united, north, india, east, south, nine, england\n",
            "musician: singer, actor, born, english, actress, music, american, author, poet, writer\n",
            "dance: music, history, modern, china, traditional, country, article, contemporary, hungary, football\n",
            "\n",
            "\n"
          ]
        },
        {
          "output_type": "stream",
          "name": "stderr",
          "text": [
            "15000it [05:05, 46.77it/s]"
          ]
        },
        {
          "output_type": "stream",
          "name": "stdout",
          "text": [
            "| epoch   5 | 15000/32580 batches | loss    0.715 \n"
          ]
        },
        {
          "output_type": "stream",
          "name": "stderr",
          "text": [
            "\r15005it [05:05, 28.65it/s]"
          ]
        },
        {
          "output_type": "stream",
          "name": "stdout",
          "text": [
            "money: him, much, not, them, use, sense, fact, seen, way, nine\n",
            "lion: branwell, boys, melbourne, purpose, placed, refurbished, letter, flutes, politician, nativity\n",
            "africa: america, europe, germany, united, north, india, east, south, nine, england\n",
            "musician: singer, actor, born, english, actress, music, american, author, poet, writer\n",
            "dance: music, history, modern, china, traditional, country, article, contemporary, hungary, football\n",
            "\n",
            "\n"
          ]
        },
        {
          "output_type": "stream",
          "name": "stderr",
          "text": [
            "15500it [05:15, 48.71it/s]"
          ]
        },
        {
          "output_type": "stream",
          "name": "stdout",
          "text": [
            "| epoch   5 | 15500/32580 batches | loss    0.716 \n",
            "money: him, much, not, them, use, sense, fact, seen, way, nine\n",
            "lion: branwell, boys, melbourne, purpose, placed, refurbished, letter, flutes, politician, nativity\n",
            "africa: america, europe, germany, united, north, india, east, south, nine, england\n",
            "musician: singer, actor, born, english, actress, music, american, author, poet, writer\n",
            "dance: music, history, modern, china, traditional, country, article, contemporary, hungary, football\n",
            "\n",
            "\n"
          ]
        },
        {
          "output_type": "stream",
          "name": "stderr",
          "text": [
            "16001it [05:26, 33.13it/s]"
          ]
        },
        {
          "output_type": "stream",
          "name": "stdout",
          "text": [
            "| epoch   5 | 16000/32580 batches | loss    0.716 \n",
            "money: him, much, not, them, use, sense, fact, seen, way, nine\n",
            "lion: branwell, boys, melbourne, purpose, placed, refurbished, letter, flutes, politician, nativity\n",
            "africa: america, europe, germany, united, north, india, east, south, nine, england\n",
            "musician: singer, actor, born, english, actress, music, american, author, poet, writer\n",
            "dance: music, history, modern, china, traditional, country, article, contemporary, hungary, football\n",
            "\n",
            "\n"
          ]
        },
        {
          "output_type": "stream",
          "name": "stderr",
          "text": [
            "16497it [05:36, 49.46it/s]"
          ]
        },
        {
          "output_type": "stream",
          "name": "stdout",
          "text": [
            "| epoch   5 | 16500/32580 batches | loss    0.716 \n",
            "money: him, much, not, them, use, sense, fact, seen, way, nine\n",
            "lion: branwell, boys, melbourne, purpose, placed, refurbished, letter, flutes, politician, nativity\n",
            "africa: america, europe, germany, united, north, india, east, south, nine, england\n",
            "musician: singer, actor, born, english, actress, music, american, author, poet, writer\n",
            "dance: music, history, modern, china, traditional, country, article, contemporary, hungary, football\n",
            "\n",
            "\n"
          ]
        },
        {
          "output_type": "stream",
          "name": "stderr",
          "text": [
            "17001it [05:46, 34.29it/s]"
          ]
        },
        {
          "output_type": "stream",
          "name": "stdout",
          "text": [
            "| epoch   5 | 17000/32580 batches | loss    0.714 \n",
            "money: him, much, not, them, use, sense, fact, seen, way, nine\n",
            "lion: branwell, boys, melbourne, purpose, placed, refurbished, letter, flutes, politician, nativity\n",
            "africa: america, europe, germany, united, north, india, east, south, nine, england\n",
            "musician: singer, actor, born, english, actress, music, american, author, poet, writer\n",
            "dance: music, history, modern, china, traditional, country, article, contemporary, hungary, football\n",
            "\n",
            "\n"
          ]
        },
        {
          "output_type": "stream",
          "name": "stderr",
          "text": [
            "17501it [05:56, 33.92it/s]"
          ]
        },
        {
          "output_type": "stream",
          "name": "stdout",
          "text": [
            "| epoch   5 | 17500/32580 batches | loss    0.718 \n",
            "money: him, much, not, them, use, sense, fact, seen, way, nine\n",
            "lion: branwell, boys, melbourne, purpose, placed, refurbished, letter, flutes, politician, nativity\n",
            "africa: america, europe, germany, united, north, india, east, south, nine, england\n",
            "musician: singer, actor, born, english, actress, music, american, author, poet, writer\n",
            "dance: music, history, modern, china, traditional, country, article, contemporary, hungary, football\n",
            "\n",
            "\n"
          ]
        },
        {
          "output_type": "stream",
          "name": "stderr",
          "text": [
            "17999it [06:06, 50.79it/s]"
          ]
        },
        {
          "output_type": "stream",
          "name": "stdout",
          "text": [
            "| epoch   5 | 18000/32580 batches | loss    0.716 \n",
            "money: him, much, not, them, use, sense, fact, seen, way, nine\n",
            "lion: branwell, boys, melbourne, purpose, placed, refurbished, letter, flutes, politician, nativity\n",
            "africa: america, europe, germany, united, north, india, east, south, nine, england\n",
            "musician: singer, actor, born, english, actress, music, american, author, poet, writer\n",
            "dance: music, history, modern, china, traditional, country, article, contemporary, hungary, football\n",
            "\n",
            "\n"
          ]
        },
        {
          "output_type": "stream",
          "name": "stderr",
          "text": [
            "18500it [06:16, 50.64it/s]"
          ]
        },
        {
          "output_type": "stream",
          "name": "stdout",
          "text": [
            "| epoch   5 | 18500/32580 batches | loss    0.717 \n",
            "money: him, much, not, them, use, sense, fact, seen, way, nine\n",
            "lion: branwell, boys, melbourne, purpose, placed, refurbished, letter, flutes, politician, nativity\n",
            "africa: america, europe, germany, united, north, india, east, south, nine, england\n",
            "musician: singer, actor, born, english, actress, music, american, author, poet, writer\n",
            "dance: music, history, modern, china, traditional, country, article, contemporary, hungary, football\n",
            "\n",
            "\n"
          ]
        },
        {
          "output_type": "stream",
          "name": "stderr",
          "text": [
            "18998it [06:26, 48.98it/s]"
          ]
        },
        {
          "output_type": "stream",
          "name": "stdout",
          "text": [
            "| epoch   5 | 19000/32580 batches | loss    0.716 \n",
            "money: him, much, not, them, use, sense, fact, seen, way, nine\n",
            "lion: branwell, boys, melbourne, purpose, placed, refurbished, letter, flutes, politician, nativity\n",
            "africa: america, europe, germany, united, north, india, east, south, nine, england\n",
            "musician: singer, actor, born, english, actress, music, american, author, poet, writer\n",
            "dance: music, history, modern, china, traditional, country, article, contemporary, hungary, football\n",
            "\n",
            "\n"
          ]
        },
        {
          "output_type": "stream",
          "name": "stderr",
          "text": [
            "19498it [06:36, 50.25it/s]"
          ]
        },
        {
          "output_type": "stream",
          "name": "stdout",
          "text": [
            "| epoch   5 | 19500/32580 batches | loss    0.717 \n",
            "money: him, much, not, them, use, sense, fact, seen, way, nine\n",
            "lion: branwell, boys, melbourne, purpose, placed, refurbished, letter, flutes, politician, nativity\n",
            "africa: america, europe, germany, united, north, india, east, south, nine, england\n",
            "musician: singer, actor, born, english, actress, music, american, author, poet, writer\n",
            "dance: music, history, modern, china, traditional, country, article, contemporary, hungary, football\n",
            "\n",
            "\n"
          ]
        },
        {
          "output_type": "stream",
          "name": "stderr",
          "text": [
            "19999it [06:47, 50.70it/s]"
          ]
        },
        {
          "output_type": "stream",
          "name": "stdout",
          "text": [
            "| epoch   5 | 20000/32580 batches | loss    0.716 \n",
            "money: him, much, not, them, use, sense, fact, seen, way, nine\n",
            "lion: branwell, boys, melbourne, purpose, placed, refurbished, letter, flutes, politician, nativity\n",
            "africa: america, europe, germany, united, north, india, east, south, nine, england\n",
            "musician: singer, actor, born, english, actress, music, american, author, poet, writer\n",
            "dance: music, history, modern, china, traditional, country, article, contemporary, hungary, football\n",
            "\n",
            "\n"
          ]
        },
        {
          "output_type": "stream",
          "name": "stderr",
          "text": [
            "20499it [07:00, 51.13it/s]"
          ]
        },
        {
          "output_type": "stream",
          "name": "stdout",
          "text": [
            "| epoch   5 | 20500/32580 batches | loss    0.716 \n",
            "money: him, much, not, them, use, sense, fact, seen, way, nine\n",
            "lion: branwell, boys, melbourne, purpose, placed, refurbished, letter, flutes, politician, nativity\n",
            "africa: america, europe, germany, united, north, india, east, south, nine, england\n",
            "musician: singer, actor, born, english, actress, music, american, author, poet, writer\n",
            "dance: music, history, modern, china, traditional, country, article, contemporary, hungary, football\n",
            "\n",
            "\n"
          ]
        },
        {
          "output_type": "stream",
          "name": "stderr",
          "text": [
            "21000it [07:10, 50.59it/s]"
          ]
        },
        {
          "output_type": "stream",
          "name": "stdout",
          "text": [
            "| epoch   5 | 21000/32580 batches | loss    0.716 \n",
            "money: him, much, not, them, use, sense, fact, seen, way, nine\n",
            "lion: branwell, boys, melbourne, purpose, placed, refurbished, letter, flutes, politician, nativity\n",
            "africa: america, europe, germany, united, north, india, east, south, nine, england\n",
            "musician: singer, actor, born, english, actress, music, american, author, poet, writer\n",
            "dance: music, history, modern, china, traditional, country, article, contemporary, hungary, football\n",
            "\n",
            "\n"
          ]
        },
        {
          "output_type": "stream",
          "name": "stderr",
          "text": [
            "21496it [07:20, 50.99it/s]"
          ]
        },
        {
          "output_type": "stream",
          "name": "stdout",
          "text": [
            "| epoch   5 | 21500/32580 batches | loss    0.718 \n",
            "money: him, much, not, them, use, sense, fact, seen, way, nine\n",
            "lion: branwell, boys, melbourne, purpose, placed, refurbished, letter, flutes, politician, nativity\n",
            "africa: america, europe, germany, united, north, india, east, south, nine, england\n",
            "musician: singer, actor, born, english, actress, music, american, author, poet, writer\n",
            "dance: music, history, modern, china, traditional, country, article, contemporary, hungary, football\n",
            "\n",
            "\n"
          ]
        },
        {
          "output_type": "stream",
          "name": "stderr",
          "text": [
            "21997it [07:30, 51.06it/s]"
          ]
        },
        {
          "output_type": "stream",
          "name": "stdout",
          "text": [
            "| epoch   5 | 22000/32580 batches | loss    0.718 \n",
            "money: him, much, not, them, use, sense, fact, seen, way, nine\n",
            "lion: branwell, boys, melbourne, purpose, placed, refurbished, letter, flutes, politician, nativity\n",
            "africa: america, europe, germany, united, north, india, east, south, nine, england\n",
            "musician: singer, actor, born, english, actress, music, american, author, poet, writer\n",
            "dance: music, history, modern, china, traditional, country, article, contemporary, hungary, football\n",
            "\n",
            "\n"
          ]
        },
        {
          "output_type": "stream",
          "name": "stderr",
          "text": [
            "22499it [07:40, 50.10it/s]"
          ]
        },
        {
          "output_type": "stream",
          "name": "stdout",
          "text": [
            "| epoch   5 | 22500/32580 batches | loss    0.718 \n",
            "money: him, much, not, them, use, sense, fact, seen, way, nine\n",
            "lion: branwell, boys, melbourne, purpose, placed, refurbished, letter, flutes, politician, nativity\n",
            "africa: america, europe, germany, united, north, india, east, south, nine, england\n",
            "musician: singer, actor, born, english, actress, music, american, author, poet, writer\n",
            "dance: music, history, modern, china, traditional, country, article, contemporary, hungary, football\n",
            "\n",
            "\n"
          ]
        },
        {
          "output_type": "stream",
          "name": "stderr",
          "text": [
            "22997it [07:50, 48.25it/s]"
          ]
        },
        {
          "output_type": "stream",
          "name": "stdout",
          "text": [
            "| epoch   5 | 23000/32580 batches | loss    0.716 \n"
          ]
        },
        {
          "output_type": "stream",
          "name": "stderr",
          "text": [
            "23007it [07:51, 32.51it/s]"
          ]
        },
        {
          "output_type": "stream",
          "name": "stdout",
          "text": [
            "money: him, much, not, them, use, sense, fact, seen, way, nine\n",
            "lion: branwell, boys, melbourne, purpose, placed, refurbished, letter, flutes, politician, nativity\n",
            "africa: america, europe, germany, united, north, india, east, south, nine, england\n",
            "musician: singer, actor, born, english, actress, music, american, author, poet, writer\n",
            "dance: music, history, modern, china, traditional, country, article, contemporary, hungary, football\n",
            "\n",
            "\n"
          ]
        },
        {
          "output_type": "stream",
          "name": "stderr",
          "text": [
            "23500it [08:01, 50.46it/s]"
          ]
        },
        {
          "output_type": "stream",
          "name": "stdout",
          "text": [
            "| epoch   5 | 23500/32580 batches | loss    0.717 \n",
            "money: him, much, not, them, use, sense, fact, seen, way, nine\n",
            "lion: branwell, boys, melbourne, purpose, placed, refurbished, letter, flutes, politician, nativity\n",
            "africa: america, europe, germany, united, north, india, east, south, nine, england\n",
            "musician: singer, actor, born, english, actress, music, american, author, poet, writer\n",
            "dance: music, history, modern, china, traditional, country, article, contemporary, hungary, football\n",
            "\n",
            "\n"
          ]
        },
        {
          "output_type": "stream",
          "name": "stderr",
          "text": [
            "23997it [08:11, 50.71it/s]"
          ]
        },
        {
          "output_type": "stream",
          "name": "stdout",
          "text": [
            "| epoch   5 | 24000/32580 batches | loss    0.715 \n",
            "money: him, much, not, them, use, sense, fact, seen, way, nine\n",
            "lion: branwell, boys, melbourne, purpose, placed, refurbished, letter, flutes, politician, nativity\n",
            "africa: america, europe, germany, united, north, india, east, south, nine, england\n",
            "musician: singer, actor, born, english, actress, music, american, author, poet, writer\n",
            "dance: music, history, modern, china, traditional, country, article, contemporary, hungary, football\n",
            "\n",
            "\n"
          ]
        },
        {
          "output_type": "stream",
          "name": "stderr",
          "text": [
            "24499it [08:21, 50.15it/s]"
          ]
        },
        {
          "output_type": "stream",
          "name": "stdout",
          "text": [
            "| epoch   5 | 24500/32580 batches | loss    0.716 \n",
            "money: him, much, not, them, use, sense, fact, seen, way, nine\n",
            "lion: branwell, boys, melbourne, purpose, placed, refurbished, letter, flutes, politician, nativity\n",
            "africa: america, europe, germany, united, north, india, east, south, nine, england\n",
            "musician: singer, actor, born, english, actress, music, american, author, poet, writer\n",
            "dance: music, history, modern, china, traditional, country, article, contemporary, hungary, football\n",
            "\n",
            "\n"
          ]
        },
        {
          "output_type": "stream",
          "name": "stderr",
          "text": [
            "24998it [08:31, 50.36it/s]"
          ]
        },
        {
          "output_type": "stream",
          "name": "stdout",
          "text": [
            "| epoch   5 | 25000/32580 batches | loss    0.713 \n",
            "money: him, much, not, them, use, sense, fact, seen, way, nine\n",
            "lion: branwell, boys, melbourne, purpose, placed, refurbished, letter, flutes, politician, nativity\n",
            "africa: america, europe, germany, united, north, india, east, south, nine, england\n",
            "musician: singer, actor, born, english, actress, music, american, author, poet, writer\n",
            "dance: music, history, modern, china, traditional, country, article, contemporary, hungary, football\n",
            "\n",
            "\n"
          ]
        },
        {
          "output_type": "stream",
          "name": "stderr",
          "text": [
            "25500it [08:42, 49.11it/s]"
          ]
        },
        {
          "output_type": "stream",
          "name": "stdout",
          "text": [
            "| epoch   5 | 25500/32580 batches | loss    0.716 \n",
            "money: him, much, not, them, use, sense, fact, seen, way, nine\n",
            "lion: branwell, boys, melbourne, purpose, placed, refurbished, letter, flutes, politician, nativity\n",
            "africa: america, europe, germany, united, north, india, east, south, nine, england\n",
            "musician: singer, actor, born, english, actress, music, american, author, poet, writer\n",
            "dance: music, history, modern, china, traditional, country, article, contemporary, hungary, football\n",
            "\n",
            "\n"
          ]
        },
        {
          "output_type": "stream",
          "name": "stderr",
          "text": [
            "26001it [08:52, 32.20it/s]"
          ]
        },
        {
          "output_type": "stream",
          "name": "stdout",
          "text": [
            "| epoch   5 | 26000/32580 batches | loss    0.717 \n",
            "money: him, much, not, them, use, sense, fact, seen, way, nine\n",
            "lion: branwell, boys, melbourne, purpose, placed, refurbished, letter, flutes, politician, nativity\n",
            "africa: america, europe, germany, united, north, india, east, south, nine, england\n",
            "musician: singer, actor, born, english, actress, music, american, author, poet, writer\n",
            "dance: music, history, modern, china, traditional, country, article, contemporary, hungary, football\n",
            "\n",
            "\n"
          ]
        },
        {
          "output_type": "stream",
          "name": "stderr",
          "text": [
            "26499it [09:02, 48.71it/s]"
          ]
        },
        {
          "output_type": "stream",
          "name": "stdout",
          "text": [
            "| epoch   5 | 26500/32580 batches | loss    0.715 \n"
          ]
        },
        {
          "output_type": "stream",
          "name": "stderr",
          "text": [
            "26509it [09:03, 32.10it/s]"
          ]
        },
        {
          "output_type": "stream",
          "name": "stdout",
          "text": [
            "money: him, much, not, them, use, sense, fact, seen, way, nine\n",
            "lion: branwell, boys, melbourne, purpose, placed, refurbished, letter, flutes, politician, nativity\n",
            "africa: america, europe, germany, united, north, india, east, south, nine, england\n",
            "musician: singer, actor, born, english, actress, music, american, author, poet, writer\n",
            "dance: music, history, modern, china, traditional, country, article, contemporary, hungary, football\n",
            "\n",
            "\n"
          ]
        },
        {
          "output_type": "stream",
          "name": "stderr",
          "text": [
            "27000it [09:13, 49.37it/s]"
          ]
        },
        {
          "output_type": "stream",
          "name": "stdout",
          "text": [
            "| epoch   5 | 27000/32580 batches | loss    0.719 \n",
            "money: him, much, not, them, use, sense, fact, seen, way, nine\n",
            "lion: branwell, boys, melbourne, purpose, placed, refurbished, letter, flutes, politician, nativity\n",
            "africa: america, europe, germany, united, north, india, east, south, nine, england\n",
            "musician: singer, actor, born, english, actress, music, american, author, poet, writer\n",
            "dance: music, history, modern, china, traditional, country, article, contemporary, hungary, football\n",
            "\n",
            "\n"
          ]
        },
        {
          "output_type": "stream",
          "name": "stderr",
          "text": [
            "27499it [09:23, 50.49it/s]"
          ]
        },
        {
          "output_type": "stream",
          "name": "stdout",
          "text": [
            "| epoch   5 | 27500/32580 batches | loss    0.717 \n",
            "money: him, much, not, them, use, sense, fact, seen, way, nine\n",
            "lion: branwell, boys, melbourne, purpose, placed, refurbished, letter, flutes, politician, nativity\n",
            "africa: america, europe, germany, united, north, india, east, south, nine, england\n",
            "musician: singer, actor, born, english, actress, music, american, author, poet, writer\n",
            "dance: music, history, modern, china, traditional, country, article, contemporary, hungary, football\n",
            "\n",
            "\n"
          ]
        },
        {
          "output_type": "stream",
          "name": "stderr",
          "text": [
            "27997it [09:33, 50.47it/s]"
          ]
        },
        {
          "output_type": "stream",
          "name": "stdout",
          "text": [
            "| epoch   5 | 28000/32580 batches | loss    0.718 \n",
            "money: him, much, not, them, use, sense, fact, seen, way, nine\n",
            "lion: branwell, boys, melbourne, purpose, placed, refurbished, letter, flutes, politician, nativity\n",
            "africa: america, europe, germany, united, north, india, east, south, nine, england\n",
            "musician: singer, actor, born, english, actress, music, american, author, poet, writer\n",
            "dance: music, history, modern, china, traditional, country, article, contemporary, hungary, football\n",
            "\n",
            "\n"
          ]
        },
        {
          "output_type": "stream",
          "name": "stderr",
          "text": [
            "28496it [09:43, 51.01it/s]"
          ]
        },
        {
          "output_type": "stream",
          "name": "stdout",
          "text": [
            "| epoch   5 | 28500/32580 batches | loss    0.715 \n",
            "money: him, much, not, them, use, sense, fact, seen, way, nine\n",
            "lion: branwell, boys, melbourne, purpose, placed, refurbished, letter, flutes, politician, nativity\n",
            "africa: america, europe, germany, united, north, india, east, south, nine, england\n",
            "musician: singer, actor, born, english, actress, music, american, author, poet, writer\n",
            "dance: music, history, modern, china, traditional, country, article, contemporary, hungary, football\n",
            "\n",
            "\n"
          ]
        },
        {
          "output_type": "stream",
          "name": "stderr",
          "text": [
            "29001it [09:53, 34.23it/s]"
          ]
        },
        {
          "output_type": "stream",
          "name": "stdout",
          "text": [
            "| epoch   5 | 29000/32580 batches | loss    0.718 \n",
            "money: him, much, not, them, use, sense, fact, seen, way, nine\n",
            "lion: branwell, boys, melbourne, purpose, placed, refurbished, letter, flutes, politician, nativity\n",
            "africa: america, europe, germany, united, north, india, east, south, nine, england\n",
            "musician: singer, actor, born, english, actress, music, american, author, poet, writer\n",
            "dance: music, history, modern, china, traditional, country, article, contemporary, hungary, football\n",
            "\n",
            "\n"
          ]
        },
        {
          "output_type": "stream",
          "name": "stderr",
          "text": [
            "29498it [10:03, 49.18it/s]"
          ]
        },
        {
          "output_type": "stream",
          "name": "stdout",
          "text": [
            "| epoch   5 | 29500/32580 batches | loss    0.716 \n",
            "money: him, much, not, them, use, sense, fact, seen, way, nine\n",
            "lion: branwell, boys, melbourne, purpose, placed, refurbished, letter, flutes, politician, nativity\n",
            "africa: america, europe, germany, united, north, india, east, south, nine, england\n",
            "musician: singer, actor, born, english, actress, music, american, author, poet, writer\n",
            "dance: music, history, modern, china, traditional, country, article, contemporary, hungary, football\n",
            "\n",
            "\n"
          ]
        },
        {
          "output_type": "stream",
          "name": "stderr",
          "text": [
            "30000it [10:13, 50.85it/s]"
          ]
        },
        {
          "output_type": "stream",
          "name": "stdout",
          "text": [
            "| epoch   5 | 30000/32580 batches | loss    0.715 \n",
            "money: him, much, not, them, use, sense, fact, seen, way, nine\n",
            "lion: branwell, boys, melbourne, purpose, placed, refurbished, letter, flutes, politician, nativity\n",
            "africa: america, europe, germany, united, north, india, east, south, nine, england\n",
            "musician: singer, actor, born, english, actress, music, american, author, poet, writer\n",
            "dance: music, history, modern, china, traditional, country, article, contemporary, hungary, football\n",
            "\n",
            "\n"
          ]
        },
        {
          "output_type": "stream",
          "name": "stderr",
          "text": [
            "30500it [10:23, 51.45it/s]"
          ]
        },
        {
          "output_type": "stream",
          "name": "stdout",
          "text": [
            "| epoch   5 | 30500/32580 batches | loss    0.717 \n",
            "money: him, much, not, them, use, sense, fact, seen, way, nine\n",
            "lion: branwell, boys, melbourne, purpose, placed, refurbished, letter, flutes, politician, nativity\n",
            "africa: america, europe, germany, united, north, india, east, south, nine, england\n",
            "musician: singer, actor, born, english, actress, music, american, author, poet, writer\n",
            "dance: music, history, modern, china, traditional, country, article, contemporary, hungary, football\n",
            "\n",
            "\n"
          ]
        },
        {
          "output_type": "stream",
          "name": "stderr",
          "text": [
            "31000it [10:33, 51.41it/s]"
          ]
        },
        {
          "output_type": "stream",
          "name": "stdout",
          "text": [
            "| epoch   5 | 31000/32580 batches | loss    0.713 \n",
            "money: him, much, not, them, use, sense, fact, seen, way, nine\n",
            "lion: branwell, boys, melbourne, purpose, placed, refurbished, letter, flutes, politician, nativity\n",
            "africa: america, europe, germany, united, north, india, east, south, nine, england\n",
            "musician: singer, actor, born, english, actress, music, american, author, poet, writer\n",
            "dance: music, history, modern, china, traditional, country, article, contemporary, hungary, football\n",
            "\n",
            "\n"
          ]
        },
        {
          "output_type": "stream",
          "name": "stderr",
          "text": [
            "31498it [10:43, 51.48it/s]"
          ]
        },
        {
          "output_type": "stream",
          "name": "stdout",
          "text": [
            "| epoch   5 | 31500/32580 batches | loss    0.717 \n",
            "money: him, much, not, them, use, sense, fact, seen, way, nine\n",
            "lion: branwell, boys, melbourne, purpose, placed, refurbished, letter, flutes, politician, nativity\n",
            "africa: america, europe, germany, united, north, india, east, south, nine, england\n",
            "musician: singer, actor, born, english, actress, music, american, author, poet, writer\n",
            "dance: music, history, modern, china, traditional, country, article, contemporary, hungary, football\n",
            "\n",
            "\n"
          ]
        },
        {
          "output_type": "stream",
          "name": "stderr",
          "text": [
            "31996it [10:53, 51.62it/s]"
          ]
        },
        {
          "output_type": "stream",
          "name": "stdout",
          "text": [
            "| epoch   5 | 32000/32580 batches | loss    0.716 \n",
            "money: him, much, not, them, use, sense, fact, seen, way, nine\n",
            "lion: branwell, boys, melbourne, purpose, placed, refurbished, letter, flutes, politician, nativity\n",
            "africa: america, europe, germany, united, north, india, east, south, nine, england\n",
            "musician: singer, actor, born, english, actress, music, american, author, poet, writer\n",
            "dance: music, history, modern, china, traditional, country, article, contemporary, hungary, football\n",
            "\n",
            "\n"
          ]
        },
        {
          "output_type": "stream",
          "name": "stderr",
          "text": [
            "32497it [11:03, 47.78it/s]"
          ]
        },
        {
          "output_type": "stream",
          "name": "stdout",
          "text": [
            "| epoch   5 | 32500/32580 batches | loss    0.715 \n",
            "money: him, much, not, them, use, sense, fact, seen, way, nine\n",
            "lion: branwell, boys, melbourne, purpose, placed, refurbished, letter, flutes, politician, nativity\n",
            "africa: america, europe, germany, united, north, india, east, south, nine, england\n",
            "musician: singer, actor, born, english, actress, music, american, author, poet, writer\n",
            "dance: music, history, modern, china, traditional, country, article, contemporary, hungary, football\n",
            "\n",
            "\n"
          ]
        },
        {
          "output_type": "stream",
          "name": "stderr",
          "text": [
            "32580it [11:07, 48.79it/s]\n",
            "1it [00:01,  1.87s/it]"
          ]
        },
        {
          "output_type": "stream",
          "name": "stdout",
          "text": [
            "| epoch   6 |     0/32580 batches | loss    0.720 \n",
            "money: him, much, not, them, use, sense, fact, seen, way, nine\n",
            "lion: branwell, boys, melbourne, purpose, placed, refurbished, letter, flutes, politician, nativity\n",
            "africa: america, europe, germany, united, north, india, east, south, nine, england\n",
            "musician: singer, actor, born, english, actress, music, american, author, poet, writer\n",
            "dance: music, history, modern, china, traditional, country, article, contemporary, hungary, football\n",
            "\n",
            "\n"
          ]
        },
        {
          "output_type": "stream",
          "name": "stderr",
          "text": [
            "501it [00:12, 34.53it/s]"
          ]
        },
        {
          "output_type": "stream",
          "name": "stdout",
          "text": [
            "| epoch   6 |   500/32580 batches | loss    0.715 \n",
            "money: him, much, not, them, use, sense, fact, seen, way, nine\n",
            "lion: branwell, boys, melbourne, purpose, placed, refurbished, letter, flutes, politician, nativity\n",
            "africa: america, europe, germany, united, north, india, east, south, nine, england\n",
            "musician: singer, actor, born, english, actress, music, american, author, poet, writer\n",
            "dance: music, history, modern, china, traditional, country, article, contemporary, hungary, football\n",
            "\n",
            "\n"
          ]
        },
        {
          "output_type": "stream",
          "name": "stderr",
          "text": [
            "997it [00:21, 51.17it/s]"
          ]
        },
        {
          "output_type": "stream",
          "name": "stdout",
          "text": [
            "| epoch   6 |  1000/32580 batches | loss    0.717 \n",
            "money: him, much, not, them, use, sense, fact, seen, way, nine\n",
            "lion: branwell, boys, melbourne, purpose, placed, refurbished, letter, flutes, politician, nativity\n",
            "africa: america, europe, germany, united, north, india, east, south, nine, england\n",
            "musician: singer, actor, born, english, actress, music, american, author, poet, writer\n",
            "dance: music, history, modern, china, traditional, country, article, contemporary, hungary, football\n",
            "\n",
            "\n"
          ]
        },
        {
          "output_type": "stream",
          "name": "stderr",
          "text": [
            "1498it [00:32, 48.86it/s]"
          ]
        },
        {
          "output_type": "stream",
          "name": "stdout",
          "text": [
            "| epoch   6 |  1500/32580 batches | loss    0.716 \n",
            "money: him, much, not, them, use, sense, fact, seen, way, nine\n",
            "lion: branwell, boys, melbourne, purpose, placed, refurbished, letter, flutes, politician, nativity\n",
            "africa: america, europe, germany, united, north, india, east, south, nine, england\n",
            "musician: singer, actor, born, english, actress, music, american, author, poet, writer\n",
            "dance: music, history, modern, china, traditional, country, article, contemporary, hungary, football\n",
            "\n",
            "\n"
          ]
        },
        {
          "output_type": "stream",
          "name": "stderr",
          "text": [
            "1999it [00:42, 49.40it/s]"
          ]
        },
        {
          "output_type": "stream",
          "name": "stdout",
          "text": [
            "| epoch   6 |  2000/32580 batches | loss    0.718 \n",
            "money: him, much, not, them, use, sense, fact, seen, way, nine\n",
            "lion: branwell, boys, melbourne, purpose, placed, refurbished, letter, flutes, politician, nativity\n",
            "africa: america, europe, germany, united, north, india, east, south, nine, england\n",
            "musician: singer, actor, born, english, actress, music, american, author, poet, writer\n",
            "dance: music, history, modern, china, traditional, country, article, contemporary, hungary, football\n",
            "\n",
            "\n"
          ]
        },
        {
          "output_type": "stream",
          "name": "stderr",
          "text": [
            "2501it [00:52, 33.72it/s]"
          ]
        },
        {
          "output_type": "stream",
          "name": "stdout",
          "text": [
            "| epoch   6 |  2500/32580 batches | loss    0.714 \n",
            "money: him, much, not, them, use, sense, fact, seen, way, nine\n",
            "lion: branwell, boys, melbourne, purpose, placed, refurbished, letter, flutes, politician, nativity\n",
            "africa: america, europe, germany, united, north, india, east, south, nine, england\n",
            "musician: singer, actor, born, english, actress, music, american, author, poet, writer\n",
            "dance: music, history, modern, china, traditional, country, article, contemporary, hungary, football\n",
            "\n",
            "\n"
          ]
        },
        {
          "output_type": "stream",
          "name": "stderr",
          "text": [
            "3000it [01:02, 51.16it/s]"
          ]
        },
        {
          "output_type": "stream",
          "name": "stdout",
          "text": [
            "| epoch   6 |  3000/32580 batches | loss    0.716 \n",
            "money: him, much, not, them, use, sense, fact, seen, way, nine\n",
            "lion: branwell, boys, melbourne, purpose, placed, refurbished, letter, flutes, politician, nativity\n",
            "africa: america, europe, germany, united, north, india, east, south, nine, england\n",
            "musician: singer, actor, born, english, actress, music, american, author, poet, writer\n",
            "dance: music, history, modern, china, traditional, country, article, contemporary, hungary, football\n",
            "\n",
            "\n"
          ]
        },
        {
          "output_type": "stream",
          "name": "stderr",
          "text": [
            "3497it [01:12, 51.47it/s]"
          ]
        },
        {
          "output_type": "stream",
          "name": "stdout",
          "text": [
            "| epoch   6 |  3500/32580 batches | loss    0.714 \n",
            "money: him, much, not, them, use, sense, fact, seen, way, nine\n",
            "lion: branwell, boys, melbourne, purpose, placed, refurbished, letter, flutes, politician, nativity\n",
            "africa: america, europe, germany, united, north, india, east, south, nine, england\n",
            "musician: singer, actor, born, english, actress, music, american, author, poet, writer\n",
            "dance: music, history, modern, china, traditional, country, article, contemporary, hungary, football\n",
            "\n",
            "\n"
          ]
        },
        {
          "output_type": "stream",
          "name": "stderr",
          "text": [
            "4001it [01:23, 34.46it/s]"
          ]
        },
        {
          "output_type": "stream",
          "name": "stdout",
          "text": [
            "| epoch   6 |  4000/32580 batches | loss    0.717 \n",
            "money: him, much, not, them, use, sense, fact, seen, way, nine\n",
            "lion: branwell, boys, melbourne, purpose, placed, refurbished, letter, flutes, politician, nativity\n",
            "africa: america, europe, germany, united, north, india, east, south, nine, england\n",
            "musician: singer, actor, born, english, actress, music, american, author, poet, writer\n",
            "dance: music, history, modern, china, traditional, country, article, contemporary, hungary, football\n",
            "\n",
            "\n"
          ]
        },
        {
          "output_type": "stream",
          "name": "stderr",
          "text": [
            "4501it [01:33, 34.28it/s]"
          ]
        },
        {
          "output_type": "stream",
          "name": "stdout",
          "text": [
            "| epoch   6 |  4500/32580 batches | loss    0.713 \n",
            "money: him, much, not, them, use, sense, fact, seen, way, nine\n",
            "lion: branwell, boys, melbourne, purpose, placed, refurbished, letter, flutes, politician, nativity\n",
            "africa: america, europe, germany, united, north, india, east, south, nine, england\n",
            "musician: singer, actor, born, english, actress, music, american, author, poet, writer\n",
            "dance: music, history, modern, china, traditional, country, article, contemporary, hungary, football\n",
            "\n",
            "\n"
          ]
        },
        {
          "output_type": "stream",
          "name": "stderr",
          "text": [
            "4998it [01:42, 50.72it/s]"
          ]
        },
        {
          "output_type": "stream",
          "name": "stdout",
          "text": [
            "| epoch   6 |  5000/32580 batches | loss    0.716 \n",
            "money: him, much, not, them, use, sense, fact, seen, way, nine\n",
            "lion: branwell, boys, melbourne, purpose, placed, refurbished, letter, flutes, politician, nativity\n",
            "africa: america, europe, germany, united, north, india, east, south, nine, england\n",
            "musician: singer, actor, born, english, actress, music, american, author, poet, writer\n",
            "dance: music, history, modern, china, traditional, country, article, contemporary, hungary, football\n",
            "\n",
            "\n"
          ]
        },
        {
          "output_type": "stream",
          "name": "stderr",
          "text": [
            "5499it [01:53, 51.59it/s]"
          ]
        },
        {
          "output_type": "stream",
          "name": "stdout",
          "text": [
            "| epoch   6 |  5500/32580 batches | loss    0.717 \n",
            "money: him, much, not, them, use, sense, fact, seen, way, nine\n",
            "lion: branwell, boys, melbourne, purpose, placed, refurbished, letter, flutes, politician, nativity\n",
            "africa: america, europe, germany, united, north, india, east, south, nine, england\n",
            "musician: singer, actor, born, english, actress, music, american, author, poet, writer\n",
            "dance: music, history, modern, china, traditional, country, article, contemporary, hungary, football\n",
            "\n",
            "\n"
          ]
        },
        {
          "output_type": "stream",
          "name": "stderr",
          "text": [
            "6000it [02:03, 51.81it/s]"
          ]
        },
        {
          "output_type": "stream",
          "name": "stdout",
          "text": [
            "| epoch   6 |  6000/32580 batches | loss    0.717 \n",
            "money: him, much, not, them, use, sense, fact, seen, way, nine\n",
            "lion: branwell, boys, melbourne, purpose, placed, refurbished, letter, flutes, politician, nativity\n",
            "africa: america, europe, germany, united, north, india, east, south, nine, england\n",
            "musician: singer, actor, born, english, actress, music, american, author, poet, writer\n",
            "dance: music, history, modern, china, traditional, country, article, contemporary, hungary, football\n",
            "\n",
            "\n"
          ]
        },
        {
          "output_type": "stream",
          "name": "stderr",
          "text": [
            "6498it [02:12, 51.79it/s]"
          ]
        },
        {
          "output_type": "stream",
          "name": "stdout",
          "text": [
            "| epoch   6 |  6500/32580 batches | loss    0.716 \n",
            "money: him, much, not, them, use, sense, fact, seen, way, nine\n",
            "lion: branwell, boys, melbourne, purpose, placed, refurbished, letter, flutes, politician, nativity\n",
            "africa: america, europe, germany, united, north, india, east, south, nine, england\n",
            "musician: singer, actor, born, english, actress, music, american, author, poet, writer\n",
            "dance: music, history, modern, china, traditional, country, article, contemporary, hungary, football\n",
            "\n",
            "\n"
          ]
        },
        {
          "output_type": "stream",
          "name": "stderr",
          "text": [
            "7001it [02:23, 33.77it/s]"
          ]
        },
        {
          "output_type": "stream",
          "name": "stdout",
          "text": [
            "| epoch   6 |  7000/32580 batches | loss    0.715 \n",
            "money: him, much, not, them, use, sense, fact, seen, way, nine\n",
            "lion: branwell, boys, melbourne, purpose, placed, refurbished, letter, flutes, politician, nativity\n",
            "africa: america, europe, germany, united, north, india, east, south, nine, england\n",
            "musician: singer, actor, born, english, actress, music, american, author, poet, writer\n",
            "dance: music, history, modern, china, traditional, country, article, contemporary, hungary, football\n",
            "\n",
            "\n"
          ]
        },
        {
          "output_type": "stream",
          "name": "stderr",
          "text": [
            "7497it [02:32, 51.23it/s]"
          ]
        },
        {
          "output_type": "stream",
          "name": "stdout",
          "text": [
            "| epoch   6 |  7500/32580 batches | loss    0.714 \n",
            "money: him, much, not, them, use, sense, fact, seen, way, nine\n",
            "lion: branwell, boys, melbourne, purpose, placed, refurbished, letter, flutes, politician, nativity\n",
            "africa: america, europe, germany, united, north, india, east, south, nine, england\n",
            "musician: singer, actor, born, english, actress, music, american, author, poet, writer\n",
            "dance: music, history, modern, china, traditional, country, article, contemporary, hungary, football\n",
            "\n",
            "\n"
          ]
        },
        {
          "output_type": "stream",
          "name": "stderr",
          "text": [
            "7998it [02:42, 50.02it/s]"
          ]
        },
        {
          "output_type": "stream",
          "name": "stdout",
          "text": [
            "| epoch   6 |  8000/32580 batches | loss    0.717 \n",
            "money: him, much, not, them, use, sense, fact, seen, way, nine\n",
            "lion: branwell, boys, melbourne, purpose, placed, refurbished, letter, flutes, politician, nativity\n",
            "africa: america, europe, germany, united, north, india, east, south, nine, england\n",
            "musician: singer, actor, born, english, actress, music, american, author, poet, writer\n",
            "dance: music, history, modern, china, traditional, country, article, contemporary, hungary, football\n",
            "\n",
            "\n"
          ]
        },
        {
          "output_type": "stream",
          "name": "stderr",
          "text": [
            "8497it [02:53, 50.57it/s]"
          ]
        },
        {
          "output_type": "stream",
          "name": "stdout",
          "text": [
            "| epoch   6 |  8500/32580 batches | loss    0.716 \n",
            "money: him, much, not, them, use, sense, fact, seen, way, nine\n",
            "lion: branwell, boys, melbourne, purpose, placed, refurbished, letter, flutes, politician, nativity\n",
            "africa: america, europe, germany, united, north, india, east, south, nine, england\n",
            "musician: singer, actor, born, english, actress, music, american, author, poet, writer\n",
            "dance: music, history, modern, china, traditional, country, article, contemporary, hungary, football\n",
            "\n",
            "\n"
          ]
        },
        {
          "output_type": "stream",
          "name": "stderr",
          "text": [
            "8999it [03:03, 51.09it/s]"
          ]
        },
        {
          "output_type": "stream",
          "name": "stdout",
          "text": [
            "| epoch   6 |  9000/32580 batches | loss    0.715 \n",
            "money: him, much, not, them, use, sense, fact, seen, way, nine\n",
            "lion: branwell, boys, melbourne, purpose, placed, refurbished, letter, flutes, politician, nativity\n",
            "africa: america, europe, germany, united, north, india, east, south, nine, england\n",
            "musician: singer, actor, born, english, actress, music, american, author, poet, writer\n",
            "dance: music, history, modern, china, traditional, country, article, contemporary, hungary, football\n",
            "\n",
            "\n"
          ]
        },
        {
          "output_type": "stream",
          "name": "stderr",
          "text": [
            "9497it [03:13, 50.80it/s]"
          ]
        },
        {
          "output_type": "stream",
          "name": "stdout",
          "text": [
            "| epoch   6 |  9500/32580 batches | loss    0.717 \n",
            "money: him, much, not, them, use, sense, fact, seen, way, nine\n",
            "lion: branwell, boys, melbourne, purpose, placed, refurbished, letter, flutes, politician, nativity\n",
            "africa: america, europe, germany, united, north, india, east, south, nine, england\n",
            "musician: singer, actor, born, english, actress, music, american, author, poet, writer\n",
            "dance: music, history, modern, china, traditional, country, article, contemporary, hungary, football\n",
            "\n",
            "\n"
          ]
        },
        {
          "output_type": "stream",
          "name": "stderr",
          "text": [
            "9997it [03:23, 51.27it/s]"
          ]
        },
        {
          "output_type": "stream",
          "name": "stdout",
          "text": [
            "| epoch   6 | 10000/32580 batches | loss    0.717 \n",
            "money: him, much, not, them, use, sense, fact, seen, way, nine\n",
            "lion: branwell, boys, melbourne, purpose, placed, refurbished, letter, flutes, politician, nativity\n",
            "africa: america, europe, germany, united, north, india, east, south, nine, england\n",
            "musician: singer, actor, born, english, actress, music, american, author, poet, writer\n",
            "dance: music, history, modern, china, traditional, country, article, contemporary, hungary, football\n",
            "\n",
            "\n"
          ]
        },
        {
          "output_type": "stream",
          "name": "stderr",
          "text": [
            "10497it [03:33, 50.79it/s]"
          ]
        },
        {
          "output_type": "stream",
          "name": "stdout",
          "text": [
            "| epoch   6 | 10500/32580 batches | loss    0.716 \n",
            "money: him, much, not, them, use, sense, fact, seen, way, nine\n",
            "lion: branwell, boys, melbourne, purpose, placed, refurbished, letter, flutes, politician, nativity\n",
            "africa: america, europe, germany, united, north, india, east, south, nine, england\n",
            "musician: singer, actor, born, english, actress, music, american, author, poet, writer\n",
            "dance: music, history, modern, china, traditional, country, article, contemporary, hungary, football\n",
            "\n",
            "\n"
          ]
        },
        {
          "output_type": "stream",
          "name": "stderr",
          "text": [
            "10996it [03:43, 50.23it/s]"
          ]
        },
        {
          "output_type": "stream",
          "name": "stdout",
          "text": [
            "| epoch   6 | 11000/32580 batches | loss    0.717 \n",
            "money: him, much, not, them, use, sense, fact, seen, way, nine\n",
            "lion: branwell, boys, melbourne, purpose, placed, refurbished, letter, flutes, politician, nativity\n",
            "africa: america, europe, germany, united, north, india, east, south, nine, england\n",
            "musician: singer, actor, born, english, actress, music, american, author, poet, writer\n",
            "dance: music, history, modern, china, traditional, country, article, contemporary, hungary, football\n",
            "\n",
            "\n"
          ]
        },
        {
          "output_type": "stream",
          "name": "stderr",
          "text": [
            "11496it [03:56, 50.93it/s]"
          ]
        },
        {
          "output_type": "stream",
          "name": "stdout",
          "text": [
            "| epoch   6 | 11500/32580 batches | loss    0.718 \n",
            "money: him, much, not, them, use, sense, fact, seen, way, nine\n",
            "lion: branwell, boys, melbourne, purpose, placed, refurbished, letter, flutes, politician, nativity\n",
            "africa: america, europe, germany, united, north, india, east, south, nine, england\n",
            "musician: singer, actor, born, english, actress, music, american, author, poet, writer\n",
            "dance: music, history, modern, china, traditional, country, article, contemporary, hungary, football\n",
            "\n",
            "\n"
          ]
        },
        {
          "output_type": "stream",
          "name": "stderr",
          "text": [
            "11999it [04:06, 51.74it/s]"
          ]
        },
        {
          "output_type": "stream",
          "name": "stdout",
          "text": [
            "| epoch   6 | 12000/32580 batches | loss    0.717 \n",
            "money: him, much, not, them, use, sense, fact, seen, way, nine\n",
            "lion: branwell, boys, melbourne, purpose, placed, refurbished, letter, flutes, politician, nativity\n",
            "africa: america, europe, germany, united, north, india, east, south, nine, england\n",
            "musician: singer, actor, born, english, actress, music, american, author, poet, writer\n",
            "dance: music, history, modern, china, traditional, country, article, contemporary, hungary, football\n",
            "\n",
            "\n"
          ]
        },
        {
          "output_type": "stream",
          "name": "stderr",
          "text": [
            "12499it [04:16, 51.74it/s]"
          ]
        },
        {
          "output_type": "stream",
          "name": "stdout",
          "text": [
            "| epoch   6 | 12500/32580 batches | loss    0.716 \n",
            "money: him, much, not, them, use, sense, fact, seen, way, nine\n",
            "lion: branwell, boys, melbourne, purpose, placed, refurbished, letter, flutes, politician, nativity\n",
            "africa: america, europe, germany, united, north, india, east, south, nine, england\n",
            "musician: singer, actor, born, english, actress, music, american, author, poet, writer\n",
            "dance: music, history, modern, china, traditional, country, article, contemporary, hungary, football\n",
            "\n",
            "\n"
          ]
        },
        {
          "output_type": "stream",
          "name": "stderr",
          "text": [
            "12996it [04:26, 50.95it/s]"
          ]
        },
        {
          "output_type": "stream",
          "name": "stdout",
          "text": [
            "| epoch   6 | 13000/32580 batches | loss    0.719 \n",
            "money: him, much, not, them, use, sense, fact, seen, way, nine\n",
            "lion: branwell, boys, melbourne, purpose, placed, refurbished, letter, flutes, politician, nativity\n",
            "africa: america, europe, germany, united, north, india, east, south, nine, england\n",
            "musician: singer, actor, born, english, actress, music, american, author, poet, writer\n",
            "dance: music, history, modern, china, traditional, country, article, contemporary, hungary, football\n",
            "\n",
            "\n"
          ]
        },
        {
          "output_type": "stream",
          "name": "stderr",
          "text": [
            "13499it [04:36, 49.98it/s]"
          ]
        },
        {
          "output_type": "stream",
          "name": "stdout",
          "text": [
            "| epoch   6 | 13500/32580 batches | loss    0.717 \n",
            "money: him, much, not, them, use, sense, fact, seen, way, nine\n",
            "lion: branwell, boys, melbourne, purpose, placed, refurbished, letter, flutes, politician, nativity\n",
            "africa: america, europe, germany, united, north, india, east, south, nine, england\n",
            "musician: singer, actor, born, english, actress, music, american, author, poet, writer\n",
            "dance: music, history, modern, china, traditional, country, article, contemporary, hungary, football\n",
            "\n",
            "\n"
          ]
        },
        {
          "output_type": "stream",
          "name": "stderr",
          "text": [
            "14001it [04:47, 34.35it/s]"
          ]
        },
        {
          "output_type": "stream",
          "name": "stdout",
          "text": [
            "| epoch   6 | 14000/32580 batches | loss    0.718 \n",
            "money: him, much, not, them, use, sense, fact, seen, way, nine\n",
            "lion: branwell, boys, melbourne, purpose, placed, refurbished, letter, flutes, politician, nativity\n",
            "africa: america, europe, germany, united, north, india, east, south, nine, england\n",
            "musician: singer, actor, born, english, actress, music, american, author, poet, writer\n",
            "dance: music, history, modern, china, traditional, country, article, contemporary, hungary, football\n",
            "\n",
            "\n"
          ]
        },
        {
          "output_type": "stream",
          "name": "stderr",
          "text": [
            "14497it [04:56, 48.74it/s]"
          ]
        },
        {
          "output_type": "stream",
          "name": "stdout",
          "text": [
            "| epoch   6 | 14500/32580 batches | loss    0.715 \n",
            "money: him, much, not, them, use, sense, fact, seen, way, nine\n",
            "lion: branwell, boys, melbourne, purpose, placed, refurbished, letter, flutes, politician, nativity\n",
            "africa: america, europe, germany, united, north, india, east, south, nine, england\n",
            "musician: singer, actor, born, english, actress, music, american, author, poet, writer\n",
            "dance: music, history, modern, china, traditional, country, article, contemporary, hungary, football\n",
            "\n",
            "\n"
          ]
        },
        {
          "output_type": "stream",
          "name": "stderr",
          "text": [
            "14999it [05:06, 50.88it/s]"
          ]
        },
        {
          "output_type": "stream",
          "name": "stdout",
          "text": [
            "| epoch   6 | 15000/32580 batches | loss    0.718 \n"
          ]
        },
        {
          "output_type": "stream",
          "name": "stderr",
          "text": [
            "\r15005it [05:07, 31.49it/s]"
          ]
        },
        {
          "output_type": "stream",
          "name": "stdout",
          "text": [
            "money: him, much, not, them, use, sense, fact, seen, way, nine\n",
            "lion: branwell, boys, melbourne, purpose, placed, refurbished, letter, flutes, politician, nativity\n",
            "africa: america, europe, germany, united, north, india, east, south, nine, england\n",
            "musician: singer, actor, born, english, actress, music, american, author, poet, writer\n",
            "dance: music, history, modern, china, traditional, country, article, contemporary, hungary, football\n",
            "\n",
            "\n"
          ]
        },
        {
          "output_type": "stream",
          "name": "stderr",
          "text": [
            "15499it [05:16, 51.33it/s]"
          ]
        },
        {
          "output_type": "stream",
          "name": "stdout",
          "text": [
            "| epoch   6 | 15500/32580 batches | loss    0.714 \n",
            "money: him, much, not, them, use, sense, fact, seen, way, nine\n",
            "lion: branwell, boys, melbourne, purpose, placed, refurbished, letter, flutes, politician, nativity\n",
            "africa: america, europe, germany, united, north, india, east, south, nine, england\n",
            "musician: singer, actor, born, english, actress, music, american, author, poet, writer\n",
            "dance: music, history, modern, china, traditional, country, article, contemporary, hungary, football\n",
            "\n",
            "\n"
          ]
        },
        {
          "output_type": "stream",
          "name": "stderr",
          "text": [
            "15999it [05:26, 51.62it/s]"
          ]
        },
        {
          "output_type": "stream",
          "name": "stdout",
          "text": [
            "| epoch   6 | 16000/32580 batches | loss    0.718 \n",
            "money: him, much, not, them, use, sense, fact, seen, way, nine\n",
            "lion: branwell, boys, melbourne, purpose, placed, refurbished, letter, flutes, politician, nativity\n",
            "africa: america, europe, germany, united, north, india, east, south, nine, england\n",
            "musician: singer, actor, born, english, actress, music, american, author, poet, writer\n",
            "dance: music, history, modern, china, traditional, country, article, contemporary, hungary, football\n",
            "\n",
            "\n"
          ]
        },
        {
          "output_type": "stream",
          "name": "stderr",
          "text": [
            "16499it [05:36, 51.09it/s]"
          ]
        },
        {
          "output_type": "stream",
          "name": "stdout",
          "text": [
            "| epoch   6 | 16500/32580 batches | loss    0.713 \n",
            "money: him, much, not, them, use, sense, fact, seen, way, nine\n",
            "lion: branwell, boys, melbourne, purpose, placed, refurbished, letter, flutes, politician, nativity\n",
            "africa: america, europe, germany, united, north, india, east, south, nine, england\n",
            "musician: singer, actor, born, english, actress, music, american, author, poet, writer\n",
            "dance: music, history, modern, china, traditional, country, article, contemporary, hungary, football\n",
            "\n",
            "\n"
          ]
        },
        {
          "output_type": "stream",
          "name": "stderr",
          "text": [
            "16998it [05:46, 52.17it/s]"
          ]
        },
        {
          "output_type": "stream",
          "name": "stdout",
          "text": [
            "| epoch   6 | 17000/32580 batches | loss    0.716 \n",
            "money: him, much, not, them, use, sense, fact, seen, way, nine\n",
            "lion: branwell, boys, melbourne, purpose, placed, refurbished, letter, flutes, politician, nativity\n",
            "africa: america, europe, germany, united, north, india, east, south, nine, england\n",
            "musician: singer, actor, born, english, actress, music, american, author, poet, writer\n",
            "dance: music, history, modern, china, traditional, country, article, contemporary, hungary, football\n",
            "\n",
            "\n"
          ]
        },
        {
          "output_type": "stream",
          "name": "stderr",
          "text": [
            "17501it [05:56, 33.61it/s]"
          ]
        },
        {
          "output_type": "stream",
          "name": "stdout",
          "text": [
            "| epoch   6 | 17500/32580 batches | loss    0.715 \n",
            "money: him, much, not, them, use, sense, fact, seen, way, nine\n",
            "lion: branwell, boys, melbourne, purpose, placed, refurbished, letter, flutes, politician, nativity\n",
            "africa: america, europe, germany, united, north, india, east, south, nine, england\n",
            "musician: singer, actor, born, english, actress, music, american, author, poet, writer\n",
            "dance: music, history, modern, china, traditional, country, article, contemporary, hungary, football\n",
            "\n",
            "\n"
          ]
        },
        {
          "output_type": "stream",
          "name": "stderr",
          "text": [
            "17997it [06:06, 50.26it/s]"
          ]
        },
        {
          "output_type": "stream",
          "name": "stdout",
          "text": [
            "| epoch   6 | 18000/32580 batches | loss    0.714 \n",
            "money: him, much, not, them, use, sense, fact, seen, way, nine\n",
            "lion: branwell, boys, melbourne, purpose, placed, refurbished, letter, flutes, politician, nativity\n",
            "africa: america, europe, germany, united, north, india, east, south, nine, england\n",
            "musician: singer, actor, born, english, actress, music, american, author, poet, writer\n",
            "dance: music, history, modern, china, traditional, country, article, contemporary, hungary, football\n",
            "\n",
            "\n"
          ]
        },
        {
          "output_type": "stream",
          "name": "stderr",
          "text": [
            "18499it [06:16, 51.37it/s]"
          ]
        },
        {
          "output_type": "stream",
          "name": "stdout",
          "text": [
            "| epoch   6 | 18500/32580 batches | loss    0.716 \n",
            "money: him, much, not, them, use, sense, fact, seen, way, nine\n",
            "lion: branwell, boys, melbourne, purpose, placed, refurbished, letter, flutes, politician, nativity\n",
            "africa: america, europe, germany, united, north, india, east, south, nine, england\n",
            "musician: singer, actor, born, english, actress, music, american, author, poet, writer\n",
            "dance: music, history, modern, china, traditional, country, article, contemporary, hungary, football\n",
            "\n",
            "\n"
          ]
        },
        {
          "output_type": "stream",
          "name": "stderr",
          "text": [
            "18998it [06:26, 51.08it/s]"
          ]
        },
        {
          "output_type": "stream",
          "name": "stdout",
          "text": [
            "| epoch   6 | 19000/32580 batches | loss    0.715 \n",
            "money: him, much, not, them, use, sense, fact, seen, way, nine\n",
            "lion: branwell, boys, melbourne, purpose, placed, refurbished, letter, flutes, politician, nativity\n",
            "africa: america, europe, germany, united, north, india, east, south, nine, england\n",
            "musician: singer, actor, born, english, actress, music, american, author, poet, writer\n",
            "dance: music, history, modern, china, traditional, country, article, contemporary, hungary, football\n",
            "\n",
            "\n"
          ]
        },
        {
          "output_type": "stream",
          "name": "stderr",
          "text": [
            "19496it [06:36, 50.94it/s]"
          ]
        },
        {
          "output_type": "stream",
          "name": "stdout",
          "text": [
            "| epoch   6 | 19500/32580 batches | loss    0.715 \n",
            "money: him, much, not, them, use, sense, fact, seen, way, nine\n",
            "lion: branwell, boys, melbourne, purpose, placed, refurbished, letter, flutes, politician, nativity\n",
            "africa: america, europe, germany, united, north, india, east, south, nine, england\n",
            "musician: singer, actor, born, english, actress, music, american, author, poet, writer\n",
            "dance: music, history, modern, china, traditional, country, article, contemporary, hungary, football\n",
            "\n",
            "\n"
          ]
        },
        {
          "output_type": "stream",
          "name": "stderr",
          "text": [
            "19996it [06:47, 51.02it/s]"
          ]
        },
        {
          "output_type": "stream",
          "name": "stdout",
          "text": [
            "| epoch   6 | 20000/32580 batches | loss    0.715 \n",
            "money: him, much, not, them, use, sense, fact, seen, way, nine\n",
            "lion: branwell, boys, melbourne, purpose, placed, refurbished, letter, flutes, politician, nativity\n",
            "africa: america, europe, germany, united, north, india, east, south, nine, england\n",
            "musician: singer, actor, born, english, actress, music, american, author, poet, writer\n",
            "dance: music, history, modern, china, traditional, country, article, contemporary, hungary, football\n",
            "\n",
            "\n"
          ]
        },
        {
          "output_type": "stream",
          "name": "stderr",
          "text": [
            "20498it [06:57, 49.61it/s]"
          ]
        },
        {
          "output_type": "stream",
          "name": "stdout",
          "text": [
            "| epoch   6 | 20500/32580 batches | loss    0.715 \n",
            "money: him, much, not, them, use, sense, fact, seen, way, nine\n",
            "lion: branwell, boys, melbourne, purpose, placed, refurbished, letter, flutes, politician, nativity\n",
            "africa: america, europe, germany, united, north, india, east, south, nine, england\n",
            "musician: singer, actor, born, english, actress, music, american, author, poet, writer\n",
            "dance: music, history, modern, china, traditional, country, article, contemporary, hungary, football\n",
            "\n",
            "\n"
          ]
        },
        {
          "output_type": "stream",
          "name": "stderr",
          "text": [
            "20998it [07:07, 49.74it/s]"
          ]
        },
        {
          "output_type": "stream",
          "name": "stdout",
          "text": [
            "| epoch   6 | 21000/32580 batches | loss    0.717 \n"
          ]
        },
        {
          "output_type": "stream",
          "name": "stderr",
          "text": [
            "21008it [07:07, 32.26it/s]"
          ]
        },
        {
          "output_type": "stream",
          "name": "stdout",
          "text": [
            "money: him, much, not, them, use, sense, fact, seen, way, nine\n",
            "lion: branwell, boys, melbourne, purpose, placed, refurbished, letter, flutes, politician, nativity\n",
            "africa: america, europe, germany, united, north, india, east, south, nine, england\n",
            "musician: singer, actor, born, english, actress, music, american, author, poet, writer\n",
            "dance: music, history, modern, china, traditional, country, article, contemporary, hungary, football\n",
            "\n",
            "\n"
          ]
        },
        {
          "output_type": "stream",
          "name": "stderr",
          "text": [
            "21497it [07:17, 50.20it/s]"
          ]
        },
        {
          "output_type": "stream",
          "name": "stdout",
          "text": [
            "| epoch   6 | 21500/32580 batches | loss    0.716 \n",
            "money: him, much, not, them, use, sense, fact, seen, way, nine\n",
            "lion: branwell, boys, melbourne, purpose, placed, refurbished, letter, flutes, politician, nativity\n",
            "africa: america, europe, germany, united, north, india, east, south, nine, england\n",
            "musician: singer, actor, born, english, actress, music, american, author, poet, writer\n",
            "dance: music, history, modern, china, traditional, country, article, contemporary, hungary, football\n",
            "\n",
            "\n"
          ]
        },
        {
          "output_type": "stream",
          "name": "stderr",
          "text": [
            "22000it [07:27, 51.24it/s]"
          ]
        },
        {
          "output_type": "stream",
          "name": "stdout",
          "text": [
            "| epoch   6 | 22000/32580 batches | loss    0.718 \n",
            "money: him, much, not, them, use, sense, fact, seen, way, nine\n",
            "lion: branwell, boys, melbourne, purpose, placed, refurbished, letter, flutes, politician, nativity\n",
            "africa: america, europe, germany, united, north, india, east, south, nine, england\n",
            "musician: singer, actor, born, english, actress, music, american, author, poet, writer\n",
            "dance: music, history, modern, china, traditional, country, article, contemporary, hungary, football\n",
            "\n",
            "\n"
          ]
        },
        {
          "output_type": "stream",
          "name": "stderr",
          "text": [
            "22496it [07:40, 50.62it/s]"
          ]
        },
        {
          "output_type": "stream",
          "name": "stdout",
          "text": [
            "| epoch   6 | 22500/32580 batches | loss    0.714 \n",
            "money: him, much, not, them, use, sense, fact, seen, way, nine\n",
            "lion: branwell, boys, melbourne, purpose, placed, refurbished, letter, flutes, politician, nativity\n",
            "africa: america, europe, germany, united, north, india, east, south, nine, england\n",
            "musician: singer, actor, born, english, actress, music, american, author, poet, writer\n",
            "dance: music, history, modern, china, traditional, country, article, contemporary, hungary, football\n",
            "\n",
            "\n"
          ]
        },
        {
          "output_type": "stream",
          "name": "stderr",
          "text": [
            "22996it [07:50, 50.79it/s]"
          ]
        },
        {
          "output_type": "stream",
          "name": "stdout",
          "text": [
            "| epoch   6 | 23000/32580 batches | loss    0.719 \n",
            "money: him, much, not, them, use, sense, fact, seen, way, nine\n",
            "lion: branwell, boys, melbourne, purpose, placed, refurbished, letter, flutes, politician, nativity\n",
            "africa: america, europe, germany, united, north, india, east, south, nine, england\n",
            "musician: singer, actor, born, english, actress, music, american, author, poet, writer\n",
            "dance: music, history, modern, china, traditional, country, article, contemporary, hungary, football\n",
            "\n",
            "\n"
          ]
        },
        {
          "output_type": "stream",
          "name": "stderr",
          "text": [
            "23501it [08:00, 34.67it/s]"
          ]
        },
        {
          "output_type": "stream",
          "name": "stdout",
          "text": [
            "| epoch   6 | 23500/32580 batches | loss    0.718 \n",
            "money: him, much, not, them, use, sense, fact, seen, way, nine\n",
            "lion: branwell, boys, melbourne, purpose, placed, refurbished, letter, flutes, politician, nativity\n",
            "africa: america, europe, germany, united, north, india, east, south, nine, england\n",
            "musician: singer, actor, born, english, actress, music, american, author, poet, writer\n",
            "dance: music, history, modern, china, traditional, country, article, contemporary, hungary, football\n",
            "\n",
            "\n"
          ]
        },
        {
          "output_type": "stream",
          "name": "stderr",
          "text": [
            "23999it [08:10, 49.75it/s]"
          ]
        },
        {
          "output_type": "stream",
          "name": "stdout",
          "text": [
            "| epoch   6 | 24000/32580 batches | loss    0.719 \n",
            "money: him, much, not, them, use, sense, fact, seen, way, nine\n",
            "lion: branwell, boys, melbourne, purpose, placed, refurbished, letter, flutes, politician, nativity\n",
            "africa: america, europe, germany, united, north, india, east, south, nine, england\n",
            "musician: singer, actor, born, english, actress, music, american, author, poet, writer\n",
            "dance: music, history, modern, china, traditional, country, article, contemporary, hungary, football\n",
            "\n",
            "\n"
          ]
        },
        {
          "output_type": "stream",
          "name": "stderr",
          "text": [
            "24498it [08:20, 50.03it/s]"
          ]
        },
        {
          "output_type": "stream",
          "name": "stdout",
          "text": [
            "| epoch   6 | 24500/32580 batches | loss    0.714 \n",
            "money: him, much, not, them, use, sense, fact, seen, way, nine\n",
            "lion: branwell, boys, melbourne, purpose, placed, refurbished, letter, flutes, politician, nativity\n",
            "africa: america, europe, germany, united, north, india, east, south, nine, england\n",
            "musician: singer, actor, born, english, actress, music, american, author, poet, writer\n",
            "dance: music, history, modern, china, traditional, country, article, contemporary, hungary, football\n",
            "\n",
            "\n"
          ]
        },
        {
          "output_type": "stream",
          "name": "stderr",
          "text": [
            "24999it [08:31, 50.43it/s]"
          ]
        },
        {
          "output_type": "stream",
          "name": "stdout",
          "text": [
            "| epoch   6 | 25000/32580 batches | loss    0.716 \n",
            "money: him, much, not, them, use, sense, fact, seen, way, nine\n",
            "lion: branwell, boys, melbourne, purpose, placed, refurbished, letter, flutes, politician, nativity\n",
            "africa: america, europe, germany, united, north, india, east, south, nine, england\n",
            "musician: singer, actor, born, english, actress, music, american, author, poet, writer\n",
            "dance: music, history, modern, china, traditional, country, article, contemporary, hungary, football\n",
            "\n",
            "\n"
          ]
        },
        {
          "output_type": "stream",
          "name": "stderr",
          "text": [
            "25497it [08:41, 50.64it/s]"
          ]
        },
        {
          "output_type": "stream",
          "name": "stdout",
          "text": [
            "| epoch   6 | 25500/32580 batches | loss    0.715 \n",
            "money: him, much, not, them, use, sense, fact, seen, way, nine\n",
            "lion: branwell, boys, melbourne, purpose, placed, refurbished, letter, flutes, politician, nativity\n",
            "africa: america, europe, germany, united, north, india, east, south, nine, england\n",
            "musician: singer, actor, born, english, actress, music, american, author, poet, writer\n",
            "dance: music, history, modern, china, traditional, country, article, contemporary, hungary, football\n",
            "\n",
            "\n"
          ]
        },
        {
          "output_type": "stream",
          "name": "stderr",
          "text": [
            "26001it [08:51, 31.77it/s]"
          ]
        },
        {
          "output_type": "stream",
          "name": "stdout",
          "text": [
            "| epoch   6 | 26000/32580 batches | loss    0.717 \n",
            "money: him, much, not, them, use, sense, fact, seen, way, nine\n",
            "lion: branwell, boys, melbourne, purpose, placed, refurbished, letter, flutes, politician, nativity\n",
            "africa: america, europe, germany, united, north, india, east, south, nine, england\n",
            "musician: singer, actor, born, english, actress, music, american, author, poet, writer\n",
            "dance: music, history, modern, china, traditional, country, article, contemporary, hungary, football\n",
            "\n",
            "\n"
          ]
        },
        {
          "output_type": "stream",
          "name": "stderr",
          "text": [
            "26500it [09:01, 51.03it/s]"
          ]
        },
        {
          "output_type": "stream",
          "name": "stdout",
          "text": [
            "| epoch   6 | 26500/32580 batches | loss    0.715 \n",
            "money: him, much, not, them, use, sense, fact, seen, way, nine\n",
            "lion: branwell, boys, melbourne, purpose, placed, refurbished, letter, flutes, politician, nativity\n",
            "africa: america, europe, germany, united, north, india, east, south, nine, england\n",
            "musician: singer, actor, born, english, actress, music, american, author, poet, writer\n",
            "dance: music, history, modern, china, traditional, country, article, contemporary, hungary, football\n",
            "\n",
            "\n"
          ]
        },
        {
          "output_type": "stream",
          "name": "stderr",
          "text": [
            "26996it [09:11, 50.80it/s]"
          ]
        },
        {
          "output_type": "stream",
          "name": "stdout",
          "text": [
            "| epoch   6 | 27000/32580 batches | loss    0.715 \n",
            "money: him, much, not, them, use, sense, fact, seen, way, nine\n",
            "lion: branwell, boys, melbourne, purpose, placed, refurbished, letter, flutes, politician, nativity\n",
            "africa: america, europe, germany, united, north, india, east, south, nine, england\n",
            "musician: singer, actor, born, english, actress, music, american, author, poet, writer\n",
            "dance: music, history, modern, china, traditional, country, article, contemporary, hungary, football\n",
            "\n",
            "\n"
          ]
        },
        {
          "output_type": "stream",
          "name": "stderr",
          "text": [
            "27499it [09:21, 50.10it/s]"
          ]
        },
        {
          "output_type": "stream",
          "name": "stdout",
          "text": [
            "| epoch   6 | 27500/32580 batches | loss    0.715 \n",
            "money: him, much, not, them, use, sense, fact, seen, way, nine\n",
            "lion: branwell, boys, melbourne, purpose, placed, refurbished, letter, flutes, politician, nativity\n",
            "africa: america, europe, germany, united, north, india, east, south, nine, england\n",
            "musician: singer, actor, born, english, actress, music, american, author, poet, writer\n",
            "dance: music, history, modern, china, traditional, country, article, contemporary, hungary, football\n",
            "\n",
            "\n"
          ]
        },
        {
          "output_type": "stream",
          "name": "stderr",
          "text": [
            "27999it [09:31, 50.22it/s]"
          ]
        },
        {
          "output_type": "stream",
          "name": "stdout",
          "text": [
            "| epoch   6 | 28000/32580 batches | loss    0.717 \n",
            "money: him, much, not, them, use, sense, fact, seen, way, nine\n",
            "lion: branwell, boys, melbourne, purpose, placed, refurbished, letter, flutes, politician, nativity\n",
            "africa: america, europe, germany, united, north, india, east, south, nine, england\n",
            "musician: singer, actor, born, english, actress, music, american, author, poet, writer\n",
            "dance: music, history, modern, china, traditional, country, article, contemporary, hungary, football\n",
            "\n",
            "\n"
          ]
        },
        {
          "output_type": "stream",
          "name": "stderr",
          "text": [
            "28498it [09:41, 51.85it/s]"
          ]
        },
        {
          "output_type": "stream",
          "name": "stdout",
          "text": [
            "| epoch   6 | 28500/32580 batches | loss    0.715 \n",
            "money: him, much, not, them, use, sense, fact, seen, way, nine\n",
            "lion: branwell, boys, melbourne, purpose, placed, refurbished, letter, flutes, politician, nativity\n",
            "africa: america, europe, germany, united, north, india, east, south, nine, england\n",
            "musician: singer, actor, born, english, actress, music, american, author, poet, writer\n",
            "dance: music, history, modern, china, traditional, country, article, contemporary, hungary, football\n",
            "\n",
            "\n"
          ]
        },
        {
          "output_type": "stream",
          "name": "stderr",
          "text": [
            "29001it [09:51, 35.01it/s]"
          ]
        },
        {
          "output_type": "stream",
          "name": "stdout",
          "text": [
            "| epoch   6 | 29000/32580 batches | loss    0.718 \n",
            "money: him, much, not, them, use, sense, fact, seen, way, nine\n",
            "lion: branwell, boys, melbourne, purpose, placed, refurbished, letter, flutes, politician, nativity\n",
            "africa: america, europe, germany, united, north, india, east, south, nine, england\n",
            "musician: singer, actor, born, english, actress, music, american, author, poet, writer\n",
            "dance: music, history, modern, china, traditional, country, article, contemporary, hungary, football\n",
            "\n",
            "\n"
          ]
        },
        {
          "output_type": "stream",
          "name": "stderr",
          "text": [
            "29501it [10:01, 32.19it/s]"
          ]
        },
        {
          "output_type": "stream",
          "name": "stdout",
          "text": [
            "| epoch   6 | 29500/32580 batches | loss    0.715 \n",
            "money: him, much, not, them, use, sense, fact, seen, way, nine\n",
            "lion: branwell, boys, melbourne, purpose, placed, refurbished, letter, flutes, politician, nativity\n",
            "africa: america, europe, germany, united, north, india, east, south, nine, england\n",
            "musician: singer, actor, born, english, actress, music, american, author, poet, writer\n",
            "dance: music, history, modern, china, traditional, country, article, contemporary, hungary, football\n",
            "\n",
            "\n"
          ]
        },
        {
          "output_type": "stream",
          "name": "stderr",
          "text": [
            "29998it [10:11, 51.97it/s]"
          ]
        },
        {
          "output_type": "stream",
          "name": "stdout",
          "text": [
            "| epoch   6 | 30000/32580 batches | loss    0.716 \n",
            "money: him, much, not, them, use, sense, fact, seen, way, nine\n",
            "lion: branwell, boys, melbourne, purpose, placed, refurbished, letter, flutes, politician, nativity\n",
            "africa: america, europe, germany, united, north, india, east, south, nine, england\n",
            "musician: singer, actor, born, english, actress, music, american, author, poet, writer\n",
            "dance: music, history, modern, china, traditional, country, article, contemporary, hungary, football\n",
            "\n",
            "\n"
          ]
        },
        {
          "output_type": "stream",
          "name": "stderr",
          "text": [
            "30501it [10:21, 34.10it/s]"
          ]
        },
        {
          "output_type": "stream",
          "name": "stdout",
          "text": [
            "| epoch   6 | 30500/32580 batches | loss    0.715 \n",
            "money: him, much, not, them, use, sense, fact, seen, way, nine\n",
            "lion: branwell, boys, melbourne, purpose, placed, refurbished, letter, flutes, politician, nativity\n",
            "africa: america, europe, germany, united, north, india, east, south, nine, england\n",
            "musician: singer, actor, born, english, actress, music, american, author, poet, writer\n",
            "dance: music, history, modern, china, traditional, country, article, contemporary, hungary, football\n",
            "\n",
            "\n"
          ]
        },
        {
          "output_type": "stream",
          "name": "stderr",
          "text": [
            "30998it [10:31, 51.65it/s]"
          ]
        },
        {
          "output_type": "stream",
          "name": "stdout",
          "text": [
            "| epoch   6 | 31000/32580 batches | loss    0.717 \n",
            "money: him, much, not, them, use, sense, fact, seen, way, nine\n",
            "lion: branwell, boys, melbourne, purpose, placed, refurbished, letter, flutes, politician, nativity\n",
            "africa: america, europe, germany, united, north, india, east, south, nine, england\n",
            "musician: singer, actor, born, english, actress, music, american, author, poet, writer\n",
            "dance: music, history, modern, china, traditional, country, article, contemporary, hungary, football\n",
            "\n",
            "\n"
          ]
        },
        {
          "output_type": "stream",
          "name": "stderr",
          "text": [
            "31501it [10:41, 34.78it/s]"
          ]
        },
        {
          "output_type": "stream",
          "name": "stdout",
          "text": [
            "| epoch   6 | 31500/32580 batches | loss    0.715 \n",
            "money: him, much, not, them, use, sense, fact, seen, way, nine\n",
            "lion: branwell, boys, melbourne, purpose, placed, refurbished, letter, flutes, politician, nativity\n",
            "africa: america, europe, germany, united, north, india, east, south, nine, england\n",
            "musician: singer, actor, born, english, actress, music, american, author, poet, writer\n",
            "dance: music, history, modern, china, traditional, country, article, contemporary, hungary, football\n",
            "\n",
            "\n"
          ]
        },
        {
          "output_type": "stream",
          "name": "stderr",
          "text": [
            "31998it [10:50, 51.88it/s]"
          ]
        },
        {
          "output_type": "stream",
          "name": "stdout",
          "text": [
            "| epoch   6 | 32000/32580 batches | loss    0.715 \n",
            "money: him, much, not, them, use, sense, fact, seen, way, nine\n",
            "lion: branwell, boys, melbourne, purpose, placed, refurbished, letter, flutes, politician, nativity\n",
            "africa: america, europe, germany, united, north, india, east, south, nine, england\n",
            "musician: singer, actor, born, english, actress, music, american, author, poet, writer\n",
            "dance: music, history, modern, china, traditional, country, article, contemporary, hungary, football\n",
            "\n",
            "\n"
          ]
        },
        {
          "output_type": "stream",
          "name": "stderr",
          "text": [
            "32501it [11:01, 34.36it/s]"
          ]
        },
        {
          "output_type": "stream",
          "name": "stdout",
          "text": [
            "| epoch   6 | 32500/32580 batches | loss    0.715 \n",
            "money: him, much, not, them, use, sense, fact, seen, way, nine\n",
            "lion: branwell, boys, melbourne, purpose, placed, refurbished, letter, flutes, politician, nativity\n",
            "africa: america, europe, germany, united, north, india, east, south, nine, england\n",
            "musician: singer, actor, born, english, actress, music, american, author, poet, writer\n",
            "dance: music, history, modern, china, traditional, country, article, contemporary, hungary, football\n",
            "\n",
            "\n"
          ]
        },
        {
          "output_type": "stream",
          "name": "stderr",
          "text": [
            "32580it [11:04, 49.03it/s]\n",
            "1it [00:01,  1.91s/it]"
          ]
        },
        {
          "output_type": "stream",
          "name": "stdout",
          "text": [
            "| epoch   7 |     0/32580 batches | loss    0.743 \n",
            "money: him, much, not, them, use, sense, fact, seen, way, nine\n",
            "lion: branwell, boys, melbourne, purpose, placed, refurbished, letter, flutes, politician, nativity\n",
            "africa: america, europe, germany, united, north, india, east, south, nine, england\n",
            "musician: singer, actor, born, english, actress, music, american, author, poet, writer\n",
            "dance: music, history, modern, china, traditional, country, article, contemporary, hungary, football\n",
            "\n",
            "\n"
          ]
        },
        {
          "output_type": "stream",
          "name": "stderr",
          "text": [
            "499it [00:11, 51.09it/s]"
          ]
        },
        {
          "output_type": "stream",
          "name": "stdout",
          "text": [
            "| epoch   7 |   500/32580 batches | loss    0.716 \n",
            "money: him, much, not, them, use, sense, fact, seen, way, nine\n",
            "lion: branwell, boys, melbourne, purpose, placed, refurbished, letter, flutes, politician, nativity\n",
            "africa: america, europe, germany, united, north, india, east, south, nine, england\n",
            "musician: singer, actor, born, english, actress, music, american, author, poet, writer\n",
            "dance: music, history, modern, china, traditional, country, article, contemporary, hungary, football\n",
            "\n",
            "\n"
          ]
        },
        {
          "output_type": "stream",
          "name": "stderr",
          "text": [
            "998it [00:21, 51.40it/s]"
          ]
        },
        {
          "output_type": "stream",
          "name": "stdout",
          "text": [
            "| epoch   7 |  1000/32580 batches | loss    0.717 \n",
            "money: him, much, not, them, use, sense, fact, seen, way, nine\n",
            "lion: branwell, boys, melbourne, purpose, placed, refurbished, letter, flutes, politician, nativity\n",
            "africa: america, europe, germany, united, north, india, east, south, nine, england\n",
            "musician: singer, actor, born, english, actress, music, american, author, poet, writer\n",
            "dance: music, history, modern, china, traditional, country, article, contemporary, hungary, football\n",
            "\n",
            "\n"
          ]
        },
        {
          "output_type": "stream",
          "name": "stderr",
          "text": [
            "1499it [00:31, 52.21it/s]"
          ]
        },
        {
          "output_type": "stream",
          "name": "stdout",
          "text": [
            "| epoch   7 |  1500/32580 batches | loss    0.716 \n",
            "money: him, much, not, them, use, sense, fact, seen, way, nine\n",
            "lion: branwell, boys, melbourne, purpose, placed, refurbished, letter, flutes, politician, nativity\n",
            "africa: america, europe, germany, united, north, india, east, south, nine, england\n",
            "musician: singer, actor, born, english, actress, music, american, author, poet, writer\n",
            "dance: music, history, modern, china, traditional, country, article, contemporary, hungary, football\n",
            "\n",
            "\n"
          ]
        },
        {
          "output_type": "stream",
          "name": "stderr",
          "text": [
            "1996it [00:41, 51.20it/s]"
          ]
        },
        {
          "output_type": "stream",
          "name": "stdout",
          "text": [
            "| epoch   7 |  2000/32580 batches | loss    0.715 \n",
            "money: him, much, not, them, use, sense, fact, seen, way, nine\n",
            "lion: branwell, boys, melbourne, purpose, placed, refurbished, letter, flutes, politician, nativity\n",
            "africa: america, europe, germany, united, north, india, east, south, nine, england\n",
            "musician: singer, actor, born, english, actress, music, american, author, poet, writer\n",
            "dance: music, history, modern, china, traditional, country, article, contemporary, hungary, football\n",
            "\n",
            "\n"
          ]
        },
        {
          "output_type": "stream",
          "name": "stderr",
          "text": [
            "2498it [00:51, 51.31it/s]"
          ]
        },
        {
          "output_type": "stream",
          "name": "stdout",
          "text": [
            "| epoch   7 |  2500/32580 batches | loss    0.717 \n",
            "money: him, much, not, them, use, sense, fact, seen, way, nine\n",
            "lion: branwell, boys, melbourne, purpose, placed, refurbished, letter, flutes, politician, nativity\n",
            "africa: america, europe, germany, united, north, india, east, south, nine, england\n",
            "musician: singer, actor, born, english, actress, music, american, author, poet, writer\n",
            "dance: music, history, modern, china, traditional, country, article, contemporary, hungary, football\n",
            "\n",
            "\n"
          ]
        },
        {
          "output_type": "stream",
          "name": "stderr",
          "text": [
            "2998it [01:01, 51.14it/s]"
          ]
        },
        {
          "output_type": "stream",
          "name": "stdout",
          "text": [
            "| epoch   7 |  3000/32580 batches | loss    0.718 \n",
            "money: him, much, not, them, use, sense, fact, seen, way, nine\n",
            "lion: branwell, boys, melbourne, purpose, placed, refurbished, letter, flutes, politician, nativity\n",
            "africa: america, europe, germany, united, north, india, east, south, nine, england\n",
            "musician: singer, actor, born, english, actress, music, american, author, poet, writer\n",
            "dance: music, history, modern, china, traditional, country, article, contemporary, hungary, football\n",
            "\n",
            "\n"
          ]
        },
        {
          "output_type": "stream",
          "name": "stderr",
          "text": [
            "3497it [01:11, 50.76it/s]"
          ]
        },
        {
          "output_type": "stream",
          "name": "stdout",
          "text": [
            "| epoch   7 |  3500/32580 batches | loss    0.717 \n",
            "money: him, much, not, them, use, sense, fact, seen, way, nine\n",
            "lion: branwell, boys, melbourne, purpose, placed, refurbished, letter, flutes, politician, nativity\n",
            "africa: america, europe, germany, united, north, india, east, south, nine, england\n",
            "musician: singer, actor, born, english, actress, music, american, author, poet, writer\n",
            "dance: music, history, modern, china, traditional, country, article, contemporary, hungary, football\n",
            "\n",
            "\n"
          ]
        },
        {
          "output_type": "stream",
          "name": "stderr",
          "text": [
            "3997it [01:21, 51.93it/s]"
          ]
        },
        {
          "output_type": "stream",
          "name": "stdout",
          "text": [
            "| epoch   7 |  4000/32580 batches | loss    0.716 \n",
            "money: him, much, not, them, use, sense, fact, seen, way, nine\n",
            "lion: branwell, boys, melbourne, purpose, placed, refurbished, letter, flutes, politician, nativity\n",
            "africa: america, europe, germany, united, north, india, east, south, nine, england\n",
            "musician: singer, actor, born, english, actress, music, american, author, poet, writer\n",
            "dance: music, history, modern, china, traditional, country, article, contemporary, hungary, football\n",
            "\n",
            "\n"
          ]
        },
        {
          "output_type": "stream",
          "name": "stderr",
          "text": [
            "4499it [01:32, 51.47it/s]"
          ]
        },
        {
          "output_type": "stream",
          "name": "stdout",
          "text": [
            "| epoch   7 |  4500/32580 batches | loss    0.716 \n",
            "money: him, much, not, them, use, sense, fact, seen, way, nine\n",
            "lion: branwell, boys, melbourne, purpose, placed, refurbished, letter, flutes, politician, nativity\n",
            "africa: america, europe, germany, united, north, india, east, south, nine, england\n",
            "musician: singer, actor, born, english, actress, music, american, author, poet, writer\n",
            "dance: music, history, modern, china, traditional, country, article, contemporary, hungary, football\n",
            "\n",
            "\n"
          ]
        },
        {
          "output_type": "stream",
          "name": "stderr",
          "text": [
            "5001it [01:42, 33.91it/s]"
          ]
        },
        {
          "output_type": "stream",
          "name": "stdout",
          "text": [
            "| epoch   7 |  5000/32580 batches | loss    0.716 \n",
            "money: him, much, not, them, use, sense, fact, seen, way, nine\n",
            "lion: branwell, boys, melbourne, purpose, placed, refurbished, letter, flutes, politician, nativity\n",
            "africa: america, europe, germany, united, north, india, east, south, nine, england\n",
            "musician: singer, actor, born, english, actress, music, american, author, poet, writer\n",
            "dance: music, history, modern, china, traditional, country, article, contemporary, hungary, football\n",
            "\n",
            "\n"
          ]
        },
        {
          "output_type": "stream",
          "name": "stderr",
          "text": [
            "5500it [01:52, 48.47it/s]"
          ]
        },
        {
          "output_type": "stream",
          "name": "stdout",
          "text": [
            "| epoch   7 |  5500/32580 batches | loss    0.713 \n",
            "money: him, much, not, them, use, sense, fact, seen, way, nine\n",
            "lion: branwell, boys, melbourne, purpose, placed, refurbished, letter, flutes, politician, nativity\n",
            "africa: america, europe, germany, united, north, india, east, south, nine, england\n",
            "musician: singer, actor, born, english, actress, music, american, author, poet, writer\n",
            "dance: music, history, modern, china, traditional, country, article, contemporary, hungary, football\n",
            "\n",
            "\n"
          ]
        },
        {
          "output_type": "stream",
          "name": "stderr",
          "text": [
            "5997it [02:03, 48.24it/s]"
          ]
        },
        {
          "output_type": "stream",
          "name": "stdout",
          "text": [
            "| epoch   7 |  6000/32580 batches | loss    0.715 \n",
            "money: him, much, not, them, use, sense, fact, seen, way, nine\n",
            "lion: branwell, boys, melbourne, purpose, placed, refurbished, letter, flutes, politician, nativity\n",
            "africa: america, europe, germany, united, north, india, east, south, nine, england\n",
            "musician: singer, actor, born, english, actress, music, american, author, poet, writer\n",
            "dance: music, history, modern, china, traditional, country, article, contemporary, hungary, football\n",
            "\n",
            "\n"
          ]
        },
        {
          "output_type": "stream",
          "name": "stderr",
          "text": [
            "6498it [02:13, 50.29it/s]"
          ]
        },
        {
          "output_type": "stream",
          "name": "stdout",
          "text": [
            "| epoch   7 |  6500/32580 batches | loss    0.718 \n",
            "money: him, much, not, them, use, sense, fact, seen, way, nine\n",
            "lion: branwell, boys, melbourne, purpose, placed, refurbished, letter, flutes, politician, nativity\n",
            "africa: america, europe, germany, united, north, india, east, south, nine, england\n",
            "musician: singer, actor, born, english, actress, music, american, author, poet, writer\n",
            "dance: music, history, modern, china, traditional, country, article, contemporary, hungary, football\n",
            "\n",
            "\n"
          ]
        },
        {
          "output_type": "stream",
          "name": "stderr",
          "text": [
            "6998it [02:23, 50.06it/s]"
          ]
        },
        {
          "output_type": "stream",
          "name": "stdout",
          "text": [
            "| epoch   7 |  7000/32580 batches | loss    0.718 \n",
            "money: him, much, not, them, use, sense, fact, seen, way, nine\n",
            "lion: branwell, boys, melbourne, purpose, placed, refurbished, letter, flutes, politician, nativity\n",
            "africa: america, europe, germany, united, north, india, east, south, nine, england\n",
            "musician: singer, actor, born, english, actress, music, american, author, poet, writer\n",
            "dance: music, history, modern, china, traditional, country, article, contemporary, hungary, football\n",
            "\n",
            "\n"
          ]
        },
        {
          "output_type": "stream",
          "name": "stderr",
          "text": [
            "7497it [02:33, 49.55it/s]"
          ]
        },
        {
          "output_type": "stream",
          "name": "stdout",
          "text": [
            "| epoch   7 |  7500/32580 batches | loss    0.717 \n",
            "money: him, much, not, them, use, sense, fact, seen, way, nine\n",
            "lion: branwell, boys, melbourne, purpose, placed, refurbished, letter, flutes, politician, nativity\n",
            "africa: america, europe, germany, united, north, india, east, south, nine, england\n",
            "musician: singer, actor, born, english, actress, music, american, author, poet, writer\n",
            "dance: music, history, modern, china, traditional, country, article, contemporary, hungary, football\n",
            "\n",
            "\n"
          ]
        },
        {
          "output_type": "stream",
          "name": "stderr",
          "text": [
            "7999it [02:44, 50.06it/s]"
          ]
        },
        {
          "output_type": "stream",
          "name": "stdout",
          "text": [
            "| epoch   7 |  8000/32580 batches | loss    0.716 \n",
            "money: him, much, not, them, use, sense, fact, seen, way, nine\n",
            "lion: branwell, boys, melbourne, purpose, placed, refurbished, letter, flutes, politician, nativity\n",
            "africa: america, europe, germany, united, north, india, east, south, nine, england\n",
            "musician: singer, actor, born, english, actress, music, american, author, poet, writer\n",
            "dance: music, history, modern, china, traditional, country, article, contemporary, hungary, football\n",
            "\n",
            "\n"
          ]
        },
        {
          "output_type": "stream",
          "name": "stderr",
          "text": [
            "8500it [02:54, 49.96it/s]"
          ]
        },
        {
          "output_type": "stream",
          "name": "stdout",
          "text": [
            "| epoch   7 |  8500/32580 batches | loss    0.717 \n",
            "money: him, much, not, them, use, sense, fact, seen, way, nine\n",
            "lion: branwell, boys, melbourne, purpose, placed, refurbished, letter, flutes, politician, nativity\n",
            "africa: america, europe, germany, united, north, india, east, south, nine, england\n",
            "musician: singer, actor, born, english, actress, music, american, author, poet, writer\n",
            "dance: music, history, modern, china, traditional, country, article, contemporary, hungary, football\n",
            "\n",
            "\n"
          ]
        },
        {
          "output_type": "stream",
          "name": "stderr",
          "text": [
            "8996it [03:04, 51.15it/s]"
          ]
        },
        {
          "output_type": "stream",
          "name": "stdout",
          "text": [
            "| epoch   7 |  9000/32580 batches | loss    0.714 \n",
            "money: him, much, not, them, use, sense, fact, seen, way, nine\n",
            "lion: branwell, boys, melbourne, purpose, placed, refurbished, letter, flutes, politician, nativity\n",
            "africa: america, europe, germany, united, north, india, east, south, nine, england\n",
            "musician: singer, actor, born, english, actress, music, american, author, poet, writer\n",
            "dance: music, history, modern, china, traditional, country, article, contemporary, hungary, football\n",
            "\n",
            "\n"
          ]
        },
        {
          "output_type": "stream",
          "name": "stderr",
          "text": [
            "9499it [03:14, 51.60it/s]"
          ]
        },
        {
          "output_type": "stream",
          "name": "stdout",
          "text": [
            "| epoch   7 |  9500/32580 batches | loss    0.715 \n",
            "money: him, much, not, them, use, sense, fact, seen, way, nine\n",
            "lion: branwell, boys, melbourne, purpose, placed, refurbished, letter, flutes, politician, nativity\n",
            "africa: america, europe, germany, united, north, india, east, south, nine, england\n",
            "musician: singer, actor, born, english, actress, music, american, author, poet, writer\n",
            "dance: music, history, modern, china, traditional, country, article, contemporary, hungary, football\n",
            "\n",
            "\n"
          ]
        },
        {
          "output_type": "stream",
          "name": "stderr",
          "text": [
            "9999it [03:24, 48.84it/s]"
          ]
        },
        {
          "output_type": "stream",
          "name": "stdout",
          "text": [
            "| epoch   7 | 10000/32580 batches | loss    0.714 \n",
            "money: him, much, not, them, use, sense, fact, seen, way, nine\n",
            "lion: branwell, boys, melbourne, purpose, placed, refurbished, letter, flutes, politician, nativity\n",
            "africa: america, europe, germany, united, north, india, east, south, nine, england\n",
            "musician: singer, actor, born, english, actress, music, american, author, poet, writer\n",
            "dance: music, history, modern, china, traditional, country, article, contemporary, hungary, football\n",
            "\n",
            "\n"
          ]
        },
        {
          "output_type": "stream",
          "name": "stderr",
          "text": [
            "10499it [03:34, 51.03it/s]"
          ]
        },
        {
          "output_type": "stream",
          "name": "stdout",
          "text": [
            "| epoch   7 | 10500/32580 batches | loss    0.714 \n",
            "money: him, much, not, them, use, sense, fact, seen, way, nine\n",
            "lion: branwell, boys, melbourne, purpose, placed, refurbished, letter, flutes, politician, nativity\n",
            "africa: america, europe, germany, united, north, india, east, south, nine, england\n",
            "musician: singer, actor, born, english, actress, music, american, author, poet, writer\n",
            "dance: music, history, modern, china, traditional, country, article, contemporary, hungary, football\n",
            "\n",
            "\n"
          ]
        },
        {
          "output_type": "stream",
          "name": "stderr",
          "text": [
            "10997it [03:44, 49.81it/s]"
          ]
        },
        {
          "output_type": "stream",
          "name": "stdout",
          "text": [
            "| epoch   7 | 11000/32580 batches | loss    0.717 \n",
            "money: him, much, not, them, use, sense, fact, seen, way, nine\n",
            "lion: branwell, boys, melbourne, purpose, placed, refurbished, letter, flutes, politician, nativity\n",
            "africa: america, europe, germany, united, north, india, east, south, nine, england\n",
            "musician: singer, actor, born, english, actress, music, american, author, poet, writer\n",
            "dance: music, history, modern, china, traditional, country, article, contemporary, hungary, football\n",
            "\n",
            "\n"
          ]
        },
        {
          "output_type": "stream",
          "name": "stderr",
          "text": [
            "11497it [03:54, 50.39it/s]"
          ]
        },
        {
          "output_type": "stream",
          "name": "stdout",
          "text": [
            "| epoch   7 | 11500/32580 batches | loss    0.718 \n",
            "money: him, much, not, them, use, sense, fact, seen, way, nine\n",
            "lion: branwell, boys, melbourne, purpose, placed, refurbished, letter, flutes, politician, nativity\n",
            "africa: america, europe, germany, united, north, india, east, south, nine, england\n",
            "musician: singer, actor, born, english, actress, music, american, author, poet, writer\n",
            "dance: music, history, modern, china, traditional, country, article, contemporary, hungary, football\n",
            "\n",
            "\n"
          ]
        },
        {
          "output_type": "stream",
          "name": "stderr",
          "text": [
            "11998it [04:05, 48.26it/s]"
          ]
        },
        {
          "output_type": "stream",
          "name": "stdout",
          "text": [
            "| epoch   7 | 12000/32580 batches | loss    0.714 \n",
            "money: him, much, not, them, use, sense, fact, seen, way, nine\n",
            "lion: branwell, boys, melbourne, purpose, placed, refurbished, letter, flutes, politician, nativity\n",
            "africa: america, europe, germany, united, north, india, east, south, nine, england\n",
            "musician: singer, actor, born, english, actress, music, american, author, poet, writer\n",
            "dance: music, history, modern, china, traditional, country, article, contemporary, hungary, football\n",
            "\n",
            "\n"
          ]
        },
        {
          "output_type": "stream",
          "name": "stderr",
          "text": [
            "12496it [04:15, 50.53it/s]"
          ]
        },
        {
          "output_type": "stream",
          "name": "stdout",
          "text": [
            "| epoch   7 | 12500/32580 batches | loss    0.716 \n",
            "money: him, much, not, them, use, sense, fact, seen, way, nine\n",
            "lion: branwell, boys, melbourne, purpose, placed, refurbished, letter, flutes, politician, nativity\n",
            "africa: america, europe, germany, united, north, india, east, south, nine, england\n",
            "musician: singer, actor, born, english, actress, music, american, author, poet, writer\n",
            "dance: music, history, modern, china, traditional, country, article, contemporary, hungary, football\n",
            "\n",
            "\n"
          ]
        },
        {
          "output_type": "stream",
          "name": "stderr",
          "text": [
            "12998it [04:25, 50.59it/s]"
          ]
        },
        {
          "output_type": "stream",
          "name": "stdout",
          "text": [
            "| epoch   7 | 13000/32580 batches | loss    0.714 \n",
            "money: him, much, not, them, use, sense, fact, seen, way, nine\n",
            "lion: branwell, boys, melbourne, purpose, placed, refurbished, letter, flutes, politician, nativity\n",
            "africa: america, europe, germany, united, north, india, east, south, nine, england\n",
            "musician: singer, actor, born, english, actress, music, american, author, poet, writer\n",
            "dance: music, history, modern, china, traditional, country, article, contemporary, hungary, football\n",
            "\n",
            "\n"
          ]
        },
        {
          "output_type": "stream",
          "name": "stderr",
          "text": [
            "13498it [04:36, 50.91it/s]"
          ]
        },
        {
          "output_type": "stream",
          "name": "stdout",
          "text": [
            "| epoch   7 | 13500/32580 batches | loss    0.715 \n",
            "money: him, much, not, them, use, sense, fact, seen, way, nine\n",
            "lion: branwell, boys, melbourne, purpose, placed, refurbished, letter, flutes, politician, nativity\n",
            "africa: america, europe, germany, united, north, india, east, south, nine, england\n",
            "musician: singer, actor, born, english, actress, music, american, author, poet, writer\n",
            "dance: music, history, modern, china, traditional, country, article, contemporary, hungary, football\n",
            "\n",
            "\n"
          ]
        },
        {
          "output_type": "stream",
          "name": "stderr",
          "text": [
            "14000it [04:49, 50.87it/s]"
          ]
        },
        {
          "output_type": "stream",
          "name": "stdout",
          "text": [
            "| epoch   7 | 14000/32580 batches | loss    0.716 \n",
            "money: him, much, not, them, use, sense, fact, seen, way, nine\n",
            "lion: branwell, boys, melbourne, purpose, placed, refurbished, letter, flutes, politician, nativity\n",
            "africa: america, europe, germany, united, north, india, east, south, nine, england\n",
            "musician: singer, actor, born, english, actress, music, american, author, poet, writer\n",
            "dance: music, history, modern, china, traditional, country, article, contemporary, hungary, football\n",
            "\n",
            "\n"
          ]
        },
        {
          "output_type": "stream",
          "name": "stderr",
          "text": [
            "14496it [04:59, 51.28it/s]"
          ]
        },
        {
          "output_type": "stream",
          "name": "stdout",
          "text": [
            "| epoch   7 | 14500/32580 batches | loss    0.715 \n",
            "money: him, much, not, them, use, sense, fact, seen, way, nine\n",
            "lion: branwell, boys, melbourne, purpose, placed, refurbished, letter, flutes, politician, nativity\n",
            "africa: america, europe, germany, united, north, india, east, south, nine, england\n",
            "musician: singer, actor, born, english, actress, music, american, author, poet, writer\n",
            "dance: music, history, modern, china, traditional, country, article, contemporary, hungary, football\n",
            "\n",
            "\n"
          ]
        },
        {
          "output_type": "stream",
          "name": "stderr",
          "text": [
            "14997it [05:09, 50.46it/s]"
          ]
        },
        {
          "output_type": "stream",
          "name": "stdout",
          "text": [
            "| epoch   7 | 15000/32580 batches | loss    0.716 \n",
            "money: him, much, not, them, use, sense, fact, seen, way, nine\n",
            "lion: branwell, boys, melbourne, purpose, placed, refurbished, letter, flutes, politician, nativity\n",
            "africa: america, europe, germany, united, north, india, east, south, nine, england\n",
            "musician: singer, actor, born, english, actress, music, american, author, poet, writer\n",
            "dance: music, history, modern, china, traditional, country, article, contemporary, hungary, football\n",
            "\n",
            "\n"
          ]
        },
        {
          "output_type": "stream",
          "name": "stderr",
          "text": [
            "15497it [05:19, 49.81it/s]"
          ]
        },
        {
          "output_type": "stream",
          "name": "stdout",
          "text": [
            "| epoch   7 | 15500/32580 batches | loss    0.715 \n",
            "money: him, much, not, them, use, sense, fact, seen, way, nine\n",
            "lion: branwell, boys, melbourne, purpose, placed, refurbished, letter, flutes, politician, nativity\n",
            "africa: america, europe, germany, united, north, india, east, south, nine, england\n",
            "musician: singer, actor, born, english, actress, music, american, author, poet, writer\n",
            "dance: music, history, modern, china, traditional, country, article, contemporary, hungary, football\n",
            "\n",
            "\n"
          ]
        },
        {
          "output_type": "stream",
          "name": "stderr",
          "text": [
            "16000it [05:29, 49.37it/s]"
          ]
        },
        {
          "output_type": "stream",
          "name": "stdout",
          "text": [
            "| epoch   7 | 16000/32580 batches | loss    0.715 \n",
            "money: him, much, not, them, use, sense, fact, seen, way, nine\n",
            "lion: branwell, boys, melbourne, purpose, placed, refurbished, letter, flutes, politician, nativity\n",
            "africa: america, europe, germany, united, north, india, east, south, nine, england\n",
            "musician: singer, actor, born, english, actress, music, american, author, poet, writer\n",
            "dance: music, history, modern, china, traditional, country, article, contemporary, hungary, football\n",
            "\n",
            "\n"
          ]
        },
        {
          "output_type": "stream",
          "name": "stderr",
          "text": [
            "16500it [05:40, 48.99it/s]"
          ]
        },
        {
          "output_type": "stream",
          "name": "stdout",
          "text": [
            "| epoch   7 | 16500/32580 batches | loss    0.718 \n",
            "money: him, much, not, them, use, sense, fact, seen, way, nine\n",
            "lion: branwell, boys, melbourne, purpose, placed, refurbished, letter, flutes, politician, nativity\n",
            "africa: america, europe, germany, united, north, india, east, south, nine, england\n",
            "musician: singer, actor, born, english, actress, music, american, author, poet, writer\n",
            "dance: music, history, modern, china, traditional, country, article, contemporary, hungary, football\n",
            "\n",
            "\n"
          ]
        },
        {
          "output_type": "stream",
          "name": "stderr",
          "text": [
            "16997it [05:50, 50.27it/s]"
          ]
        },
        {
          "output_type": "stream",
          "name": "stdout",
          "text": [
            "| epoch   7 | 17000/32580 batches | loss    0.716 \n",
            "money: him, much, not, them, use, sense, fact, seen, way, nine\n",
            "lion: branwell, boys, melbourne, purpose, placed, refurbished, letter, flutes, politician, nativity\n",
            "africa: america, europe, germany, united, north, india, east, south, nine, england\n",
            "musician: singer, actor, born, english, actress, music, american, author, poet, writer\n",
            "dance: music, history, modern, china, traditional, country, article, contemporary, hungary, football\n",
            "\n",
            "\n"
          ]
        },
        {
          "output_type": "stream",
          "name": "stderr",
          "text": [
            "17499it [06:00, 49.54it/s]"
          ]
        },
        {
          "output_type": "stream",
          "name": "stdout",
          "text": [
            "| epoch   7 | 17500/32580 batches | loss    0.715 \n",
            "money: him, much, not, them, use, sense, fact, seen, way, nine\n",
            "lion: branwell, boys, melbourne, purpose, placed, refurbished, letter, flutes, politician, nativity\n",
            "africa: america, europe, germany, united, north, india, east, south, nine, england\n",
            "musician: singer, actor, born, english, actress, music, american, author, poet, writer\n",
            "dance: music, history, modern, china, traditional, country, article, contemporary, hungary, football\n",
            "\n",
            "\n"
          ]
        },
        {
          "output_type": "stream",
          "name": "stderr",
          "text": [
            "18001it [06:11, 32.67it/s]"
          ]
        },
        {
          "output_type": "stream",
          "name": "stdout",
          "text": [
            "| epoch   7 | 18000/32580 batches | loss    0.717 \n",
            "money: him, much, not, them, use, sense, fact, seen, way, nine\n",
            "lion: branwell, boys, melbourne, purpose, placed, refurbished, letter, flutes, politician, nativity\n",
            "africa: america, europe, germany, united, north, india, east, south, nine, england\n",
            "musician: singer, actor, born, english, actress, music, american, author, poet, writer\n",
            "dance: music, history, modern, china, traditional, country, article, contemporary, hungary, football\n",
            "\n",
            "\n"
          ]
        },
        {
          "output_type": "stream",
          "name": "stderr",
          "text": [
            "18501it [06:21, 34.01it/s]"
          ]
        },
        {
          "output_type": "stream",
          "name": "stdout",
          "text": [
            "| epoch   7 | 18500/32580 batches | loss    0.718 \n",
            "money: him, much, not, them, use, sense, fact, seen, way, nine\n",
            "lion: branwell, boys, melbourne, purpose, placed, refurbished, letter, flutes, politician, nativity\n",
            "africa: america, europe, germany, united, north, india, east, south, nine, england\n",
            "musician: singer, actor, born, english, actress, music, american, author, poet, writer\n",
            "dance: music, history, modern, china, traditional, country, article, contemporary, hungary, football\n",
            "\n",
            "\n"
          ]
        },
        {
          "output_type": "stream",
          "name": "stderr",
          "text": [
            "19000it [06:31, 50.47it/s]"
          ]
        },
        {
          "output_type": "stream",
          "name": "stdout",
          "text": [
            "| epoch   7 | 19000/32580 batches | loss    0.715 \n",
            "money: him, much, not, them, use, sense, fact, seen, way, nine\n",
            "lion: branwell, boys, melbourne, purpose, placed, refurbished, letter, flutes, politician, nativity\n",
            "africa: america, europe, germany, united, north, india, east, south, nine, england\n",
            "musician: singer, actor, born, english, actress, music, american, author, poet, writer\n",
            "dance: music, history, modern, china, traditional, country, article, contemporary, hungary, football\n",
            "\n",
            "\n"
          ]
        },
        {
          "output_type": "stream",
          "name": "stderr",
          "text": [
            "19498it [06:41, 47.78it/s]"
          ]
        },
        {
          "output_type": "stream",
          "name": "stdout",
          "text": [
            "| epoch   7 | 19500/32580 batches | loss    0.718 \n",
            "money: him, much, not, them, use, sense, fact, seen, way, nine\n",
            "lion: branwell, boys, melbourne, purpose, placed, refurbished, letter, flutes, politician, nativity\n",
            "africa: america, europe, germany, united, north, india, east, south, nine, england\n",
            "musician: singer, actor, born, english, actress, music, american, author, poet, writer\n",
            "dance: music, history, modern, china, traditional, country, article, contemporary, hungary, football\n",
            "\n",
            "\n"
          ]
        },
        {
          "output_type": "stream",
          "name": "stderr",
          "text": [
            "19996it [06:51, 50.62it/s]"
          ]
        },
        {
          "output_type": "stream",
          "name": "stdout",
          "text": [
            "| epoch   7 | 20000/32580 batches | loss    0.716 \n",
            "money: him, much, not, them, use, sense, fact, seen, way, nine\n",
            "lion: branwell, boys, melbourne, purpose, placed, refurbished, letter, flutes, politician, nativity\n",
            "africa: america, europe, germany, united, north, india, east, south, nine, england\n",
            "musician: singer, actor, born, english, actress, music, american, author, poet, writer\n",
            "dance: music, history, modern, china, traditional, country, article, contemporary, hungary, football\n",
            "\n",
            "\n"
          ]
        },
        {
          "output_type": "stream",
          "name": "stderr",
          "text": [
            "20498it [07:01, 49.06it/s]"
          ]
        },
        {
          "output_type": "stream",
          "name": "stdout",
          "text": [
            "| epoch   7 | 20500/32580 batches | loss    0.715 \n",
            "money: him, much, not, them, use, sense, fact, seen, way, nine\n",
            "lion: branwell, boys, melbourne, purpose, placed, refurbished, letter, flutes, politician, nativity\n",
            "africa: america, europe, germany, united, north, india, east, south, nine, england\n",
            "musician: singer, actor, born, english, actress, music, american, author, poet, writer\n",
            "dance: music, history, modern, china, traditional, country, article, contemporary, hungary, football\n",
            "\n",
            "\n"
          ]
        },
        {
          "output_type": "stream",
          "name": "stderr",
          "text": [
            "21001it [07:12, 34.49it/s]"
          ]
        },
        {
          "output_type": "stream",
          "name": "stdout",
          "text": [
            "| epoch   7 | 21000/32580 batches | loss    0.714 \n",
            "money: him, much, not, them, use, sense, fact, seen, way, nine\n",
            "lion: branwell, boys, melbourne, purpose, placed, refurbished, letter, flutes, politician, nativity\n",
            "africa: america, europe, germany, united, north, india, east, south, nine, england\n",
            "musician: singer, actor, born, english, actress, music, american, author, poet, writer\n",
            "dance: music, history, modern, china, traditional, country, article, contemporary, hungary, football\n",
            "\n",
            "\n"
          ]
        },
        {
          "output_type": "stream",
          "name": "stderr",
          "text": [
            "21498it [07:22, 51.00it/s]"
          ]
        },
        {
          "output_type": "stream",
          "name": "stdout",
          "text": [
            "| epoch   7 | 21500/32580 batches | loss    0.715 \n",
            "money: him, much, not, them, use, sense, fact, seen, way, nine\n",
            "lion: branwell, boys, melbourne, purpose, placed, refurbished, letter, flutes, politician, nativity\n",
            "africa: america, europe, germany, united, north, india, east, south, nine, england\n",
            "musician: singer, actor, born, english, actress, music, american, author, poet, writer\n",
            "dance: music, history, modern, china, traditional, country, article, contemporary, hungary, football\n",
            "\n",
            "\n"
          ]
        },
        {
          "output_type": "stream",
          "name": "stderr",
          "text": [
            "21999it [07:32, 51.68it/s]"
          ]
        },
        {
          "output_type": "stream",
          "name": "stdout",
          "text": [
            "| epoch   7 | 22000/32580 batches | loss    0.716 \n",
            "money: him, much, not, them, use, sense, fact, seen, way, nine\n",
            "lion: branwell, boys, melbourne, purpose, placed, refurbished, letter, flutes, politician, nativity\n",
            "africa: america, europe, germany, united, north, india, east, south, nine, england\n",
            "musician: singer, actor, born, english, actress, music, american, author, poet, writer\n",
            "dance: music, history, modern, china, traditional, country, article, contemporary, hungary, football\n",
            "\n",
            "\n"
          ]
        },
        {
          "output_type": "stream",
          "name": "stderr",
          "text": [
            "22499it [07:42, 50.65it/s]"
          ]
        },
        {
          "output_type": "stream",
          "name": "stdout",
          "text": [
            "| epoch   7 | 22500/32580 batches | loss    0.717 \n",
            "money: him, much, not, them, use, sense, fact, seen, way, nine\n",
            "lion: branwell, boys, melbourne, purpose, placed, refurbished, letter, flutes, politician, nativity\n",
            "africa: america, europe, germany, united, north, india, east, south, nine, england\n",
            "musician: singer, actor, born, english, actress, music, american, author, poet, writer\n",
            "dance: music, history, modern, china, traditional, country, article, contemporary, hungary, football\n",
            "\n",
            "\n"
          ]
        },
        {
          "output_type": "stream",
          "name": "stderr",
          "text": [
            "22996it [07:52, 50.61it/s]"
          ]
        },
        {
          "output_type": "stream",
          "name": "stdout",
          "text": [
            "| epoch   7 | 23000/32580 batches | loss    0.715 \n",
            "money: him, much, not, them, use, sense, fact, seen, way, nine\n",
            "lion: branwell, boys, melbourne, purpose, placed, refurbished, letter, flutes, politician, nativity\n",
            "africa: america, europe, germany, united, north, india, east, south, nine, england\n",
            "musician: singer, actor, born, english, actress, music, american, author, poet, writer\n",
            "dance: music, history, modern, china, traditional, country, article, contemporary, hungary, football\n",
            "\n",
            "\n"
          ]
        },
        {
          "output_type": "stream",
          "name": "stderr",
          "text": [
            "23496it [08:02, 51.25it/s]"
          ]
        },
        {
          "output_type": "stream",
          "name": "stdout",
          "text": [
            "| epoch   7 | 23500/32580 batches | loss    0.717 \n",
            "money: him, much, not, them, use, sense, fact, seen, way, nine\n",
            "lion: branwell, boys, melbourne, purpose, placed, refurbished, letter, flutes, politician, nativity\n",
            "africa: america, europe, germany, united, north, india, east, south, nine, england\n",
            "musician: singer, actor, born, english, actress, music, american, author, poet, writer\n",
            "dance: music, history, modern, china, traditional, country, article, contemporary, hungary, football\n",
            "\n",
            "\n"
          ]
        },
        {
          "output_type": "stream",
          "name": "stderr",
          "text": [
            "24001it [08:12, 34.44it/s]"
          ]
        },
        {
          "output_type": "stream",
          "name": "stdout",
          "text": [
            "| epoch   7 | 24000/32580 batches | loss    0.715 \n",
            "money: him, much, not, them, use, sense, fact, seen, way, nine\n",
            "lion: branwell, boys, melbourne, purpose, placed, refurbished, letter, flutes, politician, nativity\n",
            "africa: america, europe, germany, united, north, india, east, south, nine, england\n",
            "musician: singer, actor, born, english, actress, music, american, author, poet, writer\n",
            "dance: music, history, modern, china, traditional, country, article, contemporary, hungary, football\n",
            "\n",
            "\n"
          ]
        },
        {
          "output_type": "stream",
          "name": "stderr",
          "text": [
            "24497it [08:22, 51.36it/s]"
          ]
        },
        {
          "output_type": "stream",
          "name": "stdout",
          "text": [
            "| epoch   7 | 24500/32580 batches | loss    0.716 \n",
            "money: him, much, not, them, use, sense, fact, seen, way, nine\n",
            "lion: branwell, boys, melbourne, purpose, placed, refurbished, letter, flutes, politician, nativity\n",
            "africa: america, europe, germany, united, north, india, east, south, nine, england\n",
            "musician: singer, actor, born, english, actress, music, american, author, poet, writer\n",
            "dance: music, history, modern, china, traditional, country, article, contemporary, hungary, football\n",
            "\n",
            "\n"
          ]
        },
        {
          "output_type": "stream",
          "name": "stderr",
          "text": [
            "24999it [08:32, 51.79it/s]"
          ]
        },
        {
          "output_type": "stream",
          "name": "stdout",
          "text": [
            "| epoch   7 | 25000/32580 batches | loss    0.718 \n",
            "money: him, much, not, them, use, sense, fact, seen, way, nine\n",
            "lion: branwell, boys, melbourne, purpose, placed, refurbished, letter, flutes, politician, nativity\n",
            "africa: america, europe, germany, united, north, india, east, south, nine, england\n",
            "musician: singer, actor, born, english, actress, music, american, author, poet, writer\n",
            "dance: music, history, modern, china, traditional, country, article, contemporary, hungary, football\n",
            "\n",
            "\n"
          ]
        },
        {
          "output_type": "stream",
          "name": "stderr",
          "text": [
            "25501it [08:42, 33.93it/s]"
          ]
        },
        {
          "output_type": "stream",
          "name": "stdout",
          "text": [
            "| epoch   7 | 25500/32580 batches | loss    0.716 \n",
            "money: him, much, not, them, use, sense, fact, seen, way, nine\n",
            "lion: branwell, boys, melbourne, purpose, placed, refurbished, letter, flutes, politician, nativity\n",
            "africa: america, europe, germany, united, north, india, east, south, nine, england\n",
            "musician: singer, actor, born, english, actress, music, american, author, poet, writer\n",
            "dance: music, history, modern, china, traditional, country, article, contemporary, hungary, football\n",
            "\n",
            "\n"
          ]
        },
        {
          "output_type": "stream",
          "name": "stderr",
          "text": [
            "26000it [08:52, 51.10it/s]"
          ]
        },
        {
          "output_type": "stream",
          "name": "stdout",
          "text": [
            "| epoch   7 | 26000/32580 batches | loss    0.716 \n"
          ]
        },
        {
          "output_type": "stream",
          "name": "stderr",
          "text": [
            "\r26006it [08:52, 30.85it/s]"
          ]
        },
        {
          "output_type": "stream",
          "name": "stdout",
          "text": [
            "money: him, much, not, them, use, sense, fact, seen, way, nine\n",
            "lion: branwell, boys, melbourne, purpose, placed, refurbished, letter, flutes, politician, nativity\n",
            "africa: america, europe, germany, united, north, india, east, south, nine, england\n",
            "musician: singer, actor, born, english, actress, music, american, author, poet, writer\n",
            "dance: music, history, modern, china, traditional, country, article, contemporary, hungary, football\n",
            "\n",
            "\n"
          ]
        },
        {
          "output_type": "stream",
          "name": "stderr",
          "text": [
            "26499it [09:02, 50.87it/s]"
          ]
        },
        {
          "output_type": "stream",
          "name": "stdout",
          "text": [
            "| epoch   7 | 26500/32580 batches | loss    0.716 \n",
            "money: him, much, not, them, use, sense, fact, seen, way, nine\n",
            "lion: branwell, boys, melbourne, purpose, placed, refurbished, letter, flutes, politician, nativity\n",
            "africa: america, europe, germany, united, north, india, east, south, nine, england\n",
            "musician: singer, actor, born, english, actress, music, american, author, poet, writer\n",
            "dance: music, history, modern, china, traditional, country, article, contemporary, hungary, football\n",
            "\n",
            "\n"
          ]
        },
        {
          "output_type": "stream",
          "name": "stderr",
          "text": [
            "26999it [09:12, 51.72it/s]"
          ]
        },
        {
          "output_type": "stream",
          "name": "stdout",
          "text": [
            "| epoch   7 | 27000/32580 batches | loss    0.715 \n",
            "money: him, much, not, them, use, sense, fact, seen, way, nine\n",
            "lion: branwell, boys, melbourne, purpose, placed, refurbished, letter, flutes, politician, nativity\n",
            "africa: america, europe, germany, united, north, india, east, south, nine, england\n",
            "musician: singer, actor, born, english, actress, music, american, author, poet, writer\n",
            "dance: music, history, modern, china, traditional, country, article, contemporary, hungary, football\n",
            "\n",
            "\n"
          ]
        },
        {
          "output_type": "stream",
          "name": "stderr",
          "text": [
            "27497it [09:22, 51.35it/s]"
          ]
        },
        {
          "output_type": "stream",
          "name": "stdout",
          "text": [
            "| epoch   7 | 27500/32580 batches | loss    0.717 \n",
            "money: him, much, not, them, use, sense, fact, seen, way, nine\n",
            "lion: branwell, boys, melbourne, purpose, placed, refurbished, letter, flutes, politician, nativity\n",
            "africa: america, europe, germany, united, north, india, east, south, nine, england\n",
            "musician: singer, actor, born, english, actress, music, american, author, poet, writer\n",
            "dance: music, history, modern, china, traditional, country, article, contemporary, hungary, football\n",
            "\n",
            "\n"
          ]
        },
        {
          "output_type": "stream",
          "name": "stderr",
          "text": [
            "27999it [09:32, 50.95it/s]"
          ]
        },
        {
          "output_type": "stream",
          "name": "stdout",
          "text": [
            "| epoch   7 | 28000/32580 batches | loss    0.718 \n",
            "money: him, much, not, them, use, sense, fact, seen, way, nine\n",
            "lion: branwell, boys, melbourne, purpose, placed, refurbished, letter, flutes, politician, nativity\n",
            "africa: america, europe, germany, united, north, india, east, south, nine, england\n",
            "musician: singer, actor, born, english, actress, music, american, author, poet, writer\n",
            "dance: music, history, modern, china, traditional, country, article, contemporary, hungary, football\n",
            "\n",
            "\n"
          ]
        },
        {
          "output_type": "stream",
          "name": "stderr",
          "text": [
            "28498it [09:42, 50.67it/s]"
          ]
        },
        {
          "output_type": "stream",
          "name": "stdout",
          "text": [
            "| epoch   7 | 28500/32580 batches | loss    0.715 \n",
            "money: him, much, not, them, use, sense, fact, seen, way, nine\n",
            "lion: branwell, boys, melbourne, purpose, placed, refurbished, letter, flutes, politician, nativity\n",
            "africa: america, europe, germany, united, north, india, east, south, nine, england\n",
            "musician: singer, actor, born, english, actress, music, american, author, poet, writer\n",
            "dance: music, history, modern, china, traditional, country, article, contemporary, hungary, football\n",
            "\n",
            "\n"
          ]
        },
        {
          "output_type": "stream",
          "name": "stderr",
          "text": [
            "28996it [09:52, 49.97it/s]"
          ]
        },
        {
          "output_type": "stream",
          "name": "stdout",
          "text": [
            "| epoch   7 | 29000/32580 batches | loss    0.717 \n"
          ]
        },
        {
          "output_type": "stream",
          "name": "stderr",
          "text": [
            "29005it [09:52, 31.12it/s]"
          ]
        },
        {
          "output_type": "stream",
          "name": "stdout",
          "text": [
            "money: him, much, not, them, use, sense, fact, seen, way, nine\n",
            "lion: branwell, boys, melbourne, purpose, placed, refurbished, letter, flutes, politician, nativity\n",
            "africa: america, europe, germany, united, north, india, east, south, nine, england\n",
            "musician: singer, actor, born, english, actress, music, american, author, poet, writer\n",
            "dance: music, history, modern, china, traditional, country, article, contemporary, hungary, football\n",
            "\n",
            "\n"
          ]
        },
        {
          "output_type": "stream",
          "name": "stderr",
          "text": [
            "29499it [10:02, 51.37it/s]"
          ]
        },
        {
          "output_type": "stream",
          "name": "stdout",
          "text": [
            "| epoch   7 | 29500/32580 batches | loss    0.717 \n",
            "money: him, much, not, them, use, sense, fact, seen, way, nine\n",
            "lion: branwell, boys, melbourne, purpose, placed, refurbished, letter, flutes, politician, nativity\n",
            "africa: america, europe, germany, united, north, india, east, south, nine, england\n",
            "musician: singer, actor, born, english, actress, music, american, author, poet, writer\n",
            "dance: music, history, modern, china, traditional, country, article, contemporary, hungary, football\n",
            "\n",
            "\n"
          ]
        },
        {
          "output_type": "stream",
          "name": "stderr",
          "text": [
            "30001it [10:12, 34.95it/s]"
          ]
        },
        {
          "output_type": "stream",
          "name": "stdout",
          "text": [
            "| epoch   7 | 30000/32580 batches | loss    0.714 \n",
            "money: him, much, not, them, use, sense, fact, seen, way, nine\n",
            "lion: branwell, boys, melbourne, purpose, placed, refurbished, letter, flutes, politician, nativity\n",
            "africa: america, europe, germany, united, north, india, east, south, nine, england\n",
            "musician: singer, actor, born, english, actress, music, american, author, poet, writer\n",
            "dance: music, history, modern, china, traditional, country, article, contemporary, hungary, football\n",
            "\n",
            "\n"
          ]
        },
        {
          "output_type": "stream",
          "name": "stderr",
          "text": [
            "30498it [10:22, 51.45it/s]"
          ]
        },
        {
          "output_type": "stream",
          "name": "stdout",
          "text": [
            "| epoch   7 | 30500/32580 batches | loss    0.716 \n",
            "money: him, much, not, them, use, sense, fact, seen, way, nine\n",
            "lion: branwell, boys, melbourne, purpose, placed, refurbished, letter, flutes, politician, nativity\n",
            "africa: america, europe, germany, united, north, india, east, south, nine, england\n",
            "musician: singer, actor, born, english, actress, music, american, author, poet, writer\n",
            "dance: music, history, modern, china, traditional, country, article, contemporary, hungary, football\n",
            "\n",
            "\n"
          ]
        },
        {
          "output_type": "stream",
          "name": "stderr",
          "text": [
            "30998it [10:32, 51.77it/s]"
          ]
        },
        {
          "output_type": "stream",
          "name": "stdout",
          "text": [
            "| epoch   7 | 31000/32580 batches | loss    0.717 \n",
            "money: him, much, not, them, use, sense, fact, seen, way, nine\n",
            "lion: branwell, boys, melbourne, purpose, placed, refurbished, letter, flutes, politician, nativity\n",
            "africa: america, europe, germany, united, north, india, east, south, nine, england\n",
            "musician: singer, actor, born, english, actress, music, american, author, poet, writer\n",
            "dance: music, history, modern, china, traditional, country, article, contemporary, hungary, football\n",
            "\n",
            "\n"
          ]
        },
        {
          "output_type": "stream",
          "name": "stderr",
          "text": [
            "31501it [10:42, 34.14it/s]"
          ]
        },
        {
          "output_type": "stream",
          "name": "stdout",
          "text": [
            "| epoch   7 | 31500/32580 batches | loss    0.715 \n",
            "money: him, much, not, them, use, sense, fact, seen, way, nine\n",
            "lion: branwell, boys, melbourne, purpose, placed, refurbished, letter, flutes, politician, nativity\n",
            "africa: america, europe, germany, united, north, india, east, south, nine, england\n",
            "musician: singer, actor, born, english, actress, music, american, author, poet, writer\n",
            "dance: music, history, modern, china, traditional, country, article, contemporary, hungary, football\n",
            "\n",
            "\n"
          ]
        },
        {
          "output_type": "stream",
          "name": "stderr",
          "text": [
            "31998it [10:52, 50.61it/s]"
          ]
        },
        {
          "output_type": "stream",
          "name": "stdout",
          "text": [
            "| epoch   7 | 32000/32580 batches | loss    0.715 \n",
            "money: him, much, not, them, use, sense, fact, seen, way, nine\n",
            "lion: branwell, boys, melbourne, purpose, placed, refurbished, letter, flutes, politician, nativity\n",
            "africa: america, europe, germany, united, north, india, east, south, nine, england\n",
            "musician: singer, actor, born, english, actress, music, american, author, poet, writer\n",
            "dance: music, history, modern, china, traditional, country, article, contemporary, hungary, football\n",
            "\n",
            "\n"
          ]
        },
        {
          "output_type": "stream",
          "name": "stderr",
          "text": [
            "32500it [11:02, 51.30it/s]"
          ]
        },
        {
          "output_type": "stream",
          "name": "stdout",
          "text": [
            "| epoch   7 | 32500/32580 batches | loss    0.716 \n",
            "money: him, much, not, them, use, sense, fact, seen, way, nine\n",
            "lion: branwell, boys, melbourne, purpose, placed, refurbished, letter, flutes, politician, nativity\n",
            "africa: america, europe, germany, united, north, india, east, south, nine, england\n",
            "musician: singer, actor, born, english, actress, music, american, author, poet, writer\n",
            "dance: music, history, modern, china, traditional, country, article, contemporary, hungary, football\n",
            "\n",
            "\n"
          ]
        },
        {
          "output_type": "stream",
          "name": "stderr",
          "text": [
            "32580it [11:05, 48.92it/s]\n",
            "1it [00:01,  1.76s/it]"
          ]
        },
        {
          "output_type": "stream",
          "name": "stdout",
          "text": [
            "| epoch   8 |     0/32580 batches | loss    0.771 \n",
            "money: him, much, not, them, use, sense, fact, seen, way, nine\n",
            "lion: branwell, boys, melbourne, purpose, placed, refurbished, letter, flutes, politician, nativity\n",
            "africa: america, europe, germany, united, north, india, east, south, nine, england\n",
            "musician: singer, actor, born, english, actress, music, american, author, poet, writer\n",
            "dance: music, history, modern, china, traditional, country, article, contemporary, hungary, football\n",
            "\n",
            "\n"
          ]
        },
        {
          "output_type": "stream",
          "name": "stderr",
          "text": [
            "501it [00:11, 34.06it/s]"
          ]
        },
        {
          "output_type": "stream",
          "name": "stdout",
          "text": [
            "| epoch   8 |   500/32580 batches | loss    0.716 \n",
            "money: him, much, not, them, use, sense, fact, seen, way, nine\n",
            "lion: branwell, boys, melbourne, purpose, placed, refurbished, letter, flutes, politician, nativity\n",
            "africa: america, europe, germany, united, north, india, east, south, nine, england\n",
            "musician: singer, actor, born, english, actress, music, american, author, poet, writer\n",
            "dance: music, history, modern, china, traditional, country, article, contemporary, hungary, football\n",
            "\n",
            "\n"
          ]
        },
        {
          "output_type": "stream",
          "name": "stderr",
          "text": [
            "998it [00:21, 50.24it/s]"
          ]
        },
        {
          "output_type": "stream",
          "name": "stdout",
          "text": [
            "| epoch   8 |  1000/32580 batches | loss    0.716 \n",
            "money: him, much, not, them, use, sense, fact, seen, way, nine\n",
            "lion: branwell, boys, melbourne, purpose, placed, refurbished, letter, flutes, politician, nativity\n",
            "africa: america, europe, germany, united, north, india, east, south, nine, england\n",
            "musician: singer, actor, born, english, actress, music, american, author, poet, writer\n",
            "dance: music, history, modern, china, traditional, country, article, contemporary, hungary, football\n",
            "\n",
            "\n"
          ]
        },
        {
          "output_type": "stream",
          "name": "stderr",
          "text": [
            "1500it [00:31, 50.67it/s]"
          ]
        },
        {
          "output_type": "stream",
          "name": "stdout",
          "text": [
            "| epoch   8 |  1500/32580 batches | loss    0.715 \n",
            "money: him, much, not, them, use, sense, fact, seen, way, nine\n",
            "lion: branwell, boys, melbourne, purpose, placed, refurbished, letter, flutes, politician, nativity\n",
            "africa: america, europe, germany, united, north, india, east, south, nine, england\n",
            "musician: singer, actor, born, english, actress, music, american, author, poet, writer\n",
            "dance: music, history, modern, china, traditional, country, article, contemporary, hungary, football\n",
            "\n",
            "\n"
          ]
        },
        {
          "output_type": "stream",
          "name": "stderr",
          "text": [
            "2001it [00:42, 34.26it/s]"
          ]
        },
        {
          "output_type": "stream",
          "name": "stdout",
          "text": [
            "| epoch   8 |  2000/32580 batches | loss    0.715 \n",
            "money: him, much, not, them, use, sense, fact, seen, way, nine\n",
            "lion: branwell, boys, melbourne, purpose, placed, refurbished, letter, flutes, politician, nativity\n",
            "africa: america, europe, germany, united, north, india, east, south, nine, england\n",
            "musician: singer, actor, born, english, actress, music, american, author, poet, writer\n",
            "dance: music, history, modern, china, traditional, country, article, contemporary, hungary, football\n",
            "\n",
            "\n"
          ]
        },
        {
          "output_type": "stream",
          "name": "stderr",
          "text": [
            "2497it [00:51, 50.54it/s]"
          ]
        },
        {
          "output_type": "stream",
          "name": "stdout",
          "text": [
            "| epoch   8 |  2500/32580 batches | loss    0.717 \n",
            "money: him, much, not, them, use, sense, fact, seen, way, nine\n",
            "lion: branwell, boys, melbourne, purpose, placed, refurbished, letter, flutes, politician, nativity\n",
            "africa: america, europe, germany, united, north, india, east, south, nine, england\n",
            "musician: singer, actor, born, english, actress, music, american, author, poet, writer\n",
            "dance: music, history, modern, china, traditional, country, article, contemporary, hungary, football\n",
            "\n",
            "\n"
          ]
        },
        {
          "output_type": "stream",
          "name": "stderr",
          "text": [
            "3000it [01:02, 50.96it/s]"
          ]
        },
        {
          "output_type": "stream",
          "name": "stdout",
          "text": [
            "| epoch   8 |  3000/32580 batches | loss    0.716 \n",
            "money: him, much, not, them, use, sense, fact, seen, way, nine\n",
            "lion: branwell, boys, melbourne, purpose, placed, refurbished, letter, flutes, politician, nativity\n",
            "africa: america, europe, germany, united, north, india, east, south, nine, england\n",
            "musician: singer, actor, born, english, actress, music, american, author, poet, writer\n",
            "dance: music, history, modern, china, traditional, country, article, contemporary, hungary, football\n",
            "\n",
            "\n"
          ]
        },
        {
          "output_type": "stream",
          "name": "stderr",
          "text": [
            "3499it [01:12, 47.76it/s]"
          ]
        },
        {
          "output_type": "stream",
          "name": "stdout",
          "text": [
            "| epoch   8 |  3500/32580 batches | loss    0.717 \n",
            "money: him, much, not, them, use, sense, fact, seen, way, nine\n",
            "lion: branwell, boys, melbourne, purpose, placed, refurbished, letter, flutes, politician, nativity\n",
            "africa: america, europe, germany, united, north, india, east, south, nine, england\n",
            "musician: singer, actor, born, english, actress, music, american, author, poet, writer\n",
            "dance: music, history, modern, china, traditional, country, article, contemporary, hungary, football\n",
            "\n",
            "\n"
          ]
        },
        {
          "output_type": "stream",
          "name": "stderr",
          "text": [
            "3998it [01:22, 48.65it/s]"
          ]
        },
        {
          "output_type": "stream",
          "name": "stdout",
          "text": [
            "| epoch   8 |  4000/32580 batches | loss    0.716 \n",
            "money: him, much, not, them, use, sense, fact, seen, way, nine\n",
            "lion: branwell, boys, melbourne, purpose, placed, refurbished, letter, flutes, politician, nativity\n",
            "africa: america, europe, germany, united, north, india, east, south, nine, england\n",
            "musician: singer, actor, born, english, actress, music, american, author, poet, writer\n",
            "dance: music, history, modern, china, traditional, country, article, contemporary, hungary, football\n",
            "\n",
            "\n"
          ]
        },
        {
          "output_type": "stream",
          "name": "stderr",
          "text": [
            "4497it [01:32, 51.11it/s]"
          ]
        },
        {
          "output_type": "stream",
          "name": "stdout",
          "text": [
            "| epoch   8 |  4500/32580 batches | loss    0.717 \n",
            "money: him, much, not, them, use, sense, fact, seen, way, nine\n",
            "lion: branwell, boys, melbourne, purpose, placed, refurbished, letter, flutes, politician, nativity\n",
            "africa: america, europe, germany, united, north, india, east, south, nine, england\n",
            "musician: singer, actor, born, english, actress, music, american, author, poet, writer\n",
            "dance: music, history, modern, china, traditional, country, article, contemporary, hungary, football\n",
            "\n",
            "\n"
          ]
        },
        {
          "output_type": "stream",
          "name": "stderr",
          "text": [
            "4999it [01:45, 47.36it/s]"
          ]
        },
        {
          "output_type": "stream",
          "name": "stdout",
          "text": [
            "| epoch   8 |  5000/32580 batches | loss    0.716 \n",
            "money: him, much, not, them, use, sense, fact, seen, way, nine\n",
            "lion: branwell, boys, melbourne, purpose, placed, refurbished, letter, flutes, politician, nativity\n",
            "africa: america, europe, germany, united, north, india, east, south, nine, england\n",
            "musician: singer, actor, born, english, actress, music, american, author, poet, writer\n",
            "dance: music, history, modern, china, traditional, country, article, contemporary, hungary, football\n",
            "\n",
            "\n"
          ]
        },
        {
          "output_type": "stream",
          "name": "stderr",
          "text": [
            "5500it [01:55, 49.61it/s]"
          ]
        },
        {
          "output_type": "stream",
          "name": "stdout",
          "text": [
            "| epoch   8 |  5500/32580 batches | loss    0.719 \n",
            "money: him, much, not, them, use, sense, fact, seen, way, nine\n",
            "lion: branwell, boys, melbourne, purpose, placed, refurbished, letter, flutes, politician, nativity\n",
            "africa: america, europe, germany, united, north, india, east, south, nine, england\n",
            "musician: singer, actor, born, english, actress, music, american, author, poet, writer\n",
            "dance: music, history, modern, china, traditional, country, article, contemporary, hungary, football\n",
            "\n",
            "\n"
          ]
        },
        {
          "output_type": "stream",
          "name": "stderr",
          "text": [
            "5997it [02:05, 52.03it/s]"
          ]
        },
        {
          "output_type": "stream",
          "name": "stdout",
          "text": [
            "| epoch   8 |  6000/32580 batches | loss    0.718 \n",
            "money: him, much, not, them, use, sense, fact, seen, way, nine\n",
            "lion: branwell, boys, melbourne, purpose, placed, refurbished, letter, flutes, politician, nativity\n",
            "africa: america, europe, germany, united, north, india, east, south, nine, england\n",
            "musician: singer, actor, born, english, actress, music, american, author, poet, writer\n",
            "dance: music, history, modern, china, traditional, country, article, contemporary, hungary, football\n",
            "\n",
            "\n"
          ]
        },
        {
          "output_type": "stream",
          "name": "stderr",
          "text": [
            "6496it [02:15, 50.37it/s]"
          ]
        },
        {
          "output_type": "stream",
          "name": "stdout",
          "text": [
            "| epoch   8 |  6500/32580 batches | loss    0.717 \n",
            "money: him, much, not, them, use, sense, fact, seen, way, nine\n",
            "lion: branwell, boys, melbourne, purpose, placed, refurbished, letter, flutes, politician, nativity\n",
            "africa: america, europe, germany, united, north, india, east, south, nine, england\n",
            "musician: singer, actor, born, english, actress, music, american, author, poet, writer\n",
            "dance: music, history, modern, china, traditional, country, article, contemporary, hungary, football\n",
            "\n",
            "\n"
          ]
        },
        {
          "output_type": "stream",
          "name": "stderr",
          "text": [
            "6998it [02:26, 51.39it/s]"
          ]
        },
        {
          "output_type": "stream",
          "name": "stdout",
          "text": [
            "| epoch   8 |  7000/32580 batches | loss    0.717 \n",
            "money: him, much, not, them, use, sense, fact, seen, way, nine\n",
            "lion: branwell, boys, melbourne, purpose, placed, refurbished, letter, flutes, politician, nativity\n",
            "africa: america, europe, germany, united, north, india, east, south, nine, england\n",
            "musician: singer, actor, born, english, actress, music, american, author, poet, writer\n",
            "dance: music, history, modern, china, traditional, country, article, contemporary, hungary, football\n",
            "\n",
            "\n"
          ]
        },
        {
          "output_type": "stream",
          "name": "stderr",
          "text": [
            "7501it [02:36, 32.68it/s]"
          ]
        },
        {
          "output_type": "stream",
          "name": "stdout",
          "text": [
            "| epoch   8 |  7500/32580 batches | loss    0.715 \n",
            "money: him, much, not, them, use, sense, fact, seen, way, nine\n",
            "lion: branwell, boys, melbourne, purpose, placed, refurbished, letter, flutes, politician, nativity\n",
            "africa: america, europe, germany, united, north, india, east, south, nine, england\n",
            "musician: singer, actor, born, english, actress, music, american, author, poet, writer\n",
            "dance: music, history, modern, china, traditional, country, article, contemporary, hungary, football\n",
            "\n",
            "\n"
          ]
        },
        {
          "output_type": "stream",
          "name": "stderr",
          "text": [
            "8001it [02:46, 32.17it/s]"
          ]
        },
        {
          "output_type": "stream",
          "name": "stdout",
          "text": [
            "| epoch   8 |  8000/32580 batches | loss    0.716 \n",
            "money: him, much, not, them, use, sense, fact, seen, way, nine\n",
            "lion: branwell, boys, melbourne, purpose, placed, refurbished, letter, flutes, politician, nativity\n",
            "africa: america, europe, germany, united, north, india, east, south, nine, england\n",
            "musician: singer, actor, born, english, actress, music, american, author, poet, writer\n",
            "dance: music, history, modern, china, traditional, country, article, contemporary, hungary, football\n",
            "\n",
            "\n"
          ]
        },
        {
          "output_type": "stream",
          "name": "stderr",
          "text": [
            "8496it [02:56, 51.25it/s]"
          ]
        },
        {
          "output_type": "stream",
          "name": "stdout",
          "text": [
            "| epoch   8 |  8500/32580 batches | loss    0.716 \n",
            "money: him, much, not, them, use, sense, fact, seen, way, nine\n",
            "lion: branwell, boys, melbourne, purpose, placed, refurbished, letter, flutes, politician, nativity\n",
            "africa: america, europe, germany, united, north, india, east, south, nine, england\n",
            "musician: singer, actor, born, english, actress, music, american, author, poet, writer\n",
            "dance: music, history, modern, china, traditional, country, article, contemporary, hungary, football\n",
            "\n",
            "\n"
          ]
        },
        {
          "output_type": "stream",
          "name": "stderr",
          "text": [
            "8997it [03:06, 51.11it/s]"
          ]
        },
        {
          "output_type": "stream",
          "name": "stdout",
          "text": [
            "| epoch   8 |  9000/32580 batches | loss    0.716 \n",
            "money: him, much, not, them, use, sense, fact, seen, way, nine\n",
            "lion: branwell, boys, melbourne, purpose, placed, refurbished, letter, flutes, politician, nativity\n",
            "africa: america, europe, germany, united, north, india, east, south, nine, england\n",
            "musician: singer, actor, born, english, actress, music, american, author, poet, writer\n",
            "dance: music, history, modern, china, traditional, country, article, contemporary, hungary, football\n",
            "\n",
            "\n"
          ]
        },
        {
          "output_type": "stream",
          "name": "stderr",
          "text": [
            "9500it [03:16, 50.77it/s]"
          ]
        },
        {
          "output_type": "stream",
          "name": "stdout",
          "text": [
            "| epoch   8 |  9500/32580 batches | loss    0.717 \n",
            "money: him, much, not, them, use, sense, fact, seen, way, nine\n",
            "lion: branwell, boys, melbourne, purpose, placed, refurbished, letter, flutes, politician, nativity\n",
            "africa: america, europe, germany, united, north, india, east, south, nine, england\n",
            "musician: singer, actor, born, english, actress, music, american, author, poet, writer\n",
            "dance: music, history, modern, china, traditional, country, article, contemporary, hungary, football\n",
            "\n",
            "\n"
          ]
        },
        {
          "output_type": "stream",
          "name": "stderr",
          "text": [
            "10000it [03:26, 51.60it/s]"
          ]
        },
        {
          "output_type": "stream",
          "name": "stdout",
          "text": [
            "| epoch   8 | 10000/32580 batches | loss    0.716 \n",
            "money: him, much, not, them, use, sense, fact, seen, way, nine\n",
            "lion: branwell, boys, melbourne, purpose, placed, refurbished, letter, flutes, politician, nativity\n",
            "africa: america, europe, germany, united, north, india, east, south, nine, england\n",
            "musician: singer, actor, born, english, actress, music, american, author, poet, writer\n",
            "dance: music, history, modern, china, traditional, country, article, contemporary, hungary, football\n",
            "\n",
            "\n"
          ]
        },
        {
          "output_type": "stream",
          "name": "stderr",
          "text": [
            "10496it [03:36, 50.90it/s]"
          ]
        },
        {
          "output_type": "stream",
          "name": "stdout",
          "text": [
            "| epoch   8 | 10500/32580 batches | loss    0.716 \n",
            "money: him, much, not, them, use, sense, fact, seen, way, nine\n",
            "lion: branwell, boys, melbourne, purpose, placed, refurbished, letter, flutes, politician, nativity\n",
            "africa: america, europe, germany, united, north, india, east, south, nine, england\n",
            "musician: singer, actor, born, english, actress, music, american, author, poet, writer\n",
            "dance: music, history, modern, china, traditional, country, article, contemporary, hungary, football\n",
            "\n",
            "\n"
          ]
        },
        {
          "output_type": "stream",
          "name": "stderr",
          "text": [
            "11000it [03:46, 50.83it/s]"
          ]
        },
        {
          "output_type": "stream",
          "name": "stdout",
          "text": [
            "| epoch   8 | 11000/32580 batches | loss    0.716 \n",
            "money: him, much, not, them, use, sense, fact, seen, way, nine\n",
            "lion: branwell, boys, melbourne, purpose, placed, refurbished, letter, flutes, politician, nativity\n",
            "africa: america, europe, germany, united, north, india, east, south, nine, england\n",
            "musician: singer, actor, born, english, actress, music, american, author, poet, writer\n",
            "dance: music, history, modern, china, traditional, country, article, contemporary, hungary, football\n",
            "\n",
            "\n"
          ]
        },
        {
          "output_type": "stream",
          "name": "stderr",
          "text": [
            "11500it [03:56, 50.15it/s]"
          ]
        },
        {
          "output_type": "stream",
          "name": "stdout",
          "text": [
            "| epoch   8 | 11500/32580 batches | loss    0.716 \n",
            "money: him, much, not, them, use, sense, fact, seen, way, nine\n",
            "lion: branwell, boys, melbourne, purpose, placed, refurbished, letter, flutes, politician, nativity\n",
            "africa: america, europe, germany, united, north, india, east, south, nine, england\n",
            "musician: singer, actor, born, english, actress, music, american, author, poet, writer\n",
            "dance: music, history, modern, china, traditional, country, article, contemporary, hungary, football\n",
            "\n",
            "\n"
          ]
        },
        {
          "output_type": "stream",
          "name": "stderr",
          "text": [
            "11999it [04:06, 51.62it/s]"
          ]
        },
        {
          "output_type": "stream",
          "name": "stdout",
          "text": [
            "| epoch   8 | 12000/32580 batches | loss    0.717 \n",
            "money: him, much, not, them, use, sense, fact, seen, way, nine\n",
            "lion: branwell, boys, melbourne, purpose, placed, refurbished, letter, flutes, politician, nativity\n",
            "africa: america, europe, germany, united, north, india, east, south, nine, england\n",
            "musician: singer, actor, born, english, actress, music, american, author, poet, writer\n",
            "dance: music, history, modern, china, traditional, country, article, contemporary, hungary, football\n",
            "\n",
            "\n"
          ]
        },
        {
          "output_type": "stream",
          "name": "stderr",
          "text": [
            "12501it [04:17, 34.43it/s]"
          ]
        },
        {
          "output_type": "stream",
          "name": "stdout",
          "text": [
            "| epoch   8 | 12500/32580 batches | loss    0.714 \n",
            "money: him, much, not, them, use, sense, fact, seen, way, nine\n",
            "lion: branwell, boys, melbourne, purpose, placed, refurbished, letter, flutes, politician, nativity\n",
            "africa: america, europe, germany, united, north, india, east, south, nine, england\n",
            "musician: singer, actor, born, english, actress, music, american, author, poet, writer\n",
            "dance: music, history, modern, china, traditional, country, article, contemporary, hungary, football\n",
            "\n",
            "\n"
          ]
        },
        {
          "output_type": "stream",
          "name": "stderr",
          "text": [
            "12997it [04:26, 52.22it/s]"
          ]
        },
        {
          "output_type": "stream",
          "name": "stdout",
          "text": [
            "| epoch   8 | 13000/32580 batches | loss    0.716 \n",
            "money: him, much, not, them, use, sense, fact, seen, way, nine\n",
            "lion: branwell, boys, melbourne, purpose, placed, refurbished, letter, flutes, politician, nativity\n",
            "africa: america, europe, germany, united, north, india, east, south, nine, england\n",
            "musician: singer, actor, born, english, actress, music, american, author, poet, writer\n",
            "dance: music, history, modern, china, traditional, country, article, contemporary, hungary, football\n",
            "\n",
            "\n"
          ]
        },
        {
          "output_type": "stream",
          "name": "stderr",
          "text": [
            "13497it [04:36, 51.85it/s]"
          ]
        },
        {
          "output_type": "stream",
          "name": "stdout",
          "text": [
            "| epoch   8 | 13500/32580 batches | loss    0.715 \n",
            "money: him, much, not, them, use, sense, fact, seen, way, nine\n",
            "lion: branwell, boys, melbourne, purpose, placed, refurbished, letter, flutes, politician, nativity\n",
            "africa: america, europe, germany, united, north, india, east, south, nine, england\n",
            "musician: singer, actor, born, english, actress, music, american, author, poet, writer\n",
            "dance: music, history, modern, china, traditional, country, article, contemporary, hungary, football\n",
            "\n",
            "\n"
          ]
        },
        {
          "output_type": "stream",
          "name": "stderr",
          "text": [
            "14000it [04:46, 51.50it/s]"
          ]
        },
        {
          "output_type": "stream",
          "name": "stdout",
          "text": [
            "| epoch   8 | 14000/32580 batches | loss    0.716 \n"
          ]
        },
        {
          "output_type": "stream",
          "name": "stderr",
          "text": [
            "\r14006it [04:47, 31.05it/s]"
          ]
        },
        {
          "output_type": "stream",
          "name": "stdout",
          "text": [
            "money: him, much, not, them, use, sense, fact, seen, way, nine\n",
            "lion: branwell, boys, melbourne, purpose, placed, refurbished, letter, flutes, politician, nativity\n",
            "africa: america, europe, germany, united, north, india, east, south, nine, england\n",
            "musician: singer, actor, born, english, actress, music, american, author, poet, writer\n",
            "dance: music, history, modern, china, traditional, country, article, contemporary, hungary, football\n",
            "\n",
            "\n"
          ]
        },
        {
          "output_type": "stream",
          "name": "stderr",
          "text": [
            "14500it [04:56, 51.41it/s]"
          ]
        },
        {
          "output_type": "stream",
          "name": "stdout",
          "text": [
            "| epoch   8 | 14500/32580 batches | loss    0.713 \n",
            "money: him, much, not, them, use, sense, fact, seen, way, nine\n",
            "lion: branwell, boys, melbourne, purpose, placed, refurbished, letter, flutes, politician, nativity\n",
            "africa: america, europe, germany, united, north, india, east, south, nine, england\n",
            "musician: singer, actor, born, english, actress, music, american, author, poet, writer\n",
            "dance: music, history, modern, china, traditional, country, article, contemporary, hungary, football\n",
            "\n",
            "\n"
          ]
        },
        {
          "output_type": "stream",
          "name": "stderr",
          "text": [
            "14998it [05:06, 51.15it/s]"
          ]
        },
        {
          "output_type": "stream",
          "name": "stdout",
          "text": [
            "| epoch   8 | 15000/32580 batches | loss    0.717 \n",
            "money: him, much, not, them, use, sense, fact, seen, way, nine\n",
            "lion: branwell, boys, melbourne, purpose, placed, refurbished, letter, flutes, politician, nativity\n",
            "africa: america, europe, germany, united, north, india, east, south, nine, england\n",
            "musician: singer, actor, born, english, actress, music, american, author, poet, writer\n",
            "dance: music, history, modern, china, traditional, country, article, contemporary, hungary, football\n",
            "\n",
            "\n"
          ]
        },
        {
          "output_type": "stream",
          "name": "stderr",
          "text": [
            "15501it [05:16, 34.26it/s]"
          ]
        },
        {
          "output_type": "stream",
          "name": "stdout",
          "text": [
            "| epoch   8 | 15500/32580 batches | loss    0.716 \n",
            "money: him, much, not, them, use, sense, fact, seen, way, nine\n",
            "lion: branwell, boys, melbourne, purpose, placed, refurbished, letter, flutes, politician, nativity\n",
            "africa: america, europe, germany, united, north, india, east, south, nine, england\n",
            "musician: singer, actor, born, english, actress, music, american, author, poet, writer\n",
            "dance: music, history, modern, china, traditional, country, article, contemporary, hungary, football\n",
            "\n",
            "\n"
          ]
        },
        {
          "output_type": "stream",
          "name": "stderr",
          "text": [
            "16001it [05:30, 33.43it/s]"
          ]
        },
        {
          "output_type": "stream",
          "name": "stdout",
          "text": [
            "| epoch   8 | 16000/32580 batches | loss    0.716 \n",
            "money: him, much, not, them, use, sense, fact, seen, way, nine\n",
            "lion: branwell, boys, melbourne, purpose, placed, refurbished, letter, flutes, politician, nativity\n",
            "africa: america, europe, germany, united, north, india, east, south, nine, england\n",
            "musician: singer, actor, born, english, actress, music, american, author, poet, writer\n",
            "dance: music, history, modern, china, traditional, country, article, contemporary, hungary, football\n",
            "\n",
            "\n"
          ]
        },
        {
          "output_type": "stream",
          "name": "stderr",
          "text": [
            "16500it [05:40, 49.71it/s]"
          ]
        },
        {
          "output_type": "stream",
          "name": "stdout",
          "text": [
            "| epoch   8 | 16500/32580 batches | loss    0.715 \n",
            "money: him, much, not, them, use, sense, fact, seen, way, nine\n",
            "lion: branwell, boys, melbourne, purpose, placed, refurbished, letter, flutes, politician, nativity\n",
            "africa: america, europe, germany, united, north, india, east, south, nine, england\n",
            "musician: singer, actor, born, english, actress, music, american, author, poet, writer\n",
            "dance: music, history, modern, china, traditional, country, article, contemporary, hungary, football\n",
            "\n",
            "\n"
          ]
        },
        {
          "output_type": "stream",
          "name": "stderr",
          "text": [
            "17001it [05:50, 31.37it/s]"
          ]
        },
        {
          "output_type": "stream",
          "name": "stdout",
          "text": [
            "| epoch   8 | 17000/32580 batches | loss    0.717 \n",
            "money: him, much, not, them, use, sense, fact, seen, way, nine\n",
            "lion: branwell, boys, melbourne, purpose, placed, refurbished, letter, flutes, politician, nativity\n",
            "africa: america, europe, germany, united, north, india, east, south, nine, england\n",
            "musician: singer, actor, born, english, actress, music, american, author, poet, writer\n",
            "dance: music, history, modern, china, traditional, country, article, contemporary, hungary, football\n",
            "\n",
            "\n"
          ]
        },
        {
          "output_type": "stream",
          "name": "stderr",
          "text": [
            "17501it [06:00, 31.57it/s]"
          ]
        },
        {
          "output_type": "stream",
          "name": "stdout",
          "text": [
            "| epoch   8 | 17500/32580 batches | loss    0.715 \n",
            "money: him, much, not, them, use, sense, fact, seen, way, nine\n",
            "lion: branwell, boys, melbourne, purpose, placed, refurbished, letter, flutes, politician, nativity\n",
            "africa: america, europe, germany, united, north, india, east, south, nine, england\n",
            "musician: singer, actor, born, english, actress, music, american, author, poet, writer\n",
            "dance: music, history, modern, china, traditional, country, article, contemporary, hungary, football\n",
            "\n",
            "\n"
          ]
        },
        {
          "output_type": "stream",
          "name": "stderr",
          "text": [
            "17998it [06:10, 49.54it/s]"
          ]
        },
        {
          "output_type": "stream",
          "name": "stdout",
          "text": [
            "| epoch   8 | 18000/32580 batches | loss    0.717 \n",
            "money: him, much, not, them, use, sense, fact, seen, way, nine\n",
            "lion: branwell, boys, melbourne, purpose, placed, refurbished, letter, flutes, politician, nativity\n",
            "africa: america, europe, germany, united, north, india, east, south, nine, england\n",
            "musician: singer, actor, born, english, actress, music, american, author, poet, writer\n",
            "dance: music, history, modern, china, traditional, country, article, contemporary, hungary, football\n",
            "\n",
            "\n"
          ]
        },
        {
          "output_type": "stream",
          "name": "stderr",
          "text": [
            "18499it [06:21, 50.36it/s]"
          ]
        },
        {
          "output_type": "stream",
          "name": "stdout",
          "text": [
            "| epoch   8 | 18500/32580 batches | loss    0.717 \n",
            "money: him, much, not, them, use, sense, fact, seen, way, nine\n",
            "lion: branwell, boys, melbourne, purpose, placed, refurbished, letter, flutes, politician, nativity\n",
            "africa: america, europe, germany, united, north, india, east, south, nine, england\n",
            "musician: singer, actor, born, english, actress, music, american, author, poet, writer\n",
            "dance: music, history, modern, china, traditional, country, article, contemporary, hungary, football\n",
            "\n",
            "\n"
          ]
        },
        {
          "output_type": "stream",
          "name": "stderr",
          "text": [
            "18997it [06:31, 50.49it/s]"
          ]
        },
        {
          "output_type": "stream",
          "name": "stdout",
          "text": [
            "| epoch   8 | 19000/32580 batches | loss    0.716 \n",
            "money: him, much, not, them, use, sense, fact, seen, way, nine\n",
            "lion: branwell, boys, melbourne, purpose, placed, refurbished, letter, flutes, politician, nativity\n",
            "africa: america, europe, germany, united, north, india, east, south, nine, england\n",
            "musician: singer, actor, born, english, actress, music, american, author, poet, writer\n",
            "dance: music, history, modern, china, traditional, country, article, contemporary, hungary, football\n",
            "\n",
            "\n"
          ]
        },
        {
          "output_type": "stream",
          "name": "stderr",
          "text": [
            "19496it [06:41, 50.39it/s]"
          ]
        },
        {
          "output_type": "stream",
          "name": "stdout",
          "text": [
            "| epoch   8 | 19500/32580 batches | loss    0.716 \n",
            "money: him, much, not, them, use, sense, fact, seen, way, nine\n",
            "lion: branwell, boys, melbourne, purpose, placed, refurbished, letter, flutes, politician, nativity\n",
            "africa: america, europe, germany, united, north, india, east, south, nine, england\n",
            "musician: singer, actor, born, english, actress, music, american, author, poet, writer\n",
            "dance: music, history, modern, china, traditional, country, article, contemporary, hungary, football\n",
            "\n",
            "\n"
          ]
        },
        {
          "output_type": "stream",
          "name": "stderr",
          "text": [
            "20001it [06:52, 33.83it/s]"
          ]
        },
        {
          "output_type": "stream",
          "name": "stdout",
          "text": [
            "| epoch   8 | 20000/32580 batches | loss    0.714 \n",
            "money: him, much, not, them, use, sense, fact, seen, way, nine\n",
            "lion: branwell, boys, melbourne, purpose, placed, refurbished, letter, flutes, politician, nativity\n",
            "africa: america, europe, germany, united, north, india, east, south, nine, england\n",
            "musician: singer, actor, born, english, actress, music, american, author, poet, writer\n",
            "dance: music, history, modern, china, traditional, country, article, contemporary, hungary, football\n",
            "\n",
            "\n"
          ]
        },
        {
          "output_type": "stream",
          "name": "stderr",
          "text": [
            "20497it [07:02, 50.01it/s]"
          ]
        },
        {
          "output_type": "stream",
          "name": "stdout",
          "text": [
            "| epoch   8 | 20500/32580 batches | loss    0.717 \n",
            "money: him, much, not, them, use, sense, fact, seen, way, nine\n",
            "lion: branwell, boys, melbourne, purpose, placed, refurbished, letter, flutes, politician, nativity\n",
            "africa: america, europe, germany, united, north, india, east, south, nine, england\n",
            "musician: singer, actor, born, english, actress, music, american, author, poet, writer\n",
            "dance: music, history, modern, china, traditional, country, article, contemporary, hungary, football\n",
            "\n",
            "\n"
          ]
        },
        {
          "output_type": "stream",
          "name": "stderr",
          "text": [
            "21001it [07:12, 33.55it/s]"
          ]
        },
        {
          "output_type": "stream",
          "name": "stdout",
          "text": [
            "| epoch   8 | 21000/32580 batches | loss    0.714 \n",
            "money: him, much, not, them, use, sense, fact, seen, way, nine\n",
            "lion: branwell, boys, melbourne, purpose, placed, refurbished, letter, flutes, politician, nativity\n",
            "africa: america, europe, germany, united, north, india, east, south, nine, england\n",
            "musician: singer, actor, born, english, actress, music, american, author, poet, writer\n",
            "dance: music, history, modern, china, traditional, country, article, contemporary, hungary, football\n",
            "\n",
            "\n"
          ]
        },
        {
          "output_type": "stream",
          "name": "stderr",
          "text": [
            "21498it [07:22, 48.54it/s]"
          ]
        },
        {
          "output_type": "stream",
          "name": "stdout",
          "text": [
            "| epoch   8 | 21500/32580 batches | loss    0.716 \n",
            "money: him, much, not, them, use, sense, fact, seen, way, nine\n",
            "lion: branwell, boys, melbourne, purpose, placed, refurbished, letter, flutes, politician, nativity\n",
            "africa: america, europe, germany, united, north, india, east, south, nine, england\n",
            "musician: singer, actor, born, english, actress, music, american, author, poet, writer\n",
            "dance: music, history, modern, china, traditional, country, article, contemporary, hungary, football\n",
            "\n",
            "\n"
          ]
        },
        {
          "output_type": "stream",
          "name": "stderr",
          "text": [
            "21998it [07:32, 51.50it/s]"
          ]
        },
        {
          "output_type": "stream",
          "name": "stdout",
          "text": [
            "| epoch   8 | 22000/32580 batches | loss    0.715 \n",
            "money: him, much, not, them, use, sense, fact, seen, way, nine\n",
            "lion: branwell, boys, melbourne, purpose, placed, refurbished, letter, flutes, politician, nativity\n",
            "africa: america, europe, germany, united, north, india, east, south, nine, england\n",
            "musician: singer, actor, born, english, actress, music, american, author, poet, writer\n",
            "dance: music, history, modern, china, traditional, country, article, contemporary, hungary, football\n",
            "\n",
            "\n"
          ]
        },
        {
          "output_type": "stream",
          "name": "stderr",
          "text": [
            "22501it [07:42, 34.75it/s]"
          ]
        },
        {
          "output_type": "stream",
          "name": "stdout",
          "text": [
            "| epoch   8 | 22500/32580 batches | loss    0.716 \n",
            "money: him, much, not, them, use, sense, fact, seen, way, nine\n",
            "lion: branwell, boys, melbourne, purpose, placed, refurbished, letter, flutes, politician, nativity\n",
            "africa: america, europe, germany, united, north, india, east, south, nine, england\n",
            "musician: singer, actor, born, english, actress, music, american, author, poet, writer\n",
            "dance: music, history, modern, china, traditional, country, article, contemporary, hungary, football\n",
            "\n",
            "\n"
          ]
        },
        {
          "output_type": "stream",
          "name": "stderr",
          "text": [
            "22996it [07:52, 51.49it/s]"
          ]
        },
        {
          "output_type": "stream",
          "name": "stdout",
          "text": [
            "| epoch   8 | 23000/32580 batches | loss    0.715 \n",
            "money: him, much, not, them, use, sense, fact, seen, way, nine\n",
            "lion: branwell, boys, melbourne, purpose, placed, refurbished, letter, flutes, politician, nativity\n",
            "africa: america, europe, germany, united, north, india, east, south, nine, england\n",
            "musician: singer, actor, born, english, actress, music, american, author, poet, writer\n",
            "dance: music, history, modern, china, traditional, country, article, contemporary, hungary, football\n",
            "\n",
            "\n"
          ]
        },
        {
          "output_type": "stream",
          "name": "stderr",
          "text": [
            "23496it [08:02, 50.68it/s]"
          ]
        },
        {
          "output_type": "stream",
          "name": "stdout",
          "text": [
            "| epoch   8 | 23500/32580 batches | loss    0.718 \n",
            "money: him, much, not, them, use, sense, fact, seen, way, nine\n",
            "lion: branwell, boys, melbourne, purpose, placed, refurbished, letter, flutes, politician, nativity\n",
            "africa: america, europe, germany, united, north, india, east, south, nine, england\n",
            "musician: singer, actor, born, english, actress, music, american, author, poet, writer\n",
            "dance: music, history, modern, china, traditional, country, article, contemporary, hungary, football\n",
            "\n",
            "\n"
          ]
        },
        {
          "output_type": "stream",
          "name": "stderr",
          "text": [
            "24001it [08:13, 34.34it/s]"
          ]
        },
        {
          "output_type": "stream",
          "name": "stdout",
          "text": [
            "| epoch   8 | 24000/32580 batches | loss    0.717 \n",
            "money: him, much, not, them, use, sense, fact, seen, way, nine\n",
            "lion: branwell, boys, melbourne, purpose, placed, refurbished, letter, flutes, politician, nativity\n",
            "africa: america, europe, germany, united, north, india, east, south, nine, england\n",
            "musician: singer, actor, born, english, actress, music, american, author, poet, writer\n",
            "dance: music, history, modern, china, traditional, country, article, contemporary, hungary, football\n",
            "\n",
            "\n"
          ]
        },
        {
          "output_type": "stream",
          "name": "stderr",
          "text": [
            "24501it [08:23, 32.48it/s]"
          ]
        },
        {
          "output_type": "stream",
          "name": "stdout",
          "text": [
            "| epoch   8 | 24500/32580 batches | loss    0.716 \n",
            "money: him, much, not, them, use, sense, fact, seen, way, nine\n",
            "lion: branwell, boys, melbourne, purpose, placed, refurbished, letter, flutes, politician, nativity\n",
            "africa: america, europe, germany, united, north, india, east, south, nine, england\n",
            "musician: singer, actor, born, english, actress, music, american, author, poet, writer\n",
            "dance: music, history, modern, china, traditional, country, article, contemporary, hungary, football\n",
            "\n",
            "\n"
          ]
        },
        {
          "output_type": "stream",
          "name": "stderr",
          "text": [
            "24998it [08:32, 51.26it/s]"
          ]
        },
        {
          "output_type": "stream",
          "name": "stdout",
          "text": [
            "| epoch   8 | 25000/32580 batches | loss    0.718 \n",
            "money: him, much, not, them, use, sense, fact, seen, way, nine\n",
            "lion: branwell, boys, melbourne, purpose, placed, refurbished, letter, flutes, politician, nativity\n",
            "africa: america, europe, germany, united, north, india, east, south, nine, england\n",
            "musician: singer, actor, born, english, actress, music, american, author, poet, writer\n",
            "dance: music, history, modern, china, traditional, country, article, contemporary, hungary, football\n",
            "\n",
            "\n"
          ]
        },
        {
          "output_type": "stream",
          "name": "stderr",
          "text": [
            "25497it [08:42, 50.75it/s]"
          ]
        },
        {
          "output_type": "stream",
          "name": "stdout",
          "text": [
            "| epoch   8 | 25500/32580 batches | loss    0.716 \n",
            "money: him, much, not, them, use, sense, fact, seen, way, nine\n",
            "lion: branwell, boys, melbourne, purpose, placed, refurbished, letter, flutes, politician, nativity\n",
            "africa: america, europe, germany, united, north, india, east, south, nine, england\n",
            "musician: singer, actor, born, english, actress, music, american, author, poet, writer\n",
            "dance: music, history, modern, china, traditional, country, article, contemporary, hungary, football\n",
            "\n",
            "\n"
          ]
        },
        {
          "output_type": "stream",
          "name": "stderr",
          "text": [
            "25998it [08:53, 50.60it/s]"
          ]
        },
        {
          "output_type": "stream",
          "name": "stdout",
          "text": [
            "| epoch   8 | 26000/32580 batches | loss    0.716 \n",
            "money: him, much, not, them, use, sense, fact, seen, way, nine\n",
            "lion: branwell, boys, melbourne, purpose, placed, refurbished, letter, flutes, politician, nativity\n",
            "africa: america, europe, germany, united, north, india, east, south, nine, england\n",
            "musician: singer, actor, born, english, actress, music, american, author, poet, writer\n",
            "dance: music, history, modern, china, traditional, country, article, contemporary, hungary, football\n",
            "\n",
            "\n"
          ]
        },
        {
          "output_type": "stream",
          "name": "stderr",
          "text": [
            "26497it [09:03, 51.29it/s]"
          ]
        },
        {
          "output_type": "stream",
          "name": "stdout",
          "text": [
            "| epoch   8 | 26500/32580 batches | loss    0.715 \n",
            "money: him, much, not, them, use, sense, fact, seen, way, nine\n",
            "lion: branwell, boys, melbourne, purpose, placed, refurbished, letter, flutes, politician, nativity\n",
            "africa: america, europe, germany, united, north, india, east, south, nine, england\n",
            "musician: singer, actor, born, english, actress, music, american, author, poet, writer\n",
            "dance: music, history, modern, china, traditional, country, article, contemporary, hungary, football\n",
            "\n",
            "\n"
          ]
        },
        {
          "output_type": "stream",
          "name": "stderr",
          "text": [
            "26998it [09:13, 51.19it/s]"
          ]
        },
        {
          "output_type": "stream",
          "name": "stdout",
          "text": [
            "| epoch   8 | 27000/32580 batches | loss    0.716 \n",
            "money: him, much, not, them, use, sense, fact, seen, way, nine\n",
            "lion: branwell, boys, melbourne, purpose, placed, refurbished, letter, flutes, politician, nativity\n",
            "africa: america, europe, germany, united, north, india, east, south, nine, england\n",
            "musician: singer, actor, born, english, actress, music, american, author, poet, writer\n",
            "dance: music, history, modern, china, traditional, country, article, contemporary, hungary, football\n",
            "\n",
            "\n"
          ]
        },
        {
          "output_type": "stream",
          "name": "stderr",
          "text": [
            "27498it [09:23, 47.86it/s]"
          ]
        },
        {
          "output_type": "stream",
          "name": "stdout",
          "text": [
            "| epoch   8 | 27500/32580 batches | loss    0.718 \n",
            "money: him, much, not, them, use, sense, fact, seen, way, nine\n",
            "lion: branwell, boys, melbourne, purpose, placed, refurbished, letter, flutes, politician, nativity\n",
            "africa: america, europe, germany, united, north, india, east, south, nine, england\n",
            "musician: singer, actor, born, english, actress, music, american, author, poet, writer\n",
            "dance: music, history, modern, china, traditional, country, article, contemporary, hungary, football\n",
            "\n",
            "\n"
          ]
        },
        {
          "output_type": "stream",
          "name": "stderr",
          "text": [
            "27996it [09:33, 51.11it/s]"
          ]
        },
        {
          "output_type": "stream",
          "name": "stdout",
          "text": [
            "| epoch   8 | 28000/32580 batches | loss    0.716 \n",
            "money: him, much, not, them, use, sense, fact, seen, way, nine\n",
            "lion: branwell, boys, melbourne, purpose, placed, refurbished, letter, flutes, politician, nativity\n",
            "africa: america, europe, germany, united, north, india, east, south, nine, england\n",
            "musician: singer, actor, born, english, actress, music, american, author, poet, writer\n",
            "dance: music, history, modern, china, traditional, country, article, contemporary, hungary, football\n",
            "\n",
            "\n"
          ]
        },
        {
          "output_type": "stream",
          "name": "stderr",
          "text": [
            "28501it [09:43, 34.31it/s]"
          ]
        },
        {
          "output_type": "stream",
          "name": "stdout",
          "text": [
            "| epoch   8 | 28500/32580 batches | loss    0.716 \n",
            "money: him, much, not, them, use, sense, fact, seen, way, nine\n",
            "lion: branwell, boys, melbourne, purpose, placed, refurbished, letter, flutes, politician, nativity\n",
            "africa: america, europe, germany, united, north, india, east, south, nine, england\n",
            "musician: singer, actor, born, english, actress, music, american, author, poet, writer\n",
            "dance: music, history, modern, china, traditional, country, article, contemporary, hungary, football\n",
            "\n",
            "\n"
          ]
        },
        {
          "output_type": "stream",
          "name": "stderr",
          "text": [
            "28999it [09:53, 51.09it/s]"
          ]
        },
        {
          "output_type": "stream",
          "name": "stdout",
          "text": [
            "| epoch   8 | 29000/32580 batches | loss    0.716 \n",
            "money: him, much, not, them, use, sense, fact, seen, way, nine\n",
            "lion: branwell, boys, melbourne, purpose, placed, refurbished, letter, flutes, politician, nativity\n",
            "africa: america, europe, germany, united, north, india, east, south, nine, england\n",
            "musician: singer, actor, born, english, actress, music, american, author, poet, writer\n",
            "dance: music, history, modern, china, traditional, country, article, contemporary, hungary, football\n",
            "\n",
            "\n"
          ]
        },
        {
          "output_type": "stream",
          "name": "stderr",
          "text": [
            "29496it [10:03, 51.17it/s]"
          ]
        },
        {
          "output_type": "stream",
          "name": "stdout",
          "text": [
            "| epoch   8 | 29500/32580 batches | loss    0.717 \n",
            "money: him, much, not, them, use, sense, fact, seen, way, nine\n",
            "lion: branwell, boys, melbourne, purpose, placed, refurbished, letter, flutes, politician, nativity\n",
            "africa: america, europe, germany, united, north, india, east, south, nine, england\n",
            "musician: singer, actor, born, english, actress, music, american, author, poet, writer\n",
            "dance: music, history, modern, china, traditional, country, article, contemporary, hungary, football\n",
            "\n",
            "\n"
          ]
        },
        {
          "output_type": "stream",
          "name": "stderr",
          "text": [
            "29997it [10:13, 51.48it/s]"
          ]
        },
        {
          "output_type": "stream",
          "name": "stdout",
          "text": [
            "| epoch   8 | 30000/32580 batches | loss    0.716 \n",
            "money: him, much, not, them, use, sense, fact, seen, way, nine\n",
            "lion: branwell, boys, melbourne, purpose, placed, refurbished, letter, flutes, politician, nativity\n",
            "africa: america, europe, germany, united, north, india, east, south, nine, england\n",
            "musician: singer, actor, born, english, actress, music, american, author, poet, writer\n",
            "dance: music, history, modern, china, traditional, country, article, contemporary, hungary, football\n",
            "\n",
            "\n"
          ]
        },
        {
          "output_type": "stream",
          "name": "stderr",
          "text": [
            "30500it [10:23, 50.76it/s]"
          ]
        },
        {
          "output_type": "stream",
          "name": "stdout",
          "text": [
            "| epoch   8 | 30500/32580 batches | loss    0.716 \n",
            "money: him, much, not, them, use, sense, fact, seen, way, nine\n",
            "lion: branwell, boys, melbourne, purpose, placed, refurbished, letter, flutes, politician, nativity\n",
            "africa: america, europe, germany, united, north, india, east, south, nine, england\n",
            "musician: singer, actor, born, english, actress, music, american, author, poet, writer\n",
            "dance: music, history, modern, china, traditional, country, article, contemporary, hungary, football\n",
            "\n",
            "\n"
          ]
        },
        {
          "output_type": "stream",
          "name": "stderr",
          "text": [
            "30998it [10:33, 50.66it/s]"
          ]
        },
        {
          "output_type": "stream",
          "name": "stdout",
          "text": [
            "| epoch   8 | 31000/32580 batches | loss    0.716 \n",
            "money: him, much, not, them, use, sense, fact, seen, way, nine\n",
            "lion: branwell, boys, melbourne, purpose, placed, refurbished, letter, flutes, politician, nativity\n",
            "africa: america, europe, germany, united, north, india, east, south, nine, england\n",
            "musician: singer, actor, born, english, actress, music, american, author, poet, writer\n",
            "dance: music, history, modern, china, traditional, country, article, contemporary, hungary, football\n",
            "\n",
            "\n"
          ]
        },
        {
          "output_type": "stream",
          "name": "stderr",
          "text": [
            "31501it [10:43, 34.50it/s]"
          ]
        },
        {
          "output_type": "stream",
          "name": "stdout",
          "text": [
            "| epoch   8 | 31500/32580 batches | loss    0.714 \n",
            "money: him, much, not, them, use, sense, fact, seen, way, nine\n",
            "lion: branwell, boys, melbourne, purpose, placed, refurbished, letter, flutes, politician, nativity\n",
            "africa: america, europe, germany, united, north, india, east, south, nine, england\n",
            "musician: singer, actor, born, english, actress, music, american, author, poet, writer\n",
            "dance: music, history, modern, china, traditional, country, article, contemporary, hungary, football\n",
            "\n",
            "\n"
          ]
        },
        {
          "output_type": "stream",
          "name": "stderr",
          "text": [
            "32001it [10:53, 34.53it/s]"
          ]
        },
        {
          "output_type": "stream",
          "name": "stdout",
          "text": [
            "| epoch   8 | 32000/32580 batches | loss    0.716 \n",
            "money: him, much, not, them, use, sense, fact, seen, way, nine\n",
            "lion: branwell, boys, melbourne, purpose, placed, refurbished, letter, flutes, politician, nativity\n",
            "africa: america, europe, germany, united, north, india, east, south, nine, england\n",
            "musician: singer, actor, born, english, actress, music, american, author, poet, writer\n",
            "dance: music, history, modern, china, traditional, country, article, contemporary, hungary, football\n",
            "\n",
            "\n"
          ]
        },
        {
          "output_type": "stream",
          "name": "stderr",
          "text": [
            "32498it [11:03, 51.64it/s]"
          ]
        },
        {
          "output_type": "stream",
          "name": "stdout",
          "text": [
            "| epoch   8 | 32500/32580 batches | loss    0.717 \n",
            "money: him, much, not, them, use, sense, fact, seen, way, nine\n",
            "lion: branwell, boys, melbourne, purpose, placed, refurbished, letter, flutes, politician, nativity\n",
            "africa: america, europe, germany, united, north, india, east, south, nine, england\n",
            "musician: singer, actor, born, english, actress, music, american, author, poet, writer\n",
            "dance: music, history, modern, china, traditional, country, article, contemporary, hungary, football\n",
            "\n",
            "\n"
          ]
        },
        {
          "output_type": "stream",
          "name": "stderr",
          "text": [
            "32580it [11:07, 48.84it/s]\n",
            "1it [00:01,  1.77s/it]"
          ]
        },
        {
          "output_type": "stream",
          "name": "stdout",
          "text": [
            "| epoch   9 |     0/32580 batches | loss    0.665 \n",
            "money: him, much, not, them, use, sense, fact, seen, way, nine\n",
            "lion: branwell, boys, melbourne, purpose, placed, refurbished, letter, flutes, politician, nativity\n",
            "africa: america, europe, germany, united, north, india, east, south, nine, england\n",
            "musician: singer, actor, born, english, actress, music, american, author, poet, writer\n",
            "dance: music, history, modern, china, traditional, country, article, contemporary, hungary, football\n",
            "\n",
            "\n"
          ]
        },
        {
          "output_type": "stream",
          "name": "stderr",
          "text": [
            "496it [00:11, 50.53it/s]"
          ]
        },
        {
          "output_type": "stream",
          "name": "stdout",
          "text": [
            "| epoch   9 |   500/32580 batches | loss    0.717 \n",
            "money: him, much, not, them, use, sense, fact, seen, way, nine\n",
            "lion: branwell, boys, melbourne, purpose, placed, refurbished, letter, flutes, politician, nativity\n",
            "africa: america, europe, germany, united, north, india, east, south, nine, england\n",
            "musician: singer, actor, born, english, actress, music, american, author, poet, writer\n",
            "dance: music, history, modern, china, traditional, country, article, contemporary, hungary, football\n",
            "\n",
            "\n"
          ]
        },
        {
          "output_type": "stream",
          "name": "stderr",
          "text": [
            "1000it [00:21, 51.11it/s]"
          ]
        },
        {
          "output_type": "stream",
          "name": "stdout",
          "text": [
            "| epoch   9 |  1000/32580 batches | loss    0.716 \n",
            "money: him, much, not, them, use, sense, fact, seen, way, nine\n",
            "lion: branwell, boys, melbourne, purpose, placed, refurbished, letter, flutes, politician, nativity\n",
            "africa: america, europe, germany, united, north, india, east, south, nine, england\n",
            "musician: singer, actor, born, english, actress, music, american, author, poet, writer\n",
            "dance: music, history, modern, china, traditional, country, article, contemporary, hungary, football\n",
            "\n",
            "\n"
          ]
        },
        {
          "output_type": "stream",
          "name": "stderr",
          "text": [
            "1498it [00:31, 51.65it/s]"
          ]
        },
        {
          "output_type": "stream",
          "name": "stdout",
          "text": [
            "| epoch   9 |  1500/32580 batches | loss    0.715 \n",
            "money: him, much, not, them, use, sense, fact, seen, way, nine\n",
            "lion: branwell, boys, melbourne, purpose, placed, refurbished, letter, flutes, politician, nativity\n",
            "africa: america, europe, germany, united, north, india, east, south, nine, england\n",
            "musician: singer, actor, born, english, actress, music, american, author, poet, writer\n",
            "dance: music, history, modern, china, traditional, country, article, contemporary, hungary, football\n",
            "\n",
            "\n"
          ]
        },
        {
          "output_type": "stream",
          "name": "stderr",
          "text": [
            "2001it [00:41, 35.03it/s]"
          ]
        },
        {
          "output_type": "stream",
          "name": "stdout",
          "text": [
            "| epoch   9 |  2000/32580 batches | loss    0.716 \n",
            "money: him, much, not, them, use, sense, fact, seen, way, nine\n",
            "lion: branwell, boys, melbourne, purpose, placed, refurbished, letter, flutes, politician, nativity\n",
            "africa: america, europe, germany, united, north, india, east, south, nine, england\n",
            "musician: singer, actor, born, english, actress, music, american, author, poet, writer\n",
            "dance: music, history, modern, china, traditional, country, article, contemporary, hungary, football\n",
            "\n",
            "\n"
          ]
        },
        {
          "output_type": "stream",
          "name": "stderr",
          "text": [
            "2498it [00:51, 51.74it/s]"
          ]
        },
        {
          "output_type": "stream",
          "name": "stdout",
          "text": [
            "| epoch   9 |  2500/32580 batches | loss    0.716 \n",
            "money: him, much, not, them, use, sense, fact, seen, way, nine\n",
            "lion: branwell, boys, melbourne, purpose, placed, refurbished, letter, flutes, politician, nativity\n",
            "africa: america, europe, germany, united, north, india, east, south, nine, england\n",
            "musician: singer, actor, born, english, actress, music, american, author, poet, writer\n",
            "dance: music, history, modern, china, traditional, country, article, contemporary, hungary, football\n",
            "\n",
            "\n"
          ]
        },
        {
          "output_type": "stream",
          "name": "stderr",
          "text": [
            "3001it [01:01, 34.69it/s]"
          ]
        },
        {
          "output_type": "stream",
          "name": "stdout",
          "text": [
            "| epoch   9 |  3000/32580 batches | loss    0.715 \n",
            "money: him, much, not, them, use, sense, fact, seen, way, nine\n",
            "lion: branwell, boys, melbourne, purpose, placed, refurbished, letter, flutes, politician, nativity\n",
            "africa: america, europe, germany, united, north, india, east, south, nine, england\n",
            "musician: singer, actor, born, english, actress, music, american, author, poet, writer\n",
            "dance: music, history, modern, china, traditional, country, article, contemporary, hungary, football\n",
            "\n",
            "\n"
          ]
        },
        {
          "output_type": "stream",
          "name": "stderr",
          "text": [
            "3500it [01:11, 51.11it/s]"
          ]
        },
        {
          "output_type": "stream",
          "name": "stdout",
          "text": [
            "| epoch   9 |  3500/32580 batches | loss    0.716 \n",
            "money: him, much, not, them, use, sense, fact, seen, way, nine\n",
            "lion: branwell, boys, melbourne, purpose, placed, refurbished, letter, flutes, politician, nativity\n",
            "africa: america, europe, germany, united, north, india, east, south, nine, england\n",
            "musician: singer, actor, born, english, actress, music, american, author, poet, writer\n",
            "dance: music, history, modern, china, traditional, country, article, contemporary, hungary, football\n",
            "\n",
            "\n"
          ]
        },
        {
          "output_type": "stream",
          "name": "stderr",
          "text": [
            "3996it [01:21, 50.83it/s]"
          ]
        },
        {
          "output_type": "stream",
          "name": "stdout",
          "text": [
            "| epoch   9 |  4000/32580 batches | loss    0.715 \n",
            "money: him, much, not, them, use, sense, fact, seen, way, nine\n",
            "lion: branwell, boys, melbourne, purpose, placed, refurbished, letter, flutes, politician, nativity\n",
            "africa: america, europe, germany, united, north, india, east, south, nine, england\n",
            "musician: singer, actor, born, english, actress, music, american, author, poet, writer\n",
            "dance: music, history, modern, china, traditional, country, article, contemporary, hungary, football\n",
            "\n",
            "\n"
          ]
        },
        {
          "output_type": "stream",
          "name": "stderr",
          "text": [
            "4498it [01:31, 49.09it/s]"
          ]
        },
        {
          "output_type": "stream",
          "name": "stdout",
          "text": [
            "| epoch   9 |  4500/32580 batches | loss    0.715 \n",
            "money: him, much, not, them, use, sense, fact, seen, way, nine\n",
            "lion: branwell, boys, melbourne, purpose, placed, refurbished, letter, flutes, politician, nativity\n",
            "africa: america, europe, germany, united, north, india, east, south, nine, england\n",
            "musician: singer, actor, born, english, actress, music, american, author, poet, writer\n",
            "dance: music, history, modern, china, traditional, country, article, contemporary, hungary, football\n",
            "\n",
            "\n"
          ]
        },
        {
          "output_type": "stream",
          "name": "stderr",
          "text": [
            "4999it [01:41, 50.62it/s]"
          ]
        },
        {
          "output_type": "stream",
          "name": "stdout",
          "text": [
            "| epoch   9 |  5000/32580 batches | loss    0.716 \n",
            "money: him, much, not, them, use, sense, fact, seen, way, nine\n",
            "lion: branwell, boys, melbourne, purpose, placed, refurbished, letter, flutes, politician, nativity\n",
            "africa: america, europe, germany, united, north, india, east, south, nine, england\n",
            "musician: singer, actor, born, english, actress, music, american, author, poet, writer\n",
            "dance: music, history, modern, china, traditional, country, article, contemporary, hungary, football\n",
            "\n",
            "\n"
          ]
        },
        {
          "output_type": "stream",
          "name": "stderr",
          "text": [
            "5498it [01:51, 50.79it/s]"
          ]
        },
        {
          "output_type": "stream",
          "name": "stdout",
          "text": [
            "| epoch   9 |  5500/32580 batches | loss    0.718 \n",
            "money: him, much, not, them, use, sense, fact, seen, way, nine\n",
            "lion: branwell, boys, melbourne, purpose, placed, refurbished, letter, flutes, politician, nativity\n",
            "africa: america, europe, germany, united, north, india, east, south, nine, england\n",
            "musician: singer, actor, born, english, actress, music, american, author, poet, writer\n",
            "dance: music, history, modern, china, traditional, country, article, contemporary, hungary, football\n",
            "\n",
            "\n"
          ]
        },
        {
          "output_type": "stream",
          "name": "stderr",
          "text": [
            "6001it [02:01, 34.69it/s]"
          ]
        },
        {
          "output_type": "stream",
          "name": "stdout",
          "text": [
            "| epoch   9 |  6000/32580 batches | loss    0.718 \n",
            "money: him, much, not, them, use, sense, fact, seen, way, nine\n",
            "lion: branwell, boys, melbourne, purpose, placed, refurbished, letter, flutes, politician, nativity\n",
            "africa: america, europe, germany, united, north, india, east, south, nine, england\n",
            "musician: singer, actor, born, english, actress, music, american, author, poet, writer\n",
            "dance: music, history, modern, china, traditional, country, article, contemporary, hungary, football\n",
            "\n",
            "\n"
          ]
        },
        {
          "output_type": "stream",
          "name": "stderr",
          "text": [
            "6499it [02:11, 50.55it/s]"
          ]
        },
        {
          "output_type": "stream",
          "name": "stdout",
          "text": [
            "| epoch   9 |  6500/32580 batches | loss    0.716 \n",
            "money: him, much, not, them, use, sense, fact, seen, way, nine\n",
            "lion: branwell, boys, melbourne, purpose, placed, refurbished, letter, flutes, politician, nativity\n",
            "africa: america, europe, germany, united, north, india, east, south, nine, england\n",
            "musician: singer, actor, born, english, actress, music, american, author, poet, writer\n",
            "dance: music, history, modern, china, traditional, country, article, contemporary, hungary, football\n",
            "\n",
            "\n"
          ]
        },
        {
          "output_type": "stream",
          "name": "stderr",
          "text": [
            "7000it [02:21, 51.41it/s]"
          ]
        },
        {
          "output_type": "stream",
          "name": "stdout",
          "text": [
            "| epoch   9 |  7000/32580 batches | loss    0.715 \n",
            "money: him, much, not, them, use, sense, fact, seen, way, nine\n",
            "lion: branwell, boys, melbourne, purpose, placed, refurbished, letter, flutes, politician, nativity\n",
            "africa: america, europe, germany, united, north, india, east, south, nine, england\n",
            "musician: singer, actor, born, english, actress, music, american, author, poet, writer\n",
            "dance: music, history, modern, china, traditional, country, article, contemporary, hungary, football\n",
            "\n",
            "\n"
          ]
        },
        {
          "output_type": "stream",
          "name": "stderr",
          "text": [
            "7497it [02:34, 51.90it/s]"
          ]
        },
        {
          "output_type": "stream",
          "name": "stdout",
          "text": [
            "| epoch   9 |  7500/32580 batches | loss    0.713 \n",
            "money: him, much, not, them, use, sense, fact, seen, way, nine\n",
            "lion: branwell, boys, melbourne, purpose, placed, refurbished, letter, flutes, politician, nativity\n",
            "africa: america, europe, germany, united, north, india, east, south, nine, england\n",
            "musician: singer, actor, born, english, actress, music, american, author, poet, writer\n",
            "dance: music, history, modern, china, traditional, country, article, contemporary, hungary, football\n",
            "\n",
            "\n"
          ]
        },
        {
          "output_type": "stream",
          "name": "stderr",
          "text": [
            "8000it [02:44, 51.67it/s]"
          ]
        },
        {
          "output_type": "stream",
          "name": "stdout",
          "text": [
            "| epoch   9 |  8000/32580 batches | loss    0.715 \n",
            "money: him, much, not, them, use, sense, fact, seen, way, nine\n",
            "lion: branwell, boys, melbourne, purpose, placed, refurbished, letter, flutes, politician, nativity\n",
            "africa: america, europe, germany, united, north, india, east, south, nine, england\n",
            "musician: singer, actor, born, english, actress, music, american, author, poet, writer\n",
            "dance: music, history, modern, china, traditional, country, article, contemporary, hungary, football\n",
            "\n",
            "\n"
          ]
        },
        {
          "output_type": "stream",
          "name": "stderr",
          "text": [
            "8498it [02:54, 51.65it/s]"
          ]
        },
        {
          "output_type": "stream",
          "name": "stdout",
          "text": [
            "| epoch   9 |  8500/32580 batches | loss    0.717 \n",
            "money: him, much, not, them, use, sense, fact, seen, way, nine\n",
            "lion: branwell, boys, melbourne, purpose, placed, refurbished, letter, flutes, politician, nativity\n",
            "africa: america, europe, germany, united, north, india, east, south, nine, england\n",
            "musician: singer, actor, born, english, actress, music, american, author, poet, writer\n",
            "dance: music, history, modern, china, traditional, country, article, contemporary, hungary, football\n",
            "\n",
            "\n"
          ]
        },
        {
          "output_type": "stream",
          "name": "stderr",
          "text": [
            "9001it [03:04, 35.16it/s]"
          ]
        },
        {
          "output_type": "stream",
          "name": "stdout",
          "text": [
            "| epoch   9 |  9000/32580 batches | loss    0.716 \n",
            "money: him, much, not, them, use, sense, fact, seen, way, nine\n",
            "lion: branwell, boys, melbourne, purpose, placed, refurbished, letter, flutes, politician, nativity\n",
            "africa: america, europe, germany, united, north, india, east, south, nine, england\n",
            "musician: singer, actor, born, english, actress, music, american, author, poet, writer\n",
            "dance: music, history, modern, china, traditional, country, article, contemporary, hungary, football\n",
            "\n",
            "\n"
          ]
        },
        {
          "output_type": "stream",
          "name": "stderr",
          "text": [
            "9498it [03:14, 51.13it/s]"
          ]
        },
        {
          "output_type": "stream",
          "name": "stdout",
          "text": [
            "| epoch   9 |  9500/32580 batches | loss    0.718 \n",
            "money: him, much, not, them, use, sense, fact, seen, way, nine\n",
            "lion: branwell, boys, melbourne, purpose, placed, refurbished, letter, flutes, politician, nativity\n",
            "africa: america, europe, germany, united, north, india, east, south, nine, england\n",
            "musician: singer, actor, born, english, actress, music, american, author, poet, writer\n",
            "dance: music, history, modern, china, traditional, country, article, contemporary, hungary, football\n",
            "\n",
            "\n"
          ]
        },
        {
          "output_type": "stream",
          "name": "stderr",
          "text": [
            "10000it [03:23, 51.51it/s]"
          ]
        },
        {
          "output_type": "stream",
          "name": "stdout",
          "text": [
            "| epoch   9 | 10000/32580 batches | loss    0.715 \n",
            "money: him, much, not, them, use, sense, fact, seen, way, nine\n",
            "lion: branwell, boys, melbourne, purpose, placed, refurbished, letter, flutes, politician, nativity\n",
            "africa: america, europe, germany, united, north, india, east, south, nine, england\n",
            "musician: singer, actor, born, english, actress, music, american, author, poet, writer\n",
            "dance: music, history, modern, china, traditional, country, article, contemporary, hungary, football\n",
            "\n",
            "\n"
          ]
        },
        {
          "output_type": "stream",
          "name": "stderr",
          "text": [
            "10498it [03:33, 51.53it/s]"
          ]
        },
        {
          "output_type": "stream",
          "name": "stdout",
          "text": [
            "| epoch   9 | 10500/32580 batches | loss    0.715 \n",
            "money: him, much, not, them, use, sense, fact, seen, way, nine\n",
            "lion: branwell, boys, melbourne, purpose, placed, refurbished, letter, flutes, politician, nativity\n",
            "africa: america, europe, germany, united, north, india, east, south, nine, england\n",
            "musician: singer, actor, born, english, actress, music, american, author, poet, writer\n",
            "dance: music, history, modern, china, traditional, country, article, contemporary, hungary, football\n",
            "\n",
            "\n"
          ]
        },
        {
          "output_type": "stream",
          "name": "stderr",
          "text": [
            "10998it [03:43, 52.01it/s]"
          ]
        },
        {
          "output_type": "stream",
          "name": "stdout",
          "text": [
            "| epoch   9 | 11000/32580 batches | loss    0.717 \n",
            "money: him, much, not, them, use, sense, fact, seen, way, nine\n",
            "lion: branwell, boys, melbourne, purpose, placed, refurbished, letter, flutes, politician, nativity\n",
            "africa: america, europe, germany, united, north, india, east, south, nine, england\n",
            "musician: singer, actor, born, english, actress, music, american, author, poet, writer\n",
            "dance: music, history, modern, china, traditional, country, article, contemporary, hungary, football\n",
            "\n",
            "\n"
          ]
        },
        {
          "output_type": "stream",
          "name": "stderr",
          "text": [
            "11501it [03:53, 35.13it/s]"
          ]
        },
        {
          "output_type": "stream",
          "name": "stdout",
          "text": [
            "| epoch   9 | 11500/32580 batches | loss    0.715 \n",
            "money: him, much, not, them, use, sense, fact, seen, way, nine\n",
            "lion: branwell, boys, melbourne, purpose, placed, refurbished, letter, flutes, politician, nativity\n",
            "africa: america, europe, germany, united, north, india, east, south, nine, england\n",
            "musician: singer, actor, born, english, actress, music, american, author, poet, writer\n",
            "dance: music, history, modern, china, traditional, country, article, contemporary, hungary, football\n",
            "\n",
            "\n"
          ]
        },
        {
          "output_type": "stream",
          "name": "stderr",
          "text": [
            "11998it [04:03, 51.19it/s]"
          ]
        },
        {
          "output_type": "stream",
          "name": "stdout",
          "text": [
            "| epoch   9 | 12000/32580 batches | loss    0.718 \n",
            "money: him, much, not, them, use, sense, fact, seen, way, nine\n",
            "lion: branwell, boys, melbourne, purpose, placed, refurbished, letter, flutes, politician, nativity\n",
            "africa: america, europe, germany, united, north, india, east, south, nine, england\n",
            "musician: singer, actor, born, english, actress, music, american, author, poet, writer\n",
            "dance: music, history, modern, china, traditional, country, article, contemporary, hungary, football\n",
            "\n",
            "\n"
          ]
        },
        {
          "output_type": "stream",
          "name": "stderr",
          "text": [
            "12501it [04:13, 34.30it/s]"
          ]
        },
        {
          "output_type": "stream",
          "name": "stdout",
          "text": [
            "| epoch   9 | 12500/32580 batches | loss    0.718 \n",
            "money: him, much, not, them, use, sense, fact, seen, way, nine\n",
            "lion: branwell, boys, melbourne, purpose, placed, refurbished, letter, flutes, politician, nativity\n",
            "africa: america, europe, germany, united, north, india, east, south, nine, england\n",
            "musician: singer, actor, born, english, actress, music, american, author, poet, writer\n",
            "dance: music, history, modern, china, traditional, country, article, contemporary, hungary, football\n",
            "\n",
            "\n"
          ]
        },
        {
          "output_type": "stream",
          "name": "stderr",
          "text": [
            "12998it [04:23, 52.04it/s]"
          ]
        },
        {
          "output_type": "stream",
          "name": "stdout",
          "text": [
            "| epoch   9 | 13000/32580 batches | loss    0.716 \n",
            "money: him, much, not, them, use, sense, fact, seen, way, nine\n",
            "lion: branwell, boys, melbourne, purpose, placed, refurbished, letter, flutes, politician, nativity\n",
            "africa: america, europe, germany, united, north, india, east, south, nine, england\n",
            "musician: singer, actor, born, english, actress, music, american, author, poet, writer\n",
            "dance: music, history, modern, china, traditional, country, article, contemporary, hungary, football\n",
            "\n",
            "\n"
          ]
        },
        {
          "output_type": "stream",
          "name": "stderr",
          "text": [
            "13497it [04:33, 50.76it/s]"
          ]
        },
        {
          "output_type": "stream",
          "name": "stdout",
          "text": [
            "| epoch   9 | 13500/32580 batches | loss    0.716 \n",
            "money: him, much, not, them, use, sense, fact, seen, way, nine\n",
            "lion: branwell, boys, melbourne, purpose, placed, refurbished, letter, flutes, politician, nativity\n",
            "africa: america, europe, germany, united, north, india, east, south, nine, england\n",
            "musician: singer, actor, born, english, actress, music, american, author, poet, writer\n",
            "dance: music, history, modern, china, traditional, country, article, contemporary, hungary, football\n",
            "\n",
            "\n"
          ]
        },
        {
          "output_type": "stream",
          "name": "stderr",
          "text": [
            "13999it [04:43, 51.32it/s]"
          ]
        },
        {
          "output_type": "stream",
          "name": "stdout",
          "text": [
            "| epoch   9 | 14000/32580 batches | loss    0.715 \n",
            "money: him, much, not, them, use, sense, fact, seen, way, nine\n",
            "lion: branwell, boys, melbourne, purpose, placed, refurbished, letter, flutes, politician, nativity\n",
            "africa: america, europe, germany, united, north, india, east, south, nine, england\n",
            "musician: singer, actor, born, english, actress, music, american, author, poet, writer\n",
            "dance: music, history, modern, china, traditional, country, article, contemporary, hungary, football\n",
            "\n",
            "\n"
          ]
        },
        {
          "output_type": "stream",
          "name": "stderr",
          "text": [
            "14498it [04:53, 51.02it/s]"
          ]
        },
        {
          "output_type": "stream",
          "name": "stdout",
          "text": [
            "| epoch   9 | 14500/32580 batches | loss    0.715 \n",
            "money: him, much, not, them, use, sense, fact, seen, way, nine\n",
            "lion: branwell, boys, melbourne, purpose, placed, refurbished, letter, flutes, politician, nativity\n",
            "africa: america, europe, germany, united, north, india, east, south, nine, england\n",
            "musician: singer, actor, born, english, actress, music, american, author, poet, writer\n",
            "dance: music, history, modern, china, traditional, country, article, contemporary, hungary, football\n",
            "\n",
            "\n"
          ]
        },
        {
          "output_type": "stream",
          "name": "stderr",
          "text": [
            "15001it [05:03, 34.41it/s]"
          ]
        },
        {
          "output_type": "stream",
          "name": "stdout",
          "text": [
            "| epoch   9 | 15000/32580 batches | loss    0.717 \n",
            "money: him, much, not, them, use, sense, fact, seen, way, nine\n",
            "lion: branwell, boys, melbourne, purpose, placed, refurbished, letter, flutes, politician, nativity\n",
            "africa: america, europe, germany, united, north, india, east, south, nine, england\n",
            "musician: singer, actor, born, english, actress, music, american, author, poet, writer\n",
            "dance: music, history, modern, china, traditional, country, article, contemporary, hungary, football\n",
            "\n",
            "\n"
          ]
        },
        {
          "output_type": "stream",
          "name": "stderr",
          "text": [
            "15501it [05:13, 32.89it/s]"
          ]
        },
        {
          "output_type": "stream",
          "name": "stdout",
          "text": [
            "| epoch   9 | 15500/32580 batches | loss    0.717 \n",
            "money: him, much, not, them, use, sense, fact, seen, way, nine\n",
            "lion: branwell, boys, melbourne, purpose, placed, refurbished, letter, flutes, politician, nativity\n",
            "africa: america, europe, germany, united, north, india, east, south, nine, england\n",
            "musician: singer, actor, born, english, actress, music, american, author, poet, writer\n",
            "dance: music, history, modern, china, traditional, country, article, contemporary, hungary, football\n",
            "\n",
            "\n"
          ]
        },
        {
          "output_type": "stream",
          "name": "stderr",
          "text": [
            "15996it [05:23, 51.63it/s]"
          ]
        },
        {
          "output_type": "stream",
          "name": "stdout",
          "text": [
            "| epoch   9 | 16000/32580 batches | loss    0.714 \n",
            "money: him, much, not, them, use, sense, fact, seen, way, nine\n",
            "lion: branwell, boys, melbourne, purpose, placed, refurbished, letter, flutes, politician, nativity\n",
            "africa: america, europe, germany, united, north, india, east, south, nine, england\n",
            "musician: singer, actor, born, english, actress, music, american, author, poet, writer\n",
            "dance: music, history, modern, china, traditional, country, article, contemporary, hungary, football\n",
            "\n",
            "\n"
          ]
        },
        {
          "output_type": "stream",
          "name": "stderr",
          "text": [
            "16498it [05:33, 51.98it/s]"
          ]
        },
        {
          "output_type": "stream",
          "name": "stdout",
          "text": [
            "| epoch   9 | 16500/32580 batches | loss    0.715 \n",
            "money: him, much, not, them, use, sense, fact, seen, way, nine\n",
            "lion: branwell, boys, melbourne, purpose, placed, refurbished, letter, flutes, politician, nativity\n",
            "africa: america, europe, germany, united, north, india, east, south, nine, england\n",
            "musician: singer, actor, born, english, actress, music, american, author, poet, writer\n",
            "dance: music, history, modern, china, traditional, country, article, contemporary, hungary, football\n",
            "\n",
            "\n"
          ]
        },
        {
          "output_type": "stream",
          "name": "stderr",
          "text": [
            "17000it [05:43, 52.20it/s]"
          ]
        },
        {
          "output_type": "stream",
          "name": "stdout",
          "text": [
            "| epoch   9 | 17000/32580 batches | loss    0.715 \n",
            "money: him, much, not, them, use, sense, fact, seen, way, nine\n",
            "lion: branwell, boys, melbourne, purpose, placed, refurbished, letter, flutes, politician, nativity\n",
            "africa: america, europe, germany, united, north, india, east, south, nine, england\n",
            "musician: singer, actor, born, english, actress, music, american, author, poet, writer\n",
            "dance: music, history, modern, china, traditional, country, article, contemporary, hungary, football\n",
            "\n",
            "\n"
          ]
        },
        {
          "output_type": "stream",
          "name": "stderr",
          "text": [
            "17499it [05:53, 51.87it/s]"
          ]
        },
        {
          "output_type": "stream",
          "name": "stdout",
          "text": [
            "| epoch   9 | 17500/32580 batches | loss    0.716 \n",
            "money: him, much, not, them, use, sense, fact, seen, way, nine\n",
            "lion: branwell, boys, melbourne, purpose, placed, refurbished, letter, flutes, politician, nativity\n",
            "africa: america, europe, germany, united, north, india, east, south, nine, england\n",
            "musician: singer, actor, born, english, actress, music, american, author, poet, writer\n",
            "dance: music, history, modern, china, traditional, country, article, contemporary, hungary, football\n",
            "\n",
            "\n"
          ]
        },
        {
          "output_type": "stream",
          "name": "stderr",
          "text": [
            "17999it [06:03, 49.93it/s]"
          ]
        },
        {
          "output_type": "stream",
          "name": "stdout",
          "text": [
            "| epoch   9 | 18000/32580 batches | loss    0.717 \n",
            "money: him, much, not, them, use, sense, fact, seen, way, nine\n",
            "lion: branwell, boys, melbourne, purpose, placed, refurbished, letter, flutes, politician, nativity\n",
            "africa: america, europe, germany, united, north, india, east, south, nine, england\n",
            "musician: singer, actor, born, english, actress, music, american, author, poet, writer\n",
            "dance: music, history, modern, china, traditional, country, article, contemporary, hungary, football\n",
            "\n",
            "\n"
          ]
        },
        {
          "output_type": "stream",
          "name": "stderr",
          "text": [
            "18498it [06:13, 49.91it/s]"
          ]
        },
        {
          "output_type": "stream",
          "name": "stdout",
          "text": [
            "| epoch   9 | 18500/32580 batches | loss    0.716 \n",
            "money: him, much, not, them, use, sense, fact, seen, way, nine\n",
            "lion: branwell, boys, melbourne, purpose, placed, refurbished, letter, flutes, politician, nativity\n",
            "africa: america, europe, germany, united, north, india, east, south, nine, england\n",
            "musician: singer, actor, born, english, actress, music, american, author, poet, writer\n",
            "dance: music, history, modern, china, traditional, country, article, contemporary, hungary, football\n",
            "\n",
            "\n"
          ]
        },
        {
          "output_type": "stream",
          "name": "stderr",
          "text": [
            "18998it [06:23, 51.46it/s]"
          ]
        },
        {
          "output_type": "stream",
          "name": "stdout",
          "text": [
            "| epoch   9 | 19000/32580 batches | loss    0.716 \n",
            "money: him, much, not, them, use, sense, fact, seen, way, nine\n",
            "lion: branwell, boys, melbourne, purpose, placed, refurbished, letter, flutes, politician, nativity\n",
            "africa: america, europe, germany, united, north, india, east, south, nine, england\n",
            "musician: singer, actor, born, english, actress, music, american, author, poet, writer\n",
            "dance: music, history, modern, china, traditional, country, article, contemporary, hungary, football\n",
            "\n",
            "\n"
          ]
        },
        {
          "output_type": "stream",
          "name": "stderr",
          "text": [
            "19497it [06:33, 50.13it/s]"
          ]
        },
        {
          "output_type": "stream",
          "name": "stdout",
          "text": [
            "| epoch   9 | 19500/32580 batches | loss    0.717 \n",
            "money: him, much, not, them, use, sense, fact, seen, way, nine\n",
            "lion: branwell, boys, melbourne, purpose, placed, refurbished, letter, flutes, politician, nativity\n",
            "africa: america, europe, germany, united, north, india, east, south, nine, england\n",
            "musician: singer, actor, born, english, actress, music, american, author, poet, writer\n",
            "dance: music, history, modern, china, traditional, country, article, contemporary, hungary, football\n",
            "\n",
            "\n"
          ]
        },
        {
          "output_type": "stream",
          "name": "stderr",
          "text": [
            "20000it [06:43, 51.15it/s]"
          ]
        },
        {
          "output_type": "stream",
          "name": "stdout",
          "text": [
            "| epoch   9 | 20000/32580 batches | loss    0.716 \n",
            "money: him, much, not, them, use, sense, fact, seen, way, nine\n",
            "lion: branwell, boys, melbourne, purpose, placed, refurbished, letter, flutes, politician, nativity\n",
            "africa: america, europe, germany, united, north, india, east, south, nine, england\n",
            "musician: singer, actor, born, english, actress, music, american, author, poet, writer\n",
            "dance: music, history, modern, china, traditional, country, article, contemporary, hungary, football\n",
            "\n",
            "\n"
          ]
        },
        {
          "output_type": "stream",
          "name": "stderr",
          "text": [
            "20498it [06:53, 52.37it/s]"
          ]
        },
        {
          "output_type": "stream",
          "name": "stdout",
          "text": [
            "| epoch   9 | 20500/32580 batches | loss    0.718 \n",
            "money: him, much, not, them, use, sense, fact, seen, way, nine\n",
            "lion: branwell, boys, melbourne, purpose, placed, refurbished, letter, flutes, politician, nativity\n",
            "africa: america, europe, germany, united, north, india, east, south, nine, england\n",
            "musician: singer, actor, born, english, actress, music, american, author, poet, writer\n",
            "dance: music, history, modern, china, traditional, country, article, contemporary, hungary, football\n",
            "\n",
            "\n"
          ]
        },
        {
          "output_type": "stream",
          "name": "stderr",
          "text": [
            "21001it [07:03, 34.60it/s]"
          ]
        },
        {
          "output_type": "stream",
          "name": "stdout",
          "text": [
            "| epoch   9 | 21000/32580 batches | loss    0.716 \n",
            "money: him, much, not, them, use, sense, fact, seen, way, nine\n",
            "lion: branwell, boys, melbourne, purpose, placed, refurbished, letter, flutes, politician, nativity\n",
            "africa: america, europe, germany, united, north, india, east, south, nine, england\n",
            "musician: singer, actor, born, english, actress, music, american, author, poet, writer\n",
            "dance: music, history, modern, china, traditional, country, article, contemporary, hungary, football\n",
            "\n",
            "\n"
          ]
        },
        {
          "output_type": "stream",
          "name": "stderr",
          "text": [
            "21498it [07:12, 51.50it/s]"
          ]
        },
        {
          "output_type": "stream",
          "name": "stdout",
          "text": [
            "| epoch   9 | 21500/32580 batches | loss    0.714 \n",
            "money: him, much, not, them, use, sense, fact, seen, way, nine\n",
            "lion: branwell, boys, melbourne, purpose, placed, refurbished, letter, flutes, politician, nativity\n",
            "africa: america, europe, germany, united, north, india, east, south, nine, england\n",
            "musician: singer, actor, born, english, actress, music, american, author, poet, writer\n",
            "dance: music, history, modern, china, traditional, country, article, contemporary, hungary, football\n",
            "\n",
            "\n"
          ]
        },
        {
          "output_type": "stream",
          "name": "stderr",
          "text": [
            "21996it [07:22, 52.09it/s]"
          ]
        },
        {
          "output_type": "stream",
          "name": "stdout",
          "text": [
            "| epoch   9 | 22000/32580 batches | loss    0.717 \n",
            "money: him, much, not, them, use, sense, fact, seen, way, nine\n",
            "lion: branwell, boys, melbourne, purpose, placed, refurbished, letter, flutes, politician, nativity\n",
            "africa: america, europe, germany, united, north, india, east, south, nine, england\n",
            "musician: singer, actor, born, english, actress, music, american, author, poet, writer\n",
            "dance: music, history, modern, china, traditional, country, article, contemporary, hungary, football\n",
            "\n",
            "\n"
          ]
        },
        {
          "output_type": "stream",
          "name": "stderr",
          "text": [
            "22499it [07:32, 51.83it/s]"
          ]
        },
        {
          "output_type": "stream",
          "name": "stdout",
          "text": [
            "| epoch   9 | 22500/32580 batches | loss    0.718 \n",
            "money: him, much, not, them, use, sense, fact, seen, way, nine\n",
            "lion: branwell, boys, melbourne, purpose, placed, refurbished, letter, flutes, politician, nativity\n",
            "africa: america, europe, germany, united, north, india, east, south, nine, england\n",
            "musician: singer, actor, born, english, actress, music, american, author, poet, writer\n",
            "dance: music, history, modern, china, traditional, country, article, contemporary, hungary, football\n",
            "\n",
            "\n"
          ]
        },
        {
          "output_type": "stream",
          "name": "stderr",
          "text": [
            "23001it [07:42, 34.26it/s]"
          ]
        },
        {
          "output_type": "stream",
          "name": "stdout",
          "text": [
            "| epoch   9 | 23000/32580 batches | loss    0.716 \n",
            "money: him, much, not, them, use, sense, fact, seen, way, nine\n",
            "lion: branwell, boys, melbourne, purpose, placed, refurbished, letter, flutes, politician, nativity\n",
            "africa: america, europe, germany, united, north, india, east, south, nine, england\n",
            "musician: singer, actor, born, english, actress, music, american, author, poet, writer\n",
            "dance: music, history, modern, china, traditional, country, article, contemporary, hungary, football\n",
            "\n",
            "\n"
          ]
        },
        {
          "output_type": "stream",
          "name": "stderr",
          "text": [
            "23498it [07:52, 52.07it/s]"
          ]
        },
        {
          "output_type": "stream",
          "name": "stdout",
          "text": [
            "| epoch   9 | 23500/32580 batches | loss    0.716 \n",
            "money: him, much, not, them, use, sense, fact, seen, way, nine\n",
            "lion: branwell, boys, melbourne, purpose, placed, refurbished, letter, flutes, politician, nativity\n",
            "africa: america, europe, germany, united, north, india, east, south, nine, england\n",
            "musician: singer, actor, born, english, actress, music, american, author, poet, writer\n",
            "dance: music, history, modern, china, traditional, country, article, contemporary, hungary, football\n",
            "\n",
            "\n"
          ]
        },
        {
          "output_type": "stream",
          "name": "stderr",
          "text": [
            "24001it [08:02, 34.44it/s]"
          ]
        },
        {
          "output_type": "stream",
          "name": "stdout",
          "text": [
            "| epoch   9 | 24000/32580 batches | loss    0.715 \n",
            "money: him, much, not, them, use, sense, fact, seen, way, nine\n",
            "lion: branwell, boys, melbourne, purpose, placed, refurbished, letter, flutes, politician, nativity\n",
            "africa: america, europe, germany, united, north, india, east, south, nine, england\n",
            "musician: singer, actor, born, english, actress, music, american, author, poet, writer\n",
            "dance: music, history, modern, china, traditional, country, article, contemporary, hungary, football\n",
            "\n",
            "\n"
          ]
        },
        {
          "output_type": "stream",
          "name": "stderr",
          "text": [
            "24498it [08:12, 51.39it/s]"
          ]
        },
        {
          "output_type": "stream",
          "name": "stdout",
          "text": [
            "| epoch   9 | 24500/32580 batches | loss    0.715 \n",
            "money: him, much, not, them, use, sense, fact, seen, way, nine\n",
            "lion: branwell, boys, melbourne, purpose, placed, refurbished, letter, flutes, politician, nativity\n",
            "africa: america, europe, germany, united, north, india, east, south, nine, england\n",
            "musician: singer, actor, born, english, actress, music, american, author, poet, writer\n",
            "dance: music, history, modern, china, traditional, country, article, contemporary, hungary, football\n",
            "\n",
            "\n"
          ]
        },
        {
          "output_type": "stream",
          "name": "stderr",
          "text": [
            "25000it [08:22, 52.07it/s]"
          ]
        },
        {
          "output_type": "stream",
          "name": "stdout",
          "text": [
            "| epoch   9 | 25000/32580 batches | loss    0.716 \n",
            "money: him, much, not, them, use, sense, fact, seen, way, nine\n",
            "lion: branwell, boys, melbourne, purpose, placed, refurbished, letter, flutes, politician, nativity\n",
            "africa: america, europe, germany, united, north, india, east, south, nine, england\n",
            "musician: singer, actor, born, english, actress, music, american, author, poet, writer\n",
            "dance: music, history, modern, china, traditional, country, article, contemporary, hungary, football\n",
            "\n",
            "\n"
          ]
        },
        {
          "output_type": "stream",
          "name": "stderr",
          "text": [
            "25497it [08:32, 52.19it/s]"
          ]
        },
        {
          "output_type": "stream",
          "name": "stdout",
          "text": [
            "| epoch   9 | 25500/32580 batches | loss    0.716 \n",
            "money: him, much, not, them, use, sense, fact, seen, way, nine\n",
            "lion: branwell, boys, melbourne, purpose, placed, refurbished, letter, flutes, politician, nativity\n",
            "africa: america, europe, germany, united, north, india, east, south, nine, england\n",
            "musician: singer, actor, born, english, actress, music, american, author, poet, writer\n",
            "dance: music, history, modern, china, traditional, country, article, contemporary, hungary, football\n",
            "\n",
            "\n"
          ]
        },
        {
          "output_type": "stream",
          "name": "stderr",
          "text": [
            "26000it [08:41, 51.86it/s]"
          ]
        },
        {
          "output_type": "stream",
          "name": "stdout",
          "text": [
            "| epoch   9 | 26000/32580 batches | loss    0.715 \n",
            "money: him, much, not, them, use, sense, fact, seen, way, nine\n",
            "lion: branwell, boys, melbourne, purpose, placed, refurbished, letter, flutes, politician, nativity\n",
            "africa: america, europe, germany, united, north, india, east, south, nine, england\n",
            "musician: singer, actor, born, english, actress, music, american, author, poet, writer\n",
            "dance: music, history, modern, china, traditional, country, article, contemporary, hungary, football\n",
            "\n",
            "\n"
          ]
        },
        {
          "output_type": "stream",
          "name": "stderr",
          "text": [
            "26498it [08:51, 51.30it/s]"
          ]
        },
        {
          "output_type": "stream",
          "name": "stdout",
          "text": [
            "| epoch   9 | 26500/32580 batches | loss    0.716 \n",
            "money: him, much, not, them, use, sense, fact, seen, way, nine\n",
            "lion: branwell, boys, melbourne, purpose, placed, refurbished, letter, flutes, politician, nativity\n",
            "africa: america, europe, germany, united, north, india, east, south, nine, england\n",
            "musician: singer, actor, born, english, actress, music, american, author, poet, writer\n",
            "dance: music, history, modern, china, traditional, country, article, contemporary, hungary, football\n",
            "\n",
            "\n"
          ]
        },
        {
          "output_type": "stream",
          "name": "stderr",
          "text": [
            "26999it [09:01, 50.45it/s]"
          ]
        },
        {
          "output_type": "stream",
          "name": "stdout",
          "text": [
            "| epoch   9 | 27000/32580 batches | loss    0.718 \n",
            "money: him, much, not, them, use, sense, fact, seen, way, nine\n",
            "lion: branwell, boys, melbourne, purpose, placed, refurbished, letter, flutes, politician, nativity\n",
            "africa: america, europe, germany, united, north, india, east, south, nine, england\n",
            "musician: singer, actor, born, english, actress, music, american, author, poet, writer\n",
            "dance: music, history, modern, china, traditional, country, article, contemporary, hungary, football\n",
            "\n",
            "\n"
          ]
        },
        {
          "output_type": "stream",
          "name": "stderr",
          "text": [
            "27498it [09:11, 51.57it/s]"
          ]
        },
        {
          "output_type": "stream",
          "name": "stdout",
          "text": [
            "| epoch   9 | 27500/32580 batches | loss    0.717 \n",
            "money: him, much, not, them, use, sense, fact, seen, way, nine\n",
            "lion: branwell, boys, melbourne, purpose, placed, refurbished, letter, flutes, politician, nativity\n",
            "africa: america, europe, germany, united, north, india, east, south, nine, england\n",
            "musician: singer, actor, born, english, actress, music, american, author, poet, writer\n",
            "dance: music, history, modern, china, traditional, country, article, contemporary, hungary, football\n",
            "\n",
            "\n"
          ]
        },
        {
          "output_type": "stream",
          "name": "stderr",
          "text": [
            "28000it [09:21, 51.71it/s]"
          ]
        },
        {
          "output_type": "stream",
          "name": "stdout",
          "text": [
            "| epoch   9 | 28000/32580 batches | loss    0.714 \n",
            "money: him, much, not, them, use, sense, fact, seen, way, nine\n",
            "lion: branwell, boys, melbourne, purpose, placed, refurbished, letter, flutes, politician, nativity\n",
            "africa: america, europe, germany, united, north, india, east, south, nine, england\n",
            "musician: singer, actor, born, english, actress, music, american, author, poet, writer\n",
            "dance: music, history, modern, china, traditional, country, article, contemporary, hungary, football\n",
            "\n",
            "\n"
          ]
        },
        {
          "output_type": "stream",
          "name": "stderr",
          "text": [
            "28501it [09:32, 33.84it/s]"
          ]
        },
        {
          "output_type": "stream",
          "name": "stdout",
          "text": [
            "| epoch   9 | 28500/32580 batches | loss    0.715 \n",
            "money: him, much, not, them, use, sense, fact, seen, way, nine\n",
            "lion: branwell, boys, melbourne, purpose, placed, refurbished, letter, flutes, politician, nativity\n",
            "africa: america, europe, germany, united, north, india, east, south, nine, england\n",
            "musician: singer, actor, born, english, actress, music, american, author, poet, writer\n",
            "dance: music, history, modern, china, traditional, country, article, contemporary, hungary, football\n",
            "\n",
            "\n"
          ]
        },
        {
          "output_type": "stream",
          "name": "stderr",
          "text": [
            "28999it [09:42, 50.50it/s]"
          ]
        },
        {
          "output_type": "stream",
          "name": "stdout",
          "text": [
            "| epoch   9 | 29000/32580 batches | loss    0.715 \n",
            "money: him, much, not, them, use, sense, fact, seen, way, nine\n",
            "lion: branwell, boys, melbourne, purpose, placed, refurbished, letter, flutes, politician, nativity\n",
            "africa: america, europe, germany, united, north, india, east, south, nine, england\n",
            "musician: singer, actor, born, english, actress, music, american, author, poet, writer\n",
            "dance: music, history, modern, china, traditional, country, article, contemporary, hungary, football\n",
            "\n",
            "\n"
          ]
        },
        {
          "output_type": "stream",
          "name": "stderr",
          "text": [
            "29500it [09:52, 50.65it/s]"
          ]
        },
        {
          "output_type": "stream",
          "name": "stdout",
          "text": [
            "| epoch   9 | 29500/32580 batches | loss    0.718 \n",
            "money: him, much, not, them, use, sense, fact, seen, way, nine\n",
            "lion: branwell, boys, melbourne, purpose, placed, refurbished, letter, flutes, politician, nativity\n",
            "africa: america, europe, germany, united, north, india, east, south, nine, england\n",
            "musician: singer, actor, born, english, actress, music, american, author, poet, writer\n",
            "dance: music, history, modern, china, traditional, country, article, contemporary, hungary, football\n",
            "\n",
            "\n"
          ]
        },
        {
          "output_type": "stream",
          "name": "stderr",
          "text": [
            "29998it [10:02, 51.38it/s]"
          ]
        },
        {
          "output_type": "stream",
          "name": "stdout",
          "text": [
            "| epoch   9 | 30000/32580 batches | loss    0.716 \n",
            "money: him, much, not, them, use, sense, fact, seen, way, nine\n",
            "lion: branwell, boys, melbourne, purpose, placed, refurbished, letter, flutes, politician, nativity\n",
            "africa: america, europe, germany, united, north, india, east, south, nine, england\n",
            "musician: singer, actor, born, english, actress, music, american, author, poet, writer\n",
            "dance: music, history, modern, china, traditional, country, article, contemporary, hungary, football\n",
            "\n",
            "\n"
          ]
        },
        {
          "output_type": "stream",
          "name": "stderr",
          "text": [
            "30498it [10:12, 49.80it/s]"
          ]
        },
        {
          "output_type": "stream",
          "name": "stdout",
          "text": [
            "| epoch   9 | 30500/32580 batches | loss    0.719 \n",
            "money: him, much, not, them, use, sense, fact, seen, way, nine\n",
            "lion: branwell, boys, melbourne, purpose, placed, refurbished, letter, flutes, politician, nativity\n",
            "africa: america, europe, germany, united, north, india, east, south, nine, england\n",
            "musician: singer, actor, born, english, actress, music, american, author, poet, writer\n",
            "dance: music, history, modern, china, traditional, country, article, contemporary, hungary, football\n",
            "\n",
            "\n"
          ]
        },
        {
          "output_type": "stream",
          "name": "stderr",
          "text": [
            "31000it [10:25, 38.74it/s]"
          ]
        },
        {
          "output_type": "stream",
          "name": "stdout",
          "text": [
            "| epoch   9 | 31000/32580 batches | loss    0.716 \n"
          ]
        },
        {
          "output_type": "stream",
          "name": "stderr",
          "text": [
            "\r31005it [10:25, 26.38it/s]"
          ]
        },
        {
          "output_type": "stream",
          "name": "stdout",
          "text": [
            "money: him, much, not, them, use, sense, fact, seen, way, nine\n",
            "lion: branwell, boys, melbourne, purpose, placed, refurbished, letter, flutes, politician, nativity\n",
            "africa: america, europe, germany, united, north, india, east, south, nine, england\n",
            "musician: singer, actor, born, english, actress, music, american, author, poet, writer\n",
            "dance: music, history, modern, china, traditional, country, article, contemporary, hungary, football\n",
            "\n",
            "\n"
          ]
        },
        {
          "output_type": "stream",
          "name": "stderr",
          "text": [
            "31498it [10:35, 49.97it/s]"
          ]
        },
        {
          "output_type": "stream",
          "name": "stdout",
          "text": [
            "| epoch   9 | 31500/32580 batches | loss    0.715 \n",
            "money: him, much, not, them, use, sense, fact, seen, way, nine\n",
            "lion: branwell, boys, melbourne, purpose, placed, refurbished, letter, flutes, politician, nativity\n",
            "africa: america, europe, germany, united, north, india, east, south, nine, england\n",
            "musician: singer, actor, born, english, actress, music, american, author, poet, writer\n",
            "dance: music, history, modern, china, traditional, country, article, contemporary, hungary, football\n",
            "\n",
            "\n"
          ]
        },
        {
          "output_type": "stream",
          "name": "stderr",
          "text": [
            "32001it [10:45, 34.50it/s]"
          ]
        },
        {
          "output_type": "stream",
          "name": "stdout",
          "text": [
            "| epoch   9 | 32000/32580 batches | loss    0.718 \n",
            "money: him, much, not, them, use, sense, fact, seen, way, nine\n",
            "lion: branwell, boys, melbourne, purpose, placed, refurbished, letter, flutes, politician, nativity\n",
            "africa: america, europe, germany, united, north, india, east, south, nine, england\n",
            "musician: singer, actor, born, english, actress, music, american, author, poet, writer\n",
            "dance: music, history, modern, china, traditional, country, article, contemporary, hungary, football\n",
            "\n",
            "\n"
          ]
        },
        {
          "output_type": "stream",
          "name": "stderr",
          "text": [
            "32499it [10:55, 50.84it/s]"
          ]
        },
        {
          "output_type": "stream",
          "name": "stdout",
          "text": [
            "| epoch   9 | 32500/32580 batches | loss    0.717 \n",
            "money: him, much, not, them, use, sense, fact, seen, way, nine\n",
            "lion: branwell, boys, melbourne, purpose, placed, refurbished, letter, flutes, politician, nativity\n",
            "africa: america, europe, germany, united, north, india, east, south, nine, england\n",
            "musician: singer, actor, born, english, actress, music, american, author, poet, writer\n",
            "dance: music, history, modern, china, traditional, country, article, contemporary, hungary, football\n",
            "\n",
            "\n"
          ]
        },
        {
          "output_type": "stream",
          "name": "stderr",
          "text": [
            "32580it [10:59, 49.40it/s]\n",
            "1it [00:01,  1.87s/it]"
          ]
        },
        {
          "output_type": "stream",
          "name": "stdout",
          "text": [
            "| epoch  10 |     0/32580 batches | loss    0.706 \n",
            "money: him, much, not, them, use, sense, fact, seen, way, nine\n",
            "lion: branwell, boys, melbourne, purpose, placed, refurbished, letter, flutes, politician, nativity\n",
            "africa: america, europe, germany, united, north, india, east, south, nine, england\n",
            "musician: singer, actor, born, english, actress, music, american, author, poet, writer\n",
            "dance: music, history, modern, china, traditional, country, article, contemporary, hungary, football\n",
            "\n",
            "\n"
          ]
        },
        {
          "output_type": "stream",
          "name": "stderr",
          "text": [
            "500it [00:11, 50.64it/s]"
          ]
        },
        {
          "output_type": "stream",
          "name": "stdout",
          "text": [
            "| epoch  10 |   500/32580 batches | loss    0.715 \n",
            "money: him, much, not, them, use, sense, fact, seen, way, nine\n",
            "lion: branwell, boys, melbourne, purpose, placed, refurbished, letter, flutes, politician, nativity\n",
            "africa: america, europe, germany, united, north, india, east, south, nine, england\n",
            "musician: singer, actor, born, english, actress, music, american, author, poet, writer\n",
            "dance: music, history, modern, china, traditional, country, article, contemporary, hungary, football\n",
            "\n",
            "\n"
          ]
        },
        {
          "output_type": "stream",
          "name": "stderr",
          "text": [
            "998it [00:21, 50.74it/s]"
          ]
        },
        {
          "output_type": "stream",
          "name": "stdout",
          "text": [
            "| epoch  10 |  1000/32580 batches | loss    0.716 \n",
            "money: him, much, not, them, use, sense, fact, seen, way, nine\n",
            "lion: branwell, boys, melbourne, purpose, placed, refurbished, letter, flutes, politician, nativity\n",
            "africa: america, europe, germany, united, north, india, east, south, nine, england\n",
            "musician: singer, actor, born, english, actress, music, american, author, poet, writer\n",
            "dance: music, history, modern, china, traditional, country, article, contemporary, hungary, football\n",
            "\n",
            "\n"
          ]
        },
        {
          "output_type": "stream",
          "name": "stderr",
          "text": [
            "1498it [00:32, 51.09it/s]"
          ]
        },
        {
          "output_type": "stream",
          "name": "stdout",
          "text": [
            "| epoch  10 |  1500/32580 batches | loss    0.719 \n",
            "money: him, much, not, them, use, sense, fact, seen, way, nine\n",
            "lion: branwell, boys, melbourne, purpose, placed, refurbished, letter, flutes, politician, nativity\n",
            "africa: america, europe, germany, united, north, india, east, south, nine, england\n",
            "musician: singer, actor, born, english, actress, music, american, author, poet, writer\n",
            "dance: music, history, modern, china, traditional, country, article, contemporary, hungary, football\n",
            "\n",
            "\n"
          ]
        },
        {
          "output_type": "stream",
          "name": "stderr",
          "text": [
            "1996it [00:42, 51.38it/s]"
          ]
        },
        {
          "output_type": "stream",
          "name": "stdout",
          "text": [
            "| epoch  10 |  2000/32580 batches | loss    0.715 \n",
            "money: him, much, not, them, use, sense, fact, seen, way, nine\n",
            "lion: branwell, boys, melbourne, purpose, placed, refurbished, letter, flutes, politician, nativity\n",
            "africa: america, europe, germany, united, north, india, east, south, nine, england\n",
            "musician: singer, actor, born, english, actress, music, american, author, poet, writer\n",
            "dance: music, history, modern, china, traditional, country, article, contemporary, hungary, football\n",
            "\n",
            "\n"
          ]
        },
        {
          "output_type": "stream",
          "name": "stderr",
          "text": [
            "2496it [00:52, 51.02it/s]"
          ]
        },
        {
          "output_type": "stream",
          "name": "stdout",
          "text": [
            "| epoch  10 |  2500/32580 batches | loss    0.715 \n",
            "money: him, much, not, them, use, sense, fact, seen, way, nine\n",
            "lion: branwell, boys, melbourne, purpose, placed, refurbished, letter, flutes, politician, nativity\n",
            "africa: america, europe, germany, united, north, india, east, south, nine, england\n",
            "musician: singer, actor, born, english, actress, music, american, author, poet, writer\n",
            "dance: music, history, modern, china, traditional, country, article, contemporary, hungary, football\n",
            "\n",
            "\n"
          ]
        },
        {
          "output_type": "stream",
          "name": "stderr",
          "text": [
            "3001it [01:02, 33.42it/s]"
          ]
        },
        {
          "output_type": "stream",
          "name": "stdout",
          "text": [
            "| epoch  10 |  3000/32580 batches | loss    0.716 \n",
            "money: him, much, not, them, use, sense, fact, seen, way, nine\n",
            "lion: branwell, boys, melbourne, purpose, placed, refurbished, letter, flutes, politician, nativity\n",
            "africa: america, europe, germany, united, north, india, east, south, nine, england\n",
            "musician: singer, actor, born, english, actress, music, american, author, poet, writer\n",
            "dance: music, history, modern, china, traditional, country, article, contemporary, hungary, football\n",
            "\n",
            "\n"
          ]
        },
        {
          "output_type": "stream",
          "name": "stderr",
          "text": [
            "3501it [01:12, 32.26it/s]"
          ]
        },
        {
          "output_type": "stream",
          "name": "stdout",
          "text": [
            "| epoch  10 |  3500/32580 batches | loss    0.717 \n",
            "money: him, much, not, them, use, sense, fact, seen, way, nine\n",
            "lion: branwell, boys, melbourne, purpose, placed, refurbished, letter, flutes, politician, nativity\n",
            "africa: america, europe, germany, united, north, india, east, south, nine, england\n",
            "musician: singer, actor, born, english, actress, music, american, author, poet, writer\n",
            "dance: music, history, modern, china, traditional, country, article, contemporary, hungary, football\n",
            "\n",
            "\n"
          ]
        },
        {
          "output_type": "stream",
          "name": "stderr",
          "text": [
            "4001it [01:22, 34.76it/s]"
          ]
        },
        {
          "output_type": "stream",
          "name": "stdout",
          "text": [
            "| epoch  10 |  4000/32580 batches | loss    0.715 \n",
            "money: him, much, not, them, use, sense, fact, seen, way, nine\n",
            "lion: branwell, boys, melbourne, purpose, placed, refurbished, letter, flutes, politician, nativity\n",
            "africa: america, europe, germany, united, north, india, east, south, nine, england\n",
            "musician: singer, actor, born, english, actress, music, american, author, poet, writer\n",
            "dance: music, history, modern, china, traditional, country, article, contemporary, hungary, football\n",
            "\n",
            "\n"
          ]
        },
        {
          "output_type": "stream",
          "name": "stderr",
          "text": [
            "4499it [01:32, 51.56it/s]"
          ]
        },
        {
          "output_type": "stream",
          "name": "stdout",
          "text": [
            "| epoch  10 |  4500/32580 batches | loss    0.714 \n",
            "money: him, much, not, them, use, sense, fact, seen, way, nine\n",
            "lion: branwell, boys, melbourne, purpose, placed, refurbished, letter, flutes, politician, nativity\n",
            "africa: america, europe, germany, united, north, india, east, south, nine, england\n",
            "musician: singer, actor, born, english, actress, music, american, author, poet, writer\n",
            "dance: music, history, modern, china, traditional, country, article, contemporary, hungary, football\n",
            "\n",
            "\n"
          ]
        },
        {
          "output_type": "stream",
          "name": "stderr",
          "text": [
            "5000it [01:42, 51.67it/s]"
          ]
        },
        {
          "output_type": "stream",
          "name": "stdout",
          "text": [
            "| epoch  10 |  5000/32580 batches | loss    0.718 \n",
            "money: him, much, not, them, use, sense, fact, seen, way, nine\n",
            "lion: branwell, boys, melbourne, purpose, placed, refurbished, letter, flutes, politician, nativity\n",
            "africa: america, europe, germany, united, north, india, east, south, nine, england\n",
            "musician: singer, actor, born, english, actress, music, american, author, poet, writer\n",
            "dance: music, history, modern, china, traditional, country, article, contemporary, hungary, football\n",
            "\n",
            "\n"
          ]
        },
        {
          "output_type": "stream",
          "name": "stderr",
          "text": [
            "5499it [01:52, 51.89it/s]"
          ]
        },
        {
          "output_type": "stream",
          "name": "stdout",
          "text": [
            "| epoch  10 |  5500/32580 batches | loss    0.715 \n",
            "money: him, much, not, them, use, sense, fact, seen, way, nine\n",
            "lion: branwell, boys, melbourne, purpose, placed, refurbished, letter, flutes, politician, nativity\n",
            "africa: america, europe, germany, united, north, india, east, south, nine, england\n",
            "musician: singer, actor, born, english, actress, music, american, author, poet, writer\n",
            "dance: music, history, modern, china, traditional, country, article, contemporary, hungary, football\n",
            "\n",
            "\n"
          ]
        },
        {
          "output_type": "stream",
          "name": "stderr",
          "text": [
            "5996it [02:02, 50.90it/s]"
          ]
        },
        {
          "output_type": "stream",
          "name": "stdout",
          "text": [
            "| epoch  10 |  6000/32580 batches | loss    0.717 \n",
            "money: him, much, not, them, use, sense, fact, seen, way, nine\n",
            "lion: branwell, boys, melbourne, purpose, placed, refurbished, letter, flutes, politician, nativity\n",
            "africa: america, europe, germany, united, north, india, east, south, nine, england\n",
            "musician: singer, actor, born, english, actress, music, american, author, poet, writer\n",
            "dance: music, history, modern, china, traditional, country, article, contemporary, hungary, football\n",
            "\n",
            "\n"
          ]
        },
        {
          "output_type": "stream",
          "name": "stderr",
          "text": [
            "6499it [02:12, 51.47it/s]"
          ]
        },
        {
          "output_type": "stream",
          "name": "stdout",
          "text": [
            "| epoch  10 |  6500/32580 batches | loss    0.717 \n",
            "money: him, much, not, them, use, sense, fact, seen, way, nine\n",
            "lion: branwell, boys, melbourne, purpose, placed, refurbished, letter, flutes, politician, nativity\n",
            "africa: america, europe, germany, united, north, india, east, south, nine, england\n",
            "musician: singer, actor, born, english, actress, music, american, author, poet, writer\n",
            "dance: music, history, modern, china, traditional, country, article, contemporary, hungary, football\n",
            "\n",
            "\n"
          ]
        },
        {
          "output_type": "stream",
          "name": "stderr",
          "text": [
            "6997it [02:21, 52.03it/s]"
          ]
        },
        {
          "output_type": "stream",
          "name": "stdout",
          "text": [
            "| epoch  10 |  7000/32580 batches | loss    0.716 \n",
            "money: him, much, not, them, use, sense, fact, seen, way, nine\n",
            "lion: branwell, boys, melbourne, purpose, placed, refurbished, letter, flutes, politician, nativity\n",
            "africa: america, europe, germany, united, north, india, east, south, nine, england\n",
            "musician: singer, actor, born, english, actress, music, american, author, poet, writer\n",
            "dance: music, history, modern, china, traditional, country, article, contemporary, hungary, football\n",
            "\n",
            "\n"
          ]
        },
        {
          "output_type": "stream",
          "name": "stderr",
          "text": [
            "7500it [02:31, 51.48it/s]"
          ]
        },
        {
          "output_type": "stream",
          "name": "stdout",
          "text": [
            "| epoch  10 |  7500/32580 batches | loss    0.717 \n",
            "money: him, much, not, them, use, sense, fact, seen, way, nine\n",
            "lion: branwell, boys, melbourne, purpose, placed, refurbished, letter, flutes, politician, nativity\n",
            "africa: america, europe, germany, united, north, india, east, south, nine, england\n",
            "musician: singer, actor, born, english, actress, music, american, author, poet, writer\n",
            "dance: music, history, modern, china, traditional, country, article, contemporary, hungary, football\n",
            "\n",
            "\n"
          ]
        },
        {
          "output_type": "stream",
          "name": "stderr",
          "text": [
            "7998it [02:41, 52.07it/s]"
          ]
        },
        {
          "output_type": "stream",
          "name": "stdout",
          "text": [
            "| epoch  10 |  8000/32580 batches | loss    0.718 \n",
            "money: him, much, not, them, use, sense, fact, seen, way, nine\n",
            "lion: branwell, boys, melbourne, purpose, placed, refurbished, letter, flutes, politician, nativity\n",
            "africa: america, europe, germany, united, north, india, east, south, nine, england\n",
            "musician: singer, actor, born, english, actress, music, american, author, poet, writer\n",
            "dance: music, history, modern, china, traditional, country, article, contemporary, hungary, football\n",
            "\n",
            "\n"
          ]
        },
        {
          "output_type": "stream",
          "name": "stderr",
          "text": [
            "8499it [02:51, 51.99it/s]"
          ]
        },
        {
          "output_type": "stream",
          "name": "stdout",
          "text": [
            "| epoch  10 |  8500/32580 batches | loss    0.717 \n",
            "money: him, much, not, them, use, sense, fact, seen, way, nine\n",
            "lion: branwell, boys, melbourne, purpose, placed, refurbished, letter, flutes, politician, nativity\n",
            "africa: america, europe, germany, united, north, india, east, south, nine, england\n",
            "musician: singer, actor, born, english, actress, music, american, author, poet, writer\n",
            "dance: music, history, modern, china, traditional, country, article, contemporary, hungary, football\n",
            "\n",
            "\n"
          ]
        },
        {
          "output_type": "stream",
          "name": "stderr",
          "text": [
            "8997it [03:01, 50.30it/s]"
          ]
        },
        {
          "output_type": "stream",
          "name": "stdout",
          "text": [
            "| epoch  10 |  9000/32580 batches | loss    0.715 \n",
            "money: him, much, not, them, use, sense, fact, seen, way, nine\n",
            "lion: branwell, boys, melbourne, purpose, placed, refurbished, letter, flutes, politician, nativity\n",
            "africa: america, europe, germany, united, north, india, east, south, nine, england\n",
            "musician: singer, actor, born, english, actress, music, american, author, poet, writer\n",
            "dance: music, history, modern, china, traditional, country, article, contemporary, hungary, football\n",
            "\n",
            "\n"
          ]
        },
        {
          "output_type": "stream",
          "name": "stderr",
          "text": [
            "9500it [03:14, 51.36it/s]"
          ]
        },
        {
          "output_type": "stream",
          "name": "stdout",
          "text": [
            "| epoch  10 |  9500/32580 batches | loss    0.718 \n",
            "money: him, much, not, them, use, sense, fact, seen, way, nine\n",
            "lion: branwell, boys, melbourne, purpose, placed, refurbished, letter, flutes, politician, nativity\n",
            "africa: america, europe, germany, united, north, india, east, south, nine, england\n",
            "musician: singer, actor, born, english, actress, music, american, author, poet, writer\n",
            "dance: music, history, modern, china, traditional, country, article, contemporary, hungary, football\n",
            "\n",
            "\n"
          ]
        },
        {
          "output_type": "stream",
          "name": "stderr",
          "text": [
            "9998it [03:24, 51.12it/s]"
          ]
        },
        {
          "output_type": "stream",
          "name": "stdout",
          "text": [
            "| epoch  10 | 10000/32580 batches | loss    0.717 \n",
            "money: him, much, not, them, use, sense, fact, seen, way, nine\n",
            "lion: branwell, boys, melbourne, purpose, placed, refurbished, letter, flutes, politician, nativity\n",
            "africa: america, europe, germany, united, north, india, east, south, nine, england\n",
            "musician: singer, actor, born, english, actress, music, american, author, poet, writer\n",
            "dance: music, history, modern, china, traditional, country, article, contemporary, hungary, football\n",
            "\n",
            "\n"
          ]
        },
        {
          "output_type": "stream",
          "name": "stderr",
          "text": [
            "10501it [03:34, 34.28it/s]"
          ]
        },
        {
          "output_type": "stream",
          "name": "stdout",
          "text": [
            "| epoch  10 | 10500/32580 batches | loss    0.716 \n",
            "money: him, much, not, them, use, sense, fact, seen, way, nine\n",
            "lion: branwell, boys, melbourne, purpose, placed, refurbished, letter, flutes, politician, nativity\n",
            "africa: america, europe, germany, united, north, india, east, south, nine, england\n",
            "musician: singer, actor, born, english, actress, music, american, author, poet, writer\n",
            "dance: music, history, modern, china, traditional, country, article, contemporary, hungary, football\n",
            "\n",
            "\n"
          ]
        },
        {
          "output_type": "stream",
          "name": "stderr",
          "text": [
            "10998it [03:44, 51.28it/s]"
          ]
        },
        {
          "output_type": "stream",
          "name": "stdout",
          "text": [
            "| epoch  10 | 11000/32580 batches | loss    0.716 \n",
            "money: him, much, not, them, use, sense, fact, seen, way, nine\n",
            "lion: branwell, boys, melbourne, purpose, placed, refurbished, letter, flutes, politician, nativity\n",
            "africa: america, europe, germany, united, north, india, east, south, nine, england\n",
            "musician: singer, actor, born, english, actress, music, american, author, poet, writer\n",
            "dance: music, history, modern, china, traditional, country, article, contemporary, hungary, football\n",
            "\n",
            "\n"
          ]
        },
        {
          "output_type": "stream",
          "name": "stderr",
          "text": [
            "11497it [03:54, 50.30it/s]"
          ]
        },
        {
          "output_type": "stream",
          "name": "stdout",
          "text": [
            "| epoch  10 | 11500/32580 batches | loss    0.715 \n",
            "money: him, much, not, them, use, sense, fact, seen, way, nine\n",
            "lion: branwell, boys, melbourne, purpose, placed, refurbished, letter, flutes, politician, nativity\n",
            "africa: america, europe, germany, united, north, india, east, south, nine, england\n",
            "musician: singer, actor, born, english, actress, music, american, author, poet, writer\n",
            "dance: music, history, modern, china, traditional, country, article, contemporary, hungary, football\n",
            "\n",
            "\n"
          ]
        },
        {
          "output_type": "stream",
          "name": "stderr",
          "text": [
            "11996it [04:04, 50.66it/s]"
          ]
        },
        {
          "output_type": "stream",
          "name": "stdout",
          "text": [
            "| epoch  10 | 12000/32580 batches | loss    0.717 \n",
            "money: him, much, not, them, use, sense, fact, seen, way, nine\n",
            "lion: branwell, boys, melbourne, purpose, placed, refurbished, letter, flutes, politician, nativity\n",
            "africa: america, europe, germany, united, north, india, east, south, nine, england\n",
            "musician: singer, actor, born, english, actress, music, american, author, poet, writer\n",
            "dance: music, history, modern, china, traditional, country, article, contemporary, hungary, football\n",
            "\n",
            "\n"
          ]
        },
        {
          "output_type": "stream",
          "name": "stderr",
          "text": [
            "12498it [04:15, 50.30it/s]"
          ]
        },
        {
          "output_type": "stream",
          "name": "stdout",
          "text": [
            "| epoch  10 | 12500/32580 batches | loss    0.716 \n",
            "money: him, much, not, them, use, sense, fact, seen, way, nine\n",
            "lion: branwell, boys, melbourne, purpose, placed, refurbished, letter, flutes, politician, nativity\n",
            "africa: america, europe, germany, united, north, india, east, south, nine, england\n",
            "musician: singer, actor, born, english, actress, music, american, author, poet, writer\n",
            "dance: music, history, modern, china, traditional, country, article, contemporary, hungary, football\n",
            "\n",
            "\n"
          ]
        },
        {
          "output_type": "stream",
          "name": "stderr",
          "text": [
            "13001it [04:25, 33.31it/s]"
          ]
        },
        {
          "output_type": "stream",
          "name": "stdout",
          "text": [
            "| epoch  10 | 13000/32580 batches | loss    0.714 \n",
            "money: him, much, not, them, use, sense, fact, seen, way, nine\n",
            "lion: branwell, boys, melbourne, purpose, placed, refurbished, letter, flutes, politician, nativity\n",
            "africa: america, europe, germany, united, north, india, east, south, nine, england\n",
            "musician: singer, actor, born, english, actress, music, american, author, poet, writer\n",
            "dance: music, history, modern, china, traditional, country, article, contemporary, hungary, football\n",
            "\n",
            "\n"
          ]
        },
        {
          "output_type": "stream",
          "name": "stderr",
          "text": [
            "13498it [04:35, 51.26it/s]"
          ]
        },
        {
          "output_type": "stream",
          "name": "stdout",
          "text": [
            "| epoch  10 | 13500/32580 batches | loss    0.716 \n",
            "money: him, much, not, them, use, sense, fact, seen, way, nine\n",
            "lion: branwell, boys, melbourne, purpose, placed, refurbished, letter, flutes, politician, nativity\n",
            "africa: america, europe, germany, united, north, india, east, south, nine, england\n",
            "musician: singer, actor, born, english, actress, music, american, author, poet, writer\n",
            "dance: music, history, modern, china, traditional, country, article, contemporary, hungary, football\n",
            "\n",
            "\n"
          ]
        },
        {
          "output_type": "stream",
          "name": "stderr",
          "text": [
            "13999it [04:45, 51.11it/s]"
          ]
        },
        {
          "output_type": "stream",
          "name": "stdout",
          "text": [
            "| epoch  10 | 14000/32580 batches | loss    0.714 \n",
            "money: him, much, not, them, use, sense, fact, seen, way, nine\n",
            "lion: branwell, boys, melbourne, purpose, placed, refurbished, letter, flutes, politician, nativity\n",
            "africa: america, europe, germany, united, north, india, east, south, nine, england\n",
            "musician: singer, actor, born, english, actress, music, american, author, poet, writer\n",
            "dance: music, history, modern, china, traditional, country, article, contemporary, hungary, football\n",
            "\n",
            "\n"
          ]
        },
        {
          "output_type": "stream",
          "name": "stderr",
          "text": [
            "14500it [04:55, 50.95it/s]"
          ]
        },
        {
          "output_type": "stream",
          "name": "stdout",
          "text": [
            "| epoch  10 | 14500/32580 batches | loss    0.713 \n",
            "money: him, much, not, them, use, sense, fact, seen, way, nine\n",
            "lion: branwell, boys, melbourne, purpose, placed, refurbished, letter, flutes, politician, nativity\n",
            "africa: america, europe, germany, united, north, india, east, south, nine, england\n",
            "musician: singer, actor, born, english, actress, music, american, author, poet, writer\n",
            "dance: music, history, modern, china, traditional, country, article, contemporary, hungary, football\n",
            "\n",
            "\n"
          ]
        },
        {
          "output_type": "stream",
          "name": "stderr",
          "text": [
            "14996it [05:05, 51.74it/s]"
          ]
        },
        {
          "output_type": "stream",
          "name": "stdout",
          "text": [
            "| epoch  10 | 15000/32580 batches | loss    0.717 \n",
            "money: him, much, not, them, use, sense, fact, seen, way, nine\n",
            "lion: branwell, boys, melbourne, purpose, placed, refurbished, letter, flutes, politician, nativity\n",
            "africa: america, europe, germany, united, north, india, east, south, nine, england\n",
            "musician: singer, actor, born, english, actress, music, american, author, poet, writer\n",
            "dance: music, history, modern, china, traditional, country, article, contemporary, hungary, football\n",
            "\n",
            "\n"
          ]
        },
        {
          "output_type": "stream",
          "name": "stderr",
          "text": [
            "15498it [05:15, 51.84it/s]"
          ]
        },
        {
          "output_type": "stream",
          "name": "stdout",
          "text": [
            "| epoch  10 | 15500/32580 batches | loss    0.718 \n",
            "money: him, much, not, them, use, sense, fact, seen, way, nine\n",
            "lion: branwell, boys, melbourne, purpose, placed, refurbished, letter, flutes, politician, nativity\n",
            "africa: america, europe, germany, united, north, india, east, south, nine, england\n",
            "musician: singer, actor, born, english, actress, music, american, author, poet, writer\n",
            "dance: music, history, modern, china, traditional, country, article, contemporary, hungary, football\n",
            "\n",
            "\n"
          ]
        },
        {
          "output_type": "stream",
          "name": "stderr",
          "text": [
            "16001it [05:25, 33.92it/s]"
          ]
        },
        {
          "output_type": "stream",
          "name": "stdout",
          "text": [
            "| epoch  10 | 16000/32580 batches | loss    0.716 \n",
            "money: him, much, not, them, use, sense, fact, seen, way, nine\n",
            "lion: branwell, boys, melbourne, purpose, placed, refurbished, letter, flutes, politician, nativity\n",
            "africa: america, europe, germany, united, north, india, east, south, nine, england\n",
            "musician: singer, actor, born, english, actress, music, american, author, poet, writer\n",
            "dance: music, history, modern, china, traditional, country, article, contemporary, hungary, football\n",
            "\n",
            "\n"
          ]
        },
        {
          "output_type": "stream",
          "name": "stderr",
          "text": [
            "16498it [05:34, 51.91it/s]"
          ]
        },
        {
          "output_type": "stream",
          "name": "stdout",
          "text": [
            "| epoch  10 | 16500/32580 batches | loss    0.716 \n",
            "money: him, much, not, them, use, sense, fact, seen, way, nine\n",
            "lion: branwell, boys, melbourne, purpose, placed, refurbished, letter, flutes, politician, nativity\n",
            "africa: america, europe, germany, united, north, india, east, south, nine, england\n",
            "musician: singer, actor, born, english, actress, music, american, author, poet, writer\n",
            "dance: music, history, modern, china, traditional, country, article, contemporary, hungary, football\n",
            "\n",
            "\n"
          ]
        },
        {
          "output_type": "stream",
          "name": "stderr",
          "text": [
            "17000it [05:44, 51.39it/s]"
          ]
        },
        {
          "output_type": "stream",
          "name": "stdout",
          "text": [
            "| epoch  10 | 17000/32580 batches | loss    0.717 \n",
            "money: him, much, not, them, use, sense, fact, seen, way, nine\n",
            "lion: branwell, boys, melbourne, purpose, placed, refurbished, letter, flutes, politician, nativity\n",
            "africa: america, europe, germany, united, north, india, east, south, nine, england\n",
            "musician: singer, actor, born, english, actress, music, american, author, poet, writer\n",
            "dance: music, history, modern, china, traditional, country, article, contemporary, hungary, football\n",
            "\n",
            "\n"
          ]
        },
        {
          "output_type": "stream",
          "name": "stderr",
          "text": [
            "17498it [05:54, 51.86it/s]"
          ]
        },
        {
          "output_type": "stream",
          "name": "stdout",
          "text": [
            "| epoch  10 | 17500/32580 batches | loss    0.715 \n",
            "money: him, much, not, them, use, sense, fact, seen, way, nine\n",
            "lion: branwell, boys, melbourne, purpose, placed, refurbished, letter, flutes, politician, nativity\n",
            "africa: america, europe, germany, united, north, india, east, south, nine, england\n",
            "musician: singer, actor, born, english, actress, music, american, author, poet, writer\n",
            "dance: music, history, modern, china, traditional, country, article, contemporary, hungary, football\n",
            "\n",
            "\n"
          ]
        },
        {
          "output_type": "stream",
          "name": "stderr",
          "text": [
            "18000it [06:04, 51.54it/s]"
          ]
        },
        {
          "output_type": "stream",
          "name": "stdout",
          "text": [
            "| epoch  10 | 18000/32580 batches | loss    0.716 \n",
            "money: him, much, not, them, use, sense, fact, seen, way, nine\n",
            "lion: branwell, boys, melbourne, purpose, placed, refurbished, letter, flutes, politician, nativity\n",
            "africa: america, europe, germany, united, north, india, east, south, nine, england\n",
            "musician: singer, actor, born, english, actress, music, american, author, poet, writer\n",
            "dance: music, history, modern, china, traditional, country, article, contemporary, hungary, football\n",
            "\n",
            "\n"
          ]
        },
        {
          "output_type": "stream",
          "name": "stderr",
          "text": [
            "18499it [06:14, 51.31it/s]"
          ]
        },
        {
          "output_type": "stream",
          "name": "stdout",
          "text": [
            "| epoch  10 | 18500/32580 batches | loss    0.715 \n",
            "money: him, much, not, them, use, sense, fact, seen, way, nine\n",
            "lion: branwell, boys, melbourne, purpose, placed, refurbished, letter, flutes, politician, nativity\n",
            "africa: america, europe, germany, united, north, india, east, south, nine, england\n",
            "musician: singer, actor, born, english, actress, music, american, author, poet, writer\n",
            "dance: music, history, modern, china, traditional, country, article, contemporary, hungary, football\n",
            "\n",
            "\n"
          ]
        },
        {
          "output_type": "stream",
          "name": "stderr",
          "text": [
            "18996it [06:24, 50.19it/s]"
          ]
        },
        {
          "output_type": "stream",
          "name": "stdout",
          "text": [
            "| epoch  10 | 19000/32580 batches | loss    0.718 \n",
            "money: him, much, not, them, use, sense, fact, seen, way, nine\n",
            "lion: branwell, boys, melbourne, purpose, placed, refurbished, letter, flutes, politician, nativity\n",
            "africa: america, europe, germany, united, north, india, east, south, nine, england\n",
            "musician: singer, actor, born, english, actress, music, american, author, poet, writer\n",
            "dance: music, history, modern, china, traditional, country, article, contemporary, hungary, football\n",
            "\n",
            "\n"
          ]
        },
        {
          "output_type": "stream",
          "name": "stderr",
          "text": [
            "19498it [06:34, 51.92it/s]"
          ]
        },
        {
          "output_type": "stream",
          "name": "stdout",
          "text": [
            "| epoch  10 | 19500/32580 batches | loss    0.713 \n",
            "money: him, much, not, them, use, sense, fact, seen, way, nine\n",
            "lion: branwell, boys, melbourne, purpose, placed, refurbished, letter, flutes, politician, nativity\n",
            "africa: america, europe, germany, united, north, india, east, south, nine, england\n",
            "musician: singer, actor, born, english, actress, music, american, author, poet, writer\n",
            "dance: music, history, modern, china, traditional, country, article, contemporary, hungary, football\n",
            "\n",
            "\n"
          ]
        },
        {
          "output_type": "stream",
          "name": "stderr",
          "text": [
            "19997it [06:44, 51.40it/s]"
          ]
        },
        {
          "output_type": "stream",
          "name": "stdout",
          "text": [
            "| epoch  10 | 20000/32580 batches | loss    0.716 \n",
            "money: him, much, not, them, use, sense, fact, seen, way, nine\n",
            "lion: branwell, boys, melbourne, purpose, placed, refurbished, letter, flutes, politician, nativity\n",
            "africa: america, europe, germany, united, north, india, east, south, nine, england\n",
            "musician: singer, actor, born, english, actress, music, american, author, poet, writer\n",
            "dance: music, history, modern, china, traditional, country, article, contemporary, hungary, football\n",
            "\n",
            "\n"
          ]
        },
        {
          "output_type": "stream",
          "name": "stderr",
          "text": [
            "20497it [06:54, 51.79it/s]"
          ]
        },
        {
          "output_type": "stream",
          "name": "stdout",
          "text": [
            "| epoch  10 | 20500/32580 batches | loss    0.716 \n",
            "money: him, much, not, them, use, sense, fact, seen, way, nine\n",
            "lion: branwell, boys, melbourne, purpose, placed, refurbished, letter, flutes, politician, nativity\n",
            "africa: america, europe, germany, united, north, india, east, south, nine, england\n",
            "musician: singer, actor, born, english, actress, music, american, author, poet, writer\n",
            "dance: music, history, modern, china, traditional, country, article, contemporary, hungary, football\n",
            "\n",
            "\n"
          ]
        },
        {
          "output_type": "stream",
          "name": "stderr",
          "text": [
            "21000it [07:04, 51.74it/s]"
          ]
        },
        {
          "output_type": "stream",
          "name": "stdout",
          "text": [
            "| epoch  10 | 21000/32580 batches | loss    0.716 \n",
            "money: him, much, not, them, use, sense, fact, seen, way, nine\n",
            "lion: branwell, boys, melbourne, purpose, placed, refurbished, letter, flutes, politician, nativity\n",
            "africa: america, europe, germany, united, north, india, east, south, nine, england\n",
            "musician: singer, actor, born, english, actress, music, american, author, poet, writer\n",
            "dance: music, history, modern, china, traditional, country, article, contemporary, hungary, football\n",
            "\n",
            "\n"
          ]
        },
        {
          "output_type": "stream",
          "name": "stderr",
          "text": [
            "21499it [07:14, 51.53it/s]"
          ]
        },
        {
          "output_type": "stream",
          "name": "stdout",
          "text": [
            "| epoch  10 | 21500/32580 batches | loss    0.717 \n",
            "money: him, much, not, them, use, sense, fact, seen, way, nine\n",
            "lion: branwell, boys, melbourne, purpose, placed, refurbished, letter, flutes, politician, nativity\n",
            "africa: america, europe, germany, united, north, india, east, south, nine, england\n",
            "musician: singer, actor, born, english, actress, music, american, author, poet, writer\n",
            "dance: music, history, modern, china, traditional, country, article, contemporary, hungary, football\n",
            "\n",
            "\n"
          ]
        },
        {
          "output_type": "stream",
          "name": "stderr",
          "text": [
            "21997it [07:24, 50.73it/s]"
          ]
        },
        {
          "output_type": "stream",
          "name": "stdout",
          "text": [
            "| epoch  10 | 22000/32580 batches | loss    0.716 \n",
            "money: him, much, not, them, use, sense, fact, seen, way, nine\n",
            "lion: branwell, boys, melbourne, purpose, placed, refurbished, letter, flutes, politician, nativity\n",
            "africa: america, europe, germany, united, north, india, east, south, nine, england\n",
            "musician: singer, actor, born, english, actress, music, american, author, poet, writer\n",
            "dance: music, history, modern, china, traditional, country, article, contemporary, hungary, football\n",
            "\n",
            "\n"
          ]
        },
        {
          "output_type": "stream",
          "name": "stderr",
          "text": [
            "22500it [07:34, 50.97it/s]"
          ]
        },
        {
          "output_type": "stream",
          "name": "stdout",
          "text": [
            "| epoch  10 | 22500/32580 batches | loss    0.716 \n",
            "money: him, much, not, them, use, sense, fact, seen, way, nine\n",
            "lion: branwell, boys, melbourne, purpose, placed, refurbished, letter, flutes, politician, nativity\n",
            "africa: america, europe, germany, united, north, india, east, south, nine, england\n",
            "musician: singer, actor, born, english, actress, music, american, author, poet, writer\n",
            "dance: music, history, modern, china, traditional, country, article, contemporary, hungary, football\n",
            "\n",
            "\n"
          ]
        },
        {
          "output_type": "stream",
          "name": "stderr",
          "text": [
            "22998it [07:44, 51.15it/s]"
          ]
        },
        {
          "output_type": "stream",
          "name": "stdout",
          "text": [
            "| epoch  10 | 23000/32580 batches | loss    0.715 \n",
            "money: him, much, not, them, use, sense, fact, seen, way, nine\n",
            "lion: branwell, boys, melbourne, purpose, placed, refurbished, letter, flutes, politician, nativity\n",
            "africa: america, europe, germany, united, north, india, east, south, nine, england\n",
            "musician: singer, actor, born, english, actress, music, american, author, poet, writer\n",
            "dance: music, history, modern, china, traditional, country, article, contemporary, hungary, football\n",
            "\n",
            "\n"
          ]
        },
        {
          "output_type": "stream",
          "name": "stderr",
          "text": [
            "23501it [07:54, 34.82it/s]"
          ]
        },
        {
          "output_type": "stream",
          "name": "stdout",
          "text": [
            "| epoch  10 | 23500/32580 batches | loss    0.715 \n",
            "money: him, much, not, them, use, sense, fact, seen, way, nine\n",
            "lion: branwell, boys, melbourne, purpose, placed, refurbished, letter, flutes, politician, nativity\n",
            "africa: america, europe, germany, united, north, india, east, south, nine, england\n",
            "musician: singer, actor, born, english, actress, music, american, author, poet, writer\n",
            "dance: music, history, modern, china, traditional, country, article, contemporary, hungary, football\n",
            "\n",
            "\n"
          ]
        },
        {
          "output_type": "stream",
          "name": "stderr",
          "text": [
            "24001it [08:04, 34.70it/s]"
          ]
        },
        {
          "output_type": "stream",
          "name": "stdout",
          "text": [
            "| epoch  10 | 24000/32580 batches | loss    0.714 \n",
            "money: him, much, not, them, use, sense, fact, seen, way, nine\n",
            "lion: branwell, boys, melbourne, purpose, placed, refurbished, letter, flutes, politician, nativity\n",
            "africa: america, europe, germany, united, north, india, east, south, nine, england\n",
            "musician: singer, actor, born, english, actress, music, american, author, poet, writer\n",
            "dance: music, history, modern, china, traditional, country, article, contemporary, hungary, football\n",
            "\n",
            "\n"
          ]
        },
        {
          "output_type": "stream",
          "name": "stderr",
          "text": [
            "24498it [08:14, 51.20it/s]"
          ]
        },
        {
          "output_type": "stream",
          "name": "stdout",
          "text": [
            "| epoch  10 | 24500/32580 batches | loss    0.715 \n",
            "money: him, much, not, them, use, sense, fact, seen, way, nine\n",
            "lion: branwell, boys, melbourne, purpose, placed, refurbished, letter, flutes, politician, nativity\n",
            "africa: america, europe, germany, united, north, india, east, south, nine, england\n",
            "musician: singer, actor, born, english, actress, music, american, author, poet, writer\n",
            "dance: music, history, modern, china, traditional, country, article, contemporary, hungary, football\n",
            "\n",
            "\n"
          ]
        },
        {
          "output_type": "stream",
          "name": "stderr",
          "text": [
            "24999it [08:24, 50.73it/s]"
          ]
        },
        {
          "output_type": "stream",
          "name": "stdout",
          "text": [
            "| epoch  10 | 25000/32580 batches | loss    0.716 \n",
            "money: him, much, not, them, use, sense, fact, seen, way, nine\n",
            "lion: branwell, boys, melbourne, purpose, placed, refurbished, letter, flutes, politician, nativity\n",
            "africa: america, europe, germany, united, north, india, east, south, nine, england\n",
            "musician: singer, actor, born, english, actress, music, american, author, poet, writer\n",
            "dance: music, history, modern, china, traditional, country, article, contemporary, hungary, football\n",
            "\n",
            "\n"
          ]
        },
        {
          "output_type": "stream",
          "name": "stderr",
          "text": [
            "25501it [08:34, 33.68it/s]"
          ]
        },
        {
          "output_type": "stream",
          "name": "stdout",
          "text": [
            "| epoch  10 | 25500/32580 batches | loss    0.717 \n",
            "money: him, much, not, them, use, sense, fact, seen, way, nine\n",
            "lion: branwell, boys, melbourne, purpose, placed, refurbished, letter, flutes, politician, nativity\n",
            "africa: america, europe, germany, united, north, india, east, south, nine, england\n",
            "musician: singer, actor, born, english, actress, music, american, author, poet, writer\n",
            "dance: music, history, modern, china, traditional, country, article, contemporary, hungary, football\n",
            "\n",
            "\n"
          ]
        },
        {
          "output_type": "stream",
          "name": "stderr",
          "text": [
            "26001it [08:44, 34.54it/s]"
          ]
        },
        {
          "output_type": "stream",
          "name": "stdout",
          "text": [
            "| epoch  10 | 26000/32580 batches | loss    0.715 \n",
            "money: him, much, not, them, use, sense, fact, seen, way, nine\n",
            "lion: branwell, boys, melbourne, purpose, placed, refurbished, letter, flutes, politician, nativity\n",
            "africa: america, europe, germany, united, north, india, east, south, nine, england\n",
            "musician: singer, actor, born, english, actress, music, american, author, poet, writer\n",
            "dance: music, history, modern, china, traditional, country, article, contemporary, hungary, football\n",
            "\n",
            "\n"
          ]
        },
        {
          "output_type": "stream",
          "name": "stderr",
          "text": [
            "26497it [08:54, 51.29it/s]"
          ]
        },
        {
          "output_type": "stream",
          "name": "stdout",
          "text": [
            "| epoch  10 | 26500/32580 batches | loss    0.715 \n",
            "money: him, much, not, them, use, sense, fact, seen, way, nine\n",
            "lion: branwell, boys, melbourne, purpose, placed, refurbished, letter, flutes, politician, nativity\n",
            "africa: america, europe, germany, united, north, india, east, south, nine, england\n",
            "musician: singer, actor, born, english, actress, music, american, author, poet, writer\n",
            "dance: music, history, modern, china, traditional, country, article, contemporary, hungary, football\n",
            "\n",
            "\n"
          ]
        },
        {
          "output_type": "stream",
          "name": "stderr",
          "text": [
            "27000it [09:04, 51.81it/s]"
          ]
        },
        {
          "output_type": "stream",
          "name": "stdout",
          "text": [
            "| epoch  10 | 27000/32580 batches | loss    0.715 \n",
            "money: him, much, not, them, use, sense, fact, seen, way, nine\n",
            "lion: branwell, boys, melbourne, purpose, placed, refurbished, letter, flutes, politician, nativity\n",
            "africa: america, europe, germany, united, north, india, east, south, nine, england\n",
            "musician: singer, actor, born, english, actress, music, american, author, poet, writer\n",
            "dance: music, history, modern, china, traditional, country, article, contemporary, hungary, football\n",
            "\n",
            "\n"
          ]
        },
        {
          "output_type": "stream",
          "name": "stderr",
          "text": [
            "27498it [09:14, 51.09it/s]"
          ]
        },
        {
          "output_type": "stream",
          "name": "stdout",
          "text": [
            "| epoch  10 | 27500/32580 batches | loss    0.715 \n",
            "money: him, much, not, them, use, sense, fact, seen, way, nine\n",
            "lion: branwell, boys, melbourne, purpose, placed, refurbished, letter, flutes, politician, nativity\n",
            "africa: america, europe, germany, united, north, india, east, south, nine, england\n",
            "musician: singer, actor, born, english, actress, music, american, author, poet, writer\n",
            "dance: music, history, modern, china, traditional, country, article, contemporary, hungary, football\n",
            "\n",
            "\n"
          ]
        },
        {
          "output_type": "stream",
          "name": "stderr",
          "text": [
            "28000it [09:24, 51.61it/s]"
          ]
        },
        {
          "output_type": "stream",
          "name": "stdout",
          "text": [
            "| epoch  10 | 28000/32580 batches | loss    0.716 \n",
            "money: him, much, not, them, use, sense, fact, seen, way, nine\n",
            "lion: branwell, boys, melbourne, purpose, placed, refurbished, letter, flutes, politician, nativity\n",
            "africa: america, europe, germany, united, north, india, east, south, nine, england\n",
            "musician: singer, actor, born, english, actress, music, american, author, poet, writer\n",
            "dance: music, history, modern, china, traditional, country, article, contemporary, hungary, football\n",
            "\n",
            "\n"
          ]
        },
        {
          "output_type": "stream",
          "name": "stderr",
          "text": [
            "28500it [09:34, 50.20it/s]"
          ]
        },
        {
          "output_type": "stream",
          "name": "stdout",
          "text": [
            "| epoch  10 | 28500/32580 batches | loss    0.717 \n",
            "money: him, much, not, them, use, sense, fact, seen, way, nine\n",
            "lion: branwell, boys, melbourne, purpose, placed, refurbished, letter, flutes, politician, nativity\n",
            "africa: america, europe, germany, united, north, india, east, south, nine, england\n",
            "musician: singer, actor, born, english, actress, music, american, author, poet, writer\n",
            "dance: music, history, modern, china, traditional, country, article, contemporary, hungary, football\n",
            "\n",
            "\n"
          ]
        },
        {
          "output_type": "stream",
          "name": "stderr",
          "text": [
            "28998it [09:44, 51.20it/s]"
          ]
        },
        {
          "output_type": "stream",
          "name": "stdout",
          "text": [
            "| epoch  10 | 29000/32580 batches | loss    0.718 \n",
            "money: him, much, not, them, use, sense, fact, seen, way, nine\n",
            "lion: branwell, boys, melbourne, purpose, placed, refurbished, letter, flutes, politician, nativity\n",
            "africa: america, europe, germany, united, north, india, east, south, nine, england\n",
            "musician: singer, actor, born, english, actress, music, american, author, poet, writer\n",
            "dance: music, history, modern, china, traditional, country, article, contemporary, hungary, football\n",
            "\n",
            "\n"
          ]
        },
        {
          "output_type": "stream",
          "name": "stderr",
          "text": [
            "29499it [09:54, 51.46it/s]"
          ]
        },
        {
          "output_type": "stream",
          "name": "stdout",
          "text": [
            "| epoch  10 | 29500/32580 batches | loss    0.715 \n",
            "money: him, much, not, them, use, sense, fact, seen, way, nine\n",
            "lion: branwell, boys, melbourne, purpose, placed, refurbished, letter, flutes, politician, nativity\n",
            "africa: america, europe, germany, united, north, india, east, south, nine, england\n",
            "musician: singer, actor, born, english, actress, music, american, author, poet, writer\n",
            "dance: music, history, modern, china, traditional, country, article, contemporary, hungary, football\n",
            "\n",
            "\n"
          ]
        },
        {
          "output_type": "stream",
          "name": "stderr",
          "text": [
            "30000it [10:04, 51.72it/s]"
          ]
        },
        {
          "output_type": "stream",
          "name": "stdout",
          "text": [
            "| epoch  10 | 30000/32580 batches | loss    0.715 \n",
            "money: him, much, not, them, use, sense, fact, seen, way, nine\n",
            "lion: branwell, boys, melbourne, purpose, placed, refurbished, letter, flutes, politician, nativity\n",
            "africa: america, europe, germany, united, north, india, east, south, nine, england\n",
            "musician: singer, actor, born, english, actress, music, american, author, poet, writer\n",
            "dance: music, history, modern, china, traditional, country, article, contemporary, hungary, football\n",
            "\n",
            "\n"
          ]
        },
        {
          "output_type": "stream",
          "name": "stderr",
          "text": [
            "30498it [10:14, 51.38it/s]"
          ]
        },
        {
          "output_type": "stream",
          "name": "stdout",
          "text": [
            "| epoch  10 | 30500/32580 batches | loss    0.716 \n",
            "money: him, much, not, them, use, sense, fact, seen, way, nine\n",
            "lion: branwell, boys, melbourne, purpose, placed, refurbished, letter, flutes, politician, nativity\n",
            "africa: america, europe, germany, united, north, india, east, south, nine, england\n",
            "musician: singer, actor, born, english, actress, music, american, author, poet, writer\n",
            "dance: music, history, modern, china, traditional, country, article, contemporary, hungary, football\n",
            "\n",
            "\n"
          ]
        },
        {
          "output_type": "stream",
          "name": "stderr",
          "text": [
            "31000it [10:25, 51.35it/s]"
          ]
        },
        {
          "output_type": "stream",
          "name": "stdout",
          "text": [
            "| epoch  10 | 31000/32580 batches | loss    0.716 \n",
            "money: him, much, not, them, use, sense, fact, seen, way, nine\n",
            "lion: branwell, boys, melbourne, purpose, placed, refurbished, letter, flutes, politician, nativity\n",
            "africa: america, europe, germany, united, north, india, east, south, nine, england\n",
            "musician: singer, actor, born, english, actress, music, american, author, poet, writer\n",
            "dance: music, history, modern, china, traditional, country, article, contemporary, hungary, football\n",
            "\n",
            "\n"
          ]
        },
        {
          "output_type": "stream",
          "name": "stderr",
          "text": [
            "31498it [10:34, 50.95it/s]"
          ]
        },
        {
          "output_type": "stream",
          "name": "stdout",
          "text": [
            "| epoch  10 | 31500/32580 batches | loss    0.717 \n",
            "money: him, much, not, them, use, sense, fact, seen, way, nine\n",
            "lion: branwell, boys, melbourne, purpose, placed, refurbished, letter, flutes, politician, nativity\n",
            "africa: america, europe, germany, united, north, india, east, south, nine, england\n",
            "musician: singer, actor, born, english, actress, music, american, author, poet, writer\n",
            "dance: music, history, modern, china, traditional, country, article, contemporary, hungary, football\n",
            "\n",
            "\n"
          ]
        },
        {
          "output_type": "stream",
          "name": "stderr",
          "text": [
            "31998it [10:44, 51.58it/s]"
          ]
        },
        {
          "output_type": "stream",
          "name": "stdout",
          "text": [
            "| epoch  10 | 32000/32580 batches | loss    0.717 \n",
            "money: him, much, not, them, use, sense, fact, seen, way, nine\n",
            "lion: branwell, boys, melbourne, purpose, placed, refurbished, letter, flutes, politician, nativity\n",
            "africa: america, europe, germany, united, north, india, east, south, nine, england\n",
            "musician: singer, actor, born, english, actress, music, american, author, poet, writer\n",
            "dance: music, history, modern, china, traditional, country, article, contemporary, hungary, football\n",
            "\n",
            "\n"
          ]
        },
        {
          "output_type": "stream",
          "name": "stderr",
          "text": [
            "32499it [10:54, 51.05it/s]"
          ]
        },
        {
          "output_type": "stream",
          "name": "stdout",
          "text": [
            "| epoch  10 | 32500/32580 batches | loss    0.716 \n",
            "money: him, much, not, them, use, sense, fact, seen, way, nine\n",
            "lion: branwell, boys, melbourne, purpose, placed, refurbished, letter, flutes, politician, nativity\n",
            "africa: america, europe, germany, united, north, india, east, south, nine, england\n",
            "musician: singer, actor, born, english, actress, music, american, author, poet, writer\n",
            "dance: music, history, modern, china, traditional, country, article, contemporary, hungary, football\n",
            "\n",
            "\n"
          ]
        },
        {
          "output_type": "stream",
          "name": "stderr",
          "text": [
            "32580it [10:58, 49.46it/s]\n"
          ]
        }
      ],
      "source": [
        "for epoch in range(1, NUM_EPOCHS + 1):\n",
        "    epoch_start_time = time.time()\n",
        "\n",
        "    train(train_dl, model, optimizer, epoch)\n",
        "    # We have a learning rate scheduler here\n",
        "\n",
        "    # Basically, given the state of the optimizer, this lowers the learning rate in a smart way\n",
        "    scheduler.step()"
      ]
    },
    {
      "cell_type": "code",
      "execution_count": null,
      "id": "b0227888",
      "metadata": {
        "id": "b0227888"
      },
      "outputs": [],
      "source": []
    }
  ],
  "metadata": {
    "colab": {
      "provenance": [],
      "machine_shape": "hm",
      "gpuType": "T4"
    },
    "kernelspec": {
      "display_name": "Python 3",
      "name": "python3"
    },
    "language_info": {
      "codemirror_mode": {
        "name": "ipython",
        "version": 3
      },
      "file_extension": ".py",
      "mimetype": "text/x-python",
      "name": "python",
      "nbconvert_exporter": "python",
      "pygments_lexer": "ipython3",
      "version": "3.8.15"
    },
    "accelerator": "GPU"
  },
  "nbformat": 4,
  "nbformat_minor": 5
}